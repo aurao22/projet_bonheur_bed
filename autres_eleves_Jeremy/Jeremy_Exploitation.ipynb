{
 "cells": [
  {
   "cell_type": "markdown",
   "metadata": {},
   "source": [
    "# <code><h2 style=\"color:#11B3EB;font-weight: bold; border:2px solid #11B3EB;\"><center> Rapport sur le bonheur</center></h2></code>\n"
   ]
  },
  {
   "cell_type": "markdown",
   "metadata": {},
   "source": [
    "# <code><div style=\"color: white;font-weight: bold;text-decoration: underline;font-size: 36px;\"> Sommaire\n",
    "  </div>\n",
    "  <div >\n",
    "    <ul style=\"color: white; font-size: 18px\">\n",
    "      <li><a style=\"color: white\" href=\"#contexte\">Contexte</a></li>\n",
    "      <li><a style=\"color: white\" href=\"#ACP\">ACP</a></li>\n",
    "      <li>\n",
    "        <a style=\"color: white\" href=\"#clustering\">Clustering / Kmeans </a>\n",
    "      </li>\n",
    "      <li>\n",
    "        <a style=\"color: white\" href=\"#analyse\"\n",
    "          >Analyse selon les regions du monde</a\n",
    "        >\n",
    "      </li>\n",
    "    </ul>\n",
    "  </div>\n",
    "</code>\n"
   ]
  },
  {
   "cell_type": "markdown",
   "metadata": {},
   "source": [
    "---\n"
   ]
  },
  {
   "cell_type": "markdown",
   "metadata": {},
   "source": [
    "<div style=\"font-size:18px\">\n",
    "  <h5 style=\"color: white; text-decoration: underline\">Source :</h4>\n",
    "  <ul>\n",
    "    <li>\n",
    "      <a style=\"color: white; text-decoration: none\"href=\"https://fr.wikipedia.org/wiki/Rapport_mondial_sur_le_bonheur\">Rapport_mondial_sur_le_bonheur : Wikipedia</a>\n",
    "    </li>\n",
    "    <li>\n",
    "      <a style=\"color: white; text-decoration: none\"href=\"https://drive.google.com/file/d/1rXaG5T0o-QYGnSZPw3NV-oC1D5Cjq2vF/view\">Dataset 2019</a>\n",
    "    </li>\n",
    "    <li>\n",
    "      <a style=\"color: white; text-decoration: none\"href=\"https://en.wikipedia.org/wiki/Elbow_method_(clustering)\">Elbow method</a>\n",
    "    </li>\n",
    "    <li>\n",
    "      <a style=\"color: white; text-decoration: none\"href=\"https://www.geeksforgeeks.org/elbow-method-for-optimal-value-of-k-in-kmeans/\">Elbow method</a>\n",
    "    </li>\n",
    "  </ul>\n",
    "</div>\n"
   ]
  },
  {
   "cell_type": "markdown",
   "metadata": {},
   "source": [
    "# <code><div id=\"contexte\" style=\"color:#F1D405 ;font-weight: bold; border:2px solid #F1D405 ;\"><center>Contexte du projet</center></div></code>\n"
   ]
  },
  {
   "cell_type": "markdown",
   "metadata": {},
   "source": [
    "Dans cette étude de cas, nous formerons un algorithme d'apprentissage automatique **non supervisé** pour regrouper les pays en fonction de caractéristiques telles que la production économique, le soutien social, l'espérance de vie, la liberté, l'absence de corruption et la générosité.\n",
    "Le Rapport sur le bonheur dans le monde détermine l'état du bonheur mondial. Les scores de bonheur et les données de classement ont été collectés en demandant aux individus de classer leur vie de 0 (la pire vie possible) à 10 (la meilleure vie possible).\n"
   ]
  },
  {
   "cell_type": "markdown",
   "metadata": {},
   "source": [
    "# <code><div style=\"color:#F1D405 ;font-weight: bold; border:2px solid #F1D405 ;\"><center>Imports</center></div><code>\n"
   ]
  },
  {
   "cell_type": "code",
   "execution_count": 1,
   "metadata": {},
   "outputs": [],
   "source": [
    "# Load the Pandas libraries\n",
    "import pandas as pd\n",
    "import numpy as np\n",
    "from sklearn.decomposition import PCA\n",
    "from sklearn.manifold import TSNE\n",
    "from sklearn.preprocessing import StandardScaler ,OneHotEncoder \n",
    "from sklearn.compose import make_column_transformer"
   ]
  },
  {
   "cell_type": "code",
   "execution_count": 2,
   "metadata": {},
   "outputs": [
    {
     "data": {
      "text/html": [
       "        <script type=\"text/javascript\">\n",
       "        window.PlotlyConfig = {MathJaxConfig: 'local'};\n",
       "        if (window.MathJax) {MathJax.Hub.Config({SVG: {font: \"STIX-Web\"}});}\n",
       "        if (typeof require !== 'undefined') {\n",
       "        require.undef(\"plotly\");\n",
       "        requirejs.config({\n",
       "            paths: {\n",
       "                'plotly': ['https://cdn.plot.ly/plotly-2.9.0.min']\n",
       "            }\n",
       "        });\n",
       "        require(['plotly'], function(Plotly) {\n",
       "            window._Plotly = Plotly;\n",
       "        });\n",
       "        }\n",
       "        </script>\n",
       "        "
      ]
     },
     "metadata": {},
     "output_type": "display_data"
    }
   ],
   "source": [
    "# Load visualization libraries\n",
    "import seaborn as sns\n",
    "import matplotlib.pyplot as plt\n",
    "import matplotlib.cm as cm\n",
    "import plotly.graph_objs as go\n",
    "import plotly.express as px\n",
    "from plotly.offline import init_notebook_mode, iplot\n",
    "init_notebook_mode(connected=True)\n"
   ]
  },
  {
   "cell_type": "code",
   "execution_count": 3,
   "metadata": {},
   "outputs": [],
   "source": [
    "# Load clustering libraries\n",
    "from sklearn.cluster import KMeans\n",
    "from sklearn.metrics import silhouette_samples, silhouette_score\n"
   ]
  },
  {
   "cell_type": "code",
   "execution_count": 4,
   "metadata": {},
   "outputs": [],
   "source": [
    "import warnings\n",
    "warnings.filterwarnings('ignore')"
   ]
  },
  {
   "cell_type": "markdown",
   "metadata": {},
   "source": [
    "# <code> <div style=\"color:#F1D405 ;font-weight: bold; border:2px solid #F1D405 ;\"><center>Chargement de la dataframe</center></div> </code>\n"
   ]
  },
  {
   "cell_type": "code",
   "execution_count": 5,
   "metadata": {},
   "outputs": [],
   "source": [
    "df = pd.read_csv('Data/datasets/Rapport-bonheur.csv', sep=\",\")\n"
   ]
  },
  {
   "cell_type": "code",
   "execution_count": 6,
   "metadata": {},
   "outputs": [
    {
     "data": {
      "text/html": [
       "<div>\n",
       "<style scoped>\n",
       "    .dataframe tbody tr th:only-of-type {\n",
       "        vertical-align: middle;\n",
       "    }\n",
       "\n",
       "    .dataframe tbody tr th {\n",
       "        vertical-align: top;\n",
       "    }\n",
       "\n",
       "    .dataframe thead th {\n",
       "        text-align: right;\n",
       "    }\n",
       "</style>\n",
       "<table border=\"1\" class=\"dataframe\">\n",
       "  <thead>\n",
       "    <tr style=\"text-align: right;\">\n",
       "      <th></th>\n",
       "      <th>Overall rank</th>\n",
       "      <th>Country</th>\n",
       "      <th>Score</th>\n",
       "      <th>GDP per capita</th>\n",
       "      <th>Social support</th>\n",
       "      <th>Healthy life expectancy</th>\n",
       "      <th>Freedom to make life choices</th>\n",
       "      <th>Generosity</th>\n",
       "      <th>Perceptions of corruption</th>\n",
       "      <th>Region</th>\n",
       "    </tr>\n",
       "  </thead>\n",
       "  <tbody>\n",
       "    <tr>\n",
       "      <th>0</th>\n",
       "      <td>1</td>\n",
       "      <td>Finland</td>\n",
       "      <td>7.769</td>\n",
       "      <td>1.340</td>\n",
       "      <td>1.587</td>\n",
       "      <td>0.986</td>\n",
       "      <td>0.596</td>\n",
       "      <td>0.153</td>\n",
       "      <td>0.393</td>\n",
       "      <td>Western Europe</td>\n",
       "    </tr>\n",
       "    <tr>\n",
       "      <th>1</th>\n",
       "      <td>2</td>\n",
       "      <td>Denmark</td>\n",
       "      <td>7.600</td>\n",
       "      <td>1.383</td>\n",
       "      <td>1.573</td>\n",
       "      <td>0.996</td>\n",
       "      <td>0.592</td>\n",
       "      <td>0.252</td>\n",
       "      <td>0.410</td>\n",
       "      <td>Western Europe</td>\n",
       "    </tr>\n",
       "    <tr>\n",
       "      <th>2</th>\n",
       "      <td>3</td>\n",
       "      <td>Norway</td>\n",
       "      <td>7.554</td>\n",
       "      <td>1.488</td>\n",
       "      <td>1.582</td>\n",
       "      <td>1.028</td>\n",
       "      <td>0.603</td>\n",
       "      <td>0.271</td>\n",
       "      <td>0.341</td>\n",
       "      <td>Western Europe</td>\n",
       "    </tr>\n",
       "    <tr>\n",
       "      <th>3</th>\n",
       "      <td>4</td>\n",
       "      <td>Iceland</td>\n",
       "      <td>7.494</td>\n",
       "      <td>1.380</td>\n",
       "      <td>1.624</td>\n",
       "      <td>1.026</td>\n",
       "      <td>0.591</td>\n",
       "      <td>0.354</td>\n",
       "      <td>0.118</td>\n",
       "      <td>Western Europe</td>\n",
       "    </tr>\n",
       "    <tr>\n",
       "      <th>4</th>\n",
       "      <td>5</td>\n",
       "      <td>Netherlands</td>\n",
       "      <td>7.488</td>\n",
       "      <td>1.396</td>\n",
       "      <td>1.522</td>\n",
       "      <td>0.999</td>\n",
       "      <td>0.557</td>\n",
       "      <td>0.322</td>\n",
       "      <td>0.298</td>\n",
       "      <td>Western Europe</td>\n",
       "    </tr>\n",
       "  </tbody>\n",
       "</table>\n",
       "</div>"
      ],
      "text/plain": [
       "   Overall rank      Country  Score  GDP per capita  Social support  \\\n",
       "0             1      Finland  7.769           1.340           1.587   \n",
       "1             2      Denmark  7.600           1.383           1.573   \n",
       "2             3       Norway  7.554           1.488           1.582   \n",
       "3             4      Iceland  7.494           1.380           1.624   \n",
       "4             5  Netherlands  7.488           1.396           1.522   \n",
       "\n",
       "   Healthy life expectancy  Freedom to make life choices  Generosity  \\\n",
       "0                    0.986                         0.596       0.153   \n",
       "1                    0.996                         0.592       0.252   \n",
       "2                    1.028                         0.603       0.271   \n",
       "3                    1.026                         0.591       0.354   \n",
       "4                    0.999                         0.557       0.322   \n",
       "\n",
       "   Perceptions of corruption          Region  \n",
       "0                      0.393  Western Europe  \n",
       "1                      0.410  Western Europe  \n",
       "2                      0.341  Western Europe  \n",
       "3                      0.118  Western Europe  \n",
       "4                      0.298  Western Europe  "
      ]
     },
     "execution_count": 6,
     "metadata": {},
     "output_type": "execute_result"
    }
   ],
   "source": [
    "df.head()\n"
   ]
  },
  {
   "cell_type": "markdown",
   "metadata": {},
   "source": [
    "# <code> <div id =\"ACP\" style=\"color:#F1D405 ;font-weight: bold; border:2px solid #F1D405 ;\"><center>ACP</center></div> </code>\n"
   ]
  },
  {
   "cell_type": "code",
   "execution_count": 7,
   "metadata": {},
   "outputs": [],
   "source": [
    "header = pd.DataFrame()\n",
    "X = pd.DataFrame()\n",
    "\n",
    "for col in df.columns:\n",
    "    if col in [\"Overall rank\", \"Country\", \"Region\"]:\n",
    "        header[col] = df[col]\n",
    "    else:\n",
    "        X[col] = df[col]"
   ]
  },
  {
   "cell_type": "markdown",
   "metadata": {},
   "source": [
    "### <code> <div style=\"color:#F1D405 ;font-weight: bold; ;\">Standardisation des données</div> </code>"
   ]
  },
  {
   "cell_type": "code",
   "execution_count": 8,
   "metadata": {},
   "outputs": [
    {
     "data": {
      "text/plain": [
       "array([[ 2.13370122,  1.13458258,  1.32003701, ...,  1.44402663,\n",
       "        -0.28520008,  3.00230761],\n",
       "       [ 1.97842168,  1.2487937 ,  1.2688845 , ...,  1.4151102 ,\n",
       "         0.74812832,  3.18186188],\n",
       "       [ 1.93615624,  1.52768131,  1.30176825, ...,  1.49463038,\n",
       "         0.94644387,  2.45308279],\n",
       "       ...,\n",
       "       [-1.94123824, -1.47102453, -1.8806483 , ...,  1.14763324,\n",
       "         0.3828102 ,  3.19242389],\n",
       "       [-2.03587606, -1.16026405, -1.24489574, ...,  0.15001644,\n",
       "         0.99863217,  0.40405173],\n",
       "       [-2.06160285, -1.49492919, -2.58947587, ..., -2.86452127,\n",
       "        -0.23301177, -0.88451419]])"
      ]
     },
     "execution_count": 8,
     "metadata": {},
     "output_type": "execute_result"
    }
   ],
   "source": [
    "s = StandardScaler()\n",
    "data_scale = s.fit_transform(X)\n",
    "data_scale"
   ]
  },
  {
   "cell_type": "code",
   "execution_count": 9,
   "metadata": {},
   "outputs": [
    {
     "data": {
      "text/html": [
       "<div>\n",
       "<style scoped>\n",
       "    .dataframe tbody tr th:only-of-type {\n",
       "        vertical-align: middle;\n",
       "    }\n",
       "\n",
       "    .dataframe tbody tr th {\n",
       "        vertical-align: top;\n",
       "    }\n",
       "\n",
       "    .dataframe thead th {\n",
       "        text-align: right;\n",
       "    }\n",
       "</style>\n",
       "<table border=\"1\" class=\"dataframe\">\n",
       "  <thead>\n",
       "    <tr style=\"text-align: right;\">\n",
       "      <th></th>\n",
       "      <th>Score</th>\n",
       "      <th>GDP per capita</th>\n",
       "      <th>Social support</th>\n",
       "      <th>Healthy life expectancy</th>\n",
       "      <th>Freedom to make life choices</th>\n",
       "      <th>Generosity</th>\n",
       "      <th>Perceptions of corruption</th>\n",
       "    </tr>\n",
       "  </thead>\n",
       "  <tbody>\n",
       "    <tr>\n",
       "      <th>0</th>\n",
       "      <td>2.133701</td>\n",
       "      <td>1.134583</td>\n",
       "      <td>1.320037</td>\n",
       "      <td>1.090656</td>\n",
       "      <td>1.444027</td>\n",
       "      <td>-0.285200</td>\n",
       "      <td>3.002308</td>\n",
       "    </tr>\n",
       "    <tr>\n",
       "      <th>1</th>\n",
       "      <td>1.978422</td>\n",
       "      <td>1.248794</td>\n",
       "      <td>1.268885</td>\n",
       "      <td>1.133909</td>\n",
       "      <td>1.415110</td>\n",
       "      <td>0.748128</td>\n",
       "      <td>3.181862</td>\n",
       "    </tr>\n",
       "    <tr>\n",
       "      <th>2</th>\n",
       "      <td>1.936156</td>\n",
       "      <td>1.527681</td>\n",
       "      <td>1.301768</td>\n",
       "      <td>1.272318</td>\n",
       "      <td>1.494630</td>\n",
       "      <td>0.946444</td>\n",
       "      <td>2.453083</td>\n",
       "    </tr>\n",
       "    <tr>\n",
       "      <th>3</th>\n",
       "      <td>1.881027</td>\n",
       "      <td>1.240825</td>\n",
       "      <td>1.455226</td>\n",
       "      <td>1.263667</td>\n",
       "      <td>1.407881</td>\n",
       "      <td>1.812770</td>\n",
       "      <td>0.097753</td>\n",
       "    </tr>\n",
       "    <tr>\n",
       "      <th>4</th>\n",
       "      <td>1.875515</td>\n",
       "      <td>1.283323</td>\n",
       "      <td>1.082543</td>\n",
       "      <td>1.146885</td>\n",
       "      <td>1.162091</td>\n",
       "      <td>1.478765</td>\n",
       "      <td>1.998916</td>\n",
       "    </tr>\n",
       "  </tbody>\n",
       "</table>\n",
       "</div>"
      ],
      "text/plain": [
       "      Score  GDP per capita  Social support  Healthy life expectancy  \\\n",
       "0  2.133701        1.134583        1.320037                 1.090656   \n",
       "1  1.978422        1.248794        1.268885                 1.133909   \n",
       "2  1.936156        1.527681        1.301768                 1.272318   \n",
       "3  1.881027        1.240825        1.455226                 1.263667   \n",
       "4  1.875515        1.283323        1.082543                 1.146885   \n",
       "\n",
       "   Freedom to make life choices  Generosity  Perceptions of corruption  \n",
       "0                      1.444027   -0.285200                   3.002308  \n",
       "1                      1.415110    0.748128                   3.181862  \n",
       "2                      1.494630    0.946444                   2.453083  \n",
       "3                      1.407881    1.812770                   0.097753  \n",
       "4                      1.162091    1.478765                   1.998916  "
      ]
     },
     "execution_count": 9,
     "metadata": {},
     "output_type": "execute_result"
    }
   ],
   "source": [
    "X = pd.DataFrame(data=data_scale, columns=X.columns)\n",
    "X.head()"
   ]
  },
  {
   "cell_type": "code",
   "execution_count": 10,
   "metadata": {},
   "outputs": [],
   "source": [
    "pca = PCA(n_components=3)\n",
    "components = pca.fit_transform(X)\n"
   ]
  },
  {
   "cell_type": "code",
   "execution_count": 11,
   "metadata": {},
   "outputs": [
    {
     "data": {
      "text/html": [
       "<div>\n",
       "<style scoped>\n",
       "    .dataframe tbody tr th:only-of-type {\n",
       "        vertical-align: middle;\n",
       "    }\n",
       "\n",
       "    .dataframe tbody tr th {\n",
       "        vertical-align: top;\n",
       "    }\n",
       "\n",
       "    .dataframe thead th {\n",
       "        text-align: right;\n",
       "    }\n",
       "</style>\n",
       "<table border=\"1\" class=\"dataframe\">\n",
       "  <thead>\n",
       "    <tr style=\"text-align: right;\">\n",
       "      <th></th>\n",
       "      <th>PC1</th>\n",
       "      <th>PC2</th>\n",
       "      <th>PC3</th>\n",
       "    </tr>\n",
       "  </thead>\n",
       "  <tbody>\n",
       "    <tr>\n",
       "      <th>0</th>\n",
       "      <td>-3.833040</td>\n",
       "      <td>0.958214</td>\n",
       "      <td>1.908382</td>\n",
       "    </tr>\n",
       "    <tr>\n",
       "      <th>1</th>\n",
       "      <td>-3.923874</td>\n",
       "      <td>1.722396</td>\n",
       "      <td>1.462946</td>\n",
       "    </tr>\n",
       "    <tr>\n",
       "      <th>2</th>\n",
       "      <td>-3.953171</td>\n",
       "      <td>1.444189</td>\n",
       "      <td>0.788680</td>\n",
       "    </tr>\n",
       "    <tr>\n",
       "      <th>3</th>\n",
       "      <td>-3.269181</td>\n",
       "      <td>0.926943</td>\n",
       "      <td>-1.552648</td>\n",
       "    </tr>\n",
       "    <tr>\n",
       "      <th>4</th>\n",
       "      <td>-3.473673</td>\n",
       "      <td>1.594224</td>\n",
       "      <td>0.200169</td>\n",
       "    </tr>\n",
       "  </tbody>\n",
       "</table>\n",
       "</div>"
      ],
      "text/plain": [
       "        PC1       PC2       PC3\n",
       "0 -3.833040  0.958214  1.908382\n",
       "1 -3.923874  1.722396  1.462946\n",
       "2 -3.953171  1.444189  0.788680\n",
       "3 -3.269181  0.926943 -1.552648\n",
       "4 -3.473673  1.594224  0.200169"
      ]
     },
     "execution_count": 11,
     "metadata": {},
     "output_type": "execute_result"
    }
   ],
   "source": [
    "pca_df = pd.DataFrame(data=components, columns=[\"PC1\", \"PC2\", \"PC3\"])\n",
    "pca_df.head()"
   ]
  },
  {
   "cell_type": "markdown",
   "metadata": {},
   "source": [
    "<span> Transformation en label des régions avec onehotencoder</span>"
   ]
  },
  {
   "cell_type": "code",
   "execution_count": 12,
   "metadata": {},
   "outputs": [
    {
     "data": {
      "text/html": [
       "<div>\n",
       "<style scoped>\n",
       "    .dataframe tbody tr th:only-of-type {\n",
       "        vertical-align: middle;\n",
       "    }\n",
       "\n",
       "    .dataframe tbody tr th {\n",
       "        vertical-align: top;\n",
       "    }\n",
       "\n",
       "    .dataframe thead th {\n",
       "        text-align: right;\n",
       "    }\n",
       "</style>\n",
       "<table border=\"1\" class=\"dataframe\">\n",
       "  <thead>\n",
       "    <tr style=\"text-align: right;\">\n",
       "      <th></th>\n",
       "      <th>onehotencoder__x0_Central and Eastern Europe</th>\n",
       "      <th>onehotencoder__x0_Commonwealth of Independent States</th>\n",
       "      <th>onehotencoder__x0_East Asia</th>\n",
       "      <th>onehotencoder__x0_Latin America and Caribbean</th>\n",
       "      <th>onehotencoder__x0_Middle East and North Africa</th>\n",
       "      <th>onehotencoder__x0_North America and ANZ</th>\n",
       "      <th>onehotencoder__x0_South Asia</th>\n",
       "      <th>onehotencoder__x0_Southeast Asia</th>\n",
       "      <th>onehotencoder__x0_Sub-Saharan Africa</th>\n",
       "      <th>onehotencoder__x0_Western Europe</th>\n",
       "      <th>PC1</th>\n",
       "      <th>PC2</th>\n",
       "      <th>PC3</th>\n",
       "      <th>Country</th>\n",
       "      <th>Overall rank</th>\n",
       "    </tr>\n",
       "  </thead>\n",
       "  <tbody>\n",
       "    <tr>\n",
       "      <th>0</th>\n",
       "      <td>0.0</td>\n",
       "      <td>0.0</td>\n",
       "      <td>0.0</td>\n",
       "      <td>0.0</td>\n",
       "      <td>0.0</td>\n",
       "      <td>0.0</td>\n",
       "      <td>0.0</td>\n",
       "      <td>0.0</td>\n",
       "      <td>0.0</td>\n",
       "      <td>1.0</td>\n",
       "      <td>-3.83304</td>\n",
       "      <td>0.958214</td>\n",
       "      <td>1.908382</td>\n",
       "      <td>Finland</td>\n",
       "      <td>1</td>\n",
       "    </tr>\n",
       "    <tr>\n",
       "      <th>1</th>\n",
       "      <td>0.0</td>\n",
       "      <td>0.0</td>\n",
       "      <td>0.0</td>\n",
       "      <td>0.0</td>\n",
       "      <td>0.0</td>\n",
       "      <td>0.0</td>\n",
       "      <td>0.0</td>\n",
       "      <td>0.0</td>\n",
       "      <td>0.0</td>\n",
       "      <td>1.0</td>\n",
       "      <td>-3.923874</td>\n",
       "      <td>1.722396</td>\n",
       "      <td>1.462946</td>\n",
       "      <td>Denmark</td>\n",
       "      <td>2</td>\n",
       "    </tr>\n",
       "    <tr>\n",
       "      <th>2</th>\n",
       "      <td>0.0</td>\n",
       "      <td>0.0</td>\n",
       "      <td>0.0</td>\n",
       "      <td>0.0</td>\n",
       "      <td>0.0</td>\n",
       "      <td>0.0</td>\n",
       "      <td>0.0</td>\n",
       "      <td>0.0</td>\n",
       "      <td>0.0</td>\n",
       "      <td>1.0</td>\n",
       "      <td>-3.953171</td>\n",
       "      <td>1.444189</td>\n",
       "      <td>0.78868</td>\n",
       "      <td>Norway</td>\n",
       "      <td>3</td>\n",
       "    </tr>\n",
       "    <tr>\n",
       "      <th>3</th>\n",
       "      <td>0.0</td>\n",
       "      <td>0.0</td>\n",
       "      <td>0.0</td>\n",
       "      <td>0.0</td>\n",
       "      <td>0.0</td>\n",
       "      <td>0.0</td>\n",
       "      <td>0.0</td>\n",
       "      <td>0.0</td>\n",
       "      <td>0.0</td>\n",
       "      <td>1.0</td>\n",
       "      <td>-3.269181</td>\n",
       "      <td>0.926943</td>\n",
       "      <td>-1.552648</td>\n",
       "      <td>Iceland</td>\n",
       "      <td>4</td>\n",
       "    </tr>\n",
       "    <tr>\n",
       "      <th>4</th>\n",
       "      <td>0.0</td>\n",
       "      <td>0.0</td>\n",
       "      <td>0.0</td>\n",
       "      <td>0.0</td>\n",
       "      <td>0.0</td>\n",
       "      <td>0.0</td>\n",
       "      <td>0.0</td>\n",
       "      <td>0.0</td>\n",
       "      <td>0.0</td>\n",
       "      <td>1.0</td>\n",
       "      <td>-3.473673</td>\n",
       "      <td>1.594224</td>\n",
       "      <td>0.200169</td>\n",
       "      <td>Netherlands</td>\n",
       "      <td>5</td>\n",
       "    </tr>\n",
       "  </tbody>\n",
       "</table>\n",
       "</div>"
      ],
      "text/plain": [
       "  onehotencoder__x0_Central and Eastern Europe  \\\n",
       "0                                          0.0   \n",
       "1                                          0.0   \n",
       "2                                          0.0   \n",
       "3                                          0.0   \n",
       "4                                          0.0   \n",
       "\n",
       "  onehotencoder__x0_Commonwealth of Independent States  \\\n",
       "0                                                0.0     \n",
       "1                                                0.0     \n",
       "2                                                0.0     \n",
       "3                                                0.0     \n",
       "4                                                0.0     \n",
       "\n",
       "  onehotencoder__x0_East Asia onehotencoder__x0_Latin America and Caribbean  \\\n",
       "0                         0.0                                           0.0   \n",
       "1                         0.0                                           0.0   \n",
       "2                         0.0                                           0.0   \n",
       "3                         0.0                                           0.0   \n",
       "4                         0.0                                           0.0   \n",
       "\n",
       "  onehotencoder__x0_Middle East and North Africa  \\\n",
       "0                                            0.0   \n",
       "1                                            0.0   \n",
       "2                                            0.0   \n",
       "3                                            0.0   \n",
       "4                                            0.0   \n",
       "\n",
       "  onehotencoder__x0_North America and ANZ onehotencoder__x0_South Asia  \\\n",
       "0                                     0.0                          0.0   \n",
       "1                                     0.0                          0.0   \n",
       "2                                     0.0                          0.0   \n",
       "3                                     0.0                          0.0   \n",
       "4                                     0.0                          0.0   \n",
       "\n",
       "  onehotencoder__x0_Southeast Asia onehotencoder__x0_Sub-Saharan Africa  \\\n",
       "0                              0.0                                  0.0   \n",
       "1                              0.0                                  0.0   \n",
       "2                              0.0                                  0.0   \n",
       "3                              0.0                                  0.0   \n",
       "4                              0.0                                  0.0   \n",
       "\n",
       "  onehotencoder__x0_Western Europe       PC1       PC2       PC3      Country  \\\n",
       "0                              1.0  -3.83304  0.958214  1.908382      Finland   \n",
       "1                              1.0 -3.923874  1.722396  1.462946      Denmark   \n",
       "2                              1.0 -3.953171  1.444189   0.78868       Norway   \n",
       "3                              1.0 -3.269181  0.926943 -1.552648      Iceland   \n",
       "4                              1.0 -3.473673  1.594224  0.200169  Netherlands   \n",
       "\n",
       "  Overall rank  \n",
       "0            1  \n",
       "1            2  \n",
       "2            3  \n",
       "3            4  \n",
       "4            5  "
      ]
     },
     "execution_count": 12,
     "metadata": {},
     "output_type": "execute_result"
    }
   ],
   "source": [
    "pca_df_final = pd.concat([pca_df, header[[\"Country\", \"Region\", \"Overall rank\"]]], axis=1)\n",
    "transformer = make_column_transformer(\n",
    "    (OneHotEncoder(), ['Region']),\n",
    "    remainder='passthrough')\n",
    "\n",
    "transformed = transformer.fit_transform(pca_df_final)\n",
    "transformed_df = pd.DataFrame(\n",
    "    transformed, \n",
    "    columns=transformer.get_feature_names()\n",
    ")\n",
    "transformed_df.head()\n"
   ]
  },
  {
   "cell_type": "code",
   "execution_count": 13,
   "metadata": {},
   "outputs": [
    {
     "data": {
      "application/vnd.plotly.v1+json": {
       "config": {
        "plotlyServerURL": "https://plot.ly"
       },
       "data": [
        {
         "hovertemplate": "PC1=%{x}<br>PC2=%{y}<br>Overall rank=%{marker.color}<extra></extra>",
         "legendgroup": "",
         "marker": {
          "color": [
           1,
           2,
           3,
           4,
           5,
           6,
           7,
           8,
           9,
           10,
           11,
           12,
           13,
           14,
           15,
           16,
           17,
           18,
           19,
           20,
           21,
           22,
           23,
           24,
           26,
           27,
           28,
           30,
           31,
           32,
           33,
           34,
           35,
           36,
           37,
           38,
           40,
           41,
           42,
           43,
           44,
           45,
           46,
           47,
           48,
           49,
           50,
           51,
           52,
           53,
           54,
           55,
           56,
           57,
           58,
           59,
           60,
           61,
           62,
           63,
           65,
           66,
           67,
           68,
           69,
           70,
           71,
           72,
           73,
           74,
           75,
           77,
           78,
           79,
           80,
           81,
           82,
           83,
           84,
           85,
           86,
           87,
           88,
           89,
           90,
           91,
           92,
           93,
           94,
           96,
           97,
           98,
           99,
           100,
           101,
           102,
           103,
           104,
           105,
           106,
           107,
           108,
           109,
           110,
           111,
           113,
           114,
           115,
           116,
           117,
           118,
           119,
           120,
           121,
           122,
           123,
           124,
           125,
           126,
           128,
           129,
           130,
           131,
           132,
           133,
           134,
           135,
           136,
           137,
           138,
           139,
           140,
           141,
           142,
           143,
           144,
           145,
           146,
           147,
           148,
           150,
           151,
           152,
           153,
           154
          ],
          "coloraxis": "coloraxis",
          "size": [
           1,
           2,
           3,
           4,
           5,
           6,
           7,
           8,
           9,
           10,
           11,
           12,
           13,
           14,
           15,
           16,
           17,
           18,
           19,
           20,
           21,
           22,
           23,
           24,
           26,
           27,
           28,
           30,
           31,
           32,
           33,
           34,
           35,
           36,
           37,
           38,
           40,
           41,
           42,
           43,
           44,
           45,
           46,
           47,
           48,
           49,
           50,
           51,
           52,
           53,
           54,
           55,
           56,
           57,
           58,
           59,
           60,
           61,
           62,
           63,
           65,
           66,
           67,
           68,
           69,
           70,
           71,
           72,
           73,
           74,
           75,
           77,
           78,
           79,
           80,
           81,
           82,
           83,
           84,
           85,
           86,
           87,
           88,
           89,
           90,
           91,
           92,
           93,
           94,
           96,
           97,
           98,
           99,
           100,
           101,
           102,
           103,
           104,
           105,
           106,
           107,
           108,
           109,
           110,
           111,
           113,
           114,
           115,
           116,
           117,
           118,
           119,
           120,
           121,
           122,
           123,
           124,
           125,
           126,
           128,
           129,
           130,
           131,
           132,
           133,
           134,
           135,
           136,
           137,
           138,
           139,
           140,
           141,
           142,
           143,
           144,
           145,
           146,
           147,
           148,
           150,
           151,
           152,
           153,
           154
          ],
          "sizemode": "area",
          "sizeref": 0.385,
          "symbol": "circle"
         },
         "mode": "markers",
         "name": "",
         "orientation": "v",
         "showlegend": false,
         "type": "scatter",
         "x": [
          -3.8330400671798617,
          -3.92387382955524,
          -3.9531713029059117,
          -3.2691812413898282,
          -3.4736731208981624,
          -3.7617766991009067,
          -3.57099498814827,
          -3.6918845866035706,
          -3.457122859597621,
          -2.9804692600773595,
          -3.4288123721306762,
          -1.9862581520223226,
          -2.0378804269935515,
          -3.3921206358492575,
          -2.9409359773742296,
          -3.361996564625497,
          -2.8098946925126,
          -2.554573482830794,
          -2.162627276630271,
          -1.6491430671982186,
          -2.365968464314693,
          -2.666341828103684,
          -0.9930471375409567,
          -2.2335788543366233,
          -1.083328907763806,
          -0.622342483502607,
          -1.4102114134287473,
          -1.7026361278649538,
          -1.4197003167250644,
          -0.809586215604218,
          -1.677233064851801,
          -3.7241287196585295,
          -0.25409154145422097,
          -1.1764377076987467,
          -1.7495318476009387,
          -0.995945118875777,
          -1.2890881492572204,
          -1.666719476127334,
          -0.7780089107313292,
          -0.7807234098590115,
          -1.8217658672334247,
          -0.5326707207851639,
          -0.29696179730598693,
          -1.0263064895870597,
          -0.5453515269495677,
          -1.1140676720491758,
          -0.7827490172070312,
          -1.414129493138035,
          -1.1712463862703226,
          -0.5579841863249483,
          -0.5279477175970972,
          -1.6524196368446735,
          -0.6166010479319157,
          -0.9738494339073287,
          -1.79521811600123,
          -0.27542556358968223,
          -0.879271786237759,
          -0.00912702599835395,
          -0.16798123746224677,
          -0.7349829014428128,
          -0.3061525148546388,
          -1.2377070049507466,
          1.3093402852327383,
          -0.31604911411065667,
          -0.2356896812727643,
          -0.16123004138449665,
          0.72679143234573,
          -0.3285105704813188,
          -0.10097223638367542,
          0.6098661144078805,
          -0.1703605992438853,
          -0.6398475118062623,
          0.4510588415517432,
          -0.09423504183279724,
          -0.5057130488262853,
          -0.265225165620373,
          0.4674015710182546,
          0.01583423772527523,
          0.00851147357440828,
          1.558023279834486,
          0.08900266188598886,
          -0.24425776528547957,
          0.7964493599106385,
          1.0021303111634874,
          0.01745963967771822,
          0.5290282861464713,
          0.024646761324034896,
          -0.34803849237799245,
          -0.3070292283647398,
          2.122877447393111,
          -0.06524276597974213,
          1.7831499331420837,
          2.4392326776419253,
          0.7797021690475627,
          0.19882820922836938,
          2.9605508781369383,
          1.8368239611032307,
          0.9855121688734024,
          0.5506609940115934,
          0.7789756894627333,
          0.8667396121979262,
          0.6425024226741708,
          0.678748031243115,
          1.3040233218241335,
          1.7210506877259204,
          0.9736457901641357,
          2.9128400606474463,
          2.3498942990864515,
          1.0350477139993153,
          0.7732105620274843,
          2.5546700709457664,
          1.357751644729756,
          1.9803041483497221,
          1.4978514241214522,
          2.2864629141700186,
          2.0018967231784806,
          1.4042259439428102,
          0.9570377549892162,
          1.4249651998442963,
          2.4534097830925745,
          3.131028833276054,
          0.13030245726201695,
          0.35483175337161504,
          3.5230839478735354,
          1.1128719450977265,
          2.022030852451983,
          2.4016749514772346,
          2.2344800755580567,
          1.5901786610284663,
          1.7757342357985229,
          3.334328059329538,
          1.6389235877058153,
          2.9311760278732124,
          3.2057608637752737,
          3.048013850233019,
          2.598919067623373,
          3.9066944131047223,
          2.356931446724283,
          3.59737113961467,
          1.214145789119685,
          3.1913459189099496,
          3.018609498156264,
          1.387262972672661,
          2.2562822015427626,
          4.680279663189628
         ],
         "xaxis": "x",
         "y": [
          0.9582137519022614,
          1.7223962121243255,
          1.4441888036679809,
          0.9269429038452618,
          1.594224172081609,
          1.356001655826834,
          1.6541120863180852,
          2.1591645641820723,
          1.4627796429259108,
          0.6445024639893575,
          1.5982600416328916,
          -0.37123555842400646,
          -0.34749206727290416,
          0.5760594184580852,
          1.4173035423010838,
          1.2897580411895087,
          0.9071360562082258,
          -0.18135998182994267,
          0.2968675901650119,
          -1.7901085854066332,
          0.9664283264994299,
          1.3459841412842035,
          -1.159214053870326,
          -0.7687170024456864,
          -0.7909623751104321,
          0.2026268272275081,
          -0.9792720287856537,
          -1.1937094945594735,
          -0.9397881203753147,
          -1.0258075621343232,
          -0.29364591734401124,
          1.8557718836640291,
          -0.7138385404768778,
          -1.765224769655185,
          0.4038379246878085,
          -1.6600531527390088,
          -1.0041693942599812,
          2.180281645407035,
          -2.150918704971909,
          -1.0488844661853403,
          -0.6979485565205036,
          0.2994418543370911,
          0.3100477040876475,
          -1.3209432328868789,
          -1.2923905287230342,
          -0.7479095137492955,
          -0.4058004563799537,
          -0.5865810115978646,
          1.0105245053316207,
          -1.805273556444413,
          -1.5029545793255943,
          -0.5846158543752975,
          -0.9013888402130754,
          -0.04161875812709321,
          -1.233538606828763,
          0.7075124959219488,
          -0.6640244012633285,
          -0.09121770847033604,
          -2.144121074946077,
          0.018754348874588562,
          -1.1173291870554982,
          -1.6454721850076146,
          0.5679053918132602,
          -1.6230966502695034,
          0.07826091796000817,
          -1.2777249464967932,
          -0.9164801031264858,
          -0.1602869269321671,
          -1.3060492739844765,
          0.8933367255221581,
          -1.5034970913815062,
          -0.4705091474312333,
          -0.5559831516634998,
          -1.6297000754178412,
          0.2362838107962424,
          -1.2439844334340393,
          -2.95570387437933,
          -0.3874664692146851,
          -0.6699449584906708,
          0.6457598002195641,
          0.8335326220355903,
          -0.21357970140884272,
          -1.6792645382913358,
          -0.7544312936291792,
          -0.8497806327079711,
          -1.139129339236828,
          2.223920410551523,
          -0.6855310149765473,
          -0.06919409451855545,
          0.4792390519901991,
          -1.8753176244244982,
          0.7723829778108438,
          0.5787983316682531,
          1.140646754060088,
          -0.43779441369836813,
          0.9421123765831936,
          0.0092287227750201,
          -1.4449006470580519,
          1.7508296736700966,
          -0.5283371059132832,
          -0.2894194578033753,
          -2.0638582123281233,
          1.1545456513737242,
          -1.036668666021387,
          -0.14795268606574866,
          -0.8417206688887041,
          0.9840579419912179,
          0.4260822413397731,
          -1.0295558077594724,
          0.6253780312943752,
          0.8780300519796989,
          -0.38626615793508645,
          1.78942963188137,
          1.8022977084971432,
          -1.0820708497932199,
          1.514692794223908,
          -1.6667672695765343,
          0.9439369678548302,
          -0.5011003990003372,
          0.1508909511675257,
          1.1102982600593554,
          0.25929241662061164,
          3.808198607618222,
          0.5485003031879625,
          -1.1107226581662775,
          0.7418321430130903,
          -0.07841258949625002,
          0.9380691400198434,
          -1.1407216657749901,
          1.1216317042871302,
          0.7970800495923087,
          0.9457044457110816,
          0.9939088497354724,
          0.8099308343297138,
          -0.2830331449876974,
          0.14171462889954103,
          1.3358068935607879,
          0.3430827344768024,
          1.7514239186144134,
          -0.7754465599062951,
          1.556702752610756,
          -0.6568961006120427,
          3.163521133383257,
          1.7567775811709996,
          -0.4183483101294983
         ],
         "yaxis": "y"
        }
       ],
       "layout": {
        "coloraxis": {
         "colorbar": {
          "title": {
           "text": "Overall rank"
          }
         },
         "colorscale": [
          [
           0,
           "#0d0887"
          ],
          [
           0.1111111111111111,
           "#46039f"
          ],
          [
           0.2222222222222222,
           "#7201a8"
          ],
          [
           0.3333333333333333,
           "#9c179e"
          ],
          [
           0.4444444444444444,
           "#bd3786"
          ],
          [
           0.5555555555555556,
           "#d8576b"
          ],
          [
           0.6666666666666666,
           "#ed7953"
          ],
          [
           0.7777777777777778,
           "#fb9f3a"
          ],
          [
           0.8888888888888888,
           "#fdca26"
          ],
          [
           1,
           "#f0f921"
          ]
         ]
        },
        "legend": {
         "itemsizing": "constant",
         "tracegroupgap": 0
        },
        "margin": {
         "t": 60
        },
        "template": {
         "data": {
          "bar": [
           {
            "error_x": {
             "color": "#2a3f5f"
            },
            "error_y": {
             "color": "#2a3f5f"
            },
            "marker": {
             "line": {
              "color": "#E5ECF6",
              "width": 0.5
             },
             "pattern": {
              "fillmode": "overlay",
              "size": 10,
              "solidity": 0.2
             }
            },
            "type": "bar"
           }
          ],
          "barpolar": [
           {
            "marker": {
             "line": {
              "color": "#E5ECF6",
              "width": 0.5
             },
             "pattern": {
              "fillmode": "overlay",
              "size": 10,
              "solidity": 0.2
             }
            },
            "type": "barpolar"
           }
          ],
          "carpet": [
           {
            "aaxis": {
             "endlinecolor": "#2a3f5f",
             "gridcolor": "white",
             "linecolor": "white",
             "minorgridcolor": "white",
             "startlinecolor": "#2a3f5f"
            },
            "baxis": {
             "endlinecolor": "#2a3f5f",
             "gridcolor": "white",
             "linecolor": "white",
             "minorgridcolor": "white",
             "startlinecolor": "#2a3f5f"
            },
            "type": "carpet"
           }
          ],
          "choropleth": [
           {
            "colorbar": {
             "outlinewidth": 0,
             "ticks": ""
            },
            "type": "choropleth"
           }
          ],
          "contour": [
           {
            "colorbar": {
             "outlinewidth": 0,
             "ticks": ""
            },
            "colorscale": [
             [
              0,
              "#0d0887"
             ],
             [
              0.1111111111111111,
              "#46039f"
             ],
             [
              0.2222222222222222,
              "#7201a8"
             ],
             [
              0.3333333333333333,
              "#9c179e"
             ],
             [
              0.4444444444444444,
              "#bd3786"
             ],
             [
              0.5555555555555556,
              "#d8576b"
             ],
             [
              0.6666666666666666,
              "#ed7953"
             ],
             [
              0.7777777777777778,
              "#fb9f3a"
             ],
             [
              0.8888888888888888,
              "#fdca26"
             ],
             [
              1,
              "#f0f921"
             ]
            ],
            "type": "contour"
           }
          ],
          "contourcarpet": [
           {
            "colorbar": {
             "outlinewidth": 0,
             "ticks": ""
            },
            "type": "contourcarpet"
           }
          ],
          "heatmap": [
           {
            "colorbar": {
             "outlinewidth": 0,
             "ticks": ""
            },
            "colorscale": [
             [
              0,
              "#0d0887"
             ],
             [
              0.1111111111111111,
              "#46039f"
             ],
             [
              0.2222222222222222,
              "#7201a8"
             ],
             [
              0.3333333333333333,
              "#9c179e"
             ],
             [
              0.4444444444444444,
              "#bd3786"
             ],
             [
              0.5555555555555556,
              "#d8576b"
             ],
             [
              0.6666666666666666,
              "#ed7953"
             ],
             [
              0.7777777777777778,
              "#fb9f3a"
             ],
             [
              0.8888888888888888,
              "#fdca26"
             ],
             [
              1,
              "#f0f921"
             ]
            ],
            "type": "heatmap"
           }
          ],
          "heatmapgl": [
           {
            "colorbar": {
             "outlinewidth": 0,
             "ticks": ""
            },
            "colorscale": [
             [
              0,
              "#0d0887"
             ],
             [
              0.1111111111111111,
              "#46039f"
             ],
             [
              0.2222222222222222,
              "#7201a8"
             ],
             [
              0.3333333333333333,
              "#9c179e"
             ],
             [
              0.4444444444444444,
              "#bd3786"
             ],
             [
              0.5555555555555556,
              "#d8576b"
             ],
             [
              0.6666666666666666,
              "#ed7953"
             ],
             [
              0.7777777777777778,
              "#fb9f3a"
             ],
             [
              0.8888888888888888,
              "#fdca26"
             ],
             [
              1,
              "#f0f921"
             ]
            ],
            "type": "heatmapgl"
           }
          ],
          "histogram": [
           {
            "marker": {
             "pattern": {
              "fillmode": "overlay",
              "size": 10,
              "solidity": 0.2
             }
            },
            "type": "histogram"
           }
          ],
          "histogram2d": [
           {
            "colorbar": {
             "outlinewidth": 0,
             "ticks": ""
            },
            "colorscale": [
             [
              0,
              "#0d0887"
             ],
             [
              0.1111111111111111,
              "#46039f"
             ],
             [
              0.2222222222222222,
              "#7201a8"
             ],
             [
              0.3333333333333333,
              "#9c179e"
             ],
             [
              0.4444444444444444,
              "#bd3786"
             ],
             [
              0.5555555555555556,
              "#d8576b"
             ],
             [
              0.6666666666666666,
              "#ed7953"
             ],
             [
              0.7777777777777778,
              "#fb9f3a"
             ],
             [
              0.8888888888888888,
              "#fdca26"
             ],
             [
              1,
              "#f0f921"
             ]
            ],
            "type": "histogram2d"
           }
          ],
          "histogram2dcontour": [
           {
            "colorbar": {
             "outlinewidth": 0,
             "ticks": ""
            },
            "colorscale": [
             [
              0,
              "#0d0887"
             ],
             [
              0.1111111111111111,
              "#46039f"
             ],
             [
              0.2222222222222222,
              "#7201a8"
             ],
             [
              0.3333333333333333,
              "#9c179e"
             ],
             [
              0.4444444444444444,
              "#bd3786"
             ],
             [
              0.5555555555555556,
              "#d8576b"
             ],
             [
              0.6666666666666666,
              "#ed7953"
             ],
             [
              0.7777777777777778,
              "#fb9f3a"
             ],
             [
              0.8888888888888888,
              "#fdca26"
             ],
             [
              1,
              "#f0f921"
             ]
            ],
            "type": "histogram2dcontour"
           }
          ],
          "mesh3d": [
           {
            "colorbar": {
             "outlinewidth": 0,
             "ticks": ""
            },
            "type": "mesh3d"
           }
          ],
          "parcoords": [
           {
            "line": {
             "colorbar": {
              "outlinewidth": 0,
              "ticks": ""
             }
            },
            "type": "parcoords"
           }
          ],
          "pie": [
           {
            "automargin": true,
            "type": "pie"
           }
          ],
          "scatter": [
           {
            "marker": {
             "colorbar": {
              "outlinewidth": 0,
              "ticks": ""
             }
            },
            "type": "scatter"
           }
          ],
          "scatter3d": [
           {
            "line": {
             "colorbar": {
              "outlinewidth": 0,
              "ticks": ""
             }
            },
            "marker": {
             "colorbar": {
              "outlinewidth": 0,
              "ticks": ""
             }
            },
            "type": "scatter3d"
           }
          ],
          "scattercarpet": [
           {
            "marker": {
             "colorbar": {
              "outlinewidth": 0,
              "ticks": ""
             }
            },
            "type": "scattercarpet"
           }
          ],
          "scattergeo": [
           {
            "marker": {
             "colorbar": {
              "outlinewidth": 0,
              "ticks": ""
             }
            },
            "type": "scattergeo"
           }
          ],
          "scattergl": [
           {
            "marker": {
             "colorbar": {
              "outlinewidth": 0,
              "ticks": ""
             }
            },
            "type": "scattergl"
           }
          ],
          "scattermapbox": [
           {
            "marker": {
             "colorbar": {
              "outlinewidth": 0,
              "ticks": ""
             }
            },
            "type": "scattermapbox"
           }
          ],
          "scatterpolar": [
           {
            "marker": {
             "colorbar": {
              "outlinewidth": 0,
              "ticks": ""
             }
            },
            "type": "scatterpolar"
           }
          ],
          "scatterpolargl": [
           {
            "marker": {
             "colorbar": {
              "outlinewidth": 0,
              "ticks": ""
             }
            },
            "type": "scatterpolargl"
           }
          ],
          "scatterternary": [
           {
            "marker": {
             "colorbar": {
              "outlinewidth": 0,
              "ticks": ""
             }
            },
            "type": "scatterternary"
           }
          ],
          "surface": [
           {
            "colorbar": {
             "outlinewidth": 0,
             "ticks": ""
            },
            "colorscale": [
             [
              0,
              "#0d0887"
             ],
             [
              0.1111111111111111,
              "#46039f"
             ],
             [
              0.2222222222222222,
              "#7201a8"
             ],
             [
              0.3333333333333333,
              "#9c179e"
             ],
             [
              0.4444444444444444,
              "#bd3786"
             ],
             [
              0.5555555555555556,
              "#d8576b"
             ],
             [
              0.6666666666666666,
              "#ed7953"
             ],
             [
              0.7777777777777778,
              "#fb9f3a"
             ],
             [
              0.8888888888888888,
              "#fdca26"
             ],
             [
              1,
              "#f0f921"
             ]
            ],
            "type": "surface"
           }
          ],
          "table": [
           {
            "cells": {
             "fill": {
              "color": "#EBF0F8"
             },
             "line": {
              "color": "white"
             }
            },
            "header": {
             "fill": {
              "color": "#C8D4E3"
             },
             "line": {
              "color": "white"
             }
            },
            "type": "table"
           }
          ]
         },
         "layout": {
          "annotationdefaults": {
           "arrowcolor": "#2a3f5f",
           "arrowhead": 0,
           "arrowwidth": 1
          },
          "autotypenumbers": "strict",
          "coloraxis": {
           "colorbar": {
            "outlinewidth": 0,
            "ticks": ""
           }
          },
          "colorscale": {
           "diverging": [
            [
             0,
             "#8e0152"
            ],
            [
             0.1,
             "#c51b7d"
            ],
            [
             0.2,
             "#de77ae"
            ],
            [
             0.3,
             "#f1b6da"
            ],
            [
             0.4,
             "#fde0ef"
            ],
            [
             0.5,
             "#f7f7f7"
            ],
            [
             0.6,
             "#e6f5d0"
            ],
            [
             0.7,
             "#b8e186"
            ],
            [
             0.8,
             "#7fbc41"
            ],
            [
             0.9,
             "#4d9221"
            ],
            [
             1,
             "#276419"
            ]
           ],
           "sequential": [
            [
             0,
             "#0d0887"
            ],
            [
             0.1111111111111111,
             "#46039f"
            ],
            [
             0.2222222222222222,
             "#7201a8"
            ],
            [
             0.3333333333333333,
             "#9c179e"
            ],
            [
             0.4444444444444444,
             "#bd3786"
            ],
            [
             0.5555555555555556,
             "#d8576b"
            ],
            [
             0.6666666666666666,
             "#ed7953"
            ],
            [
             0.7777777777777778,
             "#fb9f3a"
            ],
            [
             0.8888888888888888,
             "#fdca26"
            ],
            [
             1,
             "#f0f921"
            ]
           ],
           "sequentialminus": [
            [
             0,
             "#0d0887"
            ],
            [
             0.1111111111111111,
             "#46039f"
            ],
            [
             0.2222222222222222,
             "#7201a8"
            ],
            [
             0.3333333333333333,
             "#9c179e"
            ],
            [
             0.4444444444444444,
             "#bd3786"
            ],
            [
             0.5555555555555556,
             "#d8576b"
            ],
            [
             0.6666666666666666,
             "#ed7953"
            ],
            [
             0.7777777777777778,
             "#fb9f3a"
            ],
            [
             0.8888888888888888,
             "#fdca26"
            ],
            [
             1,
             "#f0f921"
            ]
           ]
          },
          "colorway": [
           "#636efa",
           "#EF553B",
           "#00cc96",
           "#ab63fa",
           "#FFA15A",
           "#19d3f3",
           "#FF6692",
           "#B6E880",
           "#FF97FF",
           "#FECB52"
          ],
          "font": {
           "color": "#2a3f5f"
          },
          "geo": {
           "bgcolor": "white",
           "lakecolor": "white",
           "landcolor": "#E5ECF6",
           "showlakes": true,
           "showland": true,
           "subunitcolor": "white"
          },
          "hoverlabel": {
           "align": "left"
          },
          "hovermode": "closest",
          "mapbox": {
           "style": "light"
          },
          "paper_bgcolor": "white",
          "plot_bgcolor": "#E5ECF6",
          "polar": {
           "angularaxis": {
            "gridcolor": "white",
            "linecolor": "white",
            "ticks": ""
           },
           "bgcolor": "#E5ECF6",
           "radialaxis": {
            "gridcolor": "white",
            "linecolor": "white",
            "ticks": ""
           }
          },
          "scene": {
           "xaxis": {
            "backgroundcolor": "#E5ECF6",
            "gridcolor": "white",
            "gridwidth": 2,
            "linecolor": "white",
            "showbackground": true,
            "ticks": "",
            "zerolinecolor": "white"
           },
           "yaxis": {
            "backgroundcolor": "#E5ECF6",
            "gridcolor": "white",
            "gridwidth": 2,
            "linecolor": "white",
            "showbackground": true,
            "ticks": "",
            "zerolinecolor": "white"
           },
           "zaxis": {
            "backgroundcolor": "#E5ECF6",
            "gridcolor": "white",
            "gridwidth": 2,
            "linecolor": "white",
            "showbackground": true,
            "ticks": "",
            "zerolinecolor": "white"
           }
          },
          "shapedefaults": {
           "line": {
            "color": "#2a3f5f"
           }
          },
          "ternary": {
           "aaxis": {
            "gridcolor": "white",
            "linecolor": "white",
            "ticks": ""
           },
           "baxis": {
            "gridcolor": "white",
            "linecolor": "white",
            "ticks": ""
           },
           "bgcolor": "#E5ECF6",
           "caxis": {
            "gridcolor": "white",
            "linecolor": "white",
            "ticks": ""
           }
          },
          "title": {
           "x": 0.05
          },
          "xaxis": {
           "automargin": true,
           "gridcolor": "white",
           "linecolor": "white",
           "ticks": "",
           "title": {
            "standoff": 15
           },
           "zerolinecolor": "white",
           "zerolinewidth": 2
          },
          "yaxis": {
           "automargin": true,
           "gridcolor": "white",
           "linecolor": "white",
           "ticks": "",
           "title": {
            "standoff": 15
           },
           "zerolinecolor": "white",
           "zerolinewidth": 2
          }
         }
        },
        "xaxis": {
         "anchor": "y",
         "domain": [
          0,
          1
         ],
         "title": {
          "text": "PC1"
         },
         "type": "log"
        },
        "yaxis": {
         "anchor": "x",
         "domain": [
          0,
          1
         ],
         "title": {
          "text": "PC2"
         },
         "type": "log"
        }
       }
      },
      "text/html": [
       "<div>                            <div id=\"9f83aebd-97f8-4432-820d-1470ffe26a18\" class=\"plotly-graph-div\" style=\"height:525px; width:100%;\"></div>            <script type=\"text/javascript\">                require([\"plotly\"], function(Plotly) {                    window.PLOTLYENV=window.PLOTLYENV || {};                                    if (document.getElementById(\"9f83aebd-97f8-4432-820d-1470ffe26a18\")) {                    Plotly.newPlot(                        \"9f83aebd-97f8-4432-820d-1470ffe26a18\",                        [{\"hovertemplate\":\"PC1=%{x}<br>PC2=%{y}<br>Overall rank=%{marker.color}<extra></extra>\",\"legendgroup\":\"\",\"marker\":{\"color\":[1,2,3,4,5,6,7,8,9,10,11,12,13,14,15,16,17,18,19,20,21,22,23,24,26,27,28,30,31,32,33,34,35,36,37,38,40,41,42,43,44,45,46,47,48,49,50,51,52,53,54,55,56,57,58,59,60,61,62,63,65,66,67,68,69,70,71,72,73,74,75,77,78,79,80,81,82,83,84,85,86,87,88,89,90,91,92,93,94,96,97,98,99,100,101,102,103,104,105,106,107,108,109,110,111,113,114,115,116,117,118,119,120,121,122,123,124,125,126,128,129,130,131,132,133,134,135,136,137,138,139,140,141,142,143,144,145,146,147,148,150,151,152,153,154],\"coloraxis\":\"coloraxis\",\"size\":[1,2,3,4,5,6,7,8,9,10,11,12,13,14,15,16,17,18,19,20,21,22,23,24,26,27,28,30,31,32,33,34,35,36,37,38,40,41,42,43,44,45,46,47,48,49,50,51,52,53,54,55,56,57,58,59,60,61,62,63,65,66,67,68,69,70,71,72,73,74,75,77,78,79,80,81,82,83,84,85,86,87,88,89,90,91,92,93,94,96,97,98,99,100,101,102,103,104,105,106,107,108,109,110,111,113,114,115,116,117,118,119,120,121,122,123,124,125,126,128,129,130,131,132,133,134,135,136,137,138,139,140,141,142,143,144,145,146,147,148,150,151,152,153,154],\"sizemode\":\"area\",\"sizeref\":0.385,\"symbol\":\"circle\"},\"mode\":\"markers\",\"name\":\"\",\"orientation\":\"v\",\"showlegend\":false,\"x\":[-3.8330400671798617,-3.92387382955524,-3.9531713029059117,-3.2691812413898282,-3.4736731208981624,-3.7617766991009067,-3.57099498814827,-3.6918845866035706,-3.457122859597621,-2.9804692600773595,-3.4288123721306762,-1.9862581520223226,-2.0378804269935515,-3.3921206358492575,-2.9409359773742296,-3.361996564625497,-2.8098946925126,-2.554573482830794,-2.162627276630271,-1.6491430671982186,-2.365968464314693,-2.666341828103684,-0.9930471375409567,-2.2335788543366233,-1.083328907763806,-0.622342483502607,-1.4102114134287473,-1.7026361278649538,-1.4197003167250644,-0.809586215604218,-1.677233064851801,-3.7241287196585295,-0.25409154145422097,-1.1764377076987467,-1.7495318476009387,-0.995945118875777,-1.2890881492572204,-1.666719476127334,-0.7780089107313292,-0.7807234098590115,-1.8217658672334247,-0.5326707207851639,-0.29696179730598693,-1.0263064895870597,-0.5453515269495677,-1.1140676720491758,-0.7827490172070312,-1.414129493138035,-1.1712463862703226,-0.5579841863249483,-0.5279477175970972,-1.6524196368446735,-0.6166010479319157,-0.9738494339073287,-1.79521811600123,-0.27542556358968223,-0.879271786237759,-0.00912702599835395,-0.16798123746224677,-0.7349829014428128,-0.3061525148546388,-1.2377070049507466,1.3093402852327383,-0.31604911411065667,-0.2356896812727643,-0.16123004138449665,0.72679143234573,-0.3285105704813188,-0.10097223638367542,0.6098661144078805,-0.1703605992438853,-0.6398475118062623,0.4510588415517432,-0.09423504183279724,-0.5057130488262853,-0.265225165620373,0.4674015710182546,0.01583423772527523,0.00851147357440828,1.558023279834486,0.08900266188598886,-0.24425776528547957,0.7964493599106385,1.0021303111634874,0.01745963967771822,0.5290282861464713,0.024646761324034896,-0.34803849237799245,-0.3070292283647398,2.122877447393111,-0.06524276597974213,1.7831499331420837,2.4392326776419253,0.7797021690475627,0.19882820922836938,2.9605508781369383,1.8368239611032307,0.9855121688734024,0.5506609940115934,0.7789756894627333,0.8667396121979262,0.6425024226741708,0.678748031243115,1.3040233218241335,1.7210506877259204,0.9736457901641357,2.9128400606474463,2.3498942990864515,1.0350477139993153,0.7732105620274843,2.5546700709457664,1.357751644729756,1.9803041483497221,1.4978514241214522,2.2864629141700186,2.0018967231784806,1.4042259439428102,0.9570377549892162,1.4249651998442963,2.4534097830925745,3.131028833276054,0.13030245726201695,0.35483175337161504,3.5230839478735354,1.1128719450977265,2.022030852451983,2.4016749514772346,2.2344800755580567,1.5901786610284663,1.7757342357985229,3.334328059329538,1.6389235877058153,2.9311760278732124,3.2057608637752737,3.048013850233019,2.598919067623373,3.9066944131047223,2.356931446724283,3.59737113961467,1.214145789119685,3.1913459189099496,3.018609498156264,1.387262972672661,2.2562822015427626,4.680279663189628],\"xaxis\":\"x\",\"y\":[0.9582137519022614,1.7223962121243255,1.4441888036679809,0.9269429038452618,1.594224172081609,1.356001655826834,1.6541120863180852,2.1591645641820723,1.4627796429259108,0.6445024639893575,1.5982600416328916,-0.37123555842400646,-0.34749206727290416,0.5760594184580852,1.4173035423010838,1.2897580411895087,0.9071360562082258,-0.18135998182994267,0.2968675901650119,-1.7901085854066332,0.9664283264994299,1.3459841412842035,-1.159214053870326,-0.7687170024456864,-0.7909623751104321,0.2026268272275081,-0.9792720287856537,-1.1937094945594735,-0.9397881203753147,-1.0258075621343232,-0.29364591734401124,1.8557718836640291,-0.7138385404768778,-1.765224769655185,0.4038379246878085,-1.6600531527390088,-1.0041693942599812,2.180281645407035,-2.150918704971909,-1.0488844661853403,-0.6979485565205036,0.2994418543370911,0.3100477040876475,-1.3209432328868789,-1.2923905287230342,-0.7479095137492955,-0.4058004563799537,-0.5865810115978646,1.0105245053316207,-1.805273556444413,-1.5029545793255943,-0.5846158543752975,-0.9013888402130754,-0.04161875812709321,-1.233538606828763,0.7075124959219488,-0.6640244012633285,-0.09121770847033604,-2.144121074946077,0.018754348874588562,-1.1173291870554982,-1.6454721850076146,0.5679053918132602,-1.6230966502695034,0.07826091796000817,-1.2777249464967932,-0.9164801031264858,-0.1602869269321671,-1.3060492739844765,0.8933367255221581,-1.5034970913815062,-0.4705091474312333,-0.5559831516634998,-1.6297000754178412,0.2362838107962424,-1.2439844334340393,-2.95570387437933,-0.3874664692146851,-0.6699449584906708,0.6457598002195641,0.8335326220355903,-0.21357970140884272,-1.6792645382913358,-0.7544312936291792,-0.8497806327079711,-1.139129339236828,2.223920410551523,-0.6855310149765473,-0.06919409451855545,0.4792390519901991,-1.8753176244244982,0.7723829778108438,0.5787983316682531,1.140646754060088,-0.43779441369836813,0.9421123765831936,0.0092287227750201,-1.4449006470580519,1.7508296736700966,-0.5283371059132832,-0.2894194578033753,-2.0638582123281233,1.1545456513737242,-1.036668666021387,-0.14795268606574866,-0.8417206688887041,0.9840579419912179,0.4260822413397731,-1.0295558077594724,0.6253780312943752,0.8780300519796989,-0.38626615793508645,1.78942963188137,1.8022977084971432,-1.0820708497932199,1.514692794223908,-1.6667672695765343,0.9439369678548302,-0.5011003990003372,0.1508909511675257,1.1102982600593554,0.25929241662061164,3.808198607618222,0.5485003031879625,-1.1107226581662775,0.7418321430130903,-0.07841258949625002,0.9380691400198434,-1.1407216657749901,1.1216317042871302,0.7970800495923087,0.9457044457110816,0.9939088497354724,0.8099308343297138,-0.2830331449876974,0.14171462889954103,1.3358068935607879,0.3430827344768024,1.7514239186144134,-0.7754465599062951,1.556702752610756,-0.6568961006120427,3.163521133383257,1.7567775811709996,-0.4183483101294983],\"yaxis\":\"y\",\"type\":\"scatter\"}],                        {\"template\":{\"data\":{\"bar\":[{\"error_x\":{\"color\":\"#2a3f5f\"},\"error_y\":{\"color\":\"#2a3f5f\"},\"marker\":{\"line\":{\"color\":\"#E5ECF6\",\"width\":0.5},\"pattern\":{\"fillmode\":\"overlay\",\"size\":10,\"solidity\":0.2}},\"type\":\"bar\"}],\"barpolar\":[{\"marker\":{\"line\":{\"color\":\"#E5ECF6\",\"width\":0.5},\"pattern\":{\"fillmode\":\"overlay\",\"size\":10,\"solidity\":0.2}},\"type\":\"barpolar\"}],\"carpet\":[{\"aaxis\":{\"endlinecolor\":\"#2a3f5f\",\"gridcolor\":\"white\",\"linecolor\":\"white\",\"minorgridcolor\":\"white\",\"startlinecolor\":\"#2a3f5f\"},\"baxis\":{\"endlinecolor\":\"#2a3f5f\",\"gridcolor\":\"white\",\"linecolor\":\"white\",\"minorgridcolor\":\"white\",\"startlinecolor\":\"#2a3f5f\"},\"type\":\"carpet\"}],\"choropleth\":[{\"colorbar\":{\"outlinewidth\":0,\"ticks\":\"\"},\"type\":\"choropleth\"}],\"contour\":[{\"colorbar\":{\"outlinewidth\":0,\"ticks\":\"\"},\"colorscale\":[[0.0,\"#0d0887\"],[0.1111111111111111,\"#46039f\"],[0.2222222222222222,\"#7201a8\"],[0.3333333333333333,\"#9c179e\"],[0.4444444444444444,\"#bd3786\"],[0.5555555555555556,\"#d8576b\"],[0.6666666666666666,\"#ed7953\"],[0.7777777777777778,\"#fb9f3a\"],[0.8888888888888888,\"#fdca26\"],[1.0,\"#f0f921\"]],\"type\":\"contour\"}],\"contourcarpet\":[{\"colorbar\":{\"outlinewidth\":0,\"ticks\":\"\"},\"type\":\"contourcarpet\"}],\"heatmap\":[{\"colorbar\":{\"outlinewidth\":0,\"ticks\":\"\"},\"colorscale\":[[0.0,\"#0d0887\"],[0.1111111111111111,\"#46039f\"],[0.2222222222222222,\"#7201a8\"],[0.3333333333333333,\"#9c179e\"],[0.4444444444444444,\"#bd3786\"],[0.5555555555555556,\"#d8576b\"],[0.6666666666666666,\"#ed7953\"],[0.7777777777777778,\"#fb9f3a\"],[0.8888888888888888,\"#fdca26\"],[1.0,\"#f0f921\"]],\"type\":\"heatmap\"}],\"heatmapgl\":[{\"colorbar\":{\"outlinewidth\":0,\"ticks\":\"\"},\"colorscale\":[[0.0,\"#0d0887\"],[0.1111111111111111,\"#46039f\"],[0.2222222222222222,\"#7201a8\"],[0.3333333333333333,\"#9c179e\"],[0.4444444444444444,\"#bd3786\"],[0.5555555555555556,\"#d8576b\"],[0.6666666666666666,\"#ed7953\"],[0.7777777777777778,\"#fb9f3a\"],[0.8888888888888888,\"#fdca26\"],[1.0,\"#f0f921\"]],\"type\":\"heatmapgl\"}],\"histogram\":[{\"marker\":{\"pattern\":{\"fillmode\":\"overlay\",\"size\":10,\"solidity\":0.2}},\"type\":\"histogram\"}],\"histogram2d\":[{\"colorbar\":{\"outlinewidth\":0,\"ticks\":\"\"},\"colorscale\":[[0.0,\"#0d0887\"],[0.1111111111111111,\"#46039f\"],[0.2222222222222222,\"#7201a8\"],[0.3333333333333333,\"#9c179e\"],[0.4444444444444444,\"#bd3786\"],[0.5555555555555556,\"#d8576b\"],[0.6666666666666666,\"#ed7953\"],[0.7777777777777778,\"#fb9f3a\"],[0.8888888888888888,\"#fdca26\"],[1.0,\"#f0f921\"]],\"type\":\"histogram2d\"}],\"histogram2dcontour\":[{\"colorbar\":{\"outlinewidth\":0,\"ticks\":\"\"},\"colorscale\":[[0.0,\"#0d0887\"],[0.1111111111111111,\"#46039f\"],[0.2222222222222222,\"#7201a8\"],[0.3333333333333333,\"#9c179e\"],[0.4444444444444444,\"#bd3786\"],[0.5555555555555556,\"#d8576b\"],[0.6666666666666666,\"#ed7953\"],[0.7777777777777778,\"#fb9f3a\"],[0.8888888888888888,\"#fdca26\"],[1.0,\"#f0f921\"]],\"type\":\"histogram2dcontour\"}],\"mesh3d\":[{\"colorbar\":{\"outlinewidth\":0,\"ticks\":\"\"},\"type\":\"mesh3d\"}],\"parcoords\":[{\"line\":{\"colorbar\":{\"outlinewidth\":0,\"ticks\":\"\"}},\"type\":\"parcoords\"}],\"pie\":[{\"automargin\":true,\"type\":\"pie\"}],\"scatter\":[{\"marker\":{\"colorbar\":{\"outlinewidth\":0,\"ticks\":\"\"}},\"type\":\"scatter\"}],\"scatter3d\":[{\"line\":{\"colorbar\":{\"outlinewidth\":0,\"ticks\":\"\"}},\"marker\":{\"colorbar\":{\"outlinewidth\":0,\"ticks\":\"\"}},\"type\":\"scatter3d\"}],\"scattercarpet\":[{\"marker\":{\"colorbar\":{\"outlinewidth\":0,\"ticks\":\"\"}},\"type\":\"scattercarpet\"}],\"scattergeo\":[{\"marker\":{\"colorbar\":{\"outlinewidth\":0,\"ticks\":\"\"}},\"type\":\"scattergeo\"}],\"scattergl\":[{\"marker\":{\"colorbar\":{\"outlinewidth\":0,\"ticks\":\"\"}},\"type\":\"scattergl\"}],\"scattermapbox\":[{\"marker\":{\"colorbar\":{\"outlinewidth\":0,\"ticks\":\"\"}},\"type\":\"scattermapbox\"}],\"scatterpolar\":[{\"marker\":{\"colorbar\":{\"outlinewidth\":0,\"ticks\":\"\"}},\"type\":\"scatterpolar\"}],\"scatterpolargl\":[{\"marker\":{\"colorbar\":{\"outlinewidth\":0,\"ticks\":\"\"}},\"type\":\"scatterpolargl\"}],\"scatterternary\":[{\"marker\":{\"colorbar\":{\"outlinewidth\":0,\"ticks\":\"\"}},\"type\":\"scatterternary\"}],\"surface\":[{\"colorbar\":{\"outlinewidth\":0,\"ticks\":\"\"},\"colorscale\":[[0.0,\"#0d0887\"],[0.1111111111111111,\"#46039f\"],[0.2222222222222222,\"#7201a8\"],[0.3333333333333333,\"#9c179e\"],[0.4444444444444444,\"#bd3786\"],[0.5555555555555556,\"#d8576b\"],[0.6666666666666666,\"#ed7953\"],[0.7777777777777778,\"#fb9f3a\"],[0.8888888888888888,\"#fdca26\"],[1.0,\"#f0f921\"]],\"type\":\"surface\"}],\"table\":[{\"cells\":{\"fill\":{\"color\":\"#EBF0F8\"},\"line\":{\"color\":\"white\"}},\"header\":{\"fill\":{\"color\":\"#C8D4E3\"},\"line\":{\"color\":\"white\"}},\"type\":\"table\"}]},\"layout\":{\"annotationdefaults\":{\"arrowcolor\":\"#2a3f5f\",\"arrowhead\":0,\"arrowwidth\":1},\"autotypenumbers\":\"strict\",\"coloraxis\":{\"colorbar\":{\"outlinewidth\":0,\"ticks\":\"\"}},\"colorscale\":{\"diverging\":[[0,\"#8e0152\"],[0.1,\"#c51b7d\"],[0.2,\"#de77ae\"],[0.3,\"#f1b6da\"],[0.4,\"#fde0ef\"],[0.5,\"#f7f7f7\"],[0.6,\"#e6f5d0\"],[0.7,\"#b8e186\"],[0.8,\"#7fbc41\"],[0.9,\"#4d9221\"],[1,\"#276419\"]],\"sequential\":[[0.0,\"#0d0887\"],[0.1111111111111111,\"#46039f\"],[0.2222222222222222,\"#7201a8\"],[0.3333333333333333,\"#9c179e\"],[0.4444444444444444,\"#bd3786\"],[0.5555555555555556,\"#d8576b\"],[0.6666666666666666,\"#ed7953\"],[0.7777777777777778,\"#fb9f3a\"],[0.8888888888888888,\"#fdca26\"],[1.0,\"#f0f921\"]],\"sequentialminus\":[[0.0,\"#0d0887\"],[0.1111111111111111,\"#46039f\"],[0.2222222222222222,\"#7201a8\"],[0.3333333333333333,\"#9c179e\"],[0.4444444444444444,\"#bd3786\"],[0.5555555555555556,\"#d8576b\"],[0.6666666666666666,\"#ed7953\"],[0.7777777777777778,\"#fb9f3a\"],[0.8888888888888888,\"#fdca26\"],[1.0,\"#f0f921\"]]},\"colorway\":[\"#636efa\",\"#EF553B\",\"#00cc96\",\"#ab63fa\",\"#FFA15A\",\"#19d3f3\",\"#FF6692\",\"#B6E880\",\"#FF97FF\",\"#FECB52\"],\"font\":{\"color\":\"#2a3f5f\"},\"geo\":{\"bgcolor\":\"white\",\"lakecolor\":\"white\",\"landcolor\":\"#E5ECF6\",\"showlakes\":true,\"showland\":true,\"subunitcolor\":\"white\"},\"hoverlabel\":{\"align\":\"left\"},\"hovermode\":\"closest\",\"mapbox\":{\"style\":\"light\"},\"paper_bgcolor\":\"white\",\"plot_bgcolor\":\"#E5ECF6\",\"polar\":{\"angularaxis\":{\"gridcolor\":\"white\",\"linecolor\":\"white\",\"ticks\":\"\"},\"bgcolor\":\"#E5ECF6\",\"radialaxis\":{\"gridcolor\":\"white\",\"linecolor\":\"white\",\"ticks\":\"\"}},\"scene\":{\"xaxis\":{\"backgroundcolor\":\"#E5ECF6\",\"gridcolor\":\"white\",\"gridwidth\":2,\"linecolor\":\"white\",\"showbackground\":true,\"ticks\":\"\",\"zerolinecolor\":\"white\"},\"yaxis\":{\"backgroundcolor\":\"#E5ECF6\",\"gridcolor\":\"white\",\"gridwidth\":2,\"linecolor\":\"white\",\"showbackground\":true,\"ticks\":\"\",\"zerolinecolor\":\"white\"},\"zaxis\":{\"backgroundcolor\":\"#E5ECF6\",\"gridcolor\":\"white\",\"gridwidth\":2,\"linecolor\":\"white\",\"showbackground\":true,\"ticks\":\"\",\"zerolinecolor\":\"white\"}},\"shapedefaults\":{\"line\":{\"color\":\"#2a3f5f\"}},\"ternary\":{\"aaxis\":{\"gridcolor\":\"white\",\"linecolor\":\"white\",\"ticks\":\"\"},\"baxis\":{\"gridcolor\":\"white\",\"linecolor\":\"white\",\"ticks\":\"\"},\"bgcolor\":\"#E5ECF6\",\"caxis\":{\"gridcolor\":\"white\",\"linecolor\":\"white\",\"ticks\":\"\"}},\"title\":{\"x\":0.05},\"xaxis\":{\"automargin\":true,\"gridcolor\":\"white\",\"linecolor\":\"white\",\"ticks\":\"\",\"title\":{\"standoff\":15},\"zerolinecolor\":\"white\",\"zerolinewidth\":2},\"yaxis\":{\"automargin\":true,\"gridcolor\":\"white\",\"linecolor\":\"white\",\"ticks\":\"\",\"title\":{\"standoff\":15},\"zerolinecolor\":\"white\",\"zerolinewidth\":2}}},\"xaxis\":{\"anchor\":\"y\",\"domain\":[0.0,1.0],\"title\":{\"text\":\"PC1\"},\"type\":\"log\"},\"yaxis\":{\"anchor\":\"x\",\"domain\":[0.0,1.0],\"title\":{\"text\":\"PC2\"},\"type\":\"log\"},\"coloraxis\":{\"colorbar\":{\"title\":{\"text\":\"Overall rank\"}},\"colorscale\":[[0.0,\"#0d0887\"],[0.1111111111111111,\"#46039f\"],[0.2222222222222222,\"#7201a8\"],[0.3333333333333333,\"#9c179e\"],[0.4444444444444444,\"#bd3786\"],[0.5555555555555556,\"#d8576b\"],[0.6666666666666666,\"#ed7953\"],[0.7777777777777778,\"#fb9f3a\"],[0.8888888888888888,\"#fdca26\"],[1.0,\"#f0f921\"]]},\"legend\":{\"tracegroupgap\":0,\"itemsizing\":\"constant\"},\"margin\":{\"t\":60}},                        {\"responsive\": true}                    ).then(function(){\n",
       "                            \n",
       "var gd = document.getElementById('9f83aebd-97f8-4432-820d-1470ffe26a18');\n",
       "var x = new MutationObserver(function (mutations, observer) {{\n",
       "        var display = window.getComputedStyle(gd).display;\n",
       "        if (!display || display === 'none') {{\n",
       "            console.log([gd, 'removed!']);\n",
       "            Plotly.purge(gd);\n",
       "            observer.disconnect();\n",
       "        }}\n",
       "}});\n",
       "\n",
       "// Listen for the removal of the full notebook cells\n",
       "var notebookContainer = gd.closest('#notebook-container');\n",
       "if (notebookContainer) {{\n",
       "    x.observe(notebookContainer, {childList: true});\n",
       "}}\n",
       "\n",
       "// Listen for the clearing of the current output cell\n",
       "var outputEl = gd.closest('.output');\n",
       "if (outputEl) {{\n",
       "    x.observe(outputEl, {childList: true});\n",
       "}}\n",
       "\n",
       "                        })                };                });            </script>        </div>"
      ]
     },
     "metadata": {},
     "output_type": "display_data"
    }
   ],
   "source": [
    "px.scatter(pca_df_final, x=\"PC1\", y=\"PC2\", color=\"Overall rank\",\n",
    "           log_x=True, log_y=True, size=\"Overall rank\",)\n"
   ]
  },
  {
   "cell_type": "code",
   "execution_count": 14,
   "metadata": {},
   "outputs": [
    {
     "data": {
      "application/vnd.plotly.v1+json": {
       "config": {
        "plotlyServerURL": "https://plot.ly"
       },
       "data": [
        {
         "hovertemplate": "Country=Finland<br>PC1=%{x}<br>PC2=%{y}<br>PC3=%{z}<br>Overall rank=%{marker.size}<extra></extra>",
         "legendgroup": "Finland",
         "marker": {
          "color": "#636efa",
          "size": [
           1
          ],
          "sizemode": "area",
          "sizeref": 0.385,
          "symbol": "circle"
         },
         "mode": "markers",
         "name": "Finland",
         "scene": "scene",
         "showlegend": true,
         "type": "scatter3d",
         "x": [
          -3.8330400671798617
         ],
         "y": [
          0.9582137519022614
         ],
         "z": [
          1.9083817150158642
         ]
        },
        {
         "hovertemplate": "Country=Denmark<br>PC1=%{x}<br>PC2=%{y}<br>PC3=%{z}<br>Overall rank=%{marker.size}<extra></extra>",
         "legendgroup": "Denmark",
         "marker": {
          "color": "#EF553B",
          "size": [
           2
          ],
          "sizemode": "area",
          "sizeref": 0.385,
          "symbol": "circle"
         },
         "mode": "markers",
         "name": "Denmark",
         "scene": "scene",
         "showlegend": true,
         "type": "scatter3d",
         "x": [
          -3.92387382955524
         ],
         "y": [
          1.7223962121243255
         ],
         "z": [
          1.462946165857839
         ]
        },
        {
         "hovertemplate": "Country=Norway<br>PC1=%{x}<br>PC2=%{y}<br>PC3=%{z}<br>Overall rank=%{marker.size}<extra></extra>",
         "legendgroup": "Norway",
         "marker": {
          "color": "#00cc96",
          "size": [
           3
          ],
          "sizemode": "area",
          "sizeref": 0.385,
          "symbol": "circle"
         },
         "mode": "markers",
         "name": "Norway",
         "scene": "scene",
         "showlegend": true,
         "type": "scatter3d",
         "x": [
          -3.9531713029059117
         ],
         "y": [
          1.4441888036679809
         ],
         "z": [
          0.7886798472011699
         ]
        },
        {
         "hovertemplate": "Country=Iceland<br>PC1=%{x}<br>PC2=%{y}<br>PC3=%{z}<br>Overall rank=%{marker.size}<extra></extra>",
         "legendgroup": "Iceland",
         "marker": {
          "color": "#ab63fa",
          "size": [
           4
          ],
          "sizemode": "area",
          "sizeref": 0.385,
          "symbol": "circle"
         },
         "mode": "markers",
         "name": "Iceland",
         "scene": "scene",
         "showlegend": true,
         "type": "scatter3d",
         "x": [
          -3.2691812413898282
         ],
         "y": [
          0.9269429038452618
         ],
         "z": [
          -1.5526476407949845
         ]
        },
        {
         "hovertemplate": "Country=Netherlands<br>PC1=%{x}<br>PC2=%{y}<br>PC3=%{z}<br>Overall rank=%{marker.size}<extra></extra>",
         "legendgroup": "Netherlands",
         "marker": {
          "color": "#FFA15A",
          "size": [
           5
          ],
          "sizemode": "area",
          "sizeref": 0.385,
          "symbol": "circle"
         },
         "mode": "markers",
         "name": "Netherlands",
         "scene": "scene",
         "showlegend": true,
         "type": "scatter3d",
         "x": [
          -3.4736731208981624
         ],
         "y": [
          1.594224172081609
         ],
         "z": [
          0.20016892842620052
         ]
        },
        {
         "hovertemplate": "Country=Switzerland<br>PC1=%{x}<br>PC2=%{y}<br>PC3=%{z}<br>Overall rank=%{marker.size}<extra></extra>",
         "legendgroup": "Switzerland",
         "marker": {
          "color": "#19d3f3",
          "size": [
           6
          ],
          "sizemode": "area",
          "sizeref": 0.385,
          "symbol": "circle"
         },
         "mode": "markers",
         "name": "Switzerland",
         "scene": "scene",
         "showlegend": true,
         "type": "scatter3d",
         "x": [
          -3.7617766991009067
         ],
         "y": [
          1.356001655826834
         ],
         "z": [
          0.9116276628331854
         ]
        },
        {
         "hovertemplate": "Country=Sweden<br>PC1=%{x}<br>PC2=%{y}<br>PC3=%{z}<br>Overall rank=%{marker.size}<extra></extra>",
         "legendgroup": "Sweden",
         "marker": {
          "color": "#FF6692",
          "size": [
           7
          ],
          "sizemode": "area",
          "sizeref": 0.385,
          "symbol": "circle"
         },
         "mode": "markers",
         "name": "Sweden",
         "scene": "scene",
         "showlegend": true,
         "type": "scatter3d",
         "x": [
          -3.57099498814827
         ],
         "y": [
          1.6541120863180852
         ],
         "z": [
          1.174238174837451
         ]
        },
        {
         "hovertemplate": "Country=New Zealand<br>PC1=%{x}<br>PC2=%{y}<br>PC3=%{z}<br>Overall rank=%{marker.size}<extra></extra>",
         "legendgroup": "New Zealand",
         "marker": {
          "color": "#B6E880",
          "size": [
           8
          ],
          "sizemode": "area",
          "sizeref": 0.385,
          "symbol": "circle"
         },
         "mode": "markers",
         "name": "New Zealand",
         "scene": "scene",
         "showlegend": true,
         "type": "scatter3d",
         "x": [
          -3.6918845866035706
         ],
         "y": [
          2.1591645641820723
         ],
         "z": [
          0.7638670243725545
         ]
        },
        {
         "hovertemplate": "Country=Canada<br>PC1=%{x}<br>PC2=%{y}<br>PC3=%{z}<br>Overall rank=%{marker.size}<extra></extra>",
         "legendgroup": "Canada",
         "marker": {
          "color": "#FF97FF",
          "size": [
           9
          ],
          "sizemode": "area",
          "sizeref": 0.385,
          "symbol": "circle"
         },
         "mode": "markers",
         "name": "Canada",
         "scene": "scene",
         "showlegend": true,
         "type": "scatter3d",
         "x": [
          -3.457122859597621
         ],
         "y": [
          1.4627796429259108
         ],
         "z": [
          0.5188215541719773
         ]
        },
        {
         "hovertemplate": "Country=Austria<br>PC1=%{x}<br>PC2=%{y}<br>PC3=%{z}<br>Overall rank=%{marker.size}<extra></extra>",
         "legendgroup": "Austria",
         "marker": {
          "color": "#FECB52",
          "size": [
           10
          ],
          "sizemode": "area",
          "sizeref": 0.385,
          "symbol": "circle"
         },
         "mode": "markers",
         "name": "Austria",
         "scene": "scene",
         "showlegend": true,
         "type": "scatter3d",
         "x": [
          -2.9804692600773595
         ],
         "y": [
          0.6445024639893575
         ],
         "z": [
          0.16258858919634903
         ]
        },
        {
         "hovertemplate": "Country=Australia<br>PC1=%{x}<br>PC2=%{y}<br>PC3=%{z}<br>Overall rank=%{marker.size}<extra></extra>",
         "legendgroup": "Australia",
         "marker": {
          "color": "#636efa",
          "size": [
           11
          ],
          "sizemode": "area",
          "sizeref": 0.385,
          "symbol": "circle"
         },
         "mode": "markers",
         "name": "Australia",
         "scene": "scene",
         "showlegend": true,
         "type": "scatter3d",
         "x": [
          -3.4288123721306762
         ],
         "y": [
          1.5982600416328916
         ],
         "z": [
          0.05530647160158508
         ]
        },
        {
         "hovertemplate": "Country=Costa Rica<br>PC1=%{x}<br>PC2=%{y}<br>PC3=%{z}<br>Overall rank=%{marker.size}<extra></extra>",
         "legendgroup": "Costa Rica",
         "marker": {
          "color": "#EF553B",
          "size": [
           12
          ],
          "sizemode": "area",
          "sizeref": 0.385,
          "symbol": "circle"
         },
         "mode": "markers",
         "name": "Costa Rica",
         "scene": "scene",
         "showlegend": true,
         "type": "scatter3d",
         "x": [
          -1.9862581520223226
         ],
         "y": [
          -0.37123555842400646
         ],
         "z": [
          -0.2815651773699162
         ]
        },
        {
         "hovertemplate": "Country=Israel<br>PC1=%{x}<br>PC2=%{y}<br>PC3=%{z}<br>Overall rank=%{marker.size}<extra></extra>",
         "legendgroup": "Israel",
         "marker": {
          "color": "#00cc96",
          "size": [
           13
          ],
          "sizemode": "area",
          "sizeref": 0.385,
          "symbol": "circle"
         },
         "mode": "markers",
         "name": "Israel",
         "scene": "scene",
         "showlegend": true,
         "type": "scatter3d",
         "x": [
          -2.0378804269935515
         ],
         "y": [
          -0.34749206727290416
         ],
         "z": [
          -1.0427722313031837
         ]
        },
        {
         "hovertemplate": "Country=Luxembourg<br>PC1=%{x}<br>PC2=%{y}<br>PC3=%{z}<br>Overall rank=%{marker.size}<extra></extra>",
         "legendgroup": "Luxembourg",
         "marker": {
          "color": "#ab63fa",
          "size": [
           14
          ],
          "sizemode": "area",
          "sizeref": 0.385,
          "symbol": "circle"
         },
         "mode": "markers",
         "name": "Luxembourg",
         "scene": "scene",
         "showlegend": true,
         "type": "scatter3d",
         "x": [
          -3.3921206358492575
         ],
         "y": [
          0.5760594184580852
         ],
         "z": [
          1.2213445758574861
         ]
        },
        {
         "hovertemplate": "Country=United Kingdom<br>PC1=%{x}<br>PC2=%{y}<br>PC3=%{z}<br>Overall rank=%{marker.size}<extra></extra>",
         "legendgroup": "United Kingdom",
         "marker": {
          "color": "#FFA15A",
          "size": [
           15
          ],
          "sizemode": "area",
          "sizeref": 0.385,
          "symbol": "circle"
         },
         "mode": "markers",
         "name": "United Kingdom",
         "scene": "scene",
         "showlegend": true,
         "type": "scatter3d",
         "x": [
          -2.9409359773742296
         ],
         "y": [
          1.4173035423010838
         ],
         "z": [
          -0.08910386944046078
         ]
        },
        {
         "hovertemplate": "Country=Ireland<br>PC1=%{x}<br>PC2=%{y}<br>PC3=%{z}<br>Overall rank=%{marker.size}<extra></extra>",
         "legendgroup": "Ireland",
         "marker": {
          "color": "#19d3f3",
          "size": [
           16
          ],
          "sizemode": "area",
          "sizeref": 0.385,
          "symbol": "circle"
         },
         "mode": "markers",
         "name": "Ireland",
         "scene": "scene",
         "showlegend": true,
         "type": "scatter3d",
         "x": [
          -3.361996564625497
         ],
         "y": [
          1.2897580411895087
         ],
         "z": [
          0.46131787117147466
         ]
        },
        {
         "hovertemplate": "Country=Germany<br>PC1=%{x}<br>PC2=%{y}<br>PC3=%{z}<br>Overall rank=%{marker.size}<extra></extra>",
         "legendgroup": "Germany",
         "marker": {
          "color": "#FF6692",
          "size": [
           17
          ],
          "sizemode": "area",
          "sizeref": 0.385,
          "symbol": "circle"
         },
         "mode": "markers",
         "name": "Germany",
         "scene": "scene",
         "showlegend": true,
         "type": "scatter3d",
         "x": [
          -2.8098946925126
         ],
         "y": [
          0.9071360562082258
         ],
         "z": [
          0.420438994704096
         ]
        },
        {
         "hovertemplate": "Country=Belgium<br>PC1=%{x}<br>PC2=%{y}<br>PC3=%{z}<br>Overall rank=%{marker.size}<extra></extra>",
         "legendgroup": "Belgium",
         "marker": {
          "color": "#B6E880",
          "size": [
           18
          ],
          "sizemode": "area",
          "sizeref": 0.385,
          "symbol": "circle"
         },
         "mode": "markers",
         "name": "Belgium",
         "scene": "scene",
         "showlegend": true,
         "type": "scatter3d",
         "x": [
          -2.554573482830794
         ],
         "y": [
          -0.18135998182994267
         ],
         "z": [
          0.5596706380603842
         ]
        },
        {
         "hovertemplate": "Country=United States<br>PC1=%{x}<br>PC2=%{y}<br>PC3=%{z}<br>Overall rank=%{marker.size}<extra></extra>",
         "legendgroup": "United States",
         "marker": {
          "color": "#FF97FF",
          "size": [
           19
          ],
          "sizemode": "area",
          "sizeref": 0.385,
          "symbol": "circle"
         },
         "mode": "markers",
         "name": "United States",
         "scene": "scene",
         "showlegend": true,
         "type": "scatter3d",
         "x": [
          -2.162627276630271
         ],
         "y": [
          0.2968675901650119
         ],
         "z": [
          -0.7542908459860782
         ]
        },
        {
         "hovertemplate": "Country=Czech Republic<br>PC1=%{x}<br>PC2=%{y}<br>PC3=%{z}<br>Overall rank=%{marker.size}<extra></extra>",
         "legendgroup": "Czech Republic",
         "marker": {
          "color": "#FECB52",
          "size": [
           20
          ],
          "sizemode": "area",
          "sizeref": 0.385,
          "symbol": "circle"
         },
         "mode": "markers",
         "name": "Czech Republic",
         "scene": "scene",
         "showlegend": true,
         "type": "scatter3d",
         "x": [
          -1.6491430671982186
         ],
         "y": [
          -1.7901085854066332
         ],
         "z": [
          -0.1060232794318013
         ]
        },
        {
         "hovertemplate": "Country=United Arab Emirates<br>PC1=%{x}<br>PC2=%{y}<br>PC3=%{z}<br>Overall rank=%{marker.size}<extra></extra>",
         "legendgroup": "United Arab Emirates",
         "marker": {
          "color": "#636efa",
          "size": [
           21
          ],
          "sizemode": "area",
          "sizeref": 0.385,
          "symbol": "circle"
         },
         "mode": "markers",
         "name": "United Arab Emirates",
         "scene": "scene",
         "showlegend": true,
         "type": "scatter3d",
         "x": [
          -2.365968464314693
         ],
         "y": [
          0.9664283264994299
         ],
         "z": [
          -0.08530468453965942
         ]
        },
        {
         "hovertemplate": "Country=Malta<br>PC1=%{x}<br>PC2=%{y}<br>PC3=%{z}<br>Overall rank=%{marker.size}<extra></extra>",
         "legendgroup": "Malta",
         "marker": {
          "color": "#EF553B",
          "size": [
           22
          ],
          "sizemode": "area",
          "sizeref": 0.385,
          "symbol": "circle"
         },
         "mode": "markers",
         "name": "Malta",
         "scene": "scene",
         "showlegend": true,
         "type": "scatter3d",
         "x": [
          -2.666341828103684
         ],
         "y": [
          1.3459841412842035
         ],
         "z": [
          -1.2686631019111587
         ]
        },
        {
         "hovertemplate": "Country=Mexico<br>PC1=%{x}<br>PC2=%{y}<br>PC3=%{z}<br>Overall rank=%{marker.size}<extra></extra>",
         "legendgroup": "Mexico",
         "marker": {
          "color": "#00cc96",
          "size": [
           23
          ],
          "sizemode": "area",
          "sizeref": 0.385,
          "symbol": "circle"
         },
         "mode": "markers",
         "name": "Mexico",
         "scene": "scene",
         "showlegend": true,
         "type": "scatter3d",
         "x": [
          -0.9930471375409567
         ],
         "y": [
          -1.159214053870326
         ],
         "z": [
          0.18878240665667462
         ]
        },
        {
         "hovertemplate": "Country=France<br>PC1=%{x}<br>PC2=%{y}<br>PC3=%{z}<br>Overall rank=%{marker.size}<extra></extra>",
         "legendgroup": "France",
         "marker": {
          "color": "#ab63fa",
          "size": [
           24
          ],
          "sizemode": "area",
          "sizeref": 0.385,
          "symbol": "circle"
         },
         "mode": "markers",
         "name": "France",
         "scene": "scene",
         "showlegend": true,
         "type": "scatter3d",
         "x": [
          -2.2335788543366233
         ],
         "y": [
          -0.7687170024456864
         ],
         "z": [
          0.6891467272239611
         ]
        },
        {
         "hovertemplate": "Country=Chile<br>PC1=%{x}<br>PC2=%{y}<br>PC3=%{z}<br>Overall rank=%{marker.size}<extra></extra>",
         "legendgroup": "Chile",
         "marker": {
          "color": "#FFA15A",
          "size": [
           26
          ],
          "sizemode": "area",
          "sizeref": 0.385,
          "symbol": "circle"
         },
         "mode": "markers",
         "name": "Chile",
         "scene": "scene",
         "showlegend": true,
         "type": "scatter3d",
         "x": [
          -1.083328907763806
         ],
         "y": [
          -0.7909623751104321
         ],
         "z": [
          -0.6608115378827851
         ]
        },
        {
         "hovertemplate": "Country=Guatemala<br>PC1=%{x}<br>PC2=%{y}<br>PC3=%{z}<br>Overall rank=%{marker.size}<extra></extra>",
         "legendgroup": "Guatemala",
         "marker": {
          "color": "#19d3f3",
          "size": [
           27
          ],
          "sizemode": "area",
          "sizeref": 0.385,
          "symbol": "circle"
         },
         "mode": "markers",
         "name": "Guatemala",
         "scene": "scene",
         "showlegend": true,
         "type": "scatter3d",
         "x": [
          -0.622342483502607
         ],
         "y": [
          0.2026268272275081
         ],
         "z": [
          -0.3604789986459654
         ]
        },
        {
         "hovertemplate": "Country=Saudi Arabia<br>PC1=%{x}<br>PC2=%{y}<br>PC3=%{z}<br>Overall rank=%{marker.size}<extra></extra>",
         "legendgroup": "Saudi Arabia",
         "marker": {
          "color": "#FF6692",
          "size": [
           28
          ],
          "sizemode": "area",
          "sizeref": 0.385,
          "symbol": "circle"
         },
         "mode": "markers",
         "name": "Saudi Arabia",
         "scene": "scene",
         "showlegend": true,
         "type": "scatter3d",
         "x": [
          -1.4102114134287473
         ],
         "y": [
          -0.9792720287856537
         ],
         "z": [
          0.6484553334252766
         ]
        },
        {
         "hovertemplate": "Country=Spain<br>PC1=%{x}<br>PC2=%{y}<br>PC3=%{z}<br>Overall rank=%{marker.size}<extra></extra>",
         "legendgroup": "Spain",
         "marker": {
          "color": "#B6E880",
          "size": [
           30
          ],
          "sizemode": "area",
          "sizeref": 0.385,
          "symbol": "circle"
         },
         "mode": "markers",
         "name": "Spain",
         "scene": "scene",
         "showlegend": true,
         "type": "scatter3d",
         "x": [
          -1.7026361278649538
         ],
         "y": [
          -1.1937094945594735
         ],
         "z": [
          -0.3887211961567788
         ]
        },
        {
         "hovertemplate": "Country=Panama<br>PC1=%{x}<br>PC2=%{y}<br>PC3=%{z}<br>Overall rank=%{marker.size}<extra></extra>",
         "legendgroup": "Panama",
         "marker": {
          "color": "#FF97FF",
          "size": [
           31
          ],
          "sizemode": "area",
          "sizeref": 0.385,
          "symbol": "circle"
         },
         "mode": "markers",
         "name": "Panama",
         "scene": "scene",
         "showlegend": true,
         "type": "scatter3d",
         "x": [
          -1.4197003167250644
         ],
         "y": [
          -0.9397881203753147
         ],
         "z": [
          -0.2992869614157805
         ]
        },
        {
         "hovertemplate": "Country=Brazil<br>PC1=%{x}<br>PC2=%{y}<br>PC3=%{z}<br>Overall rank=%{marker.size}<extra></extra>",
         "legendgroup": "Brazil",
         "marker": {
          "color": "#FECB52",
          "size": [
           32
          ],
          "sizemode": "area",
          "sizeref": 0.385,
          "symbol": "circle"
         },
         "mode": "markers",
         "name": "Brazil",
         "scene": "scene",
         "showlegend": true,
         "type": "scatter3d",
         "x": [
          -0.809586215604218
         ],
         "y": [
          -1.0258075621343232
         ],
         "z": [
          0.06034573766868471
         ]
        },
        {
         "hovertemplate": "Country=Uruguay<br>PC1=%{x}<br>PC2=%{y}<br>PC3=%{z}<br>Overall rank=%{marker.size}<extra></extra>",
         "legendgroup": "Uruguay",
         "marker": {
          "color": "#636efa",
          "size": [
           33
          ],
          "sizemode": "area",
          "sizeref": 0.385,
          "symbol": "circle"
         },
         "mode": "markers",
         "name": "Uruguay",
         "scene": "scene",
         "showlegend": true,
         "type": "scatter3d",
         "x": [
          -1.677233064851801
         ],
         "y": [
          -0.29364591734401124
         ],
         "z": [
          0.33845393075750313
         ]
        },
        {
         "hovertemplate": "Country=Singapore<br>PC1=%{x}<br>PC2=%{y}<br>PC3=%{z}<br>Overall rank=%{marker.size}<extra></extra>",
         "legendgroup": "Singapore",
         "marker": {
          "color": "#EF553B",
          "size": [
           34
          ],
          "sizemode": "area",
          "sizeref": 0.385,
          "symbol": "circle"
         },
         "mode": "markers",
         "name": "Singapore",
         "scene": "scene",
         "showlegend": true,
         "type": "scatter3d",
         "x": [
          -3.7241287196585295
         ],
         "y": [
          1.8557718836640291
         ],
         "z": [
          1.8740818695604982
         ]
        },
        {
         "hovertemplate": "Country=El Salvador<br>PC1=%{x}<br>PC2=%{y}<br>PC3=%{z}<br>Overall rank=%{marker.size}<extra></extra>",
         "legendgroup": "El Salvador",
         "marker": {
          "color": "#00cc96",
          "size": [
           35
          ],
          "sizemode": "area",
          "sizeref": 0.385,
          "symbol": "circle"
         },
         "mode": "markers",
         "name": "El Salvador",
         "scene": "scene",
         "showlegend": true,
         "type": "scatter3d",
         "x": [
          -0.25409154145422097
         ],
         "y": [
          -0.7138385404768778
         ],
         "z": [
          0.16517835182347995
         ]
        },
        {
         "hovertemplate": "Country=Italy<br>PC1=%{x}<br>PC2=%{y}<br>PC3=%{z}<br>Overall rank=%{marker.size}<extra></extra>",
         "legendgroup": "Italy",
         "marker": {
          "color": "#ab63fa",
          "size": [
           36
          ],
          "sizemode": "area",
          "sizeref": 0.385,
          "symbol": "circle"
         },
         "mode": "markers",
         "name": "Italy",
         "scene": "scene",
         "showlegend": true,
         "type": "scatter3d",
         "x": [
          -1.1764377076987467
         ],
         "y": [
          -1.765224769655185
         ],
         "z": [
          -0.7707082131906275
         ]
        },
        {
         "hovertemplate": "Country=Bahrain<br>PC1=%{x}<br>PC2=%{y}<br>PC3=%{z}<br>Overall rank=%{marker.size}<extra></extra>",
         "legendgroup": "Bahrain",
         "marker": {
          "color": "#FFA15A",
          "size": [
           37
          ],
          "sizemode": "area",
          "sizeref": 0.385,
          "symbol": "circle"
         },
         "mode": "markers",
         "name": "Bahrain",
         "scene": "scene",
         "showlegend": true,
         "type": "scatter3d",
         "x": [
          -1.7495318476009387
         ],
         "y": [
          0.4038379246878085
         ],
         "z": [
          -0.6459694339820367
         ]
        },
        {
         "hovertemplate": "Country=Slovakia<br>PC1=%{x}<br>PC2=%{y}<br>PC3=%{z}<br>Overall rank=%{marker.size}<extra></extra>",
         "legendgroup": "Slovakia",
         "marker": {
          "color": "#19d3f3",
          "size": [
           38
          ],
          "sizemode": "area",
          "sizeref": 0.385,
          "symbol": "circle"
         },
         "mode": "markers",
         "name": "Slovakia",
         "scene": "scene",
         "showlegend": true,
         "type": "scatter3d",
         "x": [
          -0.995945118875777
         ],
         "y": [
          -1.6600531527390088
         ],
         "z": [
          -0.685865876028943
         ]
        },
        {
         "hovertemplate": "Country=Poland<br>PC1=%{x}<br>PC2=%{y}<br>PC3=%{z}<br>Overall rank=%{marker.size}<extra></extra>",
         "legendgroup": "Poland",
         "marker": {
          "color": "#FF6692",
          "size": [
           40
          ],
          "sizemode": "area",
          "sizeref": 0.385,
          "symbol": "circle"
         },
         "mode": "markers",
         "name": "Poland",
         "scene": "scene",
         "showlegend": true,
         "type": "scatter3d",
         "x": [
          -1.2890881492572204
         ],
         "y": [
          -1.0041693942599812
         ],
         "z": [
          -0.3498816590929023
         ]
        },
        {
         "hovertemplate": "Country=Uzbekistan<br>PC1=%{x}<br>PC2=%{y}<br>PC3=%{z}<br>Overall rank=%{marker.size}<extra></extra>",
         "legendgroup": "Uzbekistan",
         "marker": {
          "color": "#B6E880",
          "size": [
           41
          ],
          "sizemode": "area",
          "sizeref": 0.385,
          "symbol": "circle"
         },
         "mode": "markers",
         "name": "Uzbekistan",
         "scene": "scene",
         "showlegend": true,
         "type": "scatter3d",
         "x": [
          -1.666719476127334
         ],
         "y": [
          2.180281645407035
         ],
         "z": [
          -0.23124135557123138
         ]
        },
        {
         "hovertemplate": "Country=Lithuania<br>PC1=%{x}<br>PC2=%{y}<br>PC3=%{z}<br>Overall rank=%{marker.size}<extra></extra>",
         "legendgroup": "Lithuania",
         "marker": {
          "color": "#FF97FF",
          "size": [
           42
          ],
          "sizemode": "area",
          "sizeref": 0.385,
          "symbol": "circle"
         },
         "mode": "markers",
         "name": "Lithuania",
         "scene": "scene",
         "showlegend": true,
         "type": "scatter3d",
         "x": [
          -0.7780089107313292
         ],
         "y": [
          -2.150918704971909
         ],
         "z": [
          0.03188944829788835
         ]
        },
        {
         "hovertemplate": "Country=Colombia<br>PC1=%{x}<br>PC2=%{y}<br>PC3=%{z}<br>Overall rank=%{marker.size}<extra></extra>",
         "legendgroup": "Colombia",
         "marker": {
          "color": "#FECB52",
          "size": [
           43
          ],
          "sizemode": "area",
          "sizeref": 0.385,
          "symbol": "circle"
         },
         "mode": "markers",
         "name": "Colombia",
         "scene": "scene",
         "showlegend": true,
         "type": "scatter3d",
         "x": [
          -0.7807234098590115
         ],
         "y": [
          -1.0488844661853403
         ],
         "z": [
          -0.34753032612262597
         ]
        },
        {
         "hovertemplate": "Country=Slovenia<br>PC1=%{x}<br>PC2=%{y}<br>PC3=%{z}<br>Overall rank=%{marker.size}<extra></extra>",
         "legendgroup": "Slovenia",
         "marker": {
          "color": "#636efa",
          "size": [
           44
          ],
          "sizemode": "area",
          "sizeref": 0.385,
          "symbol": "circle"
         },
         "mode": "markers",
         "name": "Slovenia",
         "scene": "scene",
         "showlegend": true,
         "type": "scatter3d",
         "x": [
          -1.8217658672334247
         ],
         "y": [
          -0.6979485565205036
         ],
         "z": [
          -0.5658331112910031
         ]
        },
        {
         "hovertemplate": "Country=Nicaragua<br>PC1=%{x}<br>PC2=%{y}<br>PC3=%{z}<br>Overall rank=%{marker.size}<extra></extra>",
         "legendgroup": "Nicaragua",
         "marker": {
          "color": "#EF553B",
          "size": [
           45
          ],
          "sizemode": "area",
          "sizeref": 0.385,
          "symbol": "circle"
         },
         "mode": "markers",
         "name": "Nicaragua",
         "scene": "scene",
         "showlegend": true,
         "type": "scatter3d",
         "x": [
          -0.5326707207851639
         ],
         "y": [
          0.2994418543370911
         ],
         "z": [
          -0.15843930906161796
         ]
        },
        {
         "hovertemplate": "Country=Kosovo<br>PC1=%{x}<br>PC2=%{y}<br>PC3=%{z}<br>Overall rank=%{marker.size}<extra></extra>",
         "legendgroup": "Kosovo",
         "marker": {
          "color": "#00cc96",
          "size": [
           46
          ],
          "sizemode": "area",
          "sizeref": 0.385,
          "symbol": "circle"
         },
         "mode": "markers",
         "name": "Kosovo",
         "scene": "scene",
         "showlegend": true,
         "type": "scatter3d",
         "x": [
          -0.29696179730598693
         ],
         "y": [
          0.3100477040876475
         ],
         "z": [
          -1.3998212448202374
         ]
        },
        {
         "hovertemplate": "Country=Argentina<br>PC1=%{x}<br>PC2=%{y}<br>PC3=%{z}<br>Overall rank=%{marker.size}<extra></extra>",
         "legendgroup": "Argentina",
         "marker": {
          "color": "#ab63fa",
          "size": [
           47
          ],
          "sizemode": "area",
          "sizeref": 0.385,
          "symbol": "circle"
         },
         "mode": "markers",
         "name": "Argentina",
         "scene": "scene",
         "showlegend": true,
         "type": "scatter3d",
         "x": [
          -1.0263064895870597
         ],
         "y": [
          -1.3209432328868789
         ],
         "z": [
          -0.03281364018806358
         ]
        },
        {
         "hovertemplate": "Country=Romania<br>PC1=%{x}<br>PC2=%{y}<br>PC3=%{z}<br>Overall rank=%{marker.size}<extra></extra>",
         "legendgroup": "Romania",
         "marker": {
          "color": "#FFA15A",
          "size": [
           48
          ],
          "sizemode": "area",
          "sizeref": 0.385,
          "symbol": "circle"
         },
         "mode": "markers",
         "name": "Romania",
         "scene": "scene",
         "showlegend": true,
         "type": "scatter3d",
         "x": [
          -0.5453515269495677
         ],
         "y": [
          -1.2923905287230342
         ],
         "z": [
          -0.2849482488487809
         ]
        },
        {
         "hovertemplate": "Country=Cyprus<br>PC1=%{x}<br>PC2=%{y}<br>PC3=%{z}<br>Overall rank=%{marker.size}<extra></extra>",
         "legendgroup": "Cyprus",
         "marker": {
          "color": "#19d3f3",
          "size": [
           49
          ],
          "sizemode": "area",
          "sizeref": 0.385,
          "symbol": "circle"
         },
         "mode": "markers",
         "name": "Cyprus",
         "scene": "scene",
         "showlegend": true,
         "type": "scatter3d",
         "x": [
          -1.1140676720491758
         ],
         "y": [
          -0.7479095137492955
         ],
         "z": [
          -0.6611539329005884
         ]
        },
        {
         "hovertemplate": "Country=Ecuador<br>PC1=%{x}<br>PC2=%{y}<br>PC3=%{z}<br>Overall rank=%{marker.size}<extra></extra>",
         "legendgroup": "Ecuador",
         "marker": {
          "color": "#FF6692",
          "size": [
           50
          ],
          "sizemode": "area",
          "sizeref": 0.385,
          "symbol": "circle"
         },
         "mode": "markers",
         "name": "Ecuador",
         "scene": "scene",
         "showlegend": true,
         "type": "scatter3d",
         "x": [
          -0.7827490172070312
         ],
         "y": [
          -0.4058004563799537
         ],
         "z": [
          -0.008002745197379745
         ]
        },
        {
         "hovertemplate": "Country=Kuwait<br>PC1=%{x}<br>PC2=%{y}<br>PC3=%{z}<br>Overall rank=%{marker.size}<extra></extra>",
         "legendgroup": "Kuwait",
         "marker": {
          "color": "#B6E880",
          "size": [
           51
          ],
          "sizemode": "area",
          "sizeref": 0.385,
          "symbol": "circle"
         },
         "mode": "markers",
         "name": "Kuwait",
         "scene": "scene",
         "showlegend": true,
         "type": "scatter3d",
         "x": [
          -1.414129493138035
         ],
         "y": [
          -0.5865810115978646
         ],
         "z": [
          0.03768192782211831
         ]
        },
        {
         "hovertemplate": "Country=Thailand<br>PC1=%{x}<br>PC2=%{y}<br>PC3=%{z}<br>Overall rank=%{marker.size}<extra></extra>",
         "legendgroup": "Thailand",
         "marker": {
          "color": "#FF97FF",
          "size": [
           52
          ],
          "sizemode": "area",
          "sizeref": 0.385,
          "symbol": "circle"
         },
         "mode": "markers",
         "name": "Thailand",
         "scene": "scene",
         "showlegend": true,
         "type": "scatter3d",
         "x": [
          -1.1712463862703226
         ],
         "y": [
          1.0105245053316207
         ],
         "z": [
          -1.9980821367907935
         ]
        },
        {
         "hovertemplate": "Country=Latvia<br>PC1=%{x}<br>PC2=%{y}<br>PC3=%{z}<br>Overall rank=%{marker.size}<extra></extra>",
         "legendgroup": "Latvia",
         "marker": {
          "color": "#FECB52",
          "size": [
           53
          ],
          "sizemode": "area",
          "sizeref": 0.385,
          "symbol": "circle"
         },
         "mode": "markers",
         "name": "Latvia",
         "scene": "scene",
         "showlegend": true,
         "type": "scatter3d",
         "x": [
          -0.5579841863249483
         ],
         "y": [
          -1.805273556444413
         ],
         "z": [
          0.07465964489067842
         ]
        },
        {
         "hovertemplate": "Country=South Korea<br>PC1=%{x}<br>PC2=%{y}<br>PC3=%{z}<br>Overall rank=%{marker.size}<extra></extra>",
         "legendgroup": "South Korea",
         "marker": {
          "color": "#636efa",
          "size": [
           54
          ],
          "sizemode": "area",
          "sizeref": 0.385,
          "symbol": "circle"
         },
         "mode": "markers",
         "name": "South Korea",
         "scene": "scene",
         "showlegend": true,
         "type": "scatter3d",
         "x": [
          -0.5279477175970972
         ],
         "y": [
          -1.5029545793255943
         ],
         "z": [
          -0.36993475115725494
         ]
        },
        {
         "hovertemplate": "Country=Estonia<br>PC1=%{x}<br>PC2=%{y}<br>PC3=%{z}<br>Overall rank=%{marker.size}<extra></extra>",
         "legendgroup": "Estonia",
         "marker": {
          "color": "#EF553B",
          "size": [
           55
          ],
          "sizemode": "area",
          "sizeref": 0.385,
          "symbol": "circle"
         },
         "mode": "markers",
         "name": "Estonia",
         "scene": "scene",
         "showlegend": true,
         "type": "scatter3d",
         "x": [
          -1.6524196368446735
         ],
         "y": [
          -0.5846158543752975
         ],
         "z": [
          0.5579068912135572
         ]
        },
        {
         "hovertemplate": "Country=Jamaica<br>PC1=%{x}<br>PC2=%{y}<br>PC3=%{z}<br>Overall rank=%{marker.size}<extra></extra>",
         "legendgroup": "Jamaica",
         "marker": {
          "color": "#00cc96",
          "size": [
           56
          ],
          "sizemode": "area",
          "sizeref": 0.385,
          "symbol": "circle"
         },
         "mode": "markers",
         "name": "Jamaica",
         "scene": "scene",
         "showlegend": true,
         "type": "scatter3d",
         "x": [
          -0.6166010479319157
         ],
         "y": [
          -0.9013888402130754
         ],
         "z": [
          -0.5146849783584232
         ]
        },
        {
         "hovertemplate": "Country=Mauritius<br>PC1=%{x}<br>PC2=%{y}<br>PC3=%{z}<br>Overall rank=%{marker.size}<extra></extra>",
         "legendgroup": "Mauritius",
         "marker": {
          "color": "#ab63fa",
          "size": [
           57
          ],
          "sizemode": "area",
          "sizeref": 0.385,
          "symbol": "circle"
         },
         "mode": "markers",
         "name": "Mauritius",
         "scene": "scene",
         "showlegend": true,
         "type": "scatter3d",
         "x": [
          -0.9738494339073287
         ],
         "y": [
          -0.04161875812709321
         ],
         "z": [
          -0.8160015382387746
         ]
        },
        {
         "hovertemplate": "Country=Japan<br>PC1=%{x}<br>PC2=%{y}<br>PC3=%{z}<br>Overall rank=%{marker.size}<extra></extra>",
         "legendgroup": "Japan",
         "marker": {
          "color": "#FFA15A",
          "size": [
           58
          ],
          "sizemode": "area",
          "sizeref": 0.385,
          "symbol": "circle"
         },
         "mode": "markers",
         "name": "Japan",
         "scene": "scene",
         "showlegend": true,
         "type": "scatter3d",
         "x": [
          -1.79521811600123
         ],
         "y": [
          -1.233538606828763
         ],
         "z": [
          0.6843357783137833
         ]
        },
        {
         "hovertemplate": "Country=Honduras<br>PC1=%{x}<br>PC2=%{y}<br>PC3=%{z}<br>Overall rank=%{marker.size}<extra></extra>",
         "legendgroup": "Honduras",
         "marker": {
          "color": "#19d3f3",
          "size": [
           59
          ],
          "sizemode": "area",
          "sizeref": 0.385,
          "symbol": "circle"
         },
         "mode": "markers",
         "name": "Honduras",
         "scene": "scene",
         "showlegend": true,
         "type": "scatter3d",
         "x": [
          -0.27542556358968223
         ],
         "y": [
          0.7075124959219488
         ],
         "z": [
          -0.7556458337541321
         ]
        },
        {
         "hovertemplate": "Country=Kazakhstan<br>PC1=%{x}<br>PC2=%{y}<br>PC3=%{z}<br>Overall rank=%{marker.size}<extra></extra>",
         "legendgroup": "Kazakhstan",
         "marker": {
          "color": "#FF6692",
          "size": [
           60
          ],
          "sizemode": "area",
          "sizeref": 0.385,
          "symbol": "circle"
         },
         "mode": "markers",
         "name": "Kazakhstan",
         "scene": "scene",
         "showlegend": true,
         "type": "scatter3d",
         "x": [
          -0.879271786237759
         ],
         "y": [
          -0.6640244012633285
         ],
         "z": [
          -0.16075037399367237
         ]
        },
        {
         "hovertemplate": "Country=Bolivia<br>PC1=%{x}<br>PC2=%{y}<br>PC3=%{z}<br>Overall rank=%{marker.size}<extra></extra>",
         "legendgroup": "Bolivia",
         "marker": {
          "color": "#B6E880",
          "size": [
           61
          ],
          "sizemode": "area",
          "sizeref": 0.385,
          "symbol": "circle"
         },
         "mode": "markers",
         "name": "Bolivia",
         "scene": "scene",
         "showlegend": true,
         "type": "scatter3d",
         "x": [
          -0.00912702599835395
         ],
         "y": [
          -0.09121770847033604
         ],
         "z": [
          -0.13223704633395586
         ]
        },
        {
         "hovertemplate": "Country=Hungary<br>PC1=%{x}<br>PC2=%{y}<br>PC3=%{z}<br>Overall rank=%{marker.size}<extra></extra>",
         "legendgroup": "Hungary",
         "marker": {
          "color": "#FF97FF",
          "size": [
           62
          ],
          "sizemode": "area",
          "sizeref": 0.385,
          "symbol": "circle"
         },
         "mode": "markers",
         "name": "Hungary",
         "scene": "scene",
         "showlegend": true,
         "type": "scatter3d",
         "x": [
          -0.16798123746224677
         ],
         "y": [
          -2.144121074946077
         ],
         "z": [
          -0.23692301497663582
         ]
        },
        {
         "hovertemplate": "Country=Paraguay<br>PC1=%{x}<br>PC2=%{y}<br>PC3=%{z}<br>Overall rank=%{marker.size}<extra></extra>",
         "legendgroup": "Paraguay",
         "marker": {
          "color": "#FECB52",
          "size": [
           63
          ],
          "sizemode": "area",
          "sizeref": 0.385,
          "symbol": "circle"
         },
         "mode": "markers",
         "name": "Paraguay",
         "scene": "scene",
         "showlegend": true,
         "type": "scatter3d",
         "x": [
          -0.7349829014428128
         ],
         "y": [
          0.018754348874588562
         ],
         "z": [
          -0.5529671027913107
         ]
        },
        {
         "hovertemplate": "Country=Peru<br>PC1=%{x}<br>PC2=%{y}<br>PC3=%{z}<br>Overall rank=%{marker.size}<extra></extra>",
         "legendgroup": "Peru",
         "marker": {
          "color": "#636efa",
          "size": [
           65
          ],
          "sizemode": "area",
          "sizeref": 0.385,
          "symbol": "circle"
         },
         "mode": "markers",
         "name": "Peru",
         "scene": "scene",
         "showlegend": true,
         "type": "scatter3d",
         "x": [
          -0.3061525148546388
         ],
         "y": [
          -1.1173291870554982
         ],
         "z": [
          -0.150929944022601
         ]
        },
        {
         "hovertemplate": "Country=Portugal<br>PC1=%{x}<br>PC2=%{y}<br>PC3=%{z}<br>Overall rank=%{marker.size}<extra></extra>",
         "legendgroup": "Portugal",
         "marker": {
          "color": "#EF553B",
          "size": [
           66
          ],
          "sizemode": "area",
          "sizeref": 0.385,
          "symbol": "circle"
         },
         "mode": "markers",
         "name": "Portugal",
         "scene": "scene",
         "showlegend": true,
         "type": "scatter3d",
         "x": [
          -1.2377070049507466
         ],
         "y": [
          -1.6454721850076146
         ],
         "z": [
          -0.11167758148226235
         ]
        },
        {
         "hovertemplate": "Country=Pakistan<br>PC1=%{x}<br>PC2=%{y}<br>PC3=%{z}<br>Overall rank=%{marker.size}<extra></extra>",
         "legendgroup": "Pakistan",
         "marker": {
          "color": "#00cc96",
          "size": [
           67
          ],
          "sizemode": "area",
          "sizeref": 0.385,
          "symbol": "circle"
         },
         "mode": "markers",
         "name": "Pakistan",
         "scene": "scene",
         "showlegend": true,
         "type": "scatter3d",
         "x": [
          1.3093402852327383
         ],
         "y": [
          0.5679053918132602
         ],
         "z": [
          0.020206506894292306
         ]
        },
        {
         "hovertemplate": "Country=Russia<br>PC1=%{x}<br>PC2=%{y}<br>PC3=%{z}<br>Overall rank=%{marker.size}<extra></extra>",
         "legendgroup": "Russia",
         "marker": {
          "color": "#ab63fa",
          "size": [
           68
          ],
          "sizemode": "area",
          "sizeref": 0.385,
          "symbol": "circle"
         },
         "mode": "markers",
         "name": "Russia",
         "scene": "scene",
         "showlegend": true,
         "type": "scatter3d",
         "x": [
          -0.31604911411065667
         ],
         "y": [
          -1.6230966502695034
         ],
         "z": [
          -0.20487540700466525
         ]
        },
        {
         "hovertemplate": "Country=Philippines<br>PC1=%{x}<br>PC2=%{y}<br>PC3=%{z}<br>Overall rank=%{marker.size}<extra></extra>",
         "legendgroup": "Philippines",
         "marker": {
          "color": "#FFA15A",
          "size": [
           69
          ],
          "sizemode": "area",
          "sizeref": 0.385,
          "symbol": "circle"
         },
         "mode": "markers",
         "name": "Philippines",
         "scene": "scene",
         "showlegend": true,
         "type": "scatter3d",
         "x": [
          -0.2356896812727643
         ],
         "y": [
          0.07826091796000817
         ],
         "z": [
          0.26372076259760635
         ]
        },
        {
         "hovertemplate": "Country=Serbia<br>PC1=%{x}<br>PC2=%{y}<br>PC3=%{z}<br>Overall rank=%{marker.size}<extra></extra>",
         "legendgroup": "Serbia",
         "marker": {
          "color": "#19d3f3",
          "size": [
           70
          ],
          "sizemode": "area",
          "sizeref": 0.385,
          "symbol": "circle"
         },
         "mode": "markers",
         "name": "Serbia",
         "scene": "scene",
         "showlegend": true,
         "type": "scatter3d",
         "x": [
          -0.16123004138449665
         ],
         "y": [
          -1.2777249464967932
         ],
         "z": [
          -0.4385950003504672
         ]
        },
        {
         "hovertemplate": "Country=Moldova<br>PC1=%{x}<br>PC2=%{y}<br>PC3=%{z}<br>Overall rank=%{marker.size}<extra></extra>",
         "legendgroup": "Moldova",
         "marker": {
          "color": "#FF6692",
          "size": [
           71
          ],
          "sizemode": "area",
          "sizeref": 0.385,
          "symbol": "circle"
         },
         "mode": "markers",
         "name": "Moldova",
         "scene": "scene",
         "showlegend": true,
         "type": "scatter3d",
         "x": [
          0.72679143234573
         ],
         "y": [
          -0.9164801031264858
         ],
         "z": [
          -0.9645122785763746
         ]
        },
        {
         "hovertemplate": "Country=Libya<br>PC1=%{x}<br>PC2=%{y}<br>PC3=%{z}<br>Overall rank=%{marker.size}<extra></extra>",
         "legendgroup": "Libya",
         "marker": {
          "color": "#B6E880",
          "size": [
           72
          ],
          "sizemode": "area",
          "sizeref": 0.385,
          "symbol": "circle"
         },
         "mode": "markers",
         "name": "Libya",
         "scene": "scene",
         "showlegend": true,
         "type": "scatter3d",
         "x": [
          -0.3285105704813188
         ],
         "y": [
          -0.1602869269321671
         ],
         "z": [
          0.5780494871758591
         ]
        },
        {
         "hovertemplate": "Country=Montenegro<br>PC1=%{x}<br>PC2=%{y}<br>PC3=%{z}<br>Overall rank=%{marker.size}<extra></extra>",
         "legendgroup": "Montenegro",
         "marker": {
          "color": "#FF97FF",
          "size": [
           73
          ],
          "sizemode": "area",
          "sizeref": 0.385,
          "symbol": "circle"
         },
         "mode": "markers",
         "name": "Montenegro",
         "scene": "scene",
         "showlegend": true,
         "type": "scatter3d",
         "x": [
          -0.10097223638367542
         ],
         "y": [
          -1.3060492739844765
         ],
         "z": [
          -0.09242389848773427
         ]
        },
        {
         "hovertemplate": "Country=Tajikistan<br>PC1=%{x}<br>PC2=%{y}<br>PC3=%{z}<br>Overall rank=%{marker.size}<extra></extra>",
         "legendgroup": "Tajikistan",
         "marker": {
          "color": "#FECB52",
          "size": [
           74
          ],
          "sizemode": "area",
          "sizeref": 0.385,
          "symbol": "circle"
         },
         "mode": "markers",
         "name": "Tajikistan",
         "scene": "scene",
         "showlegend": true,
         "type": "scatter3d",
         "x": [
          0.6098661144078805
         ],
         "y": [
          0.8933367255221581
         ],
         "z": [
          0.06272756512528127
         ]
        },
        {
         "hovertemplate": "Country=Croatia<br>PC1=%{x}<br>PC2=%{y}<br>PC3=%{z}<br>Overall rank=%{marker.size}<extra></extra>",
         "legendgroup": "Croatia",
         "marker": {
          "color": "#636efa",
          "size": [
           75
          ],
          "sizemode": "area",
          "sizeref": 0.385,
          "symbol": "circle"
         },
         "mode": "markers",
         "name": "Croatia",
         "scene": "scene",
         "showlegend": true,
         "type": "scatter3d",
         "x": [
          -0.1703605992438853
         ],
         "y": [
          -1.5034970913815062
         ],
         "z": [
          -0.3419230648429706
         ]
        },
        {
         "hovertemplate": "Country=Dominican Republic<br>PC1=%{x}<br>PC2=%{y}<br>PC3=%{z}<br>Overall rank=%{marker.size}<extra></extra>",
         "legendgroup": "Dominican Republic",
         "marker": {
          "color": "#EF553B",
          "size": [
           77
          ],
          "sizemode": "area",
          "sizeref": 0.385,
          "symbol": "circle"
         },
         "mode": "markers",
         "name": "Dominican Republic",
         "scene": "scene",
         "showlegend": true,
         "type": "scatter3d",
         "x": [
          -0.6398475118062623
         ],
         "y": [
          -0.4705091474312333
         ],
         "z": [
          0.16064798978604553
         ]
        },
        {
         "hovertemplate": "Country=Bosnia and Herzegovina<br>PC1=%{x}<br>PC2=%{y}<br>PC3=%{z}<br>Overall rank=%{marker.size}<extra></extra>",
         "legendgroup": "Bosnia and Herzegovina",
         "marker": {
          "color": "#00cc96",
          "size": [
           78
          ],
          "sizemode": "area",
          "sizeref": 0.385,
          "symbol": "circle"
         },
         "mode": "markers",
         "name": "Bosnia and Herzegovina",
         "scene": "scene",
         "showlegend": true,
         "type": "scatter3d",
         "x": [
          0.4510588415517432
         ],
         "y": [
          -0.5559831516634998
         ],
         "z": [
          -1.2868598663435369
         ]
        },
        {
         "hovertemplate": "Country=Turkey<br>PC1=%{x}<br>PC2=%{y}<br>PC3=%{z}<br>Overall rank=%{marker.size}<extra></extra>",
         "legendgroup": "Turkey",
         "marker": {
          "color": "#ab63fa",
          "size": [
           79
          ],
          "sizemode": "area",
          "sizeref": 0.385,
          "symbol": "circle"
         },
         "mode": "markers",
         "name": "Turkey",
         "scene": "scene",
         "showlegend": true,
         "type": "scatter3d",
         "x": [
          -0.09423504183279724
         ],
         "y": [
          -1.6297000754178412
         ],
         "z": [
          0.5134703116914755
         ]
        },
        {
         "hovertemplate": "Country=Malaysia<br>PC1=%{x}<br>PC2=%{y}<br>PC3=%{z}<br>Overall rank=%{marker.size}<extra></extra>",
         "legendgroup": "Malaysia",
         "marker": {
          "color": "#FFA15A",
          "size": [
           80
          ],
          "sizemode": "area",
          "sizeref": 0.385,
          "symbol": "circle"
         },
         "mode": "markers",
         "name": "Malaysia",
         "scene": "scene",
         "showlegend": true,
         "type": "scatter3d",
         "x": [
          -0.5057130488262853
         ],
         "y": [
          0.2362838107962424
         ],
         "z": [
          -1.1253452585114143
         ]
        },
        {
         "hovertemplate": "Country=Belarus<br>PC1=%{x}<br>PC2=%{y}<br>PC3=%{z}<br>Overall rank=%{marker.size}<extra></extra>",
         "legendgroup": "Belarus",
         "marker": {
          "color": "#19d3f3",
          "size": [
           81
          ],
          "sizemode": "area",
          "sizeref": 0.385,
          "symbol": "circle"
         },
         "mode": "markers",
         "name": "Belarus",
         "scene": "scene",
         "showlegend": true,
         "type": "scatter3d",
         "x": [
          -0.265225165620373
         ],
         "y": [
          -1.2439844334340393
         ],
         "z": [
          0.6186534646011812
         ]
        },
        {
         "hovertemplate": "Country=Greece<br>PC1=%{x}<br>PC2=%{y}<br>PC3=%{z}<br>Overall rank=%{marker.size}<extra></extra>",
         "legendgroup": "Greece",
         "marker": {
          "color": "#FF6692",
          "size": [
           82
          ],
          "sizemode": "area",
          "sizeref": 0.385,
          "symbol": "circle"
         },
         "mode": "markers",
         "name": "Greece",
         "scene": "scene",
         "showlegend": true,
         "type": "scatter3d",
         "x": [
          0.4674015710182546
         ],
         "y": [
          -2.95570387437933
         ],
         "z": [
          0.6428851702785118
         ]
        },
        {
         "hovertemplate": "Country=Mongolia<br>PC1=%{x}<br>PC2=%{y}<br>PC3=%{z}<br>Overall rank=%{marker.size}<extra></extra>",
         "legendgroup": "Mongolia",
         "marker": {
          "color": "#B6E880",
          "size": [
           83
          ],
          "sizemode": "area",
          "sizeref": 0.385,
          "symbol": "circle"
         },
         "mode": "markers",
         "name": "Mongolia",
         "scene": "scene",
         "showlegend": true,
         "type": "scatter3d",
         "x": [
          0.01583423772527523
         ],
         "y": [
          -0.3874664692146851
         ],
         "z": [
          -1.1512948967209715
         ]
        },
        {
         "hovertemplate": "Country=North Macedonia<br>PC1=%{x}<br>PC2=%{y}<br>PC3=%{z}<br>Overall rank=%{marker.size}<extra></extra>",
         "legendgroup": "North Macedonia",
         "marker": {
          "color": "#FF97FF",
          "size": [
           84
          ],
          "sizemode": "area",
          "sizeref": 0.385,
          "symbol": "circle"
         },
         "mode": "markers",
         "name": "North Macedonia",
         "scene": "scene",
         "showlegend": true,
         "type": "scatter3d",
         "x": [
          0.00851147357440828
         ],
         "y": [
          -0.6699449584906708
         ],
         "z": [
          -0.6835987871552506
         ]
        },
        {
         "hovertemplate": "Country=Nigeria<br>PC1=%{x}<br>PC2=%{y}<br>PC3=%{z}<br>Overall rank=%{marker.size}<extra></extra>",
         "legendgroup": "Nigeria",
         "marker": {
          "color": "#FECB52",
          "size": [
           85
          ],
          "sizemode": "area",
          "sizeref": 0.385,
          "symbol": "circle"
         },
         "mode": "markers",
         "name": "Nigeria",
         "scene": "scene",
         "showlegend": true,
         "type": "scatter3d",
         "x": [
          1.558023279834486
         ],
         "y": [
          0.6457598002195641
         ],
         "z": [
          -0.5709821947574624
         ]
        },
        {
         "hovertemplate": "Country=Kyrgyzstan<br>PC1=%{x}<br>PC2=%{y}<br>PC3=%{z}<br>Overall rank=%{marker.size}<extra></extra>",
         "legendgroup": "Kyrgyzstan",
         "marker": {
          "color": "#636efa",
          "size": [
           86
          ],
          "sizemode": "area",
          "sizeref": 0.385,
          "symbol": "circle"
         },
         "mode": "markers",
         "name": "Kyrgyzstan",
         "scene": "scene",
         "showlegend": true,
         "type": "scatter3d",
         "x": [
          0.08900266188598886
         ],
         "y": [
          0.8335326220355903
         ],
         "z": [
          -1.676987802455637
         ]
        },
        {
         "hovertemplate": "Country=Turkmenistan<br>PC1=%{x}<br>PC2=%{y}<br>PC3=%{z}<br>Overall rank=%{marker.size}<extra></extra>",
         "legendgroup": "Turkmenistan",
         "marker": {
          "color": "#EF553B",
          "size": [
           87
          ],
          "sizemode": "area",
          "sizeref": 0.385,
          "symbol": "circle"
         },
         "mode": "markers",
         "name": "Turkmenistan",
         "scene": "scene",
         "showlegend": true,
         "type": "scatter3d",
         "x": [
          -0.24425776528547957
         ],
         "y": [
          -0.21357970140884272
         ],
         "z": [
          -1.298328312450832
         ]
        },
        {
         "hovertemplate": "Country=Algeria<br>PC1=%{x}<br>PC2=%{y}<br>PC3=%{z}<br>Overall rank=%{marker.size}<extra></extra>",
         "legendgroup": "Algeria",
         "marker": {
          "color": "#00cc96",
          "size": [
           88
          ],
          "sizemode": "area",
          "sizeref": 0.385,
          "symbol": "circle"
         },
         "mode": "markers",
         "name": "Algeria",
         "scene": "scene",
         "showlegend": true,
         "type": "scatter3d",
         "x": [
          0.7964493599106385
         ],
         "y": [
          -1.6792645382913358
         ],
         "z": [
          0.854487203965163
         ]
        },
        {
         "hovertemplate": "Country=Morocco<br>PC1=%{x}<br>PC2=%{y}<br>PC3=%{z}<br>Overall rank=%{marker.size}<extra></extra>",
         "legendgroup": "Morocco",
         "marker": {
          "color": "#ab63fa",
          "size": [
           89
          ],
          "sizemode": "area",
          "sizeref": 0.385,
          "symbol": "circle"
         },
         "mode": "markers",
         "name": "Morocco",
         "scene": "scene",
         "showlegend": true,
         "type": "scatter3d",
         "x": [
          1.0021303111634874
         ],
         "y": [
          -0.7544312936291792
         ],
         "z": [
          1.0393194423733987
         ]
        },
        {
         "hovertemplate": "Country=Azerbaijan<br>PC1=%{x}<br>PC2=%{y}<br>PC3=%{z}<br>Overall rank=%{marker.size}<extra></extra>",
         "legendgroup": "Azerbaijan",
         "marker": {
          "color": "#FFA15A",
          "size": [
           90
          ],
          "sizemode": "area",
          "sizeref": 0.385,
          "symbol": "circle"
         },
         "mode": "markers",
         "name": "Azerbaijan",
         "scene": "scene",
         "showlegend": true,
         "type": "scatter3d",
         "x": [
          0.01745963967771822
         ],
         "y": [
          -0.8497806327079711
         ],
         "z": [
          1.5868140873956313
         ]
        },
        {
         "hovertemplate": "Country=Lebanon<br>PC1=%{x}<br>PC2=%{y}<br>PC3=%{z}<br>Overall rank=%{marker.size}<extra></extra>",
         "legendgroup": "Lebanon",
         "marker": {
          "color": "#19d3f3",
          "size": [
           91
          ],
          "sizemode": "area",
          "sizeref": 0.385,
          "symbol": "circle"
         },
         "mode": "markers",
         "name": "Lebanon",
         "scene": "scene",
         "showlegend": true,
         "type": "scatter3d",
         "x": [
          0.5290282861464713
         ],
         "y": [
          -1.139129339236828
         ],
         "z": [
          -0.5143731933157948
         ]
        },
        {
         "hovertemplate": "Country=Indonesia<br>PC1=%{x}<br>PC2=%{y}<br>PC3=%{z}<br>Overall rank=%{marker.size}<extra></extra>",
         "legendgroup": "Indonesia",
         "marker": {
          "color": "#FF6692",
          "size": [
           92
          ],
          "sizemode": "area",
          "sizeref": 0.385,
          "symbol": "circle"
         },
         "mode": "markers",
         "name": "Indonesia",
         "scene": "scene",
         "showlegend": true,
         "type": "scatter3d",
         "x": [
          0.024646761324034896
         ],
         "y": [
          2.223920410551523
         ],
         "z": [
          -2.5700542469015315
         ]
        },
        {
         "hovertemplate": "Country=China<br>PC1=%{x}<br>PC2=%{y}<br>PC3=%{z}<br>Overall rank=%{marker.size}<extra></extra>",
         "legendgroup": "China",
         "marker": {
          "color": "#B6E880",
          "size": [
           93
          ],
          "sizemode": "area",
          "sizeref": 0.385,
          "symbol": "circle"
         },
         "mode": "markers",
         "name": "China",
         "scene": "scene",
         "showlegend": true,
         "type": "scatter3d",
         "x": [
          -0.34803849237799245
         ],
         "y": [
          -0.6855310149765473
         ],
         "z": [
          0.7432913841190245
         ]
        },
        {
         "hovertemplate": "Country=Vietnam<br>PC1=%{x}<br>PC2=%{y}<br>PC3=%{z}<br>Overall rank=%{marker.size}<extra></extra>",
         "legendgroup": "Vietnam",
         "marker": {
          "color": "#FF97FF",
          "size": [
           94
          ],
          "sizemode": "area",
          "sizeref": 0.385,
          "symbol": "circle"
         },
         "mode": "markers",
         "name": "Vietnam",
         "scene": "scene",
         "showlegend": true,
         "type": "scatter3d",
         "x": [
          -0.3070292283647398
         ],
         "y": [
          -0.06919409451855545
         ],
         "z": [
          -0.25718463544324854
         ]
        },
        {
         "hovertemplate": "Country=Cameroon<br>PC1=%{x}<br>PC2=%{y}<br>PC3=%{z}<br>Overall rank=%{marker.size}<extra></extra>",
         "legendgroup": "Cameroon",
         "marker": {
          "color": "#FECB52",
          "size": [
           96
          ],
          "sizemode": "area",
          "sizeref": 0.385,
          "symbol": "circle"
         },
         "mode": "markers",
         "name": "Cameroon",
         "scene": "scene",
         "showlegend": true,
         "type": "scatter3d",
         "x": [
          2.122877447393111
         ],
         "y": [
          0.4792390519901991
         ],
         "z": [
          -0.24443597737317274
         ]
        },
        {
         "hovertemplate": "Country=Bulgaria<br>PC1=%{x}<br>PC2=%{y}<br>PC3=%{z}<br>Overall rank=%{marker.size}<extra></extra>",
         "legendgroup": "Bulgaria",
         "marker": {
          "color": "#636efa",
          "size": [
           97
          ],
          "sizemode": "area",
          "sizeref": 0.385,
          "symbol": "circle"
         },
         "mode": "markers",
         "name": "Bulgaria",
         "scene": "scene",
         "showlegend": true,
         "type": "scatter3d",
         "x": [
          -0.06524276597974213
         ],
         "y": [
          -1.8753176244244982
         ],
         "z": [
          -0.45695268104850095
         ]
        },
        {
         "hovertemplate": "Country=Ghana<br>PC1=%{x}<br>PC2=%{y}<br>PC3=%{z}<br>Overall rank=%{marker.size}<extra></extra>",
         "legendgroup": "Ghana",
         "marker": {
          "color": "#EF553B",
          "size": [
           98
          ],
          "sizemode": "area",
          "sizeref": 0.385,
          "symbol": "circle"
         },
         "mode": "markers",
         "name": "Ghana",
         "scene": "scene",
         "showlegend": true,
         "type": "scatter3d",
         "x": [
          1.7831499331420837
         ],
         "y": [
          0.7723829778108438
         ],
         "z": [
          -0.5569166994218885
         ]
        },
        {
         "hovertemplate": "Country=Ivory Coast<br>PC1=%{x}<br>PC2=%{y}<br>PC3=%{z}<br>Overall rank=%{marker.size}<extra></extra>",
         "legendgroup": "Ivory Coast",
         "marker": {
          "color": "#00cc96",
          "size": [
           99
          ],
          "sizemode": "area",
          "sizeref": 0.385,
          "symbol": "circle"
         },
         "mode": "markers",
         "name": "Ivory Coast",
         "scene": "scene",
         "showlegend": true,
         "type": "scatter3d",
         "x": [
          2.4392326776419253
         ],
         "y": [
          0.5787983316682531
         ],
         "z": [
          0.5149246330075774
         ]
        },
        {
         "hovertemplate": "Country=Nepal<br>PC1=%{x}<br>PC2=%{y}<br>PC3=%{z}<br>Overall rank=%{marker.size}<extra></extra>",
         "legendgroup": "Nepal",
         "marker": {
          "color": "#ab63fa",
          "size": [
           100
          ],
          "sizemode": "area",
          "sizeref": 0.385,
          "symbol": "circle"
         },
         "mode": "markers",
         "name": "Nepal",
         "scene": "scene",
         "showlegend": true,
         "type": "scatter3d",
         "x": [
          0.7797021690475627
         ],
         "y": [
          1.140646754060088
         ],
         "z": [
          -0.8162229949742827
         ]
        },
        {
         "hovertemplate": "Country=Jordan<br>PC1=%{x}<br>PC2=%{y}<br>PC3=%{z}<br>Overall rank=%{marker.size}<extra></extra>",
         "legendgroup": "Jordan",
         "marker": {
          "color": "#FFA15A",
          "size": [
           101
          ],
          "sizemode": "area",
          "sizeref": 0.385,
          "symbol": "circle"
         },
         "mode": "markers",
         "name": "Jordan",
         "scene": "scene",
         "showlegend": true,
         "type": "scatter3d",
         "x": [
          0.19882820922836938
         ],
         "y": [
          -0.43779441369836813
         ],
         "z": [
          0.6149126635160136
         ]
        },
        {
         "hovertemplate": "Country=Benin<br>PC1=%{x}<br>PC2=%{y}<br>PC3=%{z}<br>Overall rank=%{marker.size}<extra></extra>",
         "legendgroup": "Benin",
         "marker": {
          "color": "#19d3f3",
          "size": [
           102
          ],
          "sizemode": "area",
          "sizeref": 0.385,
          "symbol": "circle"
         },
         "mode": "markers",
         "name": "Benin",
         "scene": "scene",
         "showlegend": true,
         "type": "scatter3d",
         "x": [
          2.9605508781369383
         ],
         "y": [
          0.9421123765831936
         ],
         "z": [
          0.6343006333377139
         ]
        },
        {
         "hovertemplate": "Country=Congo (Brazzaville)<br>PC1=%{x}<br>PC2=%{y}<br>PC3=%{z}<br>Overall rank=%{marker.size}<extra></extra>",
         "legendgroup": "Congo (Brazzaville)",
         "marker": {
          "color": "#FF6692",
          "size": [
           103
          ],
          "sizemode": "area",
          "sizeref": 0.385,
          "symbol": "circle"
         },
         "mode": "markers",
         "name": "Congo (Brazzaville)",
         "scene": "scene",
         "showlegend": true,
         "type": "scatter3d",
         "x": [
          1.8368239611032307
         ],
         "y": [
          0.0092287227750201
         ],
         "z": [
          0.8091486213236365
         ]
        },
        {
         "hovertemplate": "Country=Gabon<br>PC1=%{x}<br>PC2=%{y}<br>PC3=%{z}<br>Overall rank=%{marker.size}<extra></extra>",
         "legendgroup": "Gabon",
         "marker": {
          "color": "#B6E880",
          "size": [
           104
          ],
          "sizemode": "area",
          "sizeref": 0.385,
          "symbol": "circle"
         },
         "mode": "markers",
         "name": "Gabon",
         "scene": "scene",
         "showlegend": true,
         "type": "scatter3d",
         "x": [
          0.9855121688734024
         ],
         "y": [
          -1.4449006470580519
         ],
         "z": [
          0.5617497279196979
         ]
        },
        {
         "hovertemplate": "Country=Laos<br>PC1=%{x}<br>PC2=%{y}<br>PC3=%{z}<br>Overall rank=%{marker.size}<extra></extra>",
         "legendgroup": "Laos",
         "marker": {
          "color": "#FF97FF",
          "size": [
           105
          ],
          "sizemode": "area",
          "sizeref": 0.385,
          "symbol": "circle"
         },
         "mode": "markers",
         "name": "Laos",
         "scene": "scene",
         "showlegend": true,
         "type": "scatter3d",
         "x": [
          0.5506609940115934
         ],
         "y": [
          1.7508296736700966
         ],
         "z": [
          0.125060435036451
         ]
        },
        {
         "hovertemplate": "Country=South Africa<br>PC1=%{x}<br>PC2=%{y}<br>PC3=%{z}<br>Overall rank=%{marker.size}<extra></extra>",
         "legendgroup": "South Africa",
         "marker": {
          "color": "#FECB52",
          "size": [
           106
          ],
          "sizemode": "area",
          "sizeref": 0.385,
          "symbol": "circle"
         },
         "mode": "markers",
         "name": "South Africa",
         "scene": "scene",
         "showlegend": true,
         "type": "scatter3d",
         "x": [
          0.7789756894627333
         ],
         "y": [
          -0.5283371059132832
         ],
         "z": [
          -0.14335840706042288
         ]
        },
        {
         "hovertemplate": "Country=Albania<br>PC1=%{x}<br>PC2=%{y}<br>PC3=%{z}<br>Overall rank=%{marker.size}<extra></extra>",
         "legendgroup": "Albania",
         "marker": {
          "color": "#636efa",
          "size": [
           107
          ],
          "sizemode": "area",
          "sizeref": 0.385,
          "symbol": "circle"
         },
         "mode": "markers",
         "name": "Albania",
         "scene": "scene",
         "showlegend": true,
         "type": "scatter3d",
         "x": [
          0.8667396121979262
         ],
         "y": [
          -0.2894194578033753
         ],
         "z": [
          -0.2554371377335439
         ]
        },
        {
         "hovertemplate": "Country=Venezuela<br>PC1=%{x}<br>PC2=%{y}<br>PC3=%{z}<br>Overall rank=%{marker.size}<extra></extra>",
         "legendgroup": "Venezuela",
         "marker": {
          "color": "#EF553B",
          "size": [
           108
          ],
          "sizemode": "area",
          "sizeref": 0.385,
          "symbol": "circle"
         },
         "mode": "markers",
         "name": "Venezuela",
         "scene": "scene",
         "showlegend": true,
         "type": "scatter3d",
         "x": [
          0.6425024226741708
         ],
         "y": [
          -2.0638582123281233
         ],
         "z": [
          0.12044231469832514
         ]
        },
        {
         "hovertemplate": "Country=Cambodia<br>PC1=%{x}<br>PC2=%{y}<br>PC3=%{z}<br>Overall rank=%{marker.size}<extra></extra>",
         "legendgroup": "Cambodia",
         "marker": {
          "color": "#00cc96",
          "size": [
           109
          ],
          "sizemode": "area",
          "sizeref": 0.385,
          "symbol": "circle"
         },
         "mode": "markers",
         "name": "Cambodia",
         "scene": "scene",
         "showlegend": true,
         "type": "scatter3d",
         "x": [
          0.678748031243115
         ],
         "y": [
          1.1545456513737242
         ],
         "z": [
          -0.6167718901034928
         ]
        },
        {
         "hovertemplate": "Country=Palestinian Territories<br>PC1=%{x}<br>PC2=%{y}<br>PC3=%{z}<br>Overall rank=%{marker.size}<extra></extra>",
         "legendgroup": "Palestinian Territories",
         "marker": {
          "color": "#ab63fa",
          "size": [
           110
          ],
          "sizemode": "area",
          "sizeref": 0.385,
          "symbol": "circle"
         },
         "mode": "markers",
         "name": "Palestinian Territories",
         "scene": "scene",
         "showlegend": true,
         "type": "scatter3d",
         "x": [
          1.3040233218241335
         ],
         "y": [
          -1.036668666021387
         ],
         "z": [
          0.18478941491085463
         ]
        },
        {
         "hovertemplate": "Country=Senegal<br>PC1=%{x}<br>PC2=%{y}<br>PC3=%{z}<br>Overall rank=%{marker.size}<extra></extra>",
         "legendgroup": "Senegal",
         "marker": {
          "color": "#FFA15A",
          "size": [
           111
          ],
          "sizemode": "area",
          "sizeref": 0.385,
          "symbol": "circle"
         },
         "mode": "markers",
         "name": "Senegal",
         "scene": "scene",
         "showlegend": true,
         "type": "scatter3d",
         "x": [
          1.7210506877259204
         ],
         "y": [
          -0.14795268606574866
         ],
         "z": [
          0.017479574703194434
         ]
        },
        {
         "hovertemplate": "Country=Namibia<br>PC1=%{x}<br>PC2=%{y}<br>PC3=%{z}<br>Overall rank=%{marker.size}<extra></extra>",
         "legendgroup": "Namibia",
         "marker": {
          "color": "#19d3f3",
          "size": [
           113
          ],
          "sizemode": "area",
          "sizeref": 0.385,
          "symbol": "circle"
         },
         "mode": "markers",
         "name": "Namibia",
         "scene": "scene",
         "showlegend": true,
         "type": "scatter3d",
         "x": [
          0.9736457901641357
         ],
         "y": [
          -0.8417206688887041
         ],
         "z": [
          0.262215302500895
         ]
        },
        {
         "hovertemplate": "Country=Niger<br>PC1=%{x}<br>PC2=%{y}<br>PC3=%{z}<br>Overall rank=%{marker.size}<extra></extra>",
         "legendgroup": "Niger",
         "marker": {
          "color": "#FF6692",
          "size": [
           114
          ],
          "sizemode": "area",
          "sizeref": 0.385,
          "symbol": "circle"
         },
         "mode": "markers",
         "name": "Niger",
         "scene": "scene",
         "showlegend": true,
         "type": "scatter3d",
         "x": [
          2.9128400606474463
         ],
         "y": [
          0.9840579419912179
         ],
         "z": [
          0.39406121632640345
         ]
        },
        {
         "hovertemplate": "Country=Burkina Faso<br>PC1=%{x}<br>PC2=%{y}<br>PC3=%{z}<br>Overall rank=%{marker.size}<extra></extra>",
         "legendgroup": "Burkina Faso",
         "marker": {
          "color": "#B6E880",
          "size": [
           115
          ],
          "sizemode": "area",
          "sizeref": 0.385,
          "symbol": "circle"
         },
         "mode": "markers",
         "name": "Burkina Faso",
         "scene": "scene",
         "showlegend": true,
         "type": "scatter3d",
         "x": [
          2.3498942990864515
         ],
         "y": [
          0.4260822413397731
         ],
         "z": [
          0.31288266728102737
         ]
        },
        {
         "hovertemplate": "Country=Armenia<br>PC1=%{x}<br>PC2=%{y}<br>PC3=%{z}<br>Overall rank=%{marker.size}<extra></extra>",
         "legendgroup": "Armenia",
         "marker": {
          "color": "#FF97FF",
          "size": [
           116
          ],
          "sizemode": "area",
          "sizeref": 0.385,
          "symbol": "circle"
         },
         "mode": "markers",
         "name": "Armenia",
         "scene": "scene",
         "showlegend": true,
         "type": "scatter3d",
         "x": [
          1.0350477139993153
         ],
         "y": [
          -1.0295558077594724
         ],
         "z": [
          0.3878176223865923
         ]
        },
        {
         "hovertemplate": "Country=Iran<br>PC1=%{x}<br>PC2=%{y}<br>PC3=%{z}<br>Overall rank=%{marker.size}<extra></extra>",
         "legendgroup": "Iran",
         "marker": {
          "color": "#FECB52",
          "size": [
           117
          ],
          "sizemode": "area",
          "sizeref": 0.385,
          "symbol": "circle"
         },
         "mode": "markers",
         "name": "Iran",
         "scene": "scene",
         "showlegend": true,
         "type": "scatter3d",
         "x": [
          0.7732105620274843
         ],
         "y": [
          0.6253780312943752
         ],
         "z": [
          0.03168738186908333
         ]
        },
        {
         "hovertemplate": "Country=Guinea<br>PC1=%{x}<br>PC2=%{y}<br>PC3=%{z}<br>Overall rank=%{marker.size}<extra></extra>",
         "legendgroup": "Guinea",
         "marker": {
          "color": "#636efa",
          "size": [
           118
          ],
          "sizemode": "area",
          "sizeref": 0.385,
          "symbol": "circle"
         },
         "mode": "markers",
         "name": "Guinea",
         "scene": "scene",
         "showlegend": true,
         "type": "scatter3d",
         "x": [
          2.5546700709457664
         ],
         "y": [
          0.8780300519796989
         ],
         "z": [
          0.12014220532709474
         ]
        },
        {
         "hovertemplate": "Country=Georgia<br>PC1=%{x}<br>PC2=%{y}<br>PC3=%{z}<br>Overall rank=%{marker.size}<extra></extra>",
         "legendgroup": "Georgia",
         "marker": {
          "color": "#EF553B",
          "size": [
           119
          ],
          "sizemode": "area",
          "sizeref": 0.385,
          "symbol": "circle"
         },
         "mode": "markers",
         "name": "Georgia",
         "scene": "scene",
         "showlegend": true,
         "type": "scatter3d",
         "x": [
          1.357751644729756
         ],
         "y": [
          -0.38626615793508645
         ],
         "z": [
          1.8849845222496453
         ]
        },
        {
         "hovertemplate": "Country=Gambia<br>PC1=%{x}<br>PC2=%{y}<br>PC3=%{z}<br>Overall rank=%{marker.size}<extra></extra>",
         "legendgroup": "Gambia",
         "marker": {
          "color": "#00cc96",
          "size": [
           120
          ],
          "sizemode": "area",
          "sizeref": 0.385,
          "symbol": "circle"
         },
         "mode": "markers",
         "name": "Gambia",
         "scene": "scene",
         "showlegend": true,
         "type": "scatter3d",
         "x": [
          1.9803041483497221
         ],
         "y": [
          1.78942963188137
         ],
         "z": [
          0.25413926372127704
         ]
        },
        {
         "hovertemplate": "Country=Kenya<br>PC1=%{x}<br>PC2=%{y}<br>PC3=%{z}<br>Overall rank=%{marker.size}<extra></extra>",
         "legendgroup": "Kenya",
         "marker": {
          "color": "#ab63fa",
          "size": [
           121
          ],
          "sizemode": "area",
          "sizeref": 0.385,
          "symbol": "circle"
         },
         "mode": "markers",
         "name": "Kenya",
         "scene": "scene",
         "showlegend": true,
         "type": "scatter3d",
         "x": [
          1.4978514241214522
         ],
         "y": [
          1.8022977084971432
         ],
         "z": [
          -1.3555113359985644
         ]
        },
        {
         "hovertemplate": "Country=Mauritania<br>PC1=%{x}<br>PC2=%{y}<br>PC3=%{z}<br>Overall rank=%{marker.size}<extra></extra>",
         "legendgroup": "Mauritania",
         "marker": {
          "color": "#FFA15A",
          "size": [
           122
          ],
          "sizemode": "area",
          "sizeref": 0.385,
          "symbol": "circle"
         },
         "mode": "markers",
         "name": "Mauritania",
         "scene": "scene",
         "showlegend": true,
         "type": "scatter3d",
         "x": [
          2.2864629141700186
         ],
         "y": [
          -1.0820708497932199
         ],
         "z": [
          0.4972832071896822
         ]
        },
        {
         "hovertemplate": "Country=Mozambique<br>PC1=%{x}<br>PC2=%{y}<br>PC3=%{z}<br>Overall rank=%{marker.size}<extra></extra>",
         "legendgroup": "Mozambique",
         "marker": {
          "color": "#19d3f3",
          "size": [
           123
          ],
          "sizemode": "area",
          "sizeref": 0.385,
          "symbol": "circle"
         },
         "mode": "markers",
         "name": "Mozambique",
         "scene": "scene",
         "showlegend": true,
         "type": "scatter3d",
         "x": [
          2.0018967231784806
         ],
         "y": [
          1.514692794223908
         ],
         "z": [
          0.39097438127106016
         ]
        },
        {
         "hovertemplate": "Country=Tunisia<br>PC1=%{x}<br>PC2=%{y}<br>PC3=%{z}<br>Overall rank=%{marker.size}<extra></extra>",
         "legendgroup": "Tunisia",
         "marker": {
          "color": "#FF6692",
          "size": [
           124
          ],
          "sizemode": "area",
          "sizeref": 0.385,
          "symbol": "circle"
         },
         "mode": "markers",
         "name": "Tunisia",
         "scene": "scene",
         "showlegend": true,
         "type": "scatter3d",
         "x": [
          1.4042259439428102
         ],
         "y": [
          -1.6667672695765343
         ],
         "z": [
          0.6312123633670663
         ]
        },
        {
         "hovertemplate": "Country=Bangladesh<br>PC1=%{x}<br>PC2=%{y}<br>PC3=%{z}<br>Overall rank=%{marker.size}<extra></extra>",
         "legendgroup": "Bangladesh",
         "marker": {
          "color": "#B6E880",
          "size": [
           125
          ],
          "sizemode": "area",
          "sizeref": 0.385,
          "symbol": "circle"
         },
         "mode": "markers",
         "name": "Bangladesh",
         "scene": "scene",
         "showlegend": true,
         "type": "scatter3d",
         "x": [
          0.9570377549892162
         ],
         "y": [
          0.9439369678548302
         ],
         "z": [
          0.6414940818165648
         ]
        },
        {
         "hovertemplate": "Country=Iraq<br>PC1=%{x}<br>PC2=%{y}<br>PC3=%{z}<br>Overall rank=%{marker.size}<extra></extra>",
         "legendgroup": "Iraq",
         "marker": {
          "color": "#FF97FF",
          "size": [
           126
          ],
          "sizemode": "area",
          "sizeref": 0.385,
          "symbol": "circle"
         },
         "mode": "markers",
         "name": "Iraq",
         "scene": "scene",
         "showlegend": true,
         "type": "scatter3d",
         "x": [
          1.4249651998442963
         ],
         "y": [
          -0.5011003990003372
         ],
         "z": [
          0.4168127052605169
         ]
        },
        {
         "hovertemplate": "Country=Mali<br>PC1=%{x}<br>PC2=%{y}<br>PC3=%{z}<br>Overall rank=%{marker.size}<extra></extra>",
         "legendgroup": "Mali",
         "marker": {
          "color": "#FECB52",
          "size": [
           128
          ],
          "sizemode": "area",
          "sizeref": 0.385,
          "symbol": "circle"
         },
         "mode": "markers",
         "name": "Mali",
         "scene": "scene",
         "showlegend": true,
         "type": "scatter3d",
         "x": [
          2.4534097830925745
         ],
         "y": [
          0.1508909511675257
         ],
         "z": [
          -0.06320791504324107
         ]
        },
        {
         "hovertemplate": "Country=Sierra Leone<br>PC1=%{x}<br>PC2=%{y}<br>PC3=%{z}<br>Overall rank=%{marker.size}<extra></extra>",
         "legendgroup": "Sierra Leone",
         "marker": {
          "color": "#636efa",
          "size": [
           129
          ],
          "sizemode": "area",
          "sizeref": 0.385,
          "symbol": "circle"
         },
         "mode": "markers",
         "name": "Sierra Leone",
         "scene": "scene",
         "showlegend": true,
         "type": "scatter3d",
         "x": [
          3.131028833276054
         ],
         "y": [
          1.1102982600593554
         ],
         "z": [
          -0.4672029700511588
         ]
        },
        {
         "hovertemplate": "Country=Sri Lanka<br>PC1=%{x}<br>PC2=%{y}<br>PC3=%{z}<br>Overall rank=%{marker.size}<extra></extra>",
         "legendgroup": "Sri Lanka",
         "marker": {
          "color": "#EF553B",
          "size": [
           130
          ],
          "sizemode": "area",
          "sizeref": 0.385,
          "symbol": "circle"
         },
         "mode": "markers",
         "name": "Sri Lanka",
         "scene": "scene",
         "showlegend": true,
         "type": "scatter3d",
         "x": [
          0.13030245726201695
         ],
         "y": [
          0.25929241662061164
         ],
         "z": [
          -0.8944567095760926
         ]
        },
        {
         "hovertemplate": "Country=Myanmar<br>PC1=%{x}<br>PC2=%{y}<br>PC3=%{z}<br>Overall rank=%{marker.size}<extra></extra>",
         "legendgroup": "Myanmar",
         "marker": {
          "color": "#00cc96",
          "size": [
           131
          ],
          "sizemode": "area",
          "sizeref": 0.385,
          "symbol": "circle"
         },
         "mode": "markers",
         "name": "Myanmar",
         "scene": "scene",
         "showlegend": true,
         "type": "scatter3d",
         "x": [
          0.35483175337161504
         ],
         "y": [
          3.808198607618222
         ],
         "z": [
          -1.7745069011275314
         ]
        },
        {
         "hovertemplate": "Country=Chad<br>PC1=%{x}<br>PC2=%{y}<br>PC3=%{z}<br>Overall rank=%{marker.size}<extra></extra>",
         "legendgroup": "Chad",
         "marker": {
          "color": "#ab63fa",
          "size": [
           132
          ],
          "sizemode": "area",
          "sizeref": 0.385,
          "symbol": "circle"
         },
         "mode": "markers",
         "name": "Chad",
         "scene": "scene",
         "showlegend": true,
         "type": "scatter3d",
         "x": [
          3.5230839478735354
         ],
         "y": [
          0.5485003031879625
         ],
         "z": [
          0.2536293311006598
         ]
        },
        {
         "hovertemplate": "Country=Ukraine<br>PC1=%{x}<br>PC2=%{y}<br>PC3=%{z}<br>Overall rank=%{marker.size}<extra></extra>",
         "legendgroup": "Ukraine",
         "marker": {
          "color": "#FFA15A",
          "size": [
           133
          ],
          "sizemode": "area",
          "sizeref": 0.385,
          "symbol": "circle"
         },
         "mode": "markers",
         "name": "Ukraine",
         "scene": "scene",
         "showlegend": true,
         "type": "scatter3d",
         "x": [
          1.1128719450977265
         ],
         "y": [
          -1.1107226581662775
         ],
         "z": [
          -0.8816241338621842
         ]
        },
        {
         "hovertemplate": "Country=Ethiopia<br>PC1=%{x}<br>PC2=%{y}<br>PC3=%{z}<br>Overall rank=%{marker.size}<extra></extra>",
         "legendgroup": "Ethiopia",
         "marker": {
          "color": "#19d3f3",
          "size": [
           134
          ],
          "sizemode": "area",
          "sizeref": 0.385,
          "symbol": "circle"
         },
         "mode": "markers",
         "name": "Ethiopia",
         "scene": "scene",
         "showlegend": true,
         "type": "scatter3d",
         "x": [
          2.022030852451983
         ],
         "y": [
          0.7418321430130903
         ],
         "z": [
          0.0011712107771491345
         ]
        },
        {
         "hovertemplate": "Country=Swaziland<br>PC1=%{x}<br>PC2=%{y}<br>PC3=%{z}<br>Overall rank=%{marker.size}<extra></extra>",
         "legendgroup": "Swaziland",
         "marker": {
          "color": "#FF6692",
          "size": [
           135
          ],
          "sizemode": "area",
          "sizeref": 0.385,
          "symbol": "circle"
         },
         "mode": "markers",
         "name": "Swaziland",
         "scene": "scene",
         "showlegend": true,
         "type": "scatter3d",
         "x": [
          2.4016749514772346
         ],
         "y": [
          -0.07841258949625002
         ],
         "z": [
          1.158995420164359
         ]
        },
        {
         "hovertemplate": "Country=Uganda<br>PC1=%{x}<br>PC2=%{y}<br>PC3=%{z}<br>Overall rank=%{marker.size}<extra></extra>",
         "legendgroup": "Uganda",
         "marker": {
          "color": "#B6E880",
          "size": [
           136
          ],
          "sizemode": "area",
          "sizeref": 0.385,
          "symbol": "circle"
         },
         "mode": "markers",
         "name": "Uganda",
         "scene": "scene",
         "showlegend": true,
         "type": "scatter3d",
         "x": [
          2.2344800755580567
         ],
         "y": [
          0.9380691400198434
         ],
         "z": [
          -0.5990830235357787
         ]
        },
        {
         "hovertemplate": "Country=Egypt<br>PC1=%{x}<br>PC2=%{y}<br>PC3=%{z}<br>Overall rank=%{marker.size}<extra></extra>",
         "legendgroup": "Egypt",
         "marker": {
          "color": "#FF97FF",
          "size": [
           137
          ],
          "sizemode": "area",
          "sizeref": 0.385,
          "symbol": "circle"
         },
         "mode": "markers",
         "name": "Egypt",
         "scene": "scene",
         "showlegend": true,
         "type": "scatter3d",
         "x": [
          1.5901786610284663
         ],
         "y": [
          -1.1407216657749901
         ],
         "z": [
          0.6158120307261243
         ]
        },
        {
         "hovertemplate": "Country=Zambia<br>PC1=%{x}<br>PC2=%{y}<br>PC3=%{z}<br>Overall rank=%{marker.size}<extra></extra>",
         "legendgroup": "Zambia",
         "marker": {
          "color": "#FECB52",
          "size": [
           138
          ],
          "sizemode": "area",
          "sizeref": 0.385,
          "symbol": "circle"
         },
         "mode": "markers",
         "name": "Zambia",
         "scene": "scene",
         "showlegend": true,
         "type": "scatter3d",
         "x": [
          1.7757342357985229
         ],
         "y": [
          1.1216317042871302
         ],
         "z": [
          -0.3279801720245881
         ]
        },
        {
         "hovertemplate": "Country=Togo<br>PC1=%{x}<br>PC2=%{y}<br>PC3=%{z}<br>Overall rank=%{marker.size}<extra></extra>",
         "legendgroup": "Togo",
         "marker": {
          "color": "#636efa",
          "size": [
           139
          ],
          "sizemode": "area",
          "sizeref": 0.385,
          "symbol": "circle"
         },
         "mode": "markers",
         "name": "Togo",
         "scene": "scene",
         "showlegend": true,
         "type": "scatter3d",
         "x": [
          3.334328059329538
         ],
         "y": [
          0.7970800495923087
         ],
         "z": [
          0.5623823835575602
         ]
        },
        {
         "hovertemplate": "Country=India<br>PC1=%{x}<br>PC2=%{y}<br>PC3=%{z}<br>Overall rank=%{marker.size}<extra></extra>",
         "legendgroup": "India",
         "marker": {
          "color": "#EF553B",
          "size": [
           140
          ],
          "sizemode": "area",
          "sizeref": 0.385,
          "symbol": "circle"
         },
         "mode": "markers",
         "name": "India",
         "scene": "scene",
         "showlegend": true,
         "type": "scatter3d",
         "x": [
          1.6389235877058153
         ],
         "y": [
          0.9457044457110816
         ],
         "z": [
          0.20176988719719915
         ]
        },
        {
         "hovertemplate": "Country=Liberia<br>PC1=%{x}<br>PC2=%{y}<br>PC3=%{z}<br>Overall rank=%{marker.size}<extra></extra>",
         "legendgroup": "Liberia",
         "marker": {
          "color": "#00cc96",
          "size": [
           141
          ],
          "sizemode": "area",
          "sizeref": 0.385,
          "symbol": "circle"
         },
         "mode": "markers",
         "name": "Liberia",
         "scene": "scene",
         "showlegend": true,
         "type": "scatter3d",
         "x": [
          2.9311760278732124
         ],
         "y": [
          0.9939088497354724
         ],
         "z": [
          -0.5738044231864028
         ]
        },
        {
         "hovertemplate": "Country=Comoros<br>PC1=%{x}<br>PC2=%{y}<br>PC3=%{z}<br>Overall rank=%{marker.size}<extra></extra>",
         "legendgroup": "Comoros",
         "marker": {
          "color": "#ab63fa",
          "size": [
           142
          ],
          "sizemode": "area",
          "sizeref": 0.385,
          "symbol": "circle"
         },
         "mode": "markers",
         "name": "Comoros",
         "scene": "scene",
         "showlegend": true,
         "type": "scatter3d",
         "x": [
          3.2057608637752737
         ],
         "y": [
          0.8099308343297138
         ],
         "z": [
          -0.24783460577942978
         ]
        },
        {
         "hovertemplate": "Country=Madagascar<br>PC1=%{x}<br>PC2=%{y}<br>PC3=%{z}<br>Overall rank=%{marker.size}<extra></extra>",
         "legendgroup": "Madagascar",
         "marker": {
          "color": "#FFA15A",
          "size": [
           143
          ],
          "sizemode": "area",
          "sizeref": 0.385,
          "symbol": "circle"
         },
         "mode": "markers",
         "name": "Madagascar",
         "scene": "scene",
         "showlegend": true,
         "type": "scatter3d",
         "x": [
          3.048013850233019
         ],
         "y": [
          -0.2830331449876974
         ],
         "z": [
          -0.05468854596175391
         ]
        },
        {
         "hovertemplate": "Country=Lesotho<br>PC1=%{x}<br>PC2=%{y}<br>PC3=%{z}<br>Overall rank=%{marker.size}<extra></extra>",
         "legendgroup": "Lesotho",
         "marker": {
          "color": "#19d3f3",
          "size": [
           144
          ],
          "sizemode": "area",
          "sizeref": 0.385,
          "symbol": "circle"
         },
         "mode": "markers",
         "name": "Lesotho",
         "scene": "scene",
         "showlegend": true,
         "type": "scatter3d",
         "x": [
          2.598919067623373
         ],
         "y": [
          0.14171462889954103
         ],
         "z": [
          0.5493339003625793
         ]
        },
        {
         "hovertemplate": "Country=Burundi<br>PC1=%{x}<br>PC2=%{y}<br>PC3=%{z}<br>Overall rank=%{marker.size}<extra></extra>",
         "legendgroup": "Burundi",
         "marker": {
          "color": "#FF6692",
          "size": [
           145
          ],
          "sizemode": "area",
          "sizeref": 0.385,
          "symbol": "circle"
         },
         "mode": "markers",
         "name": "Burundi",
         "scene": "scene",
         "showlegend": true,
         "type": "scatter3d",
         "x": [
          3.9066944131047223
         ],
         "y": [
          1.3358068935607879
         ],
         "z": [
          1.4695162944125122
         ]
        },
        {
         "hovertemplate": "Country=Zimbabwe<br>PC1=%{x}<br>PC2=%{y}<br>PC3=%{z}<br>Overall rank=%{marker.size}<extra></extra>",
         "legendgroup": "Zimbabwe",
         "marker": {
          "color": "#B6E880",
          "size": [
           146
          ],
          "sizemode": "area",
          "sizeref": 0.385,
          "symbol": "circle"
         },
         "mode": "markers",
         "name": "Zimbabwe",
         "scene": "scene",
         "showlegend": true,
         "type": "scatter3d",
         "x": [
          2.356931446724283
         ],
         "y": [
          0.3430827344768024
         ],
         "z": [
          0.24506402386541168
         ]
        },
        {
         "hovertemplate": "Country=Haiti<br>PC1=%{x}<br>PC2=%{y}<br>PC3=%{z}<br>Overall rank=%{marker.size}<extra></extra>",
         "legendgroup": "Haiti",
         "marker": {
          "color": "#FF97FF",
          "size": [
           147
          ],
          "sizemode": "area",
          "sizeref": 0.385,
          "symbol": "circle"
         },
         "mode": "markers",
         "name": "Haiti",
         "scene": "scene",
         "showlegend": true,
         "type": "scatter3d",
         "x": [
          3.59737113961467
         ],
         "y": [
          1.7514239186144134
         ],
         "z": [
          -0.7436909966723452
         ]
        },
        {
         "hovertemplate": "Country=Botswana<br>PC1=%{x}<br>PC2=%{y}<br>PC3=%{z}<br>Overall rank=%{marker.size}<extra></extra>",
         "legendgroup": "Botswana",
         "marker": {
          "color": "#FECB52",
          "size": [
           148
          ],
          "sizemode": "area",
          "sizeref": 0.385,
          "symbol": "circle"
         },
         "mode": "markers",
         "name": "Botswana",
         "scene": "scene",
         "showlegend": true,
         "type": "scatter3d",
         "x": [
          1.214145789119685
         ],
         "y": [
          -0.7754465599062951
         ],
         "z": [
          1.1104455719924105
         ]
        },
        {
         "hovertemplate": "Country=Malawi<br>PC1=%{x}<br>PC2=%{y}<br>PC3=%{z}<br>Overall rank=%{marker.size}<extra></extra>",
         "legendgroup": "Malawi",
         "marker": {
          "color": "#636efa",
          "size": [
           150
          ],
          "sizemode": "area",
          "sizeref": 0.385,
          "symbol": "circle"
         },
         "mode": "markers",
         "name": "Malawi",
         "scene": "scene",
         "showlegend": true,
         "type": "scatter3d",
         "x": [
          3.1913459189099496
         ],
         "y": [
          1.556702752610756
         ],
         "z": [
          0.33156638623923235
         ]
        },
        {
         "hovertemplate": "Country=Yemen<br>PC1=%{x}<br>PC2=%{y}<br>PC3=%{z}<br>Overall rank=%{marker.size}<extra></extra>",
         "legendgroup": "Yemen",
         "marker": {
          "color": "#EF553B",
          "size": [
           151
          ],
          "sizemode": "area",
          "sizeref": 0.385,
          "symbol": "circle"
         },
         "mode": "markers",
         "name": "Yemen",
         "scene": "scene",
         "showlegend": true,
         "type": "scatter3d",
         "x": [
          3.018609498156264
         ],
         "y": [
          -0.6568961006120427
         ],
         "z": [
          0.4231104401668227
         ]
        },
        {
         "hovertemplate": "Country=Rwanda<br>PC1=%{x}<br>PC2=%{y}<br>PC3=%{z}<br>Overall rank=%{marker.size}<extra></extra>",
         "legendgroup": "Rwanda",
         "marker": {
          "color": "#00cc96",
          "size": [
           152
          ],
          "sizemode": "area",
          "sizeref": 0.385,
          "symbol": "circle"
         },
         "mode": "markers",
         "name": "Rwanda",
         "scene": "scene",
         "showlegend": true,
         "type": "scatter3d",
         "x": [
          1.387262972672661
         ],
         "y": [
          3.163521133383257
         ],
         "z": [
          2.743641877301624
         ]
        },
        {
         "hovertemplate": "Country=Tanzania<br>PC1=%{x}<br>PC2=%{y}<br>PC3=%{z}<br>Overall rank=%{marker.size}<extra></extra>",
         "legendgroup": "Tanzania",
         "marker": {
          "color": "#ab63fa",
          "size": [
           153
          ],
          "sizemode": "area",
          "sizeref": 0.385,
          "symbol": "circle"
         },
         "mode": "markers",
         "name": "Tanzania",
         "scene": "scene",
         "showlegend": true,
         "type": "scatter3d",
         "x": [
          2.2562822015427626
         ],
         "y": [
          1.7567775811709996
         ],
         "z": [
          0.17149878546135386
         ]
        },
        {
         "hovertemplate": "Country=Afghanistan<br>PC1=%{x}<br>PC2=%{y}<br>PC3=%{z}<br>Overall rank=%{marker.size}<extra></extra>",
         "legendgroup": "Afghanistan",
         "marker": {
          "color": "#FFA15A",
          "size": [
           154
          ],
          "sizemode": "area",
          "sizeref": 0.385,
          "symbol": "circle"
         },
         "mode": "markers",
         "name": "Afghanistan",
         "scene": "scene",
         "showlegend": true,
         "type": "scatter3d",
         "x": [
          4.680279663189628
         ],
         "y": [
          -0.4183483101294983
         ],
         "z": [
          0.3916971676161106
         ]
        }
       ],
       "layout": {
        "legend": {
         "itemsizing": "constant",
         "title": {
          "text": "Country"
         },
         "tracegroupgap": 0
        },
        "scene": {
         "domain": {
          "x": [
           0,
           1
          ],
          "y": [
           0,
           1
          ]
         },
         "xaxis": {
          "title": {
           "text": "PC1"
          }
         },
         "yaxis": {
          "title": {
           "text": "PC2"
          }
         },
         "zaxis": {
          "title": {
           "text": "PC3"
          }
         }
        },
        "template": {
         "data": {
          "bar": [
           {
            "error_x": {
             "color": "#2a3f5f"
            },
            "error_y": {
             "color": "#2a3f5f"
            },
            "marker": {
             "line": {
              "color": "#E5ECF6",
              "width": 0.5
             },
             "pattern": {
              "fillmode": "overlay",
              "size": 10,
              "solidity": 0.2
             }
            },
            "type": "bar"
           }
          ],
          "barpolar": [
           {
            "marker": {
             "line": {
              "color": "#E5ECF6",
              "width": 0.5
             },
             "pattern": {
              "fillmode": "overlay",
              "size": 10,
              "solidity": 0.2
             }
            },
            "type": "barpolar"
           }
          ],
          "carpet": [
           {
            "aaxis": {
             "endlinecolor": "#2a3f5f",
             "gridcolor": "white",
             "linecolor": "white",
             "minorgridcolor": "white",
             "startlinecolor": "#2a3f5f"
            },
            "baxis": {
             "endlinecolor": "#2a3f5f",
             "gridcolor": "white",
             "linecolor": "white",
             "minorgridcolor": "white",
             "startlinecolor": "#2a3f5f"
            },
            "type": "carpet"
           }
          ],
          "choropleth": [
           {
            "colorbar": {
             "outlinewidth": 0,
             "ticks": ""
            },
            "type": "choropleth"
           }
          ],
          "contour": [
           {
            "colorbar": {
             "outlinewidth": 0,
             "ticks": ""
            },
            "colorscale": [
             [
              0,
              "#0d0887"
             ],
             [
              0.1111111111111111,
              "#46039f"
             ],
             [
              0.2222222222222222,
              "#7201a8"
             ],
             [
              0.3333333333333333,
              "#9c179e"
             ],
             [
              0.4444444444444444,
              "#bd3786"
             ],
             [
              0.5555555555555556,
              "#d8576b"
             ],
             [
              0.6666666666666666,
              "#ed7953"
             ],
             [
              0.7777777777777778,
              "#fb9f3a"
             ],
             [
              0.8888888888888888,
              "#fdca26"
             ],
             [
              1,
              "#f0f921"
             ]
            ],
            "type": "contour"
           }
          ],
          "contourcarpet": [
           {
            "colorbar": {
             "outlinewidth": 0,
             "ticks": ""
            },
            "type": "contourcarpet"
           }
          ],
          "heatmap": [
           {
            "colorbar": {
             "outlinewidth": 0,
             "ticks": ""
            },
            "colorscale": [
             [
              0,
              "#0d0887"
             ],
             [
              0.1111111111111111,
              "#46039f"
             ],
             [
              0.2222222222222222,
              "#7201a8"
             ],
             [
              0.3333333333333333,
              "#9c179e"
             ],
             [
              0.4444444444444444,
              "#bd3786"
             ],
             [
              0.5555555555555556,
              "#d8576b"
             ],
             [
              0.6666666666666666,
              "#ed7953"
             ],
             [
              0.7777777777777778,
              "#fb9f3a"
             ],
             [
              0.8888888888888888,
              "#fdca26"
             ],
             [
              1,
              "#f0f921"
             ]
            ],
            "type": "heatmap"
           }
          ],
          "heatmapgl": [
           {
            "colorbar": {
             "outlinewidth": 0,
             "ticks": ""
            },
            "colorscale": [
             [
              0,
              "#0d0887"
             ],
             [
              0.1111111111111111,
              "#46039f"
             ],
             [
              0.2222222222222222,
              "#7201a8"
             ],
             [
              0.3333333333333333,
              "#9c179e"
             ],
             [
              0.4444444444444444,
              "#bd3786"
             ],
             [
              0.5555555555555556,
              "#d8576b"
             ],
             [
              0.6666666666666666,
              "#ed7953"
             ],
             [
              0.7777777777777778,
              "#fb9f3a"
             ],
             [
              0.8888888888888888,
              "#fdca26"
             ],
             [
              1,
              "#f0f921"
             ]
            ],
            "type": "heatmapgl"
           }
          ],
          "histogram": [
           {
            "marker": {
             "pattern": {
              "fillmode": "overlay",
              "size": 10,
              "solidity": 0.2
             }
            },
            "type": "histogram"
           }
          ],
          "histogram2d": [
           {
            "colorbar": {
             "outlinewidth": 0,
             "ticks": ""
            },
            "colorscale": [
             [
              0,
              "#0d0887"
             ],
             [
              0.1111111111111111,
              "#46039f"
             ],
             [
              0.2222222222222222,
              "#7201a8"
             ],
             [
              0.3333333333333333,
              "#9c179e"
             ],
             [
              0.4444444444444444,
              "#bd3786"
             ],
             [
              0.5555555555555556,
              "#d8576b"
             ],
             [
              0.6666666666666666,
              "#ed7953"
             ],
             [
              0.7777777777777778,
              "#fb9f3a"
             ],
             [
              0.8888888888888888,
              "#fdca26"
             ],
             [
              1,
              "#f0f921"
             ]
            ],
            "type": "histogram2d"
           }
          ],
          "histogram2dcontour": [
           {
            "colorbar": {
             "outlinewidth": 0,
             "ticks": ""
            },
            "colorscale": [
             [
              0,
              "#0d0887"
             ],
             [
              0.1111111111111111,
              "#46039f"
             ],
             [
              0.2222222222222222,
              "#7201a8"
             ],
             [
              0.3333333333333333,
              "#9c179e"
             ],
             [
              0.4444444444444444,
              "#bd3786"
             ],
             [
              0.5555555555555556,
              "#d8576b"
             ],
             [
              0.6666666666666666,
              "#ed7953"
             ],
             [
              0.7777777777777778,
              "#fb9f3a"
             ],
             [
              0.8888888888888888,
              "#fdca26"
             ],
             [
              1,
              "#f0f921"
             ]
            ],
            "type": "histogram2dcontour"
           }
          ],
          "mesh3d": [
           {
            "colorbar": {
             "outlinewidth": 0,
             "ticks": ""
            },
            "type": "mesh3d"
           }
          ],
          "parcoords": [
           {
            "line": {
             "colorbar": {
              "outlinewidth": 0,
              "ticks": ""
             }
            },
            "type": "parcoords"
           }
          ],
          "pie": [
           {
            "automargin": true,
            "type": "pie"
           }
          ],
          "scatter": [
           {
            "marker": {
             "colorbar": {
              "outlinewidth": 0,
              "ticks": ""
             }
            },
            "type": "scatter"
           }
          ],
          "scatter3d": [
           {
            "line": {
             "colorbar": {
              "outlinewidth": 0,
              "ticks": ""
             }
            },
            "marker": {
             "colorbar": {
              "outlinewidth": 0,
              "ticks": ""
             }
            },
            "type": "scatter3d"
           }
          ],
          "scattercarpet": [
           {
            "marker": {
             "colorbar": {
              "outlinewidth": 0,
              "ticks": ""
             }
            },
            "type": "scattercarpet"
           }
          ],
          "scattergeo": [
           {
            "marker": {
             "colorbar": {
              "outlinewidth": 0,
              "ticks": ""
             }
            },
            "type": "scattergeo"
           }
          ],
          "scattergl": [
           {
            "marker": {
             "colorbar": {
              "outlinewidth": 0,
              "ticks": ""
             }
            },
            "type": "scattergl"
           }
          ],
          "scattermapbox": [
           {
            "marker": {
             "colorbar": {
              "outlinewidth": 0,
              "ticks": ""
             }
            },
            "type": "scattermapbox"
           }
          ],
          "scatterpolar": [
           {
            "marker": {
             "colorbar": {
              "outlinewidth": 0,
              "ticks": ""
             }
            },
            "type": "scatterpolar"
           }
          ],
          "scatterpolargl": [
           {
            "marker": {
             "colorbar": {
              "outlinewidth": 0,
              "ticks": ""
             }
            },
            "type": "scatterpolargl"
           }
          ],
          "scatterternary": [
           {
            "marker": {
             "colorbar": {
              "outlinewidth": 0,
              "ticks": ""
             }
            },
            "type": "scatterternary"
           }
          ],
          "surface": [
           {
            "colorbar": {
             "outlinewidth": 0,
             "ticks": ""
            },
            "colorscale": [
             [
              0,
              "#0d0887"
             ],
             [
              0.1111111111111111,
              "#46039f"
             ],
             [
              0.2222222222222222,
              "#7201a8"
             ],
             [
              0.3333333333333333,
              "#9c179e"
             ],
             [
              0.4444444444444444,
              "#bd3786"
             ],
             [
              0.5555555555555556,
              "#d8576b"
             ],
             [
              0.6666666666666666,
              "#ed7953"
             ],
             [
              0.7777777777777778,
              "#fb9f3a"
             ],
             [
              0.8888888888888888,
              "#fdca26"
             ],
             [
              1,
              "#f0f921"
             ]
            ],
            "type": "surface"
           }
          ],
          "table": [
           {
            "cells": {
             "fill": {
              "color": "#EBF0F8"
             },
             "line": {
              "color": "white"
             }
            },
            "header": {
             "fill": {
              "color": "#C8D4E3"
             },
             "line": {
              "color": "white"
             }
            },
            "type": "table"
           }
          ]
         },
         "layout": {
          "annotationdefaults": {
           "arrowcolor": "#2a3f5f",
           "arrowhead": 0,
           "arrowwidth": 1
          },
          "autotypenumbers": "strict",
          "coloraxis": {
           "colorbar": {
            "outlinewidth": 0,
            "ticks": ""
           }
          },
          "colorscale": {
           "diverging": [
            [
             0,
             "#8e0152"
            ],
            [
             0.1,
             "#c51b7d"
            ],
            [
             0.2,
             "#de77ae"
            ],
            [
             0.3,
             "#f1b6da"
            ],
            [
             0.4,
             "#fde0ef"
            ],
            [
             0.5,
             "#f7f7f7"
            ],
            [
             0.6,
             "#e6f5d0"
            ],
            [
             0.7,
             "#b8e186"
            ],
            [
             0.8,
             "#7fbc41"
            ],
            [
             0.9,
             "#4d9221"
            ],
            [
             1,
             "#276419"
            ]
           ],
           "sequential": [
            [
             0,
             "#0d0887"
            ],
            [
             0.1111111111111111,
             "#46039f"
            ],
            [
             0.2222222222222222,
             "#7201a8"
            ],
            [
             0.3333333333333333,
             "#9c179e"
            ],
            [
             0.4444444444444444,
             "#bd3786"
            ],
            [
             0.5555555555555556,
             "#d8576b"
            ],
            [
             0.6666666666666666,
             "#ed7953"
            ],
            [
             0.7777777777777778,
             "#fb9f3a"
            ],
            [
             0.8888888888888888,
             "#fdca26"
            ],
            [
             1,
             "#f0f921"
            ]
           ],
           "sequentialminus": [
            [
             0,
             "#0d0887"
            ],
            [
             0.1111111111111111,
             "#46039f"
            ],
            [
             0.2222222222222222,
             "#7201a8"
            ],
            [
             0.3333333333333333,
             "#9c179e"
            ],
            [
             0.4444444444444444,
             "#bd3786"
            ],
            [
             0.5555555555555556,
             "#d8576b"
            ],
            [
             0.6666666666666666,
             "#ed7953"
            ],
            [
             0.7777777777777778,
             "#fb9f3a"
            ],
            [
             0.8888888888888888,
             "#fdca26"
            ],
            [
             1,
             "#f0f921"
            ]
           ]
          },
          "colorway": [
           "#636efa",
           "#EF553B",
           "#00cc96",
           "#ab63fa",
           "#FFA15A",
           "#19d3f3",
           "#FF6692",
           "#B6E880",
           "#FF97FF",
           "#FECB52"
          ],
          "font": {
           "color": "#2a3f5f"
          },
          "geo": {
           "bgcolor": "white",
           "lakecolor": "white",
           "landcolor": "#E5ECF6",
           "showlakes": true,
           "showland": true,
           "subunitcolor": "white"
          },
          "hoverlabel": {
           "align": "left"
          },
          "hovermode": "closest",
          "mapbox": {
           "style": "light"
          },
          "paper_bgcolor": "white",
          "plot_bgcolor": "#E5ECF6",
          "polar": {
           "angularaxis": {
            "gridcolor": "white",
            "linecolor": "white",
            "ticks": ""
           },
           "bgcolor": "#E5ECF6",
           "radialaxis": {
            "gridcolor": "white",
            "linecolor": "white",
            "ticks": ""
           }
          },
          "scene": {
           "xaxis": {
            "backgroundcolor": "#E5ECF6",
            "gridcolor": "white",
            "gridwidth": 2,
            "linecolor": "white",
            "showbackground": true,
            "ticks": "",
            "zerolinecolor": "white"
           },
           "yaxis": {
            "backgroundcolor": "#E5ECF6",
            "gridcolor": "white",
            "gridwidth": 2,
            "linecolor": "white",
            "showbackground": true,
            "ticks": "",
            "zerolinecolor": "white"
           },
           "zaxis": {
            "backgroundcolor": "#E5ECF6",
            "gridcolor": "white",
            "gridwidth": 2,
            "linecolor": "white",
            "showbackground": true,
            "ticks": "",
            "zerolinecolor": "white"
           }
          },
          "shapedefaults": {
           "line": {
            "color": "#2a3f5f"
           }
          },
          "ternary": {
           "aaxis": {
            "gridcolor": "white",
            "linecolor": "white",
            "ticks": ""
           },
           "baxis": {
            "gridcolor": "white",
            "linecolor": "white",
            "ticks": ""
           },
           "bgcolor": "#E5ECF6",
           "caxis": {
            "gridcolor": "white",
            "linecolor": "white",
            "ticks": ""
           }
          },
          "title": {
           "x": 0.05
          },
          "xaxis": {
           "automargin": true,
           "gridcolor": "white",
           "linecolor": "white",
           "ticks": "",
           "title": {
            "standoff": 15
           },
           "zerolinecolor": "white",
           "zerolinewidth": 2
          },
          "yaxis": {
           "automargin": true,
           "gridcolor": "white",
           "linecolor": "white",
           "ticks": "",
           "title": {
            "standoff": 15
           },
           "zerolinecolor": "white",
           "zerolinewidth": 2
          }
         }
        },
        "title": {
         "text": "PCA"
        }
       }
      },
      "text/html": [
       "<div>                            <div id=\"f0df62e7-424e-47e4-9491-2c998762b909\" class=\"plotly-graph-div\" style=\"height:525px; width:100%;\"></div>            <script type=\"text/javascript\">                require([\"plotly\"], function(Plotly) {                    window.PLOTLYENV=window.PLOTLYENV || {};                                    if (document.getElementById(\"f0df62e7-424e-47e4-9491-2c998762b909\")) {                    Plotly.newPlot(                        \"f0df62e7-424e-47e4-9491-2c998762b909\",                        [{\"hovertemplate\":\"Country=Finland<br>PC1=%{x}<br>PC2=%{y}<br>PC3=%{z}<br>Overall rank=%{marker.size}<extra></extra>\",\"legendgroup\":\"Finland\",\"marker\":{\"color\":\"#636efa\",\"size\":[1],\"sizemode\":\"area\",\"sizeref\":0.385,\"symbol\":\"circle\"},\"mode\":\"markers\",\"name\":\"Finland\",\"scene\":\"scene\",\"showlegend\":true,\"x\":[-3.8330400671798617],\"y\":[0.9582137519022614],\"z\":[1.9083817150158642],\"type\":\"scatter3d\"},{\"hovertemplate\":\"Country=Denmark<br>PC1=%{x}<br>PC2=%{y}<br>PC3=%{z}<br>Overall rank=%{marker.size}<extra></extra>\",\"legendgroup\":\"Denmark\",\"marker\":{\"color\":\"#EF553B\",\"size\":[2],\"sizemode\":\"area\",\"sizeref\":0.385,\"symbol\":\"circle\"},\"mode\":\"markers\",\"name\":\"Denmark\",\"scene\":\"scene\",\"showlegend\":true,\"x\":[-3.92387382955524],\"y\":[1.7223962121243255],\"z\":[1.462946165857839],\"type\":\"scatter3d\"},{\"hovertemplate\":\"Country=Norway<br>PC1=%{x}<br>PC2=%{y}<br>PC3=%{z}<br>Overall rank=%{marker.size}<extra></extra>\",\"legendgroup\":\"Norway\",\"marker\":{\"color\":\"#00cc96\",\"size\":[3],\"sizemode\":\"area\",\"sizeref\":0.385,\"symbol\":\"circle\"},\"mode\":\"markers\",\"name\":\"Norway\",\"scene\":\"scene\",\"showlegend\":true,\"x\":[-3.9531713029059117],\"y\":[1.4441888036679809],\"z\":[0.7886798472011699],\"type\":\"scatter3d\"},{\"hovertemplate\":\"Country=Iceland<br>PC1=%{x}<br>PC2=%{y}<br>PC3=%{z}<br>Overall rank=%{marker.size}<extra></extra>\",\"legendgroup\":\"Iceland\",\"marker\":{\"color\":\"#ab63fa\",\"size\":[4],\"sizemode\":\"area\",\"sizeref\":0.385,\"symbol\":\"circle\"},\"mode\":\"markers\",\"name\":\"Iceland\",\"scene\":\"scene\",\"showlegend\":true,\"x\":[-3.2691812413898282],\"y\":[0.9269429038452618],\"z\":[-1.5526476407949845],\"type\":\"scatter3d\"},{\"hovertemplate\":\"Country=Netherlands<br>PC1=%{x}<br>PC2=%{y}<br>PC3=%{z}<br>Overall rank=%{marker.size}<extra></extra>\",\"legendgroup\":\"Netherlands\",\"marker\":{\"color\":\"#FFA15A\",\"size\":[5],\"sizemode\":\"area\",\"sizeref\":0.385,\"symbol\":\"circle\"},\"mode\":\"markers\",\"name\":\"Netherlands\",\"scene\":\"scene\",\"showlegend\":true,\"x\":[-3.4736731208981624],\"y\":[1.594224172081609],\"z\":[0.20016892842620052],\"type\":\"scatter3d\"},{\"hovertemplate\":\"Country=Switzerland<br>PC1=%{x}<br>PC2=%{y}<br>PC3=%{z}<br>Overall rank=%{marker.size}<extra></extra>\",\"legendgroup\":\"Switzerland\",\"marker\":{\"color\":\"#19d3f3\",\"size\":[6],\"sizemode\":\"area\",\"sizeref\":0.385,\"symbol\":\"circle\"},\"mode\":\"markers\",\"name\":\"Switzerland\",\"scene\":\"scene\",\"showlegend\":true,\"x\":[-3.7617766991009067],\"y\":[1.356001655826834],\"z\":[0.9116276628331854],\"type\":\"scatter3d\"},{\"hovertemplate\":\"Country=Sweden<br>PC1=%{x}<br>PC2=%{y}<br>PC3=%{z}<br>Overall rank=%{marker.size}<extra></extra>\",\"legendgroup\":\"Sweden\",\"marker\":{\"color\":\"#FF6692\",\"size\":[7],\"sizemode\":\"area\",\"sizeref\":0.385,\"symbol\":\"circle\"},\"mode\":\"markers\",\"name\":\"Sweden\",\"scene\":\"scene\",\"showlegend\":true,\"x\":[-3.57099498814827],\"y\":[1.6541120863180852],\"z\":[1.174238174837451],\"type\":\"scatter3d\"},{\"hovertemplate\":\"Country=New Zealand<br>PC1=%{x}<br>PC2=%{y}<br>PC3=%{z}<br>Overall rank=%{marker.size}<extra></extra>\",\"legendgroup\":\"New Zealand\",\"marker\":{\"color\":\"#B6E880\",\"size\":[8],\"sizemode\":\"area\",\"sizeref\":0.385,\"symbol\":\"circle\"},\"mode\":\"markers\",\"name\":\"New Zealand\",\"scene\":\"scene\",\"showlegend\":true,\"x\":[-3.6918845866035706],\"y\":[2.1591645641820723],\"z\":[0.7638670243725545],\"type\":\"scatter3d\"},{\"hovertemplate\":\"Country=Canada<br>PC1=%{x}<br>PC2=%{y}<br>PC3=%{z}<br>Overall rank=%{marker.size}<extra></extra>\",\"legendgroup\":\"Canada\",\"marker\":{\"color\":\"#FF97FF\",\"size\":[9],\"sizemode\":\"area\",\"sizeref\":0.385,\"symbol\":\"circle\"},\"mode\":\"markers\",\"name\":\"Canada\",\"scene\":\"scene\",\"showlegend\":true,\"x\":[-3.457122859597621],\"y\":[1.4627796429259108],\"z\":[0.5188215541719773],\"type\":\"scatter3d\"},{\"hovertemplate\":\"Country=Austria<br>PC1=%{x}<br>PC2=%{y}<br>PC3=%{z}<br>Overall rank=%{marker.size}<extra></extra>\",\"legendgroup\":\"Austria\",\"marker\":{\"color\":\"#FECB52\",\"size\":[10],\"sizemode\":\"area\",\"sizeref\":0.385,\"symbol\":\"circle\"},\"mode\":\"markers\",\"name\":\"Austria\",\"scene\":\"scene\",\"showlegend\":true,\"x\":[-2.9804692600773595],\"y\":[0.6445024639893575],\"z\":[0.16258858919634903],\"type\":\"scatter3d\"},{\"hovertemplate\":\"Country=Australia<br>PC1=%{x}<br>PC2=%{y}<br>PC3=%{z}<br>Overall rank=%{marker.size}<extra></extra>\",\"legendgroup\":\"Australia\",\"marker\":{\"color\":\"#636efa\",\"size\":[11],\"sizemode\":\"area\",\"sizeref\":0.385,\"symbol\":\"circle\"},\"mode\":\"markers\",\"name\":\"Australia\",\"scene\":\"scene\",\"showlegend\":true,\"x\":[-3.4288123721306762],\"y\":[1.5982600416328916],\"z\":[0.05530647160158508],\"type\":\"scatter3d\"},{\"hovertemplate\":\"Country=Costa Rica<br>PC1=%{x}<br>PC2=%{y}<br>PC3=%{z}<br>Overall rank=%{marker.size}<extra></extra>\",\"legendgroup\":\"Costa Rica\",\"marker\":{\"color\":\"#EF553B\",\"size\":[12],\"sizemode\":\"area\",\"sizeref\":0.385,\"symbol\":\"circle\"},\"mode\":\"markers\",\"name\":\"Costa Rica\",\"scene\":\"scene\",\"showlegend\":true,\"x\":[-1.9862581520223226],\"y\":[-0.37123555842400646],\"z\":[-0.2815651773699162],\"type\":\"scatter3d\"},{\"hovertemplate\":\"Country=Israel<br>PC1=%{x}<br>PC2=%{y}<br>PC3=%{z}<br>Overall rank=%{marker.size}<extra></extra>\",\"legendgroup\":\"Israel\",\"marker\":{\"color\":\"#00cc96\",\"size\":[13],\"sizemode\":\"area\",\"sizeref\":0.385,\"symbol\":\"circle\"},\"mode\":\"markers\",\"name\":\"Israel\",\"scene\":\"scene\",\"showlegend\":true,\"x\":[-2.0378804269935515],\"y\":[-0.34749206727290416],\"z\":[-1.0427722313031837],\"type\":\"scatter3d\"},{\"hovertemplate\":\"Country=Luxembourg<br>PC1=%{x}<br>PC2=%{y}<br>PC3=%{z}<br>Overall rank=%{marker.size}<extra></extra>\",\"legendgroup\":\"Luxembourg\",\"marker\":{\"color\":\"#ab63fa\",\"size\":[14],\"sizemode\":\"area\",\"sizeref\":0.385,\"symbol\":\"circle\"},\"mode\":\"markers\",\"name\":\"Luxembourg\",\"scene\":\"scene\",\"showlegend\":true,\"x\":[-3.3921206358492575],\"y\":[0.5760594184580852],\"z\":[1.2213445758574861],\"type\":\"scatter3d\"},{\"hovertemplate\":\"Country=United Kingdom<br>PC1=%{x}<br>PC2=%{y}<br>PC3=%{z}<br>Overall rank=%{marker.size}<extra></extra>\",\"legendgroup\":\"United Kingdom\",\"marker\":{\"color\":\"#FFA15A\",\"size\":[15],\"sizemode\":\"area\",\"sizeref\":0.385,\"symbol\":\"circle\"},\"mode\":\"markers\",\"name\":\"United Kingdom\",\"scene\":\"scene\",\"showlegend\":true,\"x\":[-2.9409359773742296],\"y\":[1.4173035423010838],\"z\":[-0.08910386944046078],\"type\":\"scatter3d\"},{\"hovertemplate\":\"Country=Ireland<br>PC1=%{x}<br>PC2=%{y}<br>PC3=%{z}<br>Overall rank=%{marker.size}<extra></extra>\",\"legendgroup\":\"Ireland\",\"marker\":{\"color\":\"#19d3f3\",\"size\":[16],\"sizemode\":\"area\",\"sizeref\":0.385,\"symbol\":\"circle\"},\"mode\":\"markers\",\"name\":\"Ireland\",\"scene\":\"scene\",\"showlegend\":true,\"x\":[-3.361996564625497],\"y\":[1.2897580411895087],\"z\":[0.46131787117147466],\"type\":\"scatter3d\"},{\"hovertemplate\":\"Country=Germany<br>PC1=%{x}<br>PC2=%{y}<br>PC3=%{z}<br>Overall rank=%{marker.size}<extra></extra>\",\"legendgroup\":\"Germany\",\"marker\":{\"color\":\"#FF6692\",\"size\":[17],\"sizemode\":\"area\",\"sizeref\":0.385,\"symbol\":\"circle\"},\"mode\":\"markers\",\"name\":\"Germany\",\"scene\":\"scene\",\"showlegend\":true,\"x\":[-2.8098946925126],\"y\":[0.9071360562082258],\"z\":[0.420438994704096],\"type\":\"scatter3d\"},{\"hovertemplate\":\"Country=Belgium<br>PC1=%{x}<br>PC2=%{y}<br>PC3=%{z}<br>Overall rank=%{marker.size}<extra></extra>\",\"legendgroup\":\"Belgium\",\"marker\":{\"color\":\"#B6E880\",\"size\":[18],\"sizemode\":\"area\",\"sizeref\":0.385,\"symbol\":\"circle\"},\"mode\":\"markers\",\"name\":\"Belgium\",\"scene\":\"scene\",\"showlegend\":true,\"x\":[-2.554573482830794],\"y\":[-0.18135998182994267],\"z\":[0.5596706380603842],\"type\":\"scatter3d\"},{\"hovertemplate\":\"Country=United States<br>PC1=%{x}<br>PC2=%{y}<br>PC3=%{z}<br>Overall rank=%{marker.size}<extra></extra>\",\"legendgroup\":\"United States\",\"marker\":{\"color\":\"#FF97FF\",\"size\":[19],\"sizemode\":\"area\",\"sizeref\":0.385,\"symbol\":\"circle\"},\"mode\":\"markers\",\"name\":\"United States\",\"scene\":\"scene\",\"showlegend\":true,\"x\":[-2.162627276630271],\"y\":[0.2968675901650119],\"z\":[-0.7542908459860782],\"type\":\"scatter3d\"},{\"hovertemplate\":\"Country=Czech Republic<br>PC1=%{x}<br>PC2=%{y}<br>PC3=%{z}<br>Overall rank=%{marker.size}<extra></extra>\",\"legendgroup\":\"Czech Republic\",\"marker\":{\"color\":\"#FECB52\",\"size\":[20],\"sizemode\":\"area\",\"sizeref\":0.385,\"symbol\":\"circle\"},\"mode\":\"markers\",\"name\":\"Czech Republic\",\"scene\":\"scene\",\"showlegend\":true,\"x\":[-1.6491430671982186],\"y\":[-1.7901085854066332],\"z\":[-0.1060232794318013],\"type\":\"scatter3d\"},{\"hovertemplate\":\"Country=United Arab Emirates<br>PC1=%{x}<br>PC2=%{y}<br>PC3=%{z}<br>Overall rank=%{marker.size}<extra></extra>\",\"legendgroup\":\"United Arab Emirates\",\"marker\":{\"color\":\"#636efa\",\"size\":[21],\"sizemode\":\"area\",\"sizeref\":0.385,\"symbol\":\"circle\"},\"mode\":\"markers\",\"name\":\"United Arab Emirates\",\"scene\":\"scene\",\"showlegend\":true,\"x\":[-2.365968464314693],\"y\":[0.9664283264994299],\"z\":[-0.08530468453965942],\"type\":\"scatter3d\"},{\"hovertemplate\":\"Country=Malta<br>PC1=%{x}<br>PC2=%{y}<br>PC3=%{z}<br>Overall rank=%{marker.size}<extra></extra>\",\"legendgroup\":\"Malta\",\"marker\":{\"color\":\"#EF553B\",\"size\":[22],\"sizemode\":\"area\",\"sizeref\":0.385,\"symbol\":\"circle\"},\"mode\":\"markers\",\"name\":\"Malta\",\"scene\":\"scene\",\"showlegend\":true,\"x\":[-2.666341828103684],\"y\":[1.3459841412842035],\"z\":[-1.2686631019111587],\"type\":\"scatter3d\"},{\"hovertemplate\":\"Country=Mexico<br>PC1=%{x}<br>PC2=%{y}<br>PC3=%{z}<br>Overall rank=%{marker.size}<extra></extra>\",\"legendgroup\":\"Mexico\",\"marker\":{\"color\":\"#00cc96\",\"size\":[23],\"sizemode\":\"area\",\"sizeref\":0.385,\"symbol\":\"circle\"},\"mode\":\"markers\",\"name\":\"Mexico\",\"scene\":\"scene\",\"showlegend\":true,\"x\":[-0.9930471375409567],\"y\":[-1.159214053870326],\"z\":[0.18878240665667462],\"type\":\"scatter3d\"},{\"hovertemplate\":\"Country=France<br>PC1=%{x}<br>PC2=%{y}<br>PC3=%{z}<br>Overall rank=%{marker.size}<extra></extra>\",\"legendgroup\":\"France\",\"marker\":{\"color\":\"#ab63fa\",\"size\":[24],\"sizemode\":\"area\",\"sizeref\":0.385,\"symbol\":\"circle\"},\"mode\":\"markers\",\"name\":\"France\",\"scene\":\"scene\",\"showlegend\":true,\"x\":[-2.2335788543366233],\"y\":[-0.7687170024456864],\"z\":[0.6891467272239611],\"type\":\"scatter3d\"},{\"hovertemplate\":\"Country=Chile<br>PC1=%{x}<br>PC2=%{y}<br>PC3=%{z}<br>Overall rank=%{marker.size}<extra></extra>\",\"legendgroup\":\"Chile\",\"marker\":{\"color\":\"#FFA15A\",\"size\":[26],\"sizemode\":\"area\",\"sizeref\":0.385,\"symbol\":\"circle\"},\"mode\":\"markers\",\"name\":\"Chile\",\"scene\":\"scene\",\"showlegend\":true,\"x\":[-1.083328907763806],\"y\":[-0.7909623751104321],\"z\":[-0.6608115378827851],\"type\":\"scatter3d\"},{\"hovertemplate\":\"Country=Guatemala<br>PC1=%{x}<br>PC2=%{y}<br>PC3=%{z}<br>Overall rank=%{marker.size}<extra></extra>\",\"legendgroup\":\"Guatemala\",\"marker\":{\"color\":\"#19d3f3\",\"size\":[27],\"sizemode\":\"area\",\"sizeref\":0.385,\"symbol\":\"circle\"},\"mode\":\"markers\",\"name\":\"Guatemala\",\"scene\":\"scene\",\"showlegend\":true,\"x\":[-0.622342483502607],\"y\":[0.2026268272275081],\"z\":[-0.3604789986459654],\"type\":\"scatter3d\"},{\"hovertemplate\":\"Country=Saudi Arabia<br>PC1=%{x}<br>PC2=%{y}<br>PC3=%{z}<br>Overall rank=%{marker.size}<extra></extra>\",\"legendgroup\":\"Saudi Arabia\",\"marker\":{\"color\":\"#FF6692\",\"size\":[28],\"sizemode\":\"area\",\"sizeref\":0.385,\"symbol\":\"circle\"},\"mode\":\"markers\",\"name\":\"Saudi Arabia\",\"scene\":\"scene\",\"showlegend\":true,\"x\":[-1.4102114134287473],\"y\":[-0.9792720287856537],\"z\":[0.6484553334252766],\"type\":\"scatter3d\"},{\"hovertemplate\":\"Country=Spain<br>PC1=%{x}<br>PC2=%{y}<br>PC3=%{z}<br>Overall rank=%{marker.size}<extra></extra>\",\"legendgroup\":\"Spain\",\"marker\":{\"color\":\"#B6E880\",\"size\":[30],\"sizemode\":\"area\",\"sizeref\":0.385,\"symbol\":\"circle\"},\"mode\":\"markers\",\"name\":\"Spain\",\"scene\":\"scene\",\"showlegend\":true,\"x\":[-1.7026361278649538],\"y\":[-1.1937094945594735],\"z\":[-0.3887211961567788],\"type\":\"scatter3d\"},{\"hovertemplate\":\"Country=Panama<br>PC1=%{x}<br>PC2=%{y}<br>PC3=%{z}<br>Overall rank=%{marker.size}<extra></extra>\",\"legendgroup\":\"Panama\",\"marker\":{\"color\":\"#FF97FF\",\"size\":[31],\"sizemode\":\"area\",\"sizeref\":0.385,\"symbol\":\"circle\"},\"mode\":\"markers\",\"name\":\"Panama\",\"scene\":\"scene\",\"showlegend\":true,\"x\":[-1.4197003167250644],\"y\":[-0.9397881203753147],\"z\":[-0.2992869614157805],\"type\":\"scatter3d\"},{\"hovertemplate\":\"Country=Brazil<br>PC1=%{x}<br>PC2=%{y}<br>PC3=%{z}<br>Overall rank=%{marker.size}<extra></extra>\",\"legendgroup\":\"Brazil\",\"marker\":{\"color\":\"#FECB52\",\"size\":[32],\"sizemode\":\"area\",\"sizeref\":0.385,\"symbol\":\"circle\"},\"mode\":\"markers\",\"name\":\"Brazil\",\"scene\":\"scene\",\"showlegend\":true,\"x\":[-0.809586215604218],\"y\":[-1.0258075621343232],\"z\":[0.06034573766868471],\"type\":\"scatter3d\"},{\"hovertemplate\":\"Country=Uruguay<br>PC1=%{x}<br>PC2=%{y}<br>PC3=%{z}<br>Overall rank=%{marker.size}<extra></extra>\",\"legendgroup\":\"Uruguay\",\"marker\":{\"color\":\"#636efa\",\"size\":[33],\"sizemode\":\"area\",\"sizeref\":0.385,\"symbol\":\"circle\"},\"mode\":\"markers\",\"name\":\"Uruguay\",\"scene\":\"scene\",\"showlegend\":true,\"x\":[-1.677233064851801],\"y\":[-0.29364591734401124],\"z\":[0.33845393075750313],\"type\":\"scatter3d\"},{\"hovertemplate\":\"Country=Singapore<br>PC1=%{x}<br>PC2=%{y}<br>PC3=%{z}<br>Overall rank=%{marker.size}<extra></extra>\",\"legendgroup\":\"Singapore\",\"marker\":{\"color\":\"#EF553B\",\"size\":[34],\"sizemode\":\"area\",\"sizeref\":0.385,\"symbol\":\"circle\"},\"mode\":\"markers\",\"name\":\"Singapore\",\"scene\":\"scene\",\"showlegend\":true,\"x\":[-3.7241287196585295],\"y\":[1.8557718836640291],\"z\":[1.8740818695604982],\"type\":\"scatter3d\"},{\"hovertemplate\":\"Country=El Salvador<br>PC1=%{x}<br>PC2=%{y}<br>PC3=%{z}<br>Overall rank=%{marker.size}<extra></extra>\",\"legendgroup\":\"El Salvador\",\"marker\":{\"color\":\"#00cc96\",\"size\":[35],\"sizemode\":\"area\",\"sizeref\":0.385,\"symbol\":\"circle\"},\"mode\":\"markers\",\"name\":\"El Salvador\",\"scene\":\"scene\",\"showlegend\":true,\"x\":[-0.25409154145422097],\"y\":[-0.7138385404768778],\"z\":[0.16517835182347995],\"type\":\"scatter3d\"},{\"hovertemplate\":\"Country=Italy<br>PC1=%{x}<br>PC2=%{y}<br>PC3=%{z}<br>Overall rank=%{marker.size}<extra></extra>\",\"legendgroup\":\"Italy\",\"marker\":{\"color\":\"#ab63fa\",\"size\":[36],\"sizemode\":\"area\",\"sizeref\":0.385,\"symbol\":\"circle\"},\"mode\":\"markers\",\"name\":\"Italy\",\"scene\":\"scene\",\"showlegend\":true,\"x\":[-1.1764377076987467],\"y\":[-1.765224769655185],\"z\":[-0.7707082131906275],\"type\":\"scatter3d\"},{\"hovertemplate\":\"Country=Bahrain<br>PC1=%{x}<br>PC2=%{y}<br>PC3=%{z}<br>Overall rank=%{marker.size}<extra></extra>\",\"legendgroup\":\"Bahrain\",\"marker\":{\"color\":\"#FFA15A\",\"size\":[37],\"sizemode\":\"area\",\"sizeref\":0.385,\"symbol\":\"circle\"},\"mode\":\"markers\",\"name\":\"Bahrain\",\"scene\":\"scene\",\"showlegend\":true,\"x\":[-1.7495318476009387],\"y\":[0.4038379246878085],\"z\":[-0.6459694339820367],\"type\":\"scatter3d\"},{\"hovertemplate\":\"Country=Slovakia<br>PC1=%{x}<br>PC2=%{y}<br>PC3=%{z}<br>Overall rank=%{marker.size}<extra></extra>\",\"legendgroup\":\"Slovakia\",\"marker\":{\"color\":\"#19d3f3\",\"size\":[38],\"sizemode\":\"area\",\"sizeref\":0.385,\"symbol\":\"circle\"},\"mode\":\"markers\",\"name\":\"Slovakia\",\"scene\":\"scene\",\"showlegend\":true,\"x\":[-0.995945118875777],\"y\":[-1.6600531527390088],\"z\":[-0.685865876028943],\"type\":\"scatter3d\"},{\"hovertemplate\":\"Country=Poland<br>PC1=%{x}<br>PC2=%{y}<br>PC3=%{z}<br>Overall rank=%{marker.size}<extra></extra>\",\"legendgroup\":\"Poland\",\"marker\":{\"color\":\"#FF6692\",\"size\":[40],\"sizemode\":\"area\",\"sizeref\":0.385,\"symbol\":\"circle\"},\"mode\":\"markers\",\"name\":\"Poland\",\"scene\":\"scene\",\"showlegend\":true,\"x\":[-1.2890881492572204],\"y\":[-1.0041693942599812],\"z\":[-0.3498816590929023],\"type\":\"scatter3d\"},{\"hovertemplate\":\"Country=Uzbekistan<br>PC1=%{x}<br>PC2=%{y}<br>PC3=%{z}<br>Overall rank=%{marker.size}<extra></extra>\",\"legendgroup\":\"Uzbekistan\",\"marker\":{\"color\":\"#B6E880\",\"size\":[41],\"sizemode\":\"area\",\"sizeref\":0.385,\"symbol\":\"circle\"},\"mode\":\"markers\",\"name\":\"Uzbekistan\",\"scene\":\"scene\",\"showlegend\":true,\"x\":[-1.666719476127334],\"y\":[2.180281645407035],\"z\":[-0.23124135557123138],\"type\":\"scatter3d\"},{\"hovertemplate\":\"Country=Lithuania<br>PC1=%{x}<br>PC2=%{y}<br>PC3=%{z}<br>Overall rank=%{marker.size}<extra></extra>\",\"legendgroup\":\"Lithuania\",\"marker\":{\"color\":\"#FF97FF\",\"size\":[42],\"sizemode\":\"area\",\"sizeref\":0.385,\"symbol\":\"circle\"},\"mode\":\"markers\",\"name\":\"Lithuania\",\"scene\":\"scene\",\"showlegend\":true,\"x\":[-0.7780089107313292],\"y\":[-2.150918704971909],\"z\":[0.03188944829788835],\"type\":\"scatter3d\"},{\"hovertemplate\":\"Country=Colombia<br>PC1=%{x}<br>PC2=%{y}<br>PC3=%{z}<br>Overall rank=%{marker.size}<extra></extra>\",\"legendgroup\":\"Colombia\",\"marker\":{\"color\":\"#FECB52\",\"size\":[43],\"sizemode\":\"area\",\"sizeref\":0.385,\"symbol\":\"circle\"},\"mode\":\"markers\",\"name\":\"Colombia\",\"scene\":\"scene\",\"showlegend\":true,\"x\":[-0.7807234098590115],\"y\":[-1.0488844661853403],\"z\":[-0.34753032612262597],\"type\":\"scatter3d\"},{\"hovertemplate\":\"Country=Slovenia<br>PC1=%{x}<br>PC2=%{y}<br>PC3=%{z}<br>Overall rank=%{marker.size}<extra></extra>\",\"legendgroup\":\"Slovenia\",\"marker\":{\"color\":\"#636efa\",\"size\":[44],\"sizemode\":\"area\",\"sizeref\":0.385,\"symbol\":\"circle\"},\"mode\":\"markers\",\"name\":\"Slovenia\",\"scene\":\"scene\",\"showlegend\":true,\"x\":[-1.8217658672334247],\"y\":[-0.6979485565205036],\"z\":[-0.5658331112910031],\"type\":\"scatter3d\"},{\"hovertemplate\":\"Country=Nicaragua<br>PC1=%{x}<br>PC2=%{y}<br>PC3=%{z}<br>Overall rank=%{marker.size}<extra></extra>\",\"legendgroup\":\"Nicaragua\",\"marker\":{\"color\":\"#EF553B\",\"size\":[45],\"sizemode\":\"area\",\"sizeref\":0.385,\"symbol\":\"circle\"},\"mode\":\"markers\",\"name\":\"Nicaragua\",\"scene\":\"scene\",\"showlegend\":true,\"x\":[-0.5326707207851639],\"y\":[0.2994418543370911],\"z\":[-0.15843930906161796],\"type\":\"scatter3d\"},{\"hovertemplate\":\"Country=Kosovo<br>PC1=%{x}<br>PC2=%{y}<br>PC3=%{z}<br>Overall rank=%{marker.size}<extra></extra>\",\"legendgroup\":\"Kosovo\",\"marker\":{\"color\":\"#00cc96\",\"size\":[46],\"sizemode\":\"area\",\"sizeref\":0.385,\"symbol\":\"circle\"},\"mode\":\"markers\",\"name\":\"Kosovo\",\"scene\":\"scene\",\"showlegend\":true,\"x\":[-0.29696179730598693],\"y\":[0.3100477040876475],\"z\":[-1.3998212448202374],\"type\":\"scatter3d\"},{\"hovertemplate\":\"Country=Argentina<br>PC1=%{x}<br>PC2=%{y}<br>PC3=%{z}<br>Overall rank=%{marker.size}<extra></extra>\",\"legendgroup\":\"Argentina\",\"marker\":{\"color\":\"#ab63fa\",\"size\":[47],\"sizemode\":\"area\",\"sizeref\":0.385,\"symbol\":\"circle\"},\"mode\":\"markers\",\"name\":\"Argentina\",\"scene\":\"scene\",\"showlegend\":true,\"x\":[-1.0263064895870597],\"y\":[-1.3209432328868789],\"z\":[-0.03281364018806358],\"type\":\"scatter3d\"},{\"hovertemplate\":\"Country=Romania<br>PC1=%{x}<br>PC2=%{y}<br>PC3=%{z}<br>Overall rank=%{marker.size}<extra></extra>\",\"legendgroup\":\"Romania\",\"marker\":{\"color\":\"#FFA15A\",\"size\":[48],\"sizemode\":\"area\",\"sizeref\":0.385,\"symbol\":\"circle\"},\"mode\":\"markers\",\"name\":\"Romania\",\"scene\":\"scene\",\"showlegend\":true,\"x\":[-0.5453515269495677],\"y\":[-1.2923905287230342],\"z\":[-0.2849482488487809],\"type\":\"scatter3d\"},{\"hovertemplate\":\"Country=Cyprus<br>PC1=%{x}<br>PC2=%{y}<br>PC3=%{z}<br>Overall rank=%{marker.size}<extra></extra>\",\"legendgroup\":\"Cyprus\",\"marker\":{\"color\":\"#19d3f3\",\"size\":[49],\"sizemode\":\"area\",\"sizeref\":0.385,\"symbol\":\"circle\"},\"mode\":\"markers\",\"name\":\"Cyprus\",\"scene\":\"scene\",\"showlegend\":true,\"x\":[-1.1140676720491758],\"y\":[-0.7479095137492955],\"z\":[-0.6611539329005884],\"type\":\"scatter3d\"},{\"hovertemplate\":\"Country=Ecuador<br>PC1=%{x}<br>PC2=%{y}<br>PC3=%{z}<br>Overall rank=%{marker.size}<extra></extra>\",\"legendgroup\":\"Ecuador\",\"marker\":{\"color\":\"#FF6692\",\"size\":[50],\"sizemode\":\"area\",\"sizeref\":0.385,\"symbol\":\"circle\"},\"mode\":\"markers\",\"name\":\"Ecuador\",\"scene\":\"scene\",\"showlegend\":true,\"x\":[-0.7827490172070312],\"y\":[-0.4058004563799537],\"z\":[-0.008002745197379745],\"type\":\"scatter3d\"},{\"hovertemplate\":\"Country=Kuwait<br>PC1=%{x}<br>PC2=%{y}<br>PC3=%{z}<br>Overall rank=%{marker.size}<extra></extra>\",\"legendgroup\":\"Kuwait\",\"marker\":{\"color\":\"#B6E880\",\"size\":[51],\"sizemode\":\"area\",\"sizeref\":0.385,\"symbol\":\"circle\"},\"mode\":\"markers\",\"name\":\"Kuwait\",\"scene\":\"scene\",\"showlegend\":true,\"x\":[-1.414129493138035],\"y\":[-0.5865810115978646],\"z\":[0.03768192782211831],\"type\":\"scatter3d\"},{\"hovertemplate\":\"Country=Thailand<br>PC1=%{x}<br>PC2=%{y}<br>PC3=%{z}<br>Overall rank=%{marker.size}<extra></extra>\",\"legendgroup\":\"Thailand\",\"marker\":{\"color\":\"#FF97FF\",\"size\":[52],\"sizemode\":\"area\",\"sizeref\":0.385,\"symbol\":\"circle\"},\"mode\":\"markers\",\"name\":\"Thailand\",\"scene\":\"scene\",\"showlegend\":true,\"x\":[-1.1712463862703226],\"y\":[1.0105245053316207],\"z\":[-1.9980821367907935],\"type\":\"scatter3d\"},{\"hovertemplate\":\"Country=Latvia<br>PC1=%{x}<br>PC2=%{y}<br>PC3=%{z}<br>Overall rank=%{marker.size}<extra></extra>\",\"legendgroup\":\"Latvia\",\"marker\":{\"color\":\"#FECB52\",\"size\":[53],\"sizemode\":\"area\",\"sizeref\":0.385,\"symbol\":\"circle\"},\"mode\":\"markers\",\"name\":\"Latvia\",\"scene\":\"scene\",\"showlegend\":true,\"x\":[-0.5579841863249483],\"y\":[-1.805273556444413],\"z\":[0.07465964489067842],\"type\":\"scatter3d\"},{\"hovertemplate\":\"Country=South Korea<br>PC1=%{x}<br>PC2=%{y}<br>PC3=%{z}<br>Overall rank=%{marker.size}<extra></extra>\",\"legendgroup\":\"South Korea\",\"marker\":{\"color\":\"#636efa\",\"size\":[54],\"sizemode\":\"area\",\"sizeref\":0.385,\"symbol\":\"circle\"},\"mode\":\"markers\",\"name\":\"South Korea\",\"scene\":\"scene\",\"showlegend\":true,\"x\":[-0.5279477175970972],\"y\":[-1.5029545793255943],\"z\":[-0.36993475115725494],\"type\":\"scatter3d\"},{\"hovertemplate\":\"Country=Estonia<br>PC1=%{x}<br>PC2=%{y}<br>PC3=%{z}<br>Overall rank=%{marker.size}<extra></extra>\",\"legendgroup\":\"Estonia\",\"marker\":{\"color\":\"#EF553B\",\"size\":[55],\"sizemode\":\"area\",\"sizeref\":0.385,\"symbol\":\"circle\"},\"mode\":\"markers\",\"name\":\"Estonia\",\"scene\":\"scene\",\"showlegend\":true,\"x\":[-1.6524196368446735],\"y\":[-0.5846158543752975],\"z\":[0.5579068912135572],\"type\":\"scatter3d\"},{\"hovertemplate\":\"Country=Jamaica<br>PC1=%{x}<br>PC2=%{y}<br>PC3=%{z}<br>Overall rank=%{marker.size}<extra></extra>\",\"legendgroup\":\"Jamaica\",\"marker\":{\"color\":\"#00cc96\",\"size\":[56],\"sizemode\":\"area\",\"sizeref\":0.385,\"symbol\":\"circle\"},\"mode\":\"markers\",\"name\":\"Jamaica\",\"scene\":\"scene\",\"showlegend\":true,\"x\":[-0.6166010479319157],\"y\":[-0.9013888402130754],\"z\":[-0.5146849783584232],\"type\":\"scatter3d\"},{\"hovertemplate\":\"Country=Mauritius<br>PC1=%{x}<br>PC2=%{y}<br>PC3=%{z}<br>Overall rank=%{marker.size}<extra></extra>\",\"legendgroup\":\"Mauritius\",\"marker\":{\"color\":\"#ab63fa\",\"size\":[57],\"sizemode\":\"area\",\"sizeref\":0.385,\"symbol\":\"circle\"},\"mode\":\"markers\",\"name\":\"Mauritius\",\"scene\":\"scene\",\"showlegend\":true,\"x\":[-0.9738494339073287],\"y\":[-0.04161875812709321],\"z\":[-0.8160015382387746],\"type\":\"scatter3d\"},{\"hovertemplate\":\"Country=Japan<br>PC1=%{x}<br>PC2=%{y}<br>PC3=%{z}<br>Overall rank=%{marker.size}<extra></extra>\",\"legendgroup\":\"Japan\",\"marker\":{\"color\":\"#FFA15A\",\"size\":[58],\"sizemode\":\"area\",\"sizeref\":0.385,\"symbol\":\"circle\"},\"mode\":\"markers\",\"name\":\"Japan\",\"scene\":\"scene\",\"showlegend\":true,\"x\":[-1.79521811600123],\"y\":[-1.233538606828763],\"z\":[0.6843357783137833],\"type\":\"scatter3d\"},{\"hovertemplate\":\"Country=Honduras<br>PC1=%{x}<br>PC2=%{y}<br>PC3=%{z}<br>Overall rank=%{marker.size}<extra></extra>\",\"legendgroup\":\"Honduras\",\"marker\":{\"color\":\"#19d3f3\",\"size\":[59],\"sizemode\":\"area\",\"sizeref\":0.385,\"symbol\":\"circle\"},\"mode\":\"markers\",\"name\":\"Honduras\",\"scene\":\"scene\",\"showlegend\":true,\"x\":[-0.27542556358968223],\"y\":[0.7075124959219488],\"z\":[-0.7556458337541321],\"type\":\"scatter3d\"},{\"hovertemplate\":\"Country=Kazakhstan<br>PC1=%{x}<br>PC2=%{y}<br>PC3=%{z}<br>Overall rank=%{marker.size}<extra></extra>\",\"legendgroup\":\"Kazakhstan\",\"marker\":{\"color\":\"#FF6692\",\"size\":[60],\"sizemode\":\"area\",\"sizeref\":0.385,\"symbol\":\"circle\"},\"mode\":\"markers\",\"name\":\"Kazakhstan\",\"scene\":\"scene\",\"showlegend\":true,\"x\":[-0.879271786237759],\"y\":[-0.6640244012633285],\"z\":[-0.16075037399367237],\"type\":\"scatter3d\"},{\"hovertemplate\":\"Country=Bolivia<br>PC1=%{x}<br>PC2=%{y}<br>PC3=%{z}<br>Overall rank=%{marker.size}<extra></extra>\",\"legendgroup\":\"Bolivia\",\"marker\":{\"color\":\"#B6E880\",\"size\":[61],\"sizemode\":\"area\",\"sizeref\":0.385,\"symbol\":\"circle\"},\"mode\":\"markers\",\"name\":\"Bolivia\",\"scene\":\"scene\",\"showlegend\":true,\"x\":[-0.00912702599835395],\"y\":[-0.09121770847033604],\"z\":[-0.13223704633395586],\"type\":\"scatter3d\"},{\"hovertemplate\":\"Country=Hungary<br>PC1=%{x}<br>PC2=%{y}<br>PC3=%{z}<br>Overall rank=%{marker.size}<extra></extra>\",\"legendgroup\":\"Hungary\",\"marker\":{\"color\":\"#FF97FF\",\"size\":[62],\"sizemode\":\"area\",\"sizeref\":0.385,\"symbol\":\"circle\"},\"mode\":\"markers\",\"name\":\"Hungary\",\"scene\":\"scene\",\"showlegend\":true,\"x\":[-0.16798123746224677],\"y\":[-2.144121074946077],\"z\":[-0.23692301497663582],\"type\":\"scatter3d\"},{\"hovertemplate\":\"Country=Paraguay<br>PC1=%{x}<br>PC2=%{y}<br>PC3=%{z}<br>Overall rank=%{marker.size}<extra></extra>\",\"legendgroup\":\"Paraguay\",\"marker\":{\"color\":\"#FECB52\",\"size\":[63],\"sizemode\":\"area\",\"sizeref\":0.385,\"symbol\":\"circle\"},\"mode\":\"markers\",\"name\":\"Paraguay\",\"scene\":\"scene\",\"showlegend\":true,\"x\":[-0.7349829014428128],\"y\":[0.018754348874588562],\"z\":[-0.5529671027913107],\"type\":\"scatter3d\"},{\"hovertemplate\":\"Country=Peru<br>PC1=%{x}<br>PC2=%{y}<br>PC3=%{z}<br>Overall rank=%{marker.size}<extra></extra>\",\"legendgroup\":\"Peru\",\"marker\":{\"color\":\"#636efa\",\"size\":[65],\"sizemode\":\"area\",\"sizeref\":0.385,\"symbol\":\"circle\"},\"mode\":\"markers\",\"name\":\"Peru\",\"scene\":\"scene\",\"showlegend\":true,\"x\":[-0.3061525148546388],\"y\":[-1.1173291870554982],\"z\":[-0.150929944022601],\"type\":\"scatter3d\"},{\"hovertemplate\":\"Country=Portugal<br>PC1=%{x}<br>PC2=%{y}<br>PC3=%{z}<br>Overall rank=%{marker.size}<extra></extra>\",\"legendgroup\":\"Portugal\",\"marker\":{\"color\":\"#EF553B\",\"size\":[66],\"sizemode\":\"area\",\"sizeref\":0.385,\"symbol\":\"circle\"},\"mode\":\"markers\",\"name\":\"Portugal\",\"scene\":\"scene\",\"showlegend\":true,\"x\":[-1.2377070049507466],\"y\":[-1.6454721850076146],\"z\":[-0.11167758148226235],\"type\":\"scatter3d\"},{\"hovertemplate\":\"Country=Pakistan<br>PC1=%{x}<br>PC2=%{y}<br>PC3=%{z}<br>Overall rank=%{marker.size}<extra></extra>\",\"legendgroup\":\"Pakistan\",\"marker\":{\"color\":\"#00cc96\",\"size\":[67],\"sizemode\":\"area\",\"sizeref\":0.385,\"symbol\":\"circle\"},\"mode\":\"markers\",\"name\":\"Pakistan\",\"scene\":\"scene\",\"showlegend\":true,\"x\":[1.3093402852327383],\"y\":[0.5679053918132602],\"z\":[0.020206506894292306],\"type\":\"scatter3d\"},{\"hovertemplate\":\"Country=Russia<br>PC1=%{x}<br>PC2=%{y}<br>PC3=%{z}<br>Overall rank=%{marker.size}<extra></extra>\",\"legendgroup\":\"Russia\",\"marker\":{\"color\":\"#ab63fa\",\"size\":[68],\"sizemode\":\"area\",\"sizeref\":0.385,\"symbol\":\"circle\"},\"mode\":\"markers\",\"name\":\"Russia\",\"scene\":\"scene\",\"showlegend\":true,\"x\":[-0.31604911411065667],\"y\":[-1.6230966502695034],\"z\":[-0.20487540700466525],\"type\":\"scatter3d\"},{\"hovertemplate\":\"Country=Philippines<br>PC1=%{x}<br>PC2=%{y}<br>PC3=%{z}<br>Overall rank=%{marker.size}<extra></extra>\",\"legendgroup\":\"Philippines\",\"marker\":{\"color\":\"#FFA15A\",\"size\":[69],\"sizemode\":\"area\",\"sizeref\":0.385,\"symbol\":\"circle\"},\"mode\":\"markers\",\"name\":\"Philippines\",\"scene\":\"scene\",\"showlegend\":true,\"x\":[-0.2356896812727643],\"y\":[0.07826091796000817],\"z\":[0.26372076259760635],\"type\":\"scatter3d\"},{\"hovertemplate\":\"Country=Serbia<br>PC1=%{x}<br>PC2=%{y}<br>PC3=%{z}<br>Overall rank=%{marker.size}<extra></extra>\",\"legendgroup\":\"Serbia\",\"marker\":{\"color\":\"#19d3f3\",\"size\":[70],\"sizemode\":\"area\",\"sizeref\":0.385,\"symbol\":\"circle\"},\"mode\":\"markers\",\"name\":\"Serbia\",\"scene\":\"scene\",\"showlegend\":true,\"x\":[-0.16123004138449665],\"y\":[-1.2777249464967932],\"z\":[-0.4385950003504672],\"type\":\"scatter3d\"},{\"hovertemplate\":\"Country=Moldova<br>PC1=%{x}<br>PC2=%{y}<br>PC3=%{z}<br>Overall rank=%{marker.size}<extra></extra>\",\"legendgroup\":\"Moldova\",\"marker\":{\"color\":\"#FF6692\",\"size\":[71],\"sizemode\":\"area\",\"sizeref\":0.385,\"symbol\":\"circle\"},\"mode\":\"markers\",\"name\":\"Moldova\",\"scene\":\"scene\",\"showlegend\":true,\"x\":[0.72679143234573],\"y\":[-0.9164801031264858],\"z\":[-0.9645122785763746],\"type\":\"scatter3d\"},{\"hovertemplate\":\"Country=Libya<br>PC1=%{x}<br>PC2=%{y}<br>PC3=%{z}<br>Overall rank=%{marker.size}<extra></extra>\",\"legendgroup\":\"Libya\",\"marker\":{\"color\":\"#B6E880\",\"size\":[72],\"sizemode\":\"area\",\"sizeref\":0.385,\"symbol\":\"circle\"},\"mode\":\"markers\",\"name\":\"Libya\",\"scene\":\"scene\",\"showlegend\":true,\"x\":[-0.3285105704813188],\"y\":[-0.1602869269321671],\"z\":[0.5780494871758591],\"type\":\"scatter3d\"},{\"hovertemplate\":\"Country=Montenegro<br>PC1=%{x}<br>PC2=%{y}<br>PC3=%{z}<br>Overall rank=%{marker.size}<extra></extra>\",\"legendgroup\":\"Montenegro\",\"marker\":{\"color\":\"#FF97FF\",\"size\":[73],\"sizemode\":\"area\",\"sizeref\":0.385,\"symbol\":\"circle\"},\"mode\":\"markers\",\"name\":\"Montenegro\",\"scene\":\"scene\",\"showlegend\":true,\"x\":[-0.10097223638367542],\"y\":[-1.3060492739844765],\"z\":[-0.09242389848773427],\"type\":\"scatter3d\"},{\"hovertemplate\":\"Country=Tajikistan<br>PC1=%{x}<br>PC2=%{y}<br>PC3=%{z}<br>Overall rank=%{marker.size}<extra></extra>\",\"legendgroup\":\"Tajikistan\",\"marker\":{\"color\":\"#FECB52\",\"size\":[74],\"sizemode\":\"area\",\"sizeref\":0.385,\"symbol\":\"circle\"},\"mode\":\"markers\",\"name\":\"Tajikistan\",\"scene\":\"scene\",\"showlegend\":true,\"x\":[0.6098661144078805],\"y\":[0.8933367255221581],\"z\":[0.06272756512528127],\"type\":\"scatter3d\"},{\"hovertemplate\":\"Country=Croatia<br>PC1=%{x}<br>PC2=%{y}<br>PC3=%{z}<br>Overall rank=%{marker.size}<extra></extra>\",\"legendgroup\":\"Croatia\",\"marker\":{\"color\":\"#636efa\",\"size\":[75],\"sizemode\":\"area\",\"sizeref\":0.385,\"symbol\":\"circle\"},\"mode\":\"markers\",\"name\":\"Croatia\",\"scene\":\"scene\",\"showlegend\":true,\"x\":[-0.1703605992438853],\"y\":[-1.5034970913815062],\"z\":[-0.3419230648429706],\"type\":\"scatter3d\"},{\"hovertemplate\":\"Country=Dominican Republic<br>PC1=%{x}<br>PC2=%{y}<br>PC3=%{z}<br>Overall rank=%{marker.size}<extra></extra>\",\"legendgroup\":\"Dominican Republic\",\"marker\":{\"color\":\"#EF553B\",\"size\":[77],\"sizemode\":\"area\",\"sizeref\":0.385,\"symbol\":\"circle\"},\"mode\":\"markers\",\"name\":\"Dominican Republic\",\"scene\":\"scene\",\"showlegend\":true,\"x\":[-0.6398475118062623],\"y\":[-0.4705091474312333],\"z\":[0.16064798978604553],\"type\":\"scatter3d\"},{\"hovertemplate\":\"Country=Bosnia and Herzegovina<br>PC1=%{x}<br>PC2=%{y}<br>PC3=%{z}<br>Overall rank=%{marker.size}<extra></extra>\",\"legendgroup\":\"Bosnia and Herzegovina\",\"marker\":{\"color\":\"#00cc96\",\"size\":[78],\"sizemode\":\"area\",\"sizeref\":0.385,\"symbol\":\"circle\"},\"mode\":\"markers\",\"name\":\"Bosnia and Herzegovina\",\"scene\":\"scene\",\"showlegend\":true,\"x\":[0.4510588415517432],\"y\":[-0.5559831516634998],\"z\":[-1.2868598663435369],\"type\":\"scatter3d\"},{\"hovertemplate\":\"Country=Turkey<br>PC1=%{x}<br>PC2=%{y}<br>PC3=%{z}<br>Overall rank=%{marker.size}<extra></extra>\",\"legendgroup\":\"Turkey\",\"marker\":{\"color\":\"#ab63fa\",\"size\":[79],\"sizemode\":\"area\",\"sizeref\":0.385,\"symbol\":\"circle\"},\"mode\":\"markers\",\"name\":\"Turkey\",\"scene\":\"scene\",\"showlegend\":true,\"x\":[-0.09423504183279724],\"y\":[-1.6297000754178412],\"z\":[0.5134703116914755],\"type\":\"scatter3d\"},{\"hovertemplate\":\"Country=Malaysia<br>PC1=%{x}<br>PC2=%{y}<br>PC3=%{z}<br>Overall rank=%{marker.size}<extra></extra>\",\"legendgroup\":\"Malaysia\",\"marker\":{\"color\":\"#FFA15A\",\"size\":[80],\"sizemode\":\"area\",\"sizeref\":0.385,\"symbol\":\"circle\"},\"mode\":\"markers\",\"name\":\"Malaysia\",\"scene\":\"scene\",\"showlegend\":true,\"x\":[-0.5057130488262853],\"y\":[0.2362838107962424],\"z\":[-1.1253452585114143],\"type\":\"scatter3d\"},{\"hovertemplate\":\"Country=Belarus<br>PC1=%{x}<br>PC2=%{y}<br>PC3=%{z}<br>Overall rank=%{marker.size}<extra></extra>\",\"legendgroup\":\"Belarus\",\"marker\":{\"color\":\"#19d3f3\",\"size\":[81],\"sizemode\":\"area\",\"sizeref\":0.385,\"symbol\":\"circle\"},\"mode\":\"markers\",\"name\":\"Belarus\",\"scene\":\"scene\",\"showlegend\":true,\"x\":[-0.265225165620373],\"y\":[-1.2439844334340393],\"z\":[0.6186534646011812],\"type\":\"scatter3d\"},{\"hovertemplate\":\"Country=Greece<br>PC1=%{x}<br>PC2=%{y}<br>PC3=%{z}<br>Overall rank=%{marker.size}<extra></extra>\",\"legendgroup\":\"Greece\",\"marker\":{\"color\":\"#FF6692\",\"size\":[82],\"sizemode\":\"area\",\"sizeref\":0.385,\"symbol\":\"circle\"},\"mode\":\"markers\",\"name\":\"Greece\",\"scene\":\"scene\",\"showlegend\":true,\"x\":[0.4674015710182546],\"y\":[-2.95570387437933],\"z\":[0.6428851702785118],\"type\":\"scatter3d\"},{\"hovertemplate\":\"Country=Mongolia<br>PC1=%{x}<br>PC2=%{y}<br>PC3=%{z}<br>Overall rank=%{marker.size}<extra></extra>\",\"legendgroup\":\"Mongolia\",\"marker\":{\"color\":\"#B6E880\",\"size\":[83],\"sizemode\":\"area\",\"sizeref\":0.385,\"symbol\":\"circle\"},\"mode\":\"markers\",\"name\":\"Mongolia\",\"scene\":\"scene\",\"showlegend\":true,\"x\":[0.01583423772527523],\"y\":[-0.3874664692146851],\"z\":[-1.1512948967209715],\"type\":\"scatter3d\"},{\"hovertemplate\":\"Country=North Macedonia<br>PC1=%{x}<br>PC2=%{y}<br>PC3=%{z}<br>Overall rank=%{marker.size}<extra></extra>\",\"legendgroup\":\"North Macedonia\",\"marker\":{\"color\":\"#FF97FF\",\"size\":[84],\"sizemode\":\"area\",\"sizeref\":0.385,\"symbol\":\"circle\"},\"mode\":\"markers\",\"name\":\"North Macedonia\",\"scene\":\"scene\",\"showlegend\":true,\"x\":[0.00851147357440828],\"y\":[-0.6699449584906708],\"z\":[-0.6835987871552506],\"type\":\"scatter3d\"},{\"hovertemplate\":\"Country=Nigeria<br>PC1=%{x}<br>PC2=%{y}<br>PC3=%{z}<br>Overall rank=%{marker.size}<extra></extra>\",\"legendgroup\":\"Nigeria\",\"marker\":{\"color\":\"#FECB52\",\"size\":[85],\"sizemode\":\"area\",\"sizeref\":0.385,\"symbol\":\"circle\"},\"mode\":\"markers\",\"name\":\"Nigeria\",\"scene\":\"scene\",\"showlegend\":true,\"x\":[1.558023279834486],\"y\":[0.6457598002195641],\"z\":[-0.5709821947574624],\"type\":\"scatter3d\"},{\"hovertemplate\":\"Country=Kyrgyzstan<br>PC1=%{x}<br>PC2=%{y}<br>PC3=%{z}<br>Overall rank=%{marker.size}<extra></extra>\",\"legendgroup\":\"Kyrgyzstan\",\"marker\":{\"color\":\"#636efa\",\"size\":[86],\"sizemode\":\"area\",\"sizeref\":0.385,\"symbol\":\"circle\"},\"mode\":\"markers\",\"name\":\"Kyrgyzstan\",\"scene\":\"scene\",\"showlegend\":true,\"x\":[0.08900266188598886],\"y\":[0.8335326220355903],\"z\":[-1.676987802455637],\"type\":\"scatter3d\"},{\"hovertemplate\":\"Country=Turkmenistan<br>PC1=%{x}<br>PC2=%{y}<br>PC3=%{z}<br>Overall rank=%{marker.size}<extra></extra>\",\"legendgroup\":\"Turkmenistan\",\"marker\":{\"color\":\"#EF553B\",\"size\":[87],\"sizemode\":\"area\",\"sizeref\":0.385,\"symbol\":\"circle\"},\"mode\":\"markers\",\"name\":\"Turkmenistan\",\"scene\":\"scene\",\"showlegend\":true,\"x\":[-0.24425776528547957],\"y\":[-0.21357970140884272],\"z\":[-1.298328312450832],\"type\":\"scatter3d\"},{\"hovertemplate\":\"Country=Algeria<br>PC1=%{x}<br>PC2=%{y}<br>PC3=%{z}<br>Overall rank=%{marker.size}<extra></extra>\",\"legendgroup\":\"Algeria\",\"marker\":{\"color\":\"#00cc96\",\"size\":[88],\"sizemode\":\"area\",\"sizeref\":0.385,\"symbol\":\"circle\"},\"mode\":\"markers\",\"name\":\"Algeria\",\"scene\":\"scene\",\"showlegend\":true,\"x\":[0.7964493599106385],\"y\":[-1.6792645382913358],\"z\":[0.854487203965163],\"type\":\"scatter3d\"},{\"hovertemplate\":\"Country=Morocco<br>PC1=%{x}<br>PC2=%{y}<br>PC3=%{z}<br>Overall rank=%{marker.size}<extra></extra>\",\"legendgroup\":\"Morocco\",\"marker\":{\"color\":\"#ab63fa\",\"size\":[89],\"sizemode\":\"area\",\"sizeref\":0.385,\"symbol\":\"circle\"},\"mode\":\"markers\",\"name\":\"Morocco\",\"scene\":\"scene\",\"showlegend\":true,\"x\":[1.0021303111634874],\"y\":[-0.7544312936291792],\"z\":[1.0393194423733987],\"type\":\"scatter3d\"},{\"hovertemplate\":\"Country=Azerbaijan<br>PC1=%{x}<br>PC2=%{y}<br>PC3=%{z}<br>Overall rank=%{marker.size}<extra></extra>\",\"legendgroup\":\"Azerbaijan\",\"marker\":{\"color\":\"#FFA15A\",\"size\":[90],\"sizemode\":\"area\",\"sizeref\":0.385,\"symbol\":\"circle\"},\"mode\":\"markers\",\"name\":\"Azerbaijan\",\"scene\":\"scene\",\"showlegend\":true,\"x\":[0.01745963967771822],\"y\":[-0.8497806327079711],\"z\":[1.5868140873956313],\"type\":\"scatter3d\"},{\"hovertemplate\":\"Country=Lebanon<br>PC1=%{x}<br>PC2=%{y}<br>PC3=%{z}<br>Overall rank=%{marker.size}<extra></extra>\",\"legendgroup\":\"Lebanon\",\"marker\":{\"color\":\"#19d3f3\",\"size\":[91],\"sizemode\":\"area\",\"sizeref\":0.385,\"symbol\":\"circle\"},\"mode\":\"markers\",\"name\":\"Lebanon\",\"scene\":\"scene\",\"showlegend\":true,\"x\":[0.5290282861464713],\"y\":[-1.139129339236828],\"z\":[-0.5143731933157948],\"type\":\"scatter3d\"},{\"hovertemplate\":\"Country=Indonesia<br>PC1=%{x}<br>PC2=%{y}<br>PC3=%{z}<br>Overall rank=%{marker.size}<extra></extra>\",\"legendgroup\":\"Indonesia\",\"marker\":{\"color\":\"#FF6692\",\"size\":[92],\"sizemode\":\"area\",\"sizeref\":0.385,\"symbol\":\"circle\"},\"mode\":\"markers\",\"name\":\"Indonesia\",\"scene\":\"scene\",\"showlegend\":true,\"x\":[0.024646761324034896],\"y\":[2.223920410551523],\"z\":[-2.5700542469015315],\"type\":\"scatter3d\"},{\"hovertemplate\":\"Country=China<br>PC1=%{x}<br>PC2=%{y}<br>PC3=%{z}<br>Overall rank=%{marker.size}<extra></extra>\",\"legendgroup\":\"China\",\"marker\":{\"color\":\"#B6E880\",\"size\":[93],\"sizemode\":\"area\",\"sizeref\":0.385,\"symbol\":\"circle\"},\"mode\":\"markers\",\"name\":\"China\",\"scene\":\"scene\",\"showlegend\":true,\"x\":[-0.34803849237799245],\"y\":[-0.6855310149765473],\"z\":[0.7432913841190245],\"type\":\"scatter3d\"},{\"hovertemplate\":\"Country=Vietnam<br>PC1=%{x}<br>PC2=%{y}<br>PC3=%{z}<br>Overall rank=%{marker.size}<extra></extra>\",\"legendgroup\":\"Vietnam\",\"marker\":{\"color\":\"#FF97FF\",\"size\":[94],\"sizemode\":\"area\",\"sizeref\":0.385,\"symbol\":\"circle\"},\"mode\":\"markers\",\"name\":\"Vietnam\",\"scene\":\"scene\",\"showlegend\":true,\"x\":[-0.3070292283647398],\"y\":[-0.06919409451855545],\"z\":[-0.25718463544324854],\"type\":\"scatter3d\"},{\"hovertemplate\":\"Country=Cameroon<br>PC1=%{x}<br>PC2=%{y}<br>PC3=%{z}<br>Overall rank=%{marker.size}<extra></extra>\",\"legendgroup\":\"Cameroon\",\"marker\":{\"color\":\"#FECB52\",\"size\":[96],\"sizemode\":\"area\",\"sizeref\":0.385,\"symbol\":\"circle\"},\"mode\":\"markers\",\"name\":\"Cameroon\",\"scene\":\"scene\",\"showlegend\":true,\"x\":[2.122877447393111],\"y\":[0.4792390519901991],\"z\":[-0.24443597737317274],\"type\":\"scatter3d\"},{\"hovertemplate\":\"Country=Bulgaria<br>PC1=%{x}<br>PC2=%{y}<br>PC3=%{z}<br>Overall rank=%{marker.size}<extra></extra>\",\"legendgroup\":\"Bulgaria\",\"marker\":{\"color\":\"#636efa\",\"size\":[97],\"sizemode\":\"area\",\"sizeref\":0.385,\"symbol\":\"circle\"},\"mode\":\"markers\",\"name\":\"Bulgaria\",\"scene\":\"scene\",\"showlegend\":true,\"x\":[-0.06524276597974213],\"y\":[-1.8753176244244982],\"z\":[-0.45695268104850095],\"type\":\"scatter3d\"},{\"hovertemplate\":\"Country=Ghana<br>PC1=%{x}<br>PC2=%{y}<br>PC3=%{z}<br>Overall rank=%{marker.size}<extra></extra>\",\"legendgroup\":\"Ghana\",\"marker\":{\"color\":\"#EF553B\",\"size\":[98],\"sizemode\":\"area\",\"sizeref\":0.385,\"symbol\":\"circle\"},\"mode\":\"markers\",\"name\":\"Ghana\",\"scene\":\"scene\",\"showlegend\":true,\"x\":[1.7831499331420837],\"y\":[0.7723829778108438],\"z\":[-0.5569166994218885],\"type\":\"scatter3d\"},{\"hovertemplate\":\"Country=Ivory Coast<br>PC1=%{x}<br>PC2=%{y}<br>PC3=%{z}<br>Overall rank=%{marker.size}<extra></extra>\",\"legendgroup\":\"Ivory Coast\",\"marker\":{\"color\":\"#00cc96\",\"size\":[99],\"sizemode\":\"area\",\"sizeref\":0.385,\"symbol\":\"circle\"},\"mode\":\"markers\",\"name\":\"Ivory Coast\",\"scene\":\"scene\",\"showlegend\":true,\"x\":[2.4392326776419253],\"y\":[0.5787983316682531],\"z\":[0.5149246330075774],\"type\":\"scatter3d\"},{\"hovertemplate\":\"Country=Nepal<br>PC1=%{x}<br>PC2=%{y}<br>PC3=%{z}<br>Overall rank=%{marker.size}<extra></extra>\",\"legendgroup\":\"Nepal\",\"marker\":{\"color\":\"#ab63fa\",\"size\":[100],\"sizemode\":\"area\",\"sizeref\":0.385,\"symbol\":\"circle\"},\"mode\":\"markers\",\"name\":\"Nepal\",\"scene\":\"scene\",\"showlegend\":true,\"x\":[0.7797021690475627],\"y\":[1.140646754060088],\"z\":[-0.8162229949742827],\"type\":\"scatter3d\"},{\"hovertemplate\":\"Country=Jordan<br>PC1=%{x}<br>PC2=%{y}<br>PC3=%{z}<br>Overall rank=%{marker.size}<extra></extra>\",\"legendgroup\":\"Jordan\",\"marker\":{\"color\":\"#FFA15A\",\"size\":[101],\"sizemode\":\"area\",\"sizeref\":0.385,\"symbol\":\"circle\"},\"mode\":\"markers\",\"name\":\"Jordan\",\"scene\":\"scene\",\"showlegend\":true,\"x\":[0.19882820922836938],\"y\":[-0.43779441369836813],\"z\":[0.6149126635160136],\"type\":\"scatter3d\"},{\"hovertemplate\":\"Country=Benin<br>PC1=%{x}<br>PC2=%{y}<br>PC3=%{z}<br>Overall rank=%{marker.size}<extra></extra>\",\"legendgroup\":\"Benin\",\"marker\":{\"color\":\"#19d3f3\",\"size\":[102],\"sizemode\":\"area\",\"sizeref\":0.385,\"symbol\":\"circle\"},\"mode\":\"markers\",\"name\":\"Benin\",\"scene\":\"scene\",\"showlegend\":true,\"x\":[2.9605508781369383],\"y\":[0.9421123765831936],\"z\":[0.6343006333377139],\"type\":\"scatter3d\"},{\"hovertemplate\":\"Country=Congo (Brazzaville)<br>PC1=%{x}<br>PC2=%{y}<br>PC3=%{z}<br>Overall rank=%{marker.size}<extra></extra>\",\"legendgroup\":\"Congo (Brazzaville)\",\"marker\":{\"color\":\"#FF6692\",\"size\":[103],\"sizemode\":\"area\",\"sizeref\":0.385,\"symbol\":\"circle\"},\"mode\":\"markers\",\"name\":\"Congo (Brazzaville)\",\"scene\":\"scene\",\"showlegend\":true,\"x\":[1.8368239611032307],\"y\":[0.0092287227750201],\"z\":[0.8091486213236365],\"type\":\"scatter3d\"},{\"hovertemplate\":\"Country=Gabon<br>PC1=%{x}<br>PC2=%{y}<br>PC3=%{z}<br>Overall rank=%{marker.size}<extra></extra>\",\"legendgroup\":\"Gabon\",\"marker\":{\"color\":\"#B6E880\",\"size\":[104],\"sizemode\":\"area\",\"sizeref\":0.385,\"symbol\":\"circle\"},\"mode\":\"markers\",\"name\":\"Gabon\",\"scene\":\"scene\",\"showlegend\":true,\"x\":[0.9855121688734024],\"y\":[-1.4449006470580519],\"z\":[0.5617497279196979],\"type\":\"scatter3d\"},{\"hovertemplate\":\"Country=Laos<br>PC1=%{x}<br>PC2=%{y}<br>PC3=%{z}<br>Overall rank=%{marker.size}<extra></extra>\",\"legendgroup\":\"Laos\",\"marker\":{\"color\":\"#FF97FF\",\"size\":[105],\"sizemode\":\"area\",\"sizeref\":0.385,\"symbol\":\"circle\"},\"mode\":\"markers\",\"name\":\"Laos\",\"scene\":\"scene\",\"showlegend\":true,\"x\":[0.5506609940115934],\"y\":[1.7508296736700966],\"z\":[0.125060435036451],\"type\":\"scatter3d\"},{\"hovertemplate\":\"Country=South Africa<br>PC1=%{x}<br>PC2=%{y}<br>PC3=%{z}<br>Overall rank=%{marker.size}<extra></extra>\",\"legendgroup\":\"South Africa\",\"marker\":{\"color\":\"#FECB52\",\"size\":[106],\"sizemode\":\"area\",\"sizeref\":0.385,\"symbol\":\"circle\"},\"mode\":\"markers\",\"name\":\"South Africa\",\"scene\":\"scene\",\"showlegend\":true,\"x\":[0.7789756894627333],\"y\":[-0.5283371059132832],\"z\":[-0.14335840706042288],\"type\":\"scatter3d\"},{\"hovertemplate\":\"Country=Albania<br>PC1=%{x}<br>PC2=%{y}<br>PC3=%{z}<br>Overall rank=%{marker.size}<extra></extra>\",\"legendgroup\":\"Albania\",\"marker\":{\"color\":\"#636efa\",\"size\":[107],\"sizemode\":\"area\",\"sizeref\":0.385,\"symbol\":\"circle\"},\"mode\":\"markers\",\"name\":\"Albania\",\"scene\":\"scene\",\"showlegend\":true,\"x\":[0.8667396121979262],\"y\":[-0.2894194578033753],\"z\":[-0.2554371377335439],\"type\":\"scatter3d\"},{\"hovertemplate\":\"Country=Venezuela<br>PC1=%{x}<br>PC2=%{y}<br>PC3=%{z}<br>Overall rank=%{marker.size}<extra></extra>\",\"legendgroup\":\"Venezuela\",\"marker\":{\"color\":\"#EF553B\",\"size\":[108],\"sizemode\":\"area\",\"sizeref\":0.385,\"symbol\":\"circle\"},\"mode\":\"markers\",\"name\":\"Venezuela\",\"scene\":\"scene\",\"showlegend\":true,\"x\":[0.6425024226741708],\"y\":[-2.0638582123281233],\"z\":[0.12044231469832514],\"type\":\"scatter3d\"},{\"hovertemplate\":\"Country=Cambodia<br>PC1=%{x}<br>PC2=%{y}<br>PC3=%{z}<br>Overall rank=%{marker.size}<extra></extra>\",\"legendgroup\":\"Cambodia\",\"marker\":{\"color\":\"#00cc96\",\"size\":[109],\"sizemode\":\"area\",\"sizeref\":0.385,\"symbol\":\"circle\"},\"mode\":\"markers\",\"name\":\"Cambodia\",\"scene\":\"scene\",\"showlegend\":true,\"x\":[0.678748031243115],\"y\":[1.1545456513737242],\"z\":[-0.6167718901034928],\"type\":\"scatter3d\"},{\"hovertemplate\":\"Country=Palestinian Territories<br>PC1=%{x}<br>PC2=%{y}<br>PC3=%{z}<br>Overall rank=%{marker.size}<extra></extra>\",\"legendgroup\":\"Palestinian Territories\",\"marker\":{\"color\":\"#ab63fa\",\"size\":[110],\"sizemode\":\"area\",\"sizeref\":0.385,\"symbol\":\"circle\"},\"mode\":\"markers\",\"name\":\"Palestinian Territories\",\"scene\":\"scene\",\"showlegend\":true,\"x\":[1.3040233218241335],\"y\":[-1.036668666021387],\"z\":[0.18478941491085463],\"type\":\"scatter3d\"},{\"hovertemplate\":\"Country=Senegal<br>PC1=%{x}<br>PC2=%{y}<br>PC3=%{z}<br>Overall rank=%{marker.size}<extra></extra>\",\"legendgroup\":\"Senegal\",\"marker\":{\"color\":\"#FFA15A\",\"size\":[111],\"sizemode\":\"area\",\"sizeref\":0.385,\"symbol\":\"circle\"},\"mode\":\"markers\",\"name\":\"Senegal\",\"scene\":\"scene\",\"showlegend\":true,\"x\":[1.7210506877259204],\"y\":[-0.14795268606574866],\"z\":[0.017479574703194434],\"type\":\"scatter3d\"},{\"hovertemplate\":\"Country=Namibia<br>PC1=%{x}<br>PC2=%{y}<br>PC3=%{z}<br>Overall rank=%{marker.size}<extra></extra>\",\"legendgroup\":\"Namibia\",\"marker\":{\"color\":\"#19d3f3\",\"size\":[113],\"sizemode\":\"area\",\"sizeref\":0.385,\"symbol\":\"circle\"},\"mode\":\"markers\",\"name\":\"Namibia\",\"scene\":\"scene\",\"showlegend\":true,\"x\":[0.9736457901641357],\"y\":[-0.8417206688887041],\"z\":[0.262215302500895],\"type\":\"scatter3d\"},{\"hovertemplate\":\"Country=Niger<br>PC1=%{x}<br>PC2=%{y}<br>PC3=%{z}<br>Overall rank=%{marker.size}<extra></extra>\",\"legendgroup\":\"Niger\",\"marker\":{\"color\":\"#FF6692\",\"size\":[114],\"sizemode\":\"area\",\"sizeref\":0.385,\"symbol\":\"circle\"},\"mode\":\"markers\",\"name\":\"Niger\",\"scene\":\"scene\",\"showlegend\":true,\"x\":[2.9128400606474463],\"y\":[0.9840579419912179],\"z\":[0.39406121632640345],\"type\":\"scatter3d\"},{\"hovertemplate\":\"Country=Burkina Faso<br>PC1=%{x}<br>PC2=%{y}<br>PC3=%{z}<br>Overall rank=%{marker.size}<extra></extra>\",\"legendgroup\":\"Burkina Faso\",\"marker\":{\"color\":\"#B6E880\",\"size\":[115],\"sizemode\":\"area\",\"sizeref\":0.385,\"symbol\":\"circle\"},\"mode\":\"markers\",\"name\":\"Burkina Faso\",\"scene\":\"scene\",\"showlegend\":true,\"x\":[2.3498942990864515],\"y\":[0.4260822413397731],\"z\":[0.31288266728102737],\"type\":\"scatter3d\"},{\"hovertemplate\":\"Country=Armenia<br>PC1=%{x}<br>PC2=%{y}<br>PC3=%{z}<br>Overall rank=%{marker.size}<extra></extra>\",\"legendgroup\":\"Armenia\",\"marker\":{\"color\":\"#FF97FF\",\"size\":[116],\"sizemode\":\"area\",\"sizeref\":0.385,\"symbol\":\"circle\"},\"mode\":\"markers\",\"name\":\"Armenia\",\"scene\":\"scene\",\"showlegend\":true,\"x\":[1.0350477139993153],\"y\":[-1.0295558077594724],\"z\":[0.3878176223865923],\"type\":\"scatter3d\"},{\"hovertemplate\":\"Country=Iran<br>PC1=%{x}<br>PC2=%{y}<br>PC3=%{z}<br>Overall rank=%{marker.size}<extra></extra>\",\"legendgroup\":\"Iran\",\"marker\":{\"color\":\"#FECB52\",\"size\":[117],\"sizemode\":\"area\",\"sizeref\":0.385,\"symbol\":\"circle\"},\"mode\":\"markers\",\"name\":\"Iran\",\"scene\":\"scene\",\"showlegend\":true,\"x\":[0.7732105620274843],\"y\":[0.6253780312943752],\"z\":[0.03168738186908333],\"type\":\"scatter3d\"},{\"hovertemplate\":\"Country=Guinea<br>PC1=%{x}<br>PC2=%{y}<br>PC3=%{z}<br>Overall rank=%{marker.size}<extra></extra>\",\"legendgroup\":\"Guinea\",\"marker\":{\"color\":\"#636efa\",\"size\":[118],\"sizemode\":\"area\",\"sizeref\":0.385,\"symbol\":\"circle\"},\"mode\":\"markers\",\"name\":\"Guinea\",\"scene\":\"scene\",\"showlegend\":true,\"x\":[2.5546700709457664],\"y\":[0.8780300519796989],\"z\":[0.12014220532709474],\"type\":\"scatter3d\"},{\"hovertemplate\":\"Country=Georgia<br>PC1=%{x}<br>PC2=%{y}<br>PC3=%{z}<br>Overall rank=%{marker.size}<extra></extra>\",\"legendgroup\":\"Georgia\",\"marker\":{\"color\":\"#EF553B\",\"size\":[119],\"sizemode\":\"area\",\"sizeref\":0.385,\"symbol\":\"circle\"},\"mode\":\"markers\",\"name\":\"Georgia\",\"scene\":\"scene\",\"showlegend\":true,\"x\":[1.357751644729756],\"y\":[-0.38626615793508645],\"z\":[1.8849845222496453],\"type\":\"scatter3d\"},{\"hovertemplate\":\"Country=Gambia<br>PC1=%{x}<br>PC2=%{y}<br>PC3=%{z}<br>Overall rank=%{marker.size}<extra></extra>\",\"legendgroup\":\"Gambia\",\"marker\":{\"color\":\"#00cc96\",\"size\":[120],\"sizemode\":\"area\",\"sizeref\":0.385,\"symbol\":\"circle\"},\"mode\":\"markers\",\"name\":\"Gambia\",\"scene\":\"scene\",\"showlegend\":true,\"x\":[1.9803041483497221],\"y\":[1.78942963188137],\"z\":[0.25413926372127704],\"type\":\"scatter3d\"},{\"hovertemplate\":\"Country=Kenya<br>PC1=%{x}<br>PC2=%{y}<br>PC3=%{z}<br>Overall rank=%{marker.size}<extra></extra>\",\"legendgroup\":\"Kenya\",\"marker\":{\"color\":\"#ab63fa\",\"size\":[121],\"sizemode\":\"area\",\"sizeref\":0.385,\"symbol\":\"circle\"},\"mode\":\"markers\",\"name\":\"Kenya\",\"scene\":\"scene\",\"showlegend\":true,\"x\":[1.4978514241214522],\"y\":[1.8022977084971432],\"z\":[-1.3555113359985644],\"type\":\"scatter3d\"},{\"hovertemplate\":\"Country=Mauritania<br>PC1=%{x}<br>PC2=%{y}<br>PC3=%{z}<br>Overall rank=%{marker.size}<extra></extra>\",\"legendgroup\":\"Mauritania\",\"marker\":{\"color\":\"#FFA15A\",\"size\":[122],\"sizemode\":\"area\",\"sizeref\":0.385,\"symbol\":\"circle\"},\"mode\":\"markers\",\"name\":\"Mauritania\",\"scene\":\"scene\",\"showlegend\":true,\"x\":[2.2864629141700186],\"y\":[-1.0820708497932199],\"z\":[0.4972832071896822],\"type\":\"scatter3d\"},{\"hovertemplate\":\"Country=Mozambique<br>PC1=%{x}<br>PC2=%{y}<br>PC3=%{z}<br>Overall rank=%{marker.size}<extra></extra>\",\"legendgroup\":\"Mozambique\",\"marker\":{\"color\":\"#19d3f3\",\"size\":[123],\"sizemode\":\"area\",\"sizeref\":0.385,\"symbol\":\"circle\"},\"mode\":\"markers\",\"name\":\"Mozambique\",\"scene\":\"scene\",\"showlegend\":true,\"x\":[2.0018967231784806],\"y\":[1.514692794223908],\"z\":[0.39097438127106016],\"type\":\"scatter3d\"},{\"hovertemplate\":\"Country=Tunisia<br>PC1=%{x}<br>PC2=%{y}<br>PC3=%{z}<br>Overall rank=%{marker.size}<extra></extra>\",\"legendgroup\":\"Tunisia\",\"marker\":{\"color\":\"#FF6692\",\"size\":[124],\"sizemode\":\"area\",\"sizeref\":0.385,\"symbol\":\"circle\"},\"mode\":\"markers\",\"name\":\"Tunisia\",\"scene\":\"scene\",\"showlegend\":true,\"x\":[1.4042259439428102],\"y\":[-1.6667672695765343],\"z\":[0.6312123633670663],\"type\":\"scatter3d\"},{\"hovertemplate\":\"Country=Bangladesh<br>PC1=%{x}<br>PC2=%{y}<br>PC3=%{z}<br>Overall rank=%{marker.size}<extra></extra>\",\"legendgroup\":\"Bangladesh\",\"marker\":{\"color\":\"#B6E880\",\"size\":[125],\"sizemode\":\"area\",\"sizeref\":0.385,\"symbol\":\"circle\"},\"mode\":\"markers\",\"name\":\"Bangladesh\",\"scene\":\"scene\",\"showlegend\":true,\"x\":[0.9570377549892162],\"y\":[0.9439369678548302],\"z\":[0.6414940818165648],\"type\":\"scatter3d\"},{\"hovertemplate\":\"Country=Iraq<br>PC1=%{x}<br>PC2=%{y}<br>PC3=%{z}<br>Overall rank=%{marker.size}<extra></extra>\",\"legendgroup\":\"Iraq\",\"marker\":{\"color\":\"#FF97FF\",\"size\":[126],\"sizemode\":\"area\",\"sizeref\":0.385,\"symbol\":\"circle\"},\"mode\":\"markers\",\"name\":\"Iraq\",\"scene\":\"scene\",\"showlegend\":true,\"x\":[1.4249651998442963],\"y\":[-0.5011003990003372],\"z\":[0.4168127052605169],\"type\":\"scatter3d\"},{\"hovertemplate\":\"Country=Mali<br>PC1=%{x}<br>PC2=%{y}<br>PC3=%{z}<br>Overall rank=%{marker.size}<extra></extra>\",\"legendgroup\":\"Mali\",\"marker\":{\"color\":\"#FECB52\",\"size\":[128],\"sizemode\":\"area\",\"sizeref\":0.385,\"symbol\":\"circle\"},\"mode\":\"markers\",\"name\":\"Mali\",\"scene\":\"scene\",\"showlegend\":true,\"x\":[2.4534097830925745],\"y\":[0.1508909511675257],\"z\":[-0.06320791504324107],\"type\":\"scatter3d\"},{\"hovertemplate\":\"Country=Sierra Leone<br>PC1=%{x}<br>PC2=%{y}<br>PC3=%{z}<br>Overall rank=%{marker.size}<extra></extra>\",\"legendgroup\":\"Sierra Leone\",\"marker\":{\"color\":\"#636efa\",\"size\":[129],\"sizemode\":\"area\",\"sizeref\":0.385,\"symbol\":\"circle\"},\"mode\":\"markers\",\"name\":\"Sierra Leone\",\"scene\":\"scene\",\"showlegend\":true,\"x\":[3.131028833276054],\"y\":[1.1102982600593554],\"z\":[-0.4672029700511588],\"type\":\"scatter3d\"},{\"hovertemplate\":\"Country=Sri Lanka<br>PC1=%{x}<br>PC2=%{y}<br>PC3=%{z}<br>Overall rank=%{marker.size}<extra></extra>\",\"legendgroup\":\"Sri Lanka\",\"marker\":{\"color\":\"#EF553B\",\"size\":[130],\"sizemode\":\"area\",\"sizeref\":0.385,\"symbol\":\"circle\"},\"mode\":\"markers\",\"name\":\"Sri Lanka\",\"scene\":\"scene\",\"showlegend\":true,\"x\":[0.13030245726201695],\"y\":[0.25929241662061164],\"z\":[-0.8944567095760926],\"type\":\"scatter3d\"},{\"hovertemplate\":\"Country=Myanmar<br>PC1=%{x}<br>PC2=%{y}<br>PC3=%{z}<br>Overall rank=%{marker.size}<extra></extra>\",\"legendgroup\":\"Myanmar\",\"marker\":{\"color\":\"#00cc96\",\"size\":[131],\"sizemode\":\"area\",\"sizeref\":0.385,\"symbol\":\"circle\"},\"mode\":\"markers\",\"name\":\"Myanmar\",\"scene\":\"scene\",\"showlegend\":true,\"x\":[0.35483175337161504],\"y\":[3.808198607618222],\"z\":[-1.7745069011275314],\"type\":\"scatter3d\"},{\"hovertemplate\":\"Country=Chad<br>PC1=%{x}<br>PC2=%{y}<br>PC3=%{z}<br>Overall rank=%{marker.size}<extra></extra>\",\"legendgroup\":\"Chad\",\"marker\":{\"color\":\"#ab63fa\",\"size\":[132],\"sizemode\":\"area\",\"sizeref\":0.385,\"symbol\":\"circle\"},\"mode\":\"markers\",\"name\":\"Chad\",\"scene\":\"scene\",\"showlegend\":true,\"x\":[3.5230839478735354],\"y\":[0.5485003031879625],\"z\":[0.2536293311006598],\"type\":\"scatter3d\"},{\"hovertemplate\":\"Country=Ukraine<br>PC1=%{x}<br>PC2=%{y}<br>PC3=%{z}<br>Overall rank=%{marker.size}<extra></extra>\",\"legendgroup\":\"Ukraine\",\"marker\":{\"color\":\"#FFA15A\",\"size\":[133],\"sizemode\":\"area\",\"sizeref\":0.385,\"symbol\":\"circle\"},\"mode\":\"markers\",\"name\":\"Ukraine\",\"scene\":\"scene\",\"showlegend\":true,\"x\":[1.1128719450977265],\"y\":[-1.1107226581662775],\"z\":[-0.8816241338621842],\"type\":\"scatter3d\"},{\"hovertemplate\":\"Country=Ethiopia<br>PC1=%{x}<br>PC2=%{y}<br>PC3=%{z}<br>Overall rank=%{marker.size}<extra></extra>\",\"legendgroup\":\"Ethiopia\",\"marker\":{\"color\":\"#19d3f3\",\"size\":[134],\"sizemode\":\"area\",\"sizeref\":0.385,\"symbol\":\"circle\"},\"mode\":\"markers\",\"name\":\"Ethiopia\",\"scene\":\"scene\",\"showlegend\":true,\"x\":[2.022030852451983],\"y\":[0.7418321430130903],\"z\":[0.0011712107771491345],\"type\":\"scatter3d\"},{\"hovertemplate\":\"Country=Swaziland<br>PC1=%{x}<br>PC2=%{y}<br>PC3=%{z}<br>Overall rank=%{marker.size}<extra></extra>\",\"legendgroup\":\"Swaziland\",\"marker\":{\"color\":\"#FF6692\",\"size\":[135],\"sizemode\":\"area\",\"sizeref\":0.385,\"symbol\":\"circle\"},\"mode\":\"markers\",\"name\":\"Swaziland\",\"scene\":\"scene\",\"showlegend\":true,\"x\":[2.4016749514772346],\"y\":[-0.07841258949625002],\"z\":[1.158995420164359],\"type\":\"scatter3d\"},{\"hovertemplate\":\"Country=Uganda<br>PC1=%{x}<br>PC2=%{y}<br>PC3=%{z}<br>Overall rank=%{marker.size}<extra></extra>\",\"legendgroup\":\"Uganda\",\"marker\":{\"color\":\"#B6E880\",\"size\":[136],\"sizemode\":\"area\",\"sizeref\":0.385,\"symbol\":\"circle\"},\"mode\":\"markers\",\"name\":\"Uganda\",\"scene\":\"scene\",\"showlegend\":true,\"x\":[2.2344800755580567],\"y\":[0.9380691400198434],\"z\":[-0.5990830235357787],\"type\":\"scatter3d\"},{\"hovertemplate\":\"Country=Egypt<br>PC1=%{x}<br>PC2=%{y}<br>PC3=%{z}<br>Overall rank=%{marker.size}<extra></extra>\",\"legendgroup\":\"Egypt\",\"marker\":{\"color\":\"#FF97FF\",\"size\":[137],\"sizemode\":\"area\",\"sizeref\":0.385,\"symbol\":\"circle\"},\"mode\":\"markers\",\"name\":\"Egypt\",\"scene\":\"scene\",\"showlegend\":true,\"x\":[1.5901786610284663],\"y\":[-1.1407216657749901],\"z\":[0.6158120307261243],\"type\":\"scatter3d\"},{\"hovertemplate\":\"Country=Zambia<br>PC1=%{x}<br>PC2=%{y}<br>PC3=%{z}<br>Overall rank=%{marker.size}<extra></extra>\",\"legendgroup\":\"Zambia\",\"marker\":{\"color\":\"#FECB52\",\"size\":[138],\"sizemode\":\"area\",\"sizeref\":0.385,\"symbol\":\"circle\"},\"mode\":\"markers\",\"name\":\"Zambia\",\"scene\":\"scene\",\"showlegend\":true,\"x\":[1.7757342357985229],\"y\":[1.1216317042871302],\"z\":[-0.3279801720245881],\"type\":\"scatter3d\"},{\"hovertemplate\":\"Country=Togo<br>PC1=%{x}<br>PC2=%{y}<br>PC3=%{z}<br>Overall rank=%{marker.size}<extra></extra>\",\"legendgroup\":\"Togo\",\"marker\":{\"color\":\"#636efa\",\"size\":[139],\"sizemode\":\"area\",\"sizeref\":0.385,\"symbol\":\"circle\"},\"mode\":\"markers\",\"name\":\"Togo\",\"scene\":\"scene\",\"showlegend\":true,\"x\":[3.334328059329538],\"y\":[0.7970800495923087],\"z\":[0.5623823835575602],\"type\":\"scatter3d\"},{\"hovertemplate\":\"Country=India<br>PC1=%{x}<br>PC2=%{y}<br>PC3=%{z}<br>Overall rank=%{marker.size}<extra></extra>\",\"legendgroup\":\"India\",\"marker\":{\"color\":\"#EF553B\",\"size\":[140],\"sizemode\":\"area\",\"sizeref\":0.385,\"symbol\":\"circle\"},\"mode\":\"markers\",\"name\":\"India\",\"scene\":\"scene\",\"showlegend\":true,\"x\":[1.6389235877058153],\"y\":[0.9457044457110816],\"z\":[0.20176988719719915],\"type\":\"scatter3d\"},{\"hovertemplate\":\"Country=Liberia<br>PC1=%{x}<br>PC2=%{y}<br>PC3=%{z}<br>Overall rank=%{marker.size}<extra></extra>\",\"legendgroup\":\"Liberia\",\"marker\":{\"color\":\"#00cc96\",\"size\":[141],\"sizemode\":\"area\",\"sizeref\":0.385,\"symbol\":\"circle\"},\"mode\":\"markers\",\"name\":\"Liberia\",\"scene\":\"scene\",\"showlegend\":true,\"x\":[2.9311760278732124],\"y\":[0.9939088497354724],\"z\":[-0.5738044231864028],\"type\":\"scatter3d\"},{\"hovertemplate\":\"Country=Comoros<br>PC1=%{x}<br>PC2=%{y}<br>PC3=%{z}<br>Overall rank=%{marker.size}<extra></extra>\",\"legendgroup\":\"Comoros\",\"marker\":{\"color\":\"#ab63fa\",\"size\":[142],\"sizemode\":\"area\",\"sizeref\":0.385,\"symbol\":\"circle\"},\"mode\":\"markers\",\"name\":\"Comoros\",\"scene\":\"scene\",\"showlegend\":true,\"x\":[3.2057608637752737],\"y\":[0.8099308343297138],\"z\":[-0.24783460577942978],\"type\":\"scatter3d\"},{\"hovertemplate\":\"Country=Madagascar<br>PC1=%{x}<br>PC2=%{y}<br>PC3=%{z}<br>Overall rank=%{marker.size}<extra></extra>\",\"legendgroup\":\"Madagascar\",\"marker\":{\"color\":\"#FFA15A\",\"size\":[143],\"sizemode\":\"area\",\"sizeref\":0.385,\"symbol\":\"circle\"},\"mode\":\"markers\",\"name\":\"Madagascar\",\"scene\":\"scene\",\"showlegend\":true,\"x\":[3.048013850233019],\"y\":[-0.2830331449876974],\"z\":[-0.05468854596175391],\"type\":\"scatter3d\"},{\"hovertemplate\":\"Country=Lesotho<br>PC1=%{x}<br>PC2=%{y}<br>PC3=%{z}<br>Overall rank=%{marker.size}<extra></extra>\",\"legendgroup\":\"Lesotho\",\"marker\":{\"color\":\"#19d3f3\",\"size\":[144],\"sizemode\":\"area\",\"sizeref\":0.385,\"symbol\":\"circle\"},\"mode\":\"markers\",\"name\":\"Lesotho\",\"scene\":\"scene\",\"showlegend\":true,\"x\":[2.598919067623373],\"y\":[0.14171462889954103],\"z\":[0.5493339003625793],\"type\":\"scatter3d\"},{\"hovertemplate\":\"Country=Burundi<br>PC1=%{x}<br>PC2=%{y}<br>PC3=%{z}<br>Overall rank=%{marker.size}<extra></extra>\",\"legendgroup\":\"Burundi\",\"marker\":{\"color\":\"#FF6692\",\"size\":[145],\"sizemode\":\"area\",\"sizeref\":0.385,\"symbol\":\"circle\"},\"mode\":\"markers\",\"name\":\"Burundi\",\"scene\":\"scene\",\"showlegend\":true,\"x\":[3.9066944131047223],\"y\":[1.3358068935607879],\"z\":[1.4695162944125122],\"type\":\"scatter3d\"},{\"hovertemplate\":\"Country=Zimbabwe<br>PC1=%{x}<br>PC2=%{y}<br>PC3=%{z}<br>Overall rank=%{marker.size}<extra></extra>\",\"legendgroup\":\"Zimbabwe\",\"marker\":{\"color\":\"#B6E880\",\"size\":[146],\"sizemode\":\"area\",\"sizeref\":0.385,\"symbol\":\"circle\"},\"mode\":\"markers\",\"name\":\"Zimbabwe\",\"scene\":\"scene\",\"showlegend\":true,\"x\":[2.356931446724283],\"y\":[0.3430827344768024],\"z\":[0.24506402386541168],\"type\":\"scatter3d\"},{\"hovertemplate\":\"Country=Haiti<br>PC1=%{x}<br>PC2=%{y}<br>PC3=%{z}<br>Overall rank=%{marker.size}<extra></extra>\",\"legendgroup\":\"Haiti\",\"marker\":{\"color\":\"#FF97FF\",\"size\":[147],\"sizemode\":\"area\",\"sizeref\":0.385,\"symbol\":\"circle\"},\"mode\":\"markers\",\"name\":\"Haiti\",\"scene\":\"scene\",\"showlegend\":true,\"x\":[3.59737113961467],\"y\":[1.7514239186144134],\"z\":[-0.7436909966723452],\"type\":\"scatter3d\"},{\"hovertemplate\":\"Country=Botswana<br>PC1=%{x}<br>PC2=%{y}<br>PC3=%{z}<br>Overall rank=%{marker.size}<extra></extra>\",\"legendgroup\":\"Botswana\",\"marker\":{\"color\":\"#FECB52\",\"size\":[148],\"sizemode\":\"area\",\"sizeref\":0.385,\"symbol\":\"circle\"},\"mode\":\"markers\",\"name\":\"Botswana\",\"scene\":\"scene\",\"showlegend\":true,\"x\":[1.214145789119685],\"y\":[-0.7754465599062951],\"z\":[1.1104455719924105],\"type\":\"scatter3d\"},{\"hovertemplate\":\"Country=Malawi<br>PC1=%{x}<br>PC2=%{y}<br>PC3=%{z}<br>Overall rank=%{marker.size}<extra></extra>\",\"legendgroup\":\"Malawi\",\"marker\":{\"color\":\"#636efa\",\"size\":[150],\"sizemode\":\"area\",\"sizeref\":0.385,\"symbol\":\"circle\"},\"mode\":\"markers\",\"name\":\"Malawi\",\"scene\":\"scene\",\"showlegend\":true,\"x\":[3.1913459189099496],\"y\":[1.556702752610756],\"z\":[0.33156638623923235],\"type\":\"scatter3d\"},{\"hovertemplate\":\"Country=Yemen<br>PC1=%{x}<br>PC2=%{y}<br>PC3=%{z}<br>Overall rank=%{marker.size}<extra></extra>\",\"legendgroup\":\"Yemen\",\"marker\":{\"color\":\"#EF553B\",\"size\":[151],\"sizemode\":\"area\",\"sizeref\":0.385,\"symbol\":\"circle\"},\"mode\":\"markers\",\"name\":\"Yemen\",\"scene\":\"scene\",\"showlegend\":true,\"x\":[3.018609498156264],\"y\":[-0.6568961006120427],\"z\":[0.4231104401668227],\"type\":\"scatter3d\"},{\"hovertemplate\":\"Country=Rwanda<br>PC1=%{x}<br>PC2=%{y}<br>PC3=%{z}<br>Overall rank=%{marker.size}<extra></extra>\",\"legendgroup\":\"Rwanda\",\"marker\":{\"color\":\"#00cc96\",\"size\":[152],\"sizemode\":\"area\",\"sizeref\":0.385,\"symbol\":\"circle\"},\"mode\":\"markers\",\"name\":\"Rwanda\",\"scene\":\"scene\",\"showlegend\":true,\"x\":[1.387262972672661],\"y\":[3.163521133383257],\"z\":[2.743641877301624],\"type\":\"scatter3d\"},{\"hovertemplate\":\"Country=Tanzania<br>PC1=%{x}<br>PC2=%{y}<br>PC3=%{z}<br>Overall rank=%{marker.size}<extra></extra>\",\"legendgroup\":\"Tanzania\",\"marker\":{\"color\":\"#ab63fa\",\"size\":[153],\"sizemode\":\"area\",\"sizeref\":0.385,\"symbol\":\"circle\"},\"mode\":\"markers\",\"name\":\"Tanzania\",\"scene\":\"scene\",\"showlegend\":true,\"x\":[2.2562822015427626],\"y\":[1.7567775811709996],\"z\":[0.17149878546135386],\"type\":\"scatter3d\"},{\"hovertemplate\":\"Country=Afghanistan<br>PC1=%{x}<br>PC2=%{y}<br>PC3=%{z}<br>Overall rank=%{marker.size}<extra></extra>\",\"legendgroup\":\"Afghanistan\",\"marker\":{\"color\":\"#FFA15A\",\"size\":[154],\"sizemode\":\"area\",\"sizeref\":0.385,\"symbol\":\"circle\"},\"mode\":\"markers\",\"name\":\"Afghanistan\",\"scene\":\"scene\",\"showlegend\":true,\"x\":[4.680279663189628],\"y\":[-0.4183483101294983],\"z\":[0.3916971676161106],\"type\":\"scatter3d\"}],                        {\"template\":{\"data\":{\"bar\":[{\"error_x\":{\"color\":\"#2a3f5f\"},\"error_y\":{\"color\":\"#2a3f5f\"},\"marker\":{\"line\":{\"color\":\"#E5ECF6\",\"width\":0.5},\"pattern\":{\"fillmode\":\"overlay\",\"size\":10,\"solidity\":0.2}},\"type\":\"bar\"}],\"barpolar\":[{\"marker\":{\"line\":{\"color\":\"#E5ECF6\",\"width\":0.5},\"pattern\":{\"fillmode\":\"overlay\",\"size\":10,\"solidity\":0.2}},\"type\":\"barpolar\"}],\"carpet\":[{\"aaxis\":{\"endlinecolor\":\"#2a3f5f\",\"gridcolor\":\"white\",\"linecolor\":\"white\",\"minorgridcolor\":\"white\",\"startlinecolor\":\"#2a3f5f\"},\"baxis\":{\"endlinecolor\":\"#2a3f5f\",\"gridcolor\":\"white\",\"linecolor\":\"white\",\"minorgridcolor\":\"white\",\"startlinecolor\":\"#2a3f5f\"},\"type\":\"carpet\"}],\"choropleth\":[{\"colorbar\":{\"outlinewidth\":0,\"ticks\":\"\"},\"type\":\"choropleth\"}],\"contour\":[{\"colorbar\":{\"outlinewidth\":0,\"ticks\":\"\"},\"colorscale\":[[0.0,\"#0d0887\"],[0.1111111111111111,\"#46039f\"],[0.2222222222222222,\"#7201a8\"],[0.3333333333333333,\"#9c179e\"],[0.4444444444444444,\"#bd3786\"],[0.5555555555555556,\"#d8576b\"],[0.6666666666666666,\"#ed7953\"],[0.7777777777777778,\"#fb9f3a\"],[0.8888888888888888,\"#fdca26\"],[1.0,\"#f0f921\"]],\"type\":\"contour\"}],\"contourcarpet\":[{\"colorbar\":{\"outlinewidth\":0,\"ticks\":\"\"},\"type\":\"contourcarpet\"}],\"heatmap\":[{\"colorbar\":{\"outlinewidth\":0,\"ticks\":\"\"},\"colorscale\":[[0.0,\"#0d0887\"],[0.1111111111111111,\"#46039f\"],[0.2222222222222222,\"#7201a8\"],[0.3333333333333333,\"#9c179e\"],[0.4444444444444444,\"#bd3786\"],[0.5555555555555556,\"#d8576b\"],[0.6666666666666666,\"#ed7953\"],[0.7777777777777778,\"#fb9f3a\"],[0.8888888888888888,\"#fdca26\"],[1.0,\"#f0f921\"]],\"type\":\"heatmap\"}],\"heatmapgl\":[{\"colorbar\":{\"outlinewidth\":0,\"ticks\":\"\"},\"colorscale\":[[0.0,\"#0d0887\"],[0.1111111111111111,\"#46039f\"],[0.2222222222222222,\"#7201a8\"],[0.3333333333333333,\"#9c179e\"],[0.4444444444444444,\"#bd3786\"],[0.5555555555555556,\"#d8576b\"],[0.6666666666666666,\"#ed7953\"],[0.7777777777777778,\"#fb9f3a\"],[0.8888888888888888,\"#fdca26\"],[1.0,\"#f0f921\"]],\"type\":\"heatmapgl\"}],\"histogram\":[{\"marker\":{\"pattern\":{\"fillmode\":\"overlay\",\"size\":10,\"solidity\":0.2}},\"type\":\"histogram\"}],\"histogram2d\":[{\"colorbar\":{\"outlinewidth\":0,\"ticks\":\"\"},\"colorscale\":[[0.0,\"#0d0887\"],[0.1111111111111111,\"#46039f\"],[0.2222222222222222,\"#7201a8\"],[0.3333333333333333,\"#9c179e\"],[0.4444444444444444,\"#bd3786\"],[0.5555555555555556,\"#d8576b\"],[0.6666666666666666,\"#ed7953\"],[0.7777777777777778,\"#fb9f3a\"],[0.8888888888888888,\"#fdca26\"],[1.0,\"#f0f921\"]],\"type\":\"histogram2d\"}],\"histogram2dcontour\":[{\"colorbar\":{\"outlinewidth\":0,\"ticks\":\"\"},\"colorscale\":[[0.0,\"#0d0887\"],[0.1111111111111111,\"#46039f\"],[0.2222222222222222,\"#7201a8\"],[0.3333333333333333,\"#9c179e\"],[0.4444444444444444,\"#bd3786\"],[0.5555555555555556,\"#d8576b\"],[0.6666666666666666,\"#ed7953\"],[0.7777777777777778,\"#fb9f3a\"],[0.8888888888888888,\"#fdca26\"],[1.0,\"#f0f921\"]],\"type\":\"histogram2dcontour\"}],\"mesh3d\":[{\"colorbar\":{\"outlinewidth\":0,\"ticks\":\"\"},\"type\":\"mesh3d\"}],\"parcoords\":[{\"line\":{\"colorbar\":{\"outlinewidth\":0,\"ticks\":\"\"}},\"type\":\"parcoords\"}],\"pie\":[{\"automargin\":true,\"type\":\"pie\"}],\"scatter\":[{\"marker\":{\"colorbar\":{\"outlinewidth\":0,\"ticks\":\"\"}},\"type\":\"scatter\"}],\"scatter3d\":[{\"line\":{\"colorbar\":{\"outlinewidth\":0,\"ticks\":\"\"}},\"marker\":{\"colorbar\":{\"outlinewidth\":0,\"ticks\":\"\"}},\"type\":\"scatter3d\"}],\"scattercarpet\":[{\"marker\":{\"colorbar\":{\"outlinewidth\":0,\"ticks\":\"\"}},\"type\":\"scattercarpet\"}],\"scattergeo\":[{\"marker\":{\"colorbar\":{\"outlinewidth\":0,\"ticks\":\"\"}},\"type\":\"scattergeo\"}],\"scattergl\":[{\"marker\":{\"colorbar\":{\"outlinewidth\":0,\"ticks\":\"\"}},\"type\":\"scattergl\"}],\"scattermapbox\":[{\"marker\":{\"colorbar\":{\"outlinewidth\":0,\"ticks\":\"\"}},\"type\":\"scattermapbox\"}],\"scatterpolar\":[{\"marker\":{\"colorbar\":{\"outlinewidth\":0,\"ticks\":\"\"}},\"type\":\"scatterpolar\"}],\"scatterpolargl\":[{\"marker\":{\"colorbar\":{\"outlinewidth\":0,\"ticks\":\"\"}},\"type\":\"scatterpolargl\"}],\"scatterternary\":[{\"marker\":{\"colorbar\":{\"outlinewidth\":0,\"ticks\":\"\"}},\"type\":\"scatterternary\"}],\"surface\":[{\"colorbar\":{\"outlinewidth\":0,\"ticks\":\"\"},\"colorscale\":[[0.0,\"#0d0887\"],[0.1111111111111111,\"#46039f\"],[0.2222222222222222,\"#7201a8\"],[0.3333333333333333,\"#9c179e\"],[0.4444444444444444,\"#bd3786\"],[0.5555555555555556,\"#d8576b\"],[0.6666666666666666,\"#ed7953\"],[0.7777777777777778,\"#fb9f3a\"],[0.8888888888888888,\"#fdca26\"],[1.0,\"#f0f921\"]],\"type\":\"surface\"}],\"table\":[{\"cells\":{\"fill\":{\"color\":\"#EBF0F8\"},\"line\":{\"color\":\"white\"}},\"header\":{\"fill\":{\"color\":\"#C8D4E3\"},\"line\":{\"color\":\"white\"}},\"type\":\"table\"}]},\"layout\":{\"annotationdefaults\":{\"arrowcolor\":\"#2a3f5f\",\"arrowhead\":0,\"arrowwidth\":1},\"autotypenumbers\":\"strict\",\"coloraxis\":{\"colorbar\":{\"outlinewidth\":0,\"ticks\":\"\"}},\"colorscale\":{\"diverging\":[[0,\"#8e0152\"],[0.1,\"#c51b7d\"],[0.2,\"#de77ae\"],[0.3,\"#f1b6da\"],[0.4,\"#fde0ef\"],[0.5,\"#f7f7f7\"],[0.6,\"#e6f5d0\"],[0.7,\"#b8e186\"],[0.8,\"#7fbc41\"],[0.9,\"#4d9221\"],[1,\"#276419\"]],\"sequential\":[[0.0,\"#0d0887\"],[0.1111111111111111,\"#46039f\"],[0.2222222222222222,\"#7201a8\"],[0.3333333333333333,\"#9c179e\"],[0.4444444444444444,\"#bd3786\"],[0.5555555555555556,\"#d8576b\"],[0.6666666666666666,\"#ed7953\"],[0.7777777777777778,\"#fb9f3a\"],[0.8888888888888888,\"#fdca26\"],[1.0,\"#f0f921\"]],\"sequentialminus\":[[0.0,\"#0d0887\"],[0.1111111111111111,\"#46039f\"],[0.2222222222222222,\"#7201a8\"],[0.3333333333333333,\"#9c179e\"],[0.4444444444444444,\"#bd3786\"],[0.5555555555555556,\"#d8576b\"],[0.6666666666666666,\"#ed7953\"],[0.7777777777777778,\"#fb9f3a\"],[0.8888888888888888,\"#fdca26\"],[1.0,\"#f0f921\"]]},\"colorway\":[\"#636efa\",\"#EF553B\",\"#00cc96\",\"#ab63fa\",\"#FFA15A\",\"#19d3f3\",\"#FF6692\",\"#B6E880\",\"#FF97FF\",\"#FECB52\"],\"font\":{\"color\":\"#2a3f5f\"},\"geo\":{\"bgcolor\":\"white\",\"lakecolor\":\"white\",\"landcolor\":\"#E5ECF6\",\"showlakes\":true,\"showland\":true,\"subunitcolor\":\"white\"},\"hoverlabel\":{\"align\":\"left\"},\"hovermode\":\"closest\",\"mapbox\":{\"style\":\"light\"},\"paper_bgcolor\":\"white\",\"plot_bgcolor\":\"#E5ECF6\",\"polar\":{\"angularaxis\":{\"gridcolor\":\"white\",\"linecolor\":\"white\",\"ticks\":\"\"},\"bgcolor\":\"#E5ECF6\",\"radialaxis\":{\"gridcolor\":\"white\",\"linecolor\":\"white\",\"ticks\":\"\"}},\"scene\":{\"xaxis\":{\"backgroundcolor\":\"#E5ECF6\",\"gridcolor\":\"white\",\"gridwidth\":2,\"linecolor\":\"white\",\"showbackground\":true,\"ticks\":\"\",\"zerolinecolor\":\"white\"},\"yaxis\":{\"backgroundcolor\":\"#E5ECF6\",\"gridcolor\":\"white\",\"gridwidth\":2,\"linecolor\":\"white\",\"showbackground\":true,\"ticks\":\"\",\"zerolinecolor\":\"white\"},\"zaxis\":{\"backgroundcolor\":\"#E5ECF6\",\"gridcolor\":\"white\",\"gridwidth\":2,\"linecolor\":\"white\",\"showbackground\":true,\"ticks\":\"\",\"zerolinecolor\":\"white\"}},\"shapedefaults\":{\"line\":{\"color\":\"#2a3f5f\"}},\"ternary\":{\"aaxis\":{\"gridcolor\":\"white\",\"linecolor\":\"white\",\"ticks\":\"\"},\"baxis\":{\"gridcolor\":\"white\",\"linecolor\":\"white\",\"ticks\":\"\"},\"bgcolor\":\"#E5ECF6\",\"caxis\":{\"gridcolor\":\"white\",\"linecolor\":\"white\",\"ticks\":\"\"}},\"title\":{\"x\":0.05},\"xaxis\":{\"automargin\":true,\"gridcolor\":\"white\",\"linecolor\":\"white\",\"ticks\":\"\",\"title\":{\"standoff\":15},\"zerolinecolor\":\"white\",\"zerolinewidth\":2},\"yaxis\":{\"automargin\":true,\"gridcolor\":\"white\",\"linecolor\":\"white\",\"ticks\":\"\",\"title\":{\"standoff\":15},\"zerolinecolor\":\"white\",\"zerolinewidth\":2}}},\"scene\":{\"domain\":{\"x\":[0.0,1.0],\"y\":[0.0,1.0]},\"xaxis\":{\"title\":{\"text\":\"PC1\"}},\"yaxis\":{\"title\":{\"text\":\"PC2\"}},\"zaxis\":{\"title\":{\"text\":\"PC3\"}}},\"legend\":{\"title\":{\"text\":\"Country\"},\"tracegroupgap\":0,\"itemsizing\":\"constant\"},\"title\":{\"text\":\"PCA\"}},                        {\"responsive\": true}                    ).then(function(){\n",
       "                            \n",
       "var gd = document.getElementById('f0df62e7-424e-47e4-9491-2c998762b909');\n",
       "var x = new MutationObserver(function (mutations, observer) {{\n",
       "        var display = window.getComputedStyle(gd).display;\n",
       "        if (!display || display === 'none') {{\n",
       "            console.log([gd, 'removed!']);\n",
       "            Plotly.purge(gd);\n",
       "            observer.disconnect();\n",
       "        }}\n",
       "}});\n",
       "\n",
       "// Listen for the removal of the full notebook cells\n",
       "var notebookContainer = gd.closest('#notebook-container');\n",
       "if (notebookContainer) {{\n",
       "    x.observe(notebookContainer, {childList: true});\n",
       "}}\n",
       "\n",
       "// Listen for the clearing of the current output cell\n",
       "var outputEl = gd.closest('.output');\n",
       "if (outputEl) {{\n",
       "    x.observe(outputEl, {childList: true});\n",
       "}}\n",
       "\n",
       "                        })                };                });            </script>        </div>"
      ]
     },
     "metadata": {},
     "output_type": "display_data"
    }
   ],
   "source": [
    "px.scatter_3d(pca_df_final, x=\"PC1\", y=\"PC2\", z=\"PC3\",\n",
    "              color=\"Country\", size=\"Overall rank\", title=\"PCA\")\n"
   ]
  },
  {
   "cell_type": "markdown",
   "metadata": {},
   "source": [
    "### <code> <div style=\"color:#F1D405 ;font-weight: bold; ;\">ACP par régions</div> </code>\n"
   ]
  },
  {
   "cell_type": "code",
   "execution_count": 15,
   "metadata": {},
   "outputs": [
    {
     "data": {
      "application/vnd.plotly.v1+json": {
       "config": {
        "plotlyServerURL": "https://plot.ly"
       },
       "data": [
        {
         "hovertemplate": "color=Western Europe<br>0=%{x}<br>PC 1=%{y}<br>PC 2=%{z}<extra></extra>",
         "legendgroup": "Western Europe",
         "marker": {
          "color": "#636efa",
          "symbol": "circle"
         },
         "mode": "markers",
         "name": "Western Europe",
         "scene": "scene",
         "showlegend": true,
         "type": "scatter3d",
         "x": [
          -3.8330400671798617,
          -3.92387382955524,
          -3.9531713029059117,
          -3.2691812413898282,
          -3.4736731208981624,
          -3.7617766991009067,
          -3.57099498814827,
          -2.9804692600773595,
          -3.3921206358492575,
          -2.9409359773742296,
          -3.361996564625497,
          -2.8098946925126,
          -2.554573482830794,
          -2.666341828103684,
          -2.2335788543366233,
          -1.7026361278649538,
          -1.1764377076987467,
          -1.1140676720491758,
          -1.2377070049507466,
          0.4674015710182546
         ],
         "y": [
          0.9582137519022614,
          1.7223962121243255,
          1.4441888036679809,
          0.9269429038452618,
          1.594224172081609,
          1.356001655826834,
          1.6541120863180852,
          0.6445024639893575,
          0.5760594184580852,
          1.4173035423010838,
          1.2897580411895087,
          0.9071360562082258,
          -0.18135998182994267,
          1.3459841412842035,
          -0.7687170024456864,
          -1.1937094945594735,
          -1.765224769655185,
          -0.7479095137492955,
          -1.6454721850076146,
          -2.95570387437933
         ],
         "z": [
          1.9083817150158642,
          1.462946165857839,
          0.7886798472011699,
          -1.5526476407949845,
          0.20016892842620052,
          0.9116276628331854,
          1.174238174837451,
          0.16258858919634903,
          1.2213445758574861,
          -0.08910386944046078,
          0.46131787117147466,
          0.420438994704096,
          0.5596706380603842,
          -1.2686631019111587,
          0.6891467272239611,
          -0.3887211961567788,
          -0.7707082131906275,
          -0.6611539329005884,
          -0.11167758148226235,
          0.6428851702785118
         ]
        },
        {
         "hovertemplate": "color=North America and ANZ<br>0=%{x}<br>PC 1=%{y}<br>PC 2=%{z}<extra></extra>",
         "legendgroup": "North America and ANZ",
         "marker": {
          "color": "#EF553B",
          "symbol": "circle"
         },
         "mode": "markers",
         "name": "North America and ANZ",
         "scene": "scene",
         "showlegend": true,
         "type": "scatter3d",
         "x": [
          -3.6918845866035706,
          -3.457122859597621,
          -3.4288123721306762,
          -2.162627276630271
         ],
         "y": [
          2.1591645641820723,
          1.4627796429259108,
          1.5982600416328916,
          0.2968675901650119
         ],
         "z": [
          0.7638670243725545,
          0.5188215541719773,
          0.05530647160158508,
          -0.7542908459860782
         ]
        },
        {
         "hovertemplate": "color=Latin America and Caribbean<br>0=%{x}<br>PC 1=%{y}<br>PC 2=%{z}<extra></extra>",
         "legendgroup": "Latin America and Caribbean",
         "marker": {
          "color": "#00cc96",
          "symbol": "circle"
         },
         "mode": "markers",
         "name": "Latin America and Caribbean",
         "scene": "scene",
         "showlegend": true,
         "type": "scatter3d",
         "x": [
          -1.9862581520223226,
          -0.9930471375409567,
          -1.083328907763806,
          -0.622342483502607,
          -1.4197003167250644,
          -0.809586215604218,
          -1.677233064851801,
          -0.25409154145422097,
          -0.7807234098590115,
          -0.5326707207851639,
          -1.0263064895870597,
          -0.7827490172070312,
          -0.6166010479319157,
          -0.27542556358968223,
          -0.00912702599835395,
          -0.7349829014428128,
          -0.3061525148546388,
          -0.6398475118062623,
          0.6425024226741708,
          3.59737113961467
         ],
         "y": [
          -0.37123555842400646,
          -1.159214053870326,
          -0.7909623751104321,
          0.2026268272275081,
          -0.9397881203753147,
          -1.0258075621343232,
          -0.29364591734401124,
          -0.7138385404768778,
          -1.0488844661853403,
          0.2994418543370911,
          -1.3209432328868789,
          -0.4058004563799537,
          -0.9013888402130754,
          0.7075124959219488,
          -0.09121770847033604,
          0.018754348874588562,
          -1.1173291870554982,
          -0.4705091474312333,
          -2.0638582123281233,
          1.7514239186144134
         ],
         "z": [
          -0.2815651773699162,
          0.18878240665667462,
          -0.6608115378827851,
          -0.3604789986459654,
          -0.2992869614157805,
          0.06034573766868471,
          0.33845393075750313,
          0.16517835182347995,
          -0.34753032612262597,
          -0.15843930906161796,
          -0.03281364018806358,
          -0.008002745197379745,
          -0.5146849783584232,
          -0.7556458337541321,
          -0.13223704633395586,
          -0.5529671027913107,
          -0.150929944022601,
          0.16064798978604553,
          0.12044231469832514,
          -0.7436909966723452
         ]
        },
        {
         "hovertemplate": "color=Middle East and North Africa<br>0=%{x}<br>PC 1=%{y}<br>PC 2=%{z}<extra></extra>",
         "legendgroup": "Middle East and North Africa",
         "marker": {
          "color": "#ab63fa",
          "symbol": "circle"
         },
         "mode": "markers",
         "name": "Middle East and North Africa",
         "scene": "scene",
         "showlegend": true,
         "type": "scatter3d",
         "x": [
          -2.0378804269935515,
          -2.365968464314693,
          -1.4102114134287473,
          -1.7495318476009387,
          -1.414129493138035,
          -0.3285105704813188,
          -0.09423504183279724,
          0.7964493599106385,
          1.0021303111634874,
          0.5290282861464713,
          0.19882820922836938,
          1.3040233218241335,
          0.7732105620274843,
          1.4042259439428102,
          1.4249651998442963,
          1.5901786610284663,
          3.018609498156264
         ],
         "y": [
          -0.34749206727290416,
          0.9664283264994299,
          -0.9792720287856537,
          0.4038379246878085,
          -0.5865810115978646,
          -0.1602869269321671,
          -1.6297000754178412,
          -1.6792645382913358,
          -0.7544312936291792,
          -1.139129339236828,
          -0.43779441369836813,
          -1.036668666021387,
          0.6253780312943752,
          -1.6667672695765343,
          -0.5011003990003372,
          -1.1407216657749901,
          -0.6568961006120427
         ],
         "z": [
          -1.0427722313031837,
          -0.08530468453965942,
          0.6484553334252766,
          -0.6459694339820367,
          0.03768192782211831,
          0.5780494871758591,
          0.5134703116914755,
          0.854487203965163,
          1.0393194423733987,
          -0.5143731933157948,
          0.6149126635160136,
          0.18478941491085463,
          0.03168738186908333,
          0.6312123633670663,
          0.4168127052605169,
          0.6158120307261243,
          0.4231104401668227
         ]
        },
        {
         "hovertemplate": "color=Central and Eastern Europe<br>0=%{x}<br>PC 1=%{y}<br>PC 2=%{z}<extra></extra>",
         "legendgroup": "Central and Eastern Europe",
         "marker": {
          "color": "#FFA15A",
          "symbol": "circle"
         },
         "mode": "markers",
         "name": "Central and Eastern Europe",
         "scene": "scene",
         "showlegend": true,
         "type": "scatter3d",
         "x": [
          -1.6491430671982186,
          -0.995945118875777,
          -1.2890881492572204,
          -0.7780089107313292,
          -1.8217658672334247,
          -0.29696179730598693,
          -0.5453515269495677,
          -0.5579841863249483,
          -1.6524196368446735,
          -0.16798123746224677,
          -0.16123004138449665,
          -0.10097223638367542,
          -0.1703605992438853,
          0.4510588415517432,
          0.00851147357440828,
          -0.06524276597974213,
          0.8667396121979262
         ],
         "y": [
          -1.7901085854066332,
          -1.6600531527390088,
          -1.0041693942599812,
          -2.150918704971909,
          -0.6979485565205036,
          0.3100477040876475,
          -1.2923905287230342,
          -1.805273556444413,
          -0.5846158543752975,
          -2.144121074946077,
          -1.2777249464967932,
          -1.3060492739844765,
          -1.5034970913815062,
          -0.5559831516634998,
          -0.6699449584906708,
          -1.8753176244244982,
          -0.2894194578033753
         ],
         "z": [
          -0.1060232794318013,
          -0.685865876028943,
          -0.3498816590929023,
          0.03188944829788835,
          -0.5658331112910031,
          -1.3998212448202374,
          -0.2849482488487809,
          0.07465964489067842,
          0.5579068912135572,
          -0.23692301497663582,
          -0.4385950003504672,
          -0.09242389848773427,
          -0.3419230648429706,
          -1.2868598663435369,
          -0.6835987871552506,
          -0.45695268104850095,
          -0.2554371377335439
         ]
        },
        {
         "hovertemplate": "color=Southeast Asia<br>0=%{x}<br>PC 1=%{y}<br>PC 2=%{z}<extra></extra>",
         "legendgroup": "Southeast Asia",
         "marker": {
          "color": "#19d3f3",
          "symbol": "circle"
         },
         "mode": "markers",
         "name": "Southeast Asia",
         "scene": "scene",
         "showlegend": true,
         "type": "scatter3d",
         "x": [
          -3.7241287196585295,
          -1.1712463862703226,
          -0.2356896812727643,
          -0.5057130488262853,
          0.024646761324034896,
          -0.3070292283647398,
          0.5506609940115934,
          0.678748031243115,
          0.35483175337161504
         ],
         "y": [
          1.8557718836640291,
          1.0105245053316207,
          0.07826091796000817,
          0.2362838107962424,
          2.223920410551523,
          -0.06919409451855545,
          1.7508296736700966,
          1.1545456513737242,
          3.808198607618222
         ],
         "z": [
          1.8740818695604982,
          -1.9980821367907935,
          0.26372076259760635,
          -1.1253452585114143,
          -2.5700542469015315,
          -0.25718463544324854,
          0.125060435036451,
          -0.6167718901034928,
          -1.7745069011275314
         ]
        },
        {
         "hovertemplate": "color=Commonwealth of Independent States<br>0=%{x}<br>PC 1=%{y}<br>PC 2=%{z}<extra></extra>",
         "legendgroup": "Commonwealth of Independent States",
         "marker": {
          "color": "#FF6692",
          "symbol": "circle"
         },
         "mode": "markers",
         "name": "Commonwealth of Independent States",
         "scene": "scene",
         "showlegend": true,
         "type": "scatter3d",
         "x": [
          -1.666719476127334,
          -0.879271786237759,
          -0.31604911411065667,
          0.72679143234573,
          0.6098661144078805,
          -0.265225165620373,
          0.08900266188598886,
          -0.24425776528547957,
          0.01745963967771822,
          1.0350477139993153,
          1.357751644729756,
          1.1128719450977265
         ],
         "y": [
          2.180281645407035,
          -0.6640244012633285,
          -1.6230966502695034,
          -0.9164801031264858,
          0.8933367255221581,
          -1.2439844334340393,
          0.8335326220355903,
          -0.21357970140884272,
          -0.8497806327079711,
          -1.0295558077594724,
          -0.38626615793508645,
          -1.1107226581662775
         ],
         "z": [
          -0.23124135557123138,
          -0.16075037399367237,
          -0.20487540700466525,
          -0.9645122785763746,
          0.06272756512528127,
          0.6186534646011812,
          -1.676987802455637,
          -1.298328312450832,
          1.5868140873956313,
          0.3878176223865923,
          1.8849845222496453,
          -0.8816241338621842
         ]
        },
        {
         "hovertemplate": "color=East Asia<br>0=%{x}<br>PC 1=%{y}<br>PC 2=%{z}<extra></extra>",
         "legendgroup": "East Asia",
         "marker": {
          "color": "#B6E880",
          "symbol": "circle"
         },
         "mode": "markers",
         "name": "East Asia",
         "scene": "scene",
         "showlegend": true,
         "type": "scatter3d",
         "x": [
          -0.5279477175970972,
          -1.79521811600123,
          0.01583423772527523,
          -0.34803849237799245
         ],
         "y": [
          -1.5029545793255943,
          -1.233538606828763,
          -0.3874664692146851,
          -0.6855310149765473
         ],
         "z": [
          -0.36993475115725494,
          0.6843357783137833,
          -1.1512948967209715,
          0.7432913841190245
         ]
        },
        {
         "hovertemplate": "color=Sub-Saharan Africa<br>0=%{x}<br>PC 1=%{y}<br>PC 2=%{z}<extra></extra>",
         "legendgroup": "Sub-Saharan Africa",
         "marker": {
          "color": "#FF97FF",
          "symbol": "circle"
         },
         "mode": "markers",
         "name": "Sub-Saharan Africa",
         "scene": "scene",
         "showlegend": true,
         "type": "scatter3d",
         "x": [
          -0.9738494339073287,
          1.558023279834486,
          2.122877447393111,
          1.7831499331420837,
          2.4392326776419253,
          2.9605508781369383,
          1.8368239611032307,
          0.9855121688734024,
          0.7789756894627333,
          1.7210506877259204,
          0.9736457901641357,
          2.9128400606474463,
          2.3498942990864515,
          2.5546700709457664,
          1.9803041483497221,
          1.4978514241214522,
          2.2864629141700186,
          2.0018967231784806,
          2.4534097830925745,
          3.131028833276054,
          3.5230839478735354,
          2.022030852451983,
          2.4016749514772346,
          2.2344800755580567,
          1.7757342357985229,
          3.334328059329538,
          2.9311760278732124,
          3.2057608637752737,
          3.048013850233019,
          2.598919067623373,
          3.9066944131047223,
          2.356931446724283,
          1.214145789119685,
          3.1913459189099496,
          1.387262972672661,
          2.2562822015427626
         ],
         "y": [
          -0.04161875812709321,
          0.6457598002195641,
          0.4792390519901991,
          0.7723829778108438,
          0.5787983316682531,
          0.9421123765831936,
          0.0092287227750201,
          -1.4449006470580519,
          -0.5283371059132832,
          -0.14795268606574866,
          -0.8417206688887041,
          0.9840579419912179,
          0.4260822413397731,
          0.8780300519796989,
          1.78942963188137,
          1.8022977084971432,
          -1.0820708497932199,
          1.514692794223908,
          0.1508909511675257,
          1.1102982600593554,
          0.5485003031879625,
          0.7418321430130903,
          -0.07841258949625002,
          0.9380691400198434,
          1.1216317042871302,
          0.7970800495923087,
          0.9939088497354724,
          0.8099308343297138,
          -0.2830331449876974,
          0.14171462889954103,
          1.3358068935607879,
          0.3430827344768024,
          -0.7754465599062951,
          1.556702752610756,
          3.163521133383257,
          1.7567775811709996
         ],
         "z": [
          -0.8160015382387746,
          -0.5709821947574624,
          -0.24443597737317274,
          -0.5569166994218885,
          0.5149246330075774,
          0.6343006333377139,
          0.8091486213236365,
          0.5617497279196979,
          -0.14335840706042288,
          0.017479574703194434,
          0.262215302500895,
          0.39406121632640345,
          0.31288266728102737,
          0.12014220532709474,
          0.25413926372127704,
          -1.3555113359985644,
          0.4972832071896822,
          0.39097438127106016,
          -0.06320791504324107,
          -0.4672029700511588,
          0.2536293311006598,
          0.0011712107771491345,
          1.158995420164359,
          -0.5990830235357787,
          -0.3279801720245881,
          0.5623823835575602,
          -0.5738044231864028,
          -0.24783460577942978,
          -0.05468854596175391,
          0.5493339003625793,
          1.4695162944125122,
          0.24506402386541168,
          1.1104455719924105,
          0.33156638623923235,
          2.743641877301624,
          0.17149878546135386
         ]
        },
        {
         "hovertemplate": "color=South Asia<br>0=%{x}<br>PC 1=%{y}<br>PC 2=%{z}<extra></extra>",
         "legendgroup": "South Asia",
         "marker": {
          "color": "#FECB52",
          "symbol": "circle"
         },
         "mode": "markers",
         "name": "South Asia",
         "scene": "scene",
         "showlegend": true,
         "type": "scatter3d",
         "x": [
          1.3093402852327383,
          0.7797021690475627,
          0.9570377549892162,
          0.13030245726201695,
          1.6389235877058153,
          4.680279663189628
         ],
         "y": [
          0.5679053918132602,
          1.140646754060088,
          0.9439369678548302,
          0.25929241662061164,
          0.9457044457110816,
          -0.4183483101294983
         ],
         "z": [
          0.020206506894292306,
          -0.8162229949742827,
          0.6414940818165648,
          -0.8944567095760926,
          0.20176988719719915,
          0.3916971676161106
         ]
        }
       ],
       "layout": {
        "legend": {
         "title": {
          "text": "color"
         },
         "tracegroupgap": 0
        },
        "scene": {
         "domain": {
          "x": [
           0,
           1
          ],
          "y": [
           0,
           1
          ]
         },
         "xaxis": {
          "title": {
           "text": "0"
          }
         },
         "yaxis": {
          "title": {
           "text": "PC 1"
          }
         },
         "zaxis": {
          "title": {
           "text": "PC 2"
          }
         }
        },
        "template": {
         "data": {
          "bar": [
           {
            "error_x": {
             "color": "#2a3f5f"
            },
            "error_y": {
             "color": "#2a3f5f"
            },
            "marker": {
             "line": {
              "color": "#E5ECF6",
              "width": 0.5
             },
             "pattern": {
              "fillmode": "overlay",
              "size": 10,
              "solidity": 0.2
             }
            },
            "type": "bar"
           }
          ],
          "barpolar": [
           {
            "marker": {
             "line": {
              "color": "#E5ECF6",
              "width": 0.5
             },
             "pattern": {
              "fillmode": "overlay",
              "size": 10,
              "solidity": 0.2
             }
            },
            "type": "barpolar"
           }
          ],
          "carpet": [
           {
            "aaxis": {
             "endlinecolor": "#2a3f5f",
             "gridcolor": "white",
             "linecolor": "white",
             "minorgridcolor": "white",
             "startlinecolor": "#2a3f5f"
            },
            "baxis": {
             "endlinecolor": "#2a3f5f",
             "gridcolor": "white",
             "linecolor": "white",
             "minorgridcolor": "white",
             "startlinecolor": "#2a3f5f"
            },
            "type": "carpet"
           }
          ],
          "choropleth": [
           {
            "colorbar": {
             "outlinewidth": 0,
             "ticks": ""
            },
            "type": "choropleth"
           }
          ],
          "contour": [
           {
            "colorbar": {
             "outlinewidth": 0,
             "ticks": ""
            },
            "colorscale": [
             [
              0,
              "#0d0887"
             ],
             [
              0.1111111111111111,
              "#46039f"
             ],
             [
              0.2222222222222222,
              "#7201a8"
             ],
             [
              0.3333333333333333,
              "#9c179e"
             ],
             [
              0.4444444444444444,
              "#bd3786"
             ],
             [
              0.5555555555555556,
              "#d8576b"
             ],
             [
              0.6666666666666666,
              "#ed7953"
             ],
             [
              0.7777777777777778,
              "#fb9f3a"
             ],
             [
              0.8888888888888888,
              "#fdca26"
             ],
             [
              1,
              "#f0f921"
             ]
            ],
            "type": "contour"
           }
          ],
          "contourcarpet": [
           {
            "colorbar": {
             "outlinewidth": 0,
             "ticks": ""
            },
            "type": "contourcarpet"
           }
          ],
          "heatmap": [
           {
            "colorbar": {
             "outlinewidth": 0,
             "ticks": ""
            },
            "colorscale": [
             [
              0,
              "#0d0887"
             ],
             [
              0.1111111111111111,
              "#46039f"
             ],
             [
              0.2222222222222222,
              "#7201a8"
             ],
             [
              0.3333333333333333,
              "#9c179e"
             ],
             [
              0.4444444444444444,
              "#bd3786"
             ],
             [
              0.5555555555555556,
              "#d8576b"
             ],
             [
              0.6666666666666666,
              "#ed7953"
             ],
             [
              0.7777777777777778,
              "#fb9f3a"
             ],
             [
              0.8888888888888888,
              "#fdca26"
             ],
             [
              1,
              "#f0f921"
             ]
            ],
            "type": "heatmap"
           }
          ],
          "heatmapgl": [
           {
            "colorbar": {
             "outlinewidth": 0,
             "ticks": ""
            },
            "colorscale": [
             [
              0,
              "#0d0887"
             ],
             [
              0.1111111111111111,
              "#46039f"
             ],
             [
              0.2222222222222222,
              "#7201a8"
             ],
             [
              0.3333333333333333,
              "#9c179e"
             ],
             [
              0.4444444444444444,
              "#bd3786"
             ],
             [
              0.5555555555555556,
              "#d8576b"
             ],
             [
              0.6666666666666666,
              "#ed7953"
             ],
             [
              0.7777777777777778,
              "#fb9f3a"
             ],
             [
              0.8888888888888888,
              "#fdca26"
             ],
             [
              1,
              "#f0f921"
             ]
            ],
            "type": "heatmapgl"
           }
          ],
          "histogram": [
           {
            "marker": {
             "pattern": {
              "fillmode": "overlay",
              "size": 10,
              "solidity": 0.2
             }
            },
            "type": "histogram"
           }
          ],
          "histogram2d": [
           {
            "colorbar": {
             "outlinewidth": 0,
             "ticks": ""
            },
            "colorscale": [
             [
              0,
              "#0d0887"
             ],
             [
              0.1111111111111111,
              "#46039f"
             ],
             [
              0.2222222222222222,
              "#7201a8"
             ],
             [
              0.3333333333333333,
              "#9c179e"
             ],
             [
              0.4444444444444444,
              "#bd3786"
             ],
             [
              0.5555555555555556,
              "#d8576b"
             ],
             [
              0.6666666666666666,
              "#ed7953"
             ],
             [
              0.7777777777777778,
              "#fb9f3a"
             ],
             [
              0.8888888888888888,
              "#fdca26"
             ],
             [
              1,
              "#f0f921"
             ]
            ],
            "type": "histogram2d"
           }
          ],
          "histogram2dcontour": [
           {
            "colorbar": {
             "outlinewidth": 0,
             "ticks": ""
            },
            "colorscale": [
             [
              0,
              "#0d0887"
             ],
             [
              0.1111111111111111,
              "#46039f"
             ],
             [
              0.2222222222222222,
              "#7201a8"
             ],
             [
              0.3333333333333333,
              "#9c179e"
             ],
             [
              0.4444444444444444,
              "#bd3786"
             ],
             [
              0.5555555555555556,
              "#d8576b"
             ],
             [
              0.6666666666666666,
              "#ed7953"
             ],
             [
              0.7777777777777778,
              "#fb9f3a"
             ],
             [
              0.8888888888888888,
              "#fdca26"
             ],
             [
              1,
              "#f0f921"
             ]
            ],
            "type": "histogram2dcontour"
           }
          ],
          "mesh3d": [
           {
            "colorbar": {
             "outlinewidth": 0,
             "ticks": ""
            },
            "type": "mesh3d"
           }
          ],
          "parcoords": [
           {
            "line": {
             "colorbar": {
              "outlinewidth": 0,
              "ticks": ""
             }
            },
            "type": "parcoords"
           }
          ],
          "pie": [
           {
            "automargin": true,
            "type": "pie"
           }
          ],
          "scatter": [
           {
            "marker": {
             "colorbar": {
              "outlinewidth": 0,
              "ticks": ""
             }
            },
            "type": "scatter"
           }
          ],
          "scatter3d": [
           {
            "line": {
             "colorbar": {
              "outlinewidth": 0,
              "ticks": ""
             }
            },
            "marker": {
             "colorbar": {
              "outlinewidth": 0,
              "ticks": ""
             }
            },
            "type": "scatter3d"
           }
          ],
          "scattercarpet": [
           {
            "marker": {
             "colorbar": {
              "outlinewidth": 0,
              "ticks": ""
             }
            },
            "type": "scattercarpet"
           }
          ],
          "scattergeo": [
           {
            "marker": {
             "colorbar": {
              "outlinewidth": 0,
              "ticks": ""
             }
            },
            "type": "scattergeo"
           }
          ],
          "scattergl": [
           {
            "marker": {
             "colorbar": {
              "outlinewidth": 0,
              "ticks": ""
             }
            },
            "type": "scattergl"
           }
          ],
          "scattermapbox": [
           {
            "marker": {
             "colorbar": {
              "outlinewidth": 0,
              "ticks": ""
             }
            },
            "type": "scattermapbox"
           }
          ],
          "scatterpolar": [
           {
            "marker": {
             "colorbar": {
              "outlinewidth": 0,
              "ticks": ""
             }
            },
            "type": "scatterpolar"
           }
          ],
          "scatterpolargl": [
           {
            "marker": {
             "colorbar": {
              "outlinewidth": 0,
              "ticks": ""
             }
            },
            "type": "scatterpolargl"
           }
          ],
          "scatterternary": [
           {
            "marker": {
             "colorbar": {
              "outlinewidth": 0,
              "ticks": ""
             }
            },
            "type": "scatterternary"
           }
          ],
          "surface": [
           {
            "colorbar": {
             "outlinewidth": 0,
             "ticks": ""
            },
            "colorscale": [
             [
              0,
              "#0d0887"
             ],
             [
              0.1111111111111111,
              "#46039f"
             ],
             [
              0.2222222222222222,
              "#7201a8"
             ],
             [
              0.3333333333333333,
              "#9c179e"
             ],
             [
              0.4444444444444444,
              "#bd3786"
             ],
             [
              0.5555555555555556,
              "#d8576b"
             ],
             [
              0.6666666666666666,
              "#ed7953"
             ],
             [
              0.7777777777777778,
              "#fb9f3a"
             ],
             [
              0.8888888888888888,
              "#fdca26"
             ],
             [
              1,
              "#f0f921"
             ]
            ],
            "type": "surface"
           }
          ],
          "table": [
           {
            "cells": {
             "fill": {
              "color": "#EBF0F8"
             },
             "line": {
              "color": "white"
             }
            },
            "header": {
             "fill": {
              "color": "#C8D4E3"
             },
             "line": {
              "color": "white"
             }
            },
            "type": "table"
           }
          ]
         },
         "layout": {
          "annotationdefaults": {
           "arrowcolor": "#2a3f5f",
           "arrowhead": 0,
           "arrowwidth": 1
          },
          "autotypenumbers": "strict",
          "coloraxis": {
           "colorbar": {
            "outlinewidth": 0,
            "ticks": ""
           }
          },
          "colorscale": {
           "diverging": [
            [
             0,
             "#8e0152"
            ],
            [
             0.1,
             "#c51b7d"
            ],
            [
             0.2,
             "#de77ae"
            ],
            [
             0.3,
             "#f1b6da"
            ],
            [
             0.4,
             "#fde0ef"
            ],
            [
             0.5,
             "#f7f7f7"
            ],
            [
             0.6,
             "#e6f5d0"
            ],
            [
             0.7,
             "#b8e186"
            ],
            [
             0.8,
             "#7fbc41"
            ],
            [
             0.9,
             "#4d9221"
            ],
            [
             1,
             "#276419"
            ]
           ],
           "sequential": [
            [
             0,
             "#0d0887"
            ],
            [
             0.1111111111111111,
             "#46039f"
            ],
            [
             0.2222222222222222,
             "#7201a8"
            ],
            [
             0.3333333333333333,
             "#9c179e"
            ],
            [
             0.4444444444444444,
             "#bd3786"
            ],
            [
             0.5555555555555556,
             "#d8576b"
            ],
            [
             0.6666666666666666,
             "#ed7953"
            ],
            [
             0.7777777777777778,
             "#fb9f3a"
            ],
            [
             0.8888888888888888,
             "#fdca26"
            ],
            [
             1,
             "#f0f921"
            ]
           ],
           "sequentialminus": [
            [
             0,
             "#0d0887"
            ],
            [
             0.1111111111111111,
             "#46039f"
            ],
            [
             0.2222222222222222,
             "#7201a8"
            ],
            [
             0.3333333333333333,
             "#9c179e"
            ],
            [
             0.4444444444444444,
             "#bd3786"
            ],
            [
             0.5555555555555556,
             "#d8576b"
            ],
            [
             0.6666666666666666,
             "#ed7953"
            ],
            [
             0.7777777777777778,
             "#fb9f3a"
            ],
            [
             0.8888888888888888,
             "#fdca26"
            ],
            [
             1,
             "#f0f921"
            ]
           ]
          },
          "colorway": [
           "#636efa",
           "#EF553B",
           "#00cc96",
           "#ab63fa",
           "#FFA15A",
           "#19d3f3",
           "#FF6692",
           "#B6E880",
           "#FF97FF",
           "#FECB52"
          ],
          "font": {
           "color": "#2a3f5f"
          },
          "geo": {
           "bgcolor": "white",
           "lakecolor": "white",
           "landcolor": "#E5ECF6",
           "showlakes": true,
           "showland": true,
           "subunitcolor": "white"
          },
          "hoverlabel": {
           "align": "left"
          },
          "hovermode": "closest",
          "mapbox": {
           "style": "light"
          },
          "paper_bgcolor": "white",
          "plot_bgcolor": "#E5ECF6",
          "polar": {
           "angularaxis": {
            "gridcolor": "white",
            "linecolor": "white",
            "ticks": ""
           },
           "bgcolor": "#E5ECF6",
           "radialaxis": {
            "gridcolor": "white",
            "linecolor": "white",
            "ticks": ""
           }
          },
          "scene": {
           "xaxis": {
            "backgroundcolor": "#E5ECF6",
            "gridcolor": "white",
            "gridwidth": 2,
            "linecolor": "white",
            "showbackground": true,
            "ticks": "",
            "zerolinecolor": "white"
           },
           "yaxis": {
            "backgroundcolor": "#E5ECF6",
            "gridcolor": "white",
            "gridwidth": 2,
            "linecolor": "white",
            "showbackground": true,
            "ticks": "",
            "zerolinecolor": "white"
           },
           "zaxis": {
            "backgroundcolor": "#E5ECF6",
            "gridcolor": "white",
            "gridwidth": 2,
            "linecolor": "white",
            "showbackground": true,
            "ticks": "",
            "zerolinecolor": "white"
           }
          },
          "shapedefaults": {
           "line": {
            "color": "#2a3f5f"
           }
          },
          "ternary": {
           "aaxis": {
            "gridcolor": "white",
            "linecolor": "white",
            "ticks": ""
           },
           "baxis": {
            "gridcolor": "white",
            "linecolor": "white",
            "ticks": ""
           },
           "bgcolor": "#E5ECF6",
           "caxis": {
            "gridcolor": "white",
            "linecolor": "white",
            "ticks": ""
           }
          },
          "title": {
           "x": 0.05
          },
          "xaxis": {
           "automargin": true,
           "gridcolor": "white",
           "linecolor": "white",
           "ticks": "",
           "title": {
            "standoff": 15
           },
           "zerolinecolor": "white",
           "zerolinewidth": 2
          },
          "yaxis": {
           "automargin": true,
           "gridcolor": "white",
           "linecolor": "white",
           "ticks": "",
           "title": {
            "standoff": 15
           },
           "zerolinecolor": "white",
           "zerolinewidth": 2
          }
         }
        },
        "title": {
         "text": "Total Explained Variance: 83.53%"
        }
       }
      },
      "text/html": [
       "<div>                            <div id=\"ec0c10a5-abea-4a11-94e4-a6b07c37ff0a\" class=\"plotly-graph-div\" style=\"height:525px; width:100%;\"></div>            <script type=\"text/javascript\">                require([\"plotly\"], function(Plotly) {                    window.PLOTLYENV=window.PLOTLYENV || {};                                    if (document.getElementById(\"ec0c10a5-abea-4a11-94e4-a6b07c37ff0a\")) {                    Plotly.newPlot(                        \"ec0c10a5-abea-4a11-94e4-a6b07c37ff0a\",                        [{\"hovertemplate\":\"color=Western Europe<br>0=%{x}<br>PC 1=%{y}<br>PC 2=%{z}<extra></extra>\",\"legendgroup\":\"Western Europe\",\"marker\":{\"color\":\"#636efa\",\"symbol\":\"circle\"},\"mode\":\"markers\",\"name\":\"Western Europe\",\"scene\":\"scene\",\"showlegend\":true,\"x\":[-3.8330400671798617,-3.92387382955524,-3.9531713029059117,-3.2691812413898282,-3.4736731208981624,-3.7617766991009067,-3.57099498814827,-2.9804692600773595,-3.3921206358492575,-2.9409359773742296,-3.361996564625497,-2.8098946925126,-2.554573482830794,-2.666341828103684,-2.2335788543366233,-1.7026361278649538,-1.1764377076987467,-1.1140676720491758,-1.2377070049507466,0.4674015710182546],\"y\":[0.9582137519022614,1.7223962121243255,1.4441888036679809,0.9269429038452618,1.594224172081609,1.356001655826834,1.6541120863180852,0.6445024639893575,0.5760594184580852,1.4173035423010838,1.2897580411895087,0.9071360562082258,-0.18135998182994267,1.3459841412842035,-0.7687170024456864,-1.1937094945594735,-1.765224769655185,-0.7479095137492955,-1.6454721850076146,-2.95570387437933],\"z\":[1.9083817150158642,1.462946165857839,0.7886798472011699,-1.5526476407949845,0.20016892842620052,0.9116276628331854,1.174238174837451,0.16258858919634903,1.2213445758574861,-0.08910386944046078,0.46131787117147466,0.420438994704096,0.5596706380603842,-1.2686631019111587,0.6891467272239611,-0.3887211961567788,-0.7707082131906275,-0.6611539329005884,-0.11167758148226235,0.6428851702785118],\"type\":\"scatter3d\"},{\"hovertemplate\":\"color=North America and ANZ<br>0=%{x}<br>PC 1=%{y}<br>PC 2=%{z}<extra></extra>\",\"legendgroup\":\"North America and ANZ\",\"marker\":{\"color\":\"#EF553B\",\"symbol\":\"circle\"},\"mode\":\"markers\",\"name\":\"North America and ANZ\",\"scene\":\"scene\",\"showlegend\":true,\"x\":[-3.6918845866035706,-3.457122859597621,-3.4288123721306762,-2.162627276630271],\"y\":[2.1591645641820723,1.4627796429259108,1.5982600416328916,0.2968675901650119],\"z\":[0.7638670243725545,0.5188215541719773,0.05530647160158508,-0.7542908459860782],\"type\":\"scatter3d\"},{\"hovertemplate\":\"color=Latin America and Caribbean<br>0=%{x}<br>PC 1=%{y}<br>PC 2=%{z}<extra></extra>\",\"legendgroup\":\"Latin America and Caribbean\",\"marker\":{\"color\":\"#00cc96\",\"symbol\":\"circle\"},\"mode\":\"markers\",\"name\":\"Latin America and Caribbean\",\"scene\":\"scene\",\"showlegend\":true,\"x\":[-1.9862581520223226,-0.9930471375409567,-1.083328907763806,-0.622342483502607,-1.4197003167250644,-0.809586215604218,-1.677233064851801,-0.25409154145422097,-0.7807234098590115,-0.5326707207851639,-1.0263064895870597,-0.7827490172070312,-0.6166010479319157,-0.27542556358968223,-0.00912702599835395,-0.7349829014428128,-0.3061525148546388,-0.6398475118062623,0.6425024226741708,3.59737113961467],\"y\":[-0.37123555842400646,-1.159214053870326,-0.7909623751104321,0.2026268272275081,-0.9397881203753147,-1.0258075621343232,-0.29364591734401124,-0.7138385404768778,-1.0488844661853403,0.2994418543370911,-1.3209432328868789,-0.4058004563799537,-0.9013888402130754,0.7075124959219488,-0.09121770847033604,0.018754348874588562,-1.1173291870554982,-0.4705091474312333,-2.0638582123281233,1.7514239186144134],\"z\":[-0.2815651773699162,0.18878240665667462,-0.6608115378827851,-0.3604789986459654,-0.2992869614157805,0.06034573766868471,0.33845393075750313,0.16517835182347995,-0.34753032612262597,-0.15843930906161796,-0.03281364018806358,-0.008002745197379745,-0.5146849783584232,-0.7556458337541321,-0.13223704633395586,-0.5529671027913107,-0.150929944022601,0.16064798978604553,0.12044231469832514,-0.7436909966723452],\"type\":\"scatter3d\"},{\"hovertemplate\":\"color=Middle East and North Africa<br>0=%{x}<br>PC 1=%{y}<br>PC 2=%{z}<extra></extra>\",\"legendgroup\":\"Middle East and North Africa\",\"marker\":{\"color\":\"#ab63fa\",\"symbol\":\"circle\"},\"mode\":\"markers\",\"name\":\"Middle East and North Africa\",\"scene\":\"scene\",\"showlegend\":true,\"x\":[-2.0378804269935515,-2.365968464314693,-1.4102114134287473,-1.7495318476009387,-1.414129493138035,-0.3285105704813188,-0.09423504183279724,0.7964493599106385,1.0021303111634874,0.5290282861464713,0.19882820922836938,1.3040233218241335,0.7732105620274843,1.4042259439428102,1.4249651998442963,1.5901786610284663,3.018609498156264],\"y\":[-0.34749206727290416,0.9664283264994299,-0.9792720287856537,0.4038379246878085,-0.5865810115978646,-0.1602869269321671,-1.6297000754178412,-1.6792645382913358,-0.7544312936291792,-1.139129339236828,-0.43779441369836813,-1.036668666021387,0.6253780312943752,-1.6667672695765343,-0.5011003990003372,-1.1407216657749901,-0.6568961006120427],\"z\":[-1.0427722313031837,-0.08530468453965942,0.6484553334252766,-0.6459694339820367,0.03768192782211831,0.5780494871758591,0.5134703116914755,0.854487203965163,1.0393194423733987,-0.5143731933157948,0.6149126635160136,0.18478941491085463,0.03168738186908333,0.6312123633670663,0.4168127052605169,0.6158120307261243,0.4231104401668227],\"type\":\"scatter3d\"},{\"hovertemplate\":\"color=Central and Eastern Europe<br>0=%{x}<br>PC 1=%{y}<br>PC 2=%{z}<extra></extra>\",\"legendgroup\":\"Central and Eastern Europe\",\"marker\":{\"color\":\"#FFA15A\",\"symbol\":\"circle\"},\"mode\":\"markers\",\"name\":\"Central and Eastern Europe\",\"scene\":\"scene\",\"showlegend\":true,\"x\":[-1.6491430671982186,-0.995945118875777,-1.2890881492572204,-0.7780089107313292,-1.8217658672334247,-0.29696179730598693,-0.5453515269495677,-0.5579841863249483,-1.6524196368446735,-0.16798123746224677,-0.16123004138449665,-0.10097223638367542,-0.1703605992438853,0.4510588415517432,0.00851147357440828,-0.06524276597974213,0.8667396121979262],\"y\":[-1.7901085854066332,-1.6600531527390088,-1.0041693942599812,-2.150918704971909,-0.6979485565205036,0.3100477040876475,-1.2923905287230342,-1.805273556444413,-0.5846158543752975,-2.144121074946077,-1.2777249464967932,-1.3060492739844765,-1.5034970913815062,-0.5559831516634998,-0.6699449584906708,-1.8753176244244982,-0.2894194578033753],\"z\":[-0.1060232794318013,-0.685865876028943,-0.3498816590929023,0.03188944829788835,-0.5658331112910031,-1.3998212448202374,-0.2849482488487809,0.07465964489067842,0.5579068912135572,-0.23692301497663582,-0.4385950003504672,-0.09242389848773427,-0.3419230648429706,-1.2868598663435369,-0.6835987871552506,-0.45695268104850095,-0.2554371377335439],\"type\":\"scatter3d\"},{\"hovertemplate\":\"color=Southeast Asia<br>0=%{x}<br>PC 1=%{y}<br>PC 2=%{z}<extra></extra>\",\"legendgroup\":\"Southeast Asia\",\"marker\":{\"color\":\"#19d3f3\",\"symbol\":\"circle\"},\"mode\":\"markers\",\"name\":\"Southeast Asia\",\"scene\":\"scene\",\"showlegend\":true,\"x\":[-3.7241287196585295,-1.1712463862703226,-0.2356896812727643,-0.5057130488262853,0.024646761324034896,-0.3070292283647398,0.5506609940115934,0.678748031243115,0.35483175337161504],\"y\":[1.8557718836640291,1.0105245053316207,0.07826091796000817,0.2362838107962424,2.223920410551523,-0.06919409451855545,1.7508296736700966,1.1545456513737242,3.808198607618222],\"z\":[1.8740818695604982,-1.9980821367907935,0.26372076259760635,-1.1253452585114143,-2.5700542469015315,-0.25718463544324854,0.125060435036451,-0.6167718901034928,-1.7745069011275314],\"type\":\"scatter3d\"},{\"hovertemplate\":\"color=Commonwealth of Independent States<br>0=%{x}<br>PC 1=%{y}<br>PC 2=%{z}<extra></extra>\",\"legendgroup\":\"Commonwealth of Independent States\",\"marker\":{\"color\":\"#FF6692\",\"symbol\":\"circle\"},\"mode\":\"markers\",\"name\":\"Commonwealth of Independent States\",\"scene\":\"scene\",\"showlegend\":true,\"x\":[-1.666719476127334,-0.879271786237759,-0.31604911411065667,0.72679143234573,0.6098661144078805,-0.265225165620373,0.08900266188598886,-0.24425776528547957,0.01745963967771822,1.0350477139993153,1.357751644729756,1.1128719450977265],\"y\":[2.180281645407035,-0.6640244012633285,-1.6230966502695034,-0.9164801031264858,0.8933367255221581,-1.2439844334340393,0.8335326220355903,-0.21357970140884272,-0.8497806327079711,-1.0295558077594724,-0.38626615793508645,-1.1107226581662775],\"z\":[-0.23124135557123138,-0.16075037399367237,-0.20487540700466525,-0.9645122785763746,0.06272756512528127,0.6186534646011812,-1.676987802455637,-1.298328312450832,1.5868140873956313,0.3878176223865923,1.8849845222496453,-0.8816241338621842],\"type\":\"scatter3d\"},{\"hovertemplate\":\"color=East Asia<br>0=%{x}<br>PC 1=%{y}<br>PC 2=%{z}<extra></extra>\",\"legendgroup\":\"East Asia\",\"marker\":{\"color\":\"#B6E880\",\"symbol\":\"circle\"},\"mode\":\"markers\",\"name\":\"East Asia\",\"scene\":\"scene\",\"showlegend\":true,\"x\":[-0.5279477175970972,-1.79521811600123,0.01583423772527523,-0.34803849237799245],\"y\":[-1.5029545793255943,-1.233538606828763,-0.3874664692146851,-0.6855310149765473],\"z\":[-0.36993475115725494,0.6843357783137833,-1.1512948967209715,0.7432913841190245],\"type\":\"scatter3d\"},{\"hovertemplate\":\"color=Sub-Saharan Africa<br>0=%{x}<br>PC 1=%{y}<br>PC 2=%{z}<extra></extra>\",\"legendgroup\":\"Sub-Saharan Africa\",\"marker\":{\"color\":\"#FF97FF\",\"symbol\":\"circle\"},\"mode\":\"markers\",\"name\":\"Sub-Saharan Africa\",\"scene\":\"scene\",\"showlegend\":true,\"x\":[-0.9738494339073287,1.558023279834486,2.122877447393111,1.7831499331420837,2.4392326776419253,2.9605508781369383,1.8368239611032307,0.9855121688734024,0.7789756894627333,1.7210506877259204,0.9736457901641357,2.9128400606474463,2.3498942990864515,2.5546700709457664,1.9803041483497221,1.4978514241214522,2.2864629141700186,2.0018967231784806,2.4534097830925745,3.131028833276054,3.5230839478735354,2.022030852451983,2.4016749514772346,2.2344800755580567,1.7757342357985229,3.334328059329538,2.9311760278732124,3.2057608637752737,3.048013850233019,2.598919067623373,3.9066944131047223,2.356931446724283,1.214145789119685,3.1913459189099496,1.387262972672661,2.2562822015427626],\"y\":[-0.04161875812709321,0.6457598002195641,0.4792390519901991,0.7723829778108438,0.5787983316682531,0.9421123765831936,0.0092287227750201,-1.4449006470580519,-0.5283371059132832,-0.14795268606574866,-0.8417206688887041,0.9840579419912179,0.4260822413397731,0.8780300519796989,1.78942963188137,1.8022977084971432,-1.0820708497932199,1.514692794223908,0.1508909511675257,1.1102982600593554,0.5485003031879625,0.7418321430130903,-0.07841258949625002,0.9380691400198434,1.1216317042871302,0.7970800495923087,0.9939088497354724,0.8099308343297138,-0.2830331449876974,0.14171462889954103,1.3358068935607879,0.3430827344768024,-0.7754465599062951,1.556702752610756,3.163521133383257,1.7567775811709996],\"z\":[-0.8160015382387746,-0.5709821947574624,-0.24443597737317274,-0.5569166994218885,0.5149246330075774,0.6343006333377139,0.8091486213236365,0.5617497279196979,-0.14335840706042288,0.017479574703194434,0.262215302500895,0.39406121632640345,0.31288266728102737,0.12014220532709474,0.25413926372127704,-1.3555113359985644,0.4972832071896822,0.39097438127106016,-0.06320791504324107,-0.4672029700511588,0.2536293311006598,0.0011712107771491345,1.158995420164359,-0.5990830235357787,-0.3279801720245881,0.5623823835575602,-0.5738044231864028,-0.24783460577942978,-0.05468854596175391,0.5493339003625793,1.4695162944125122,0.24506402386541168,1.1104455719924105,0.33156638623923235,2.743641877301624,0.17149878546135386],\"type\":\"scatter3d\"},{\"hovertemplate\":\"color=South Asia<br>0=%{x}<br>PC 1=%{y}<br>PC 2=%{z}<extra></extra>\",\"legendgroup\":\"South Asia\",\"marker\":{\"color\":\"#FECB52\",\"symbol\":\"circle\"},\"mode\":\"markers\",\"name\":\"South Asia\",\"scene\":\"scene\",\"showlegend\":true,\"x\":[1.3093402852327383,0.7797021690475627,0.9570377549892162,0.13030245726201695,1.6389235877058153,4.680279663189628],\"y\":[0.5679053918132602,1.140646754060088,0.9439369678548302,0.25929241662061164,0.9457044457110816,-0.4183483101294983],\"z\":[0.020206506894292306,-0.8162229949742827,0.6414940818165648,-0.8944567095760926,0.20176988719719915,0.3916971676161106],\"type\":\"scatter3d\"}],                        {\"template\":{\"data\":{\"bar\":[{\"error_x\":{\"color\":\"#2a3f5f\"},\"error_y\":{\"color\":\"#2a3f5f\"},\"marker\":{\"line\":{\"color\":\"#E5ECF6\",\"width\":0.5},\"pattern\":{\"fillmode\":\"overlay\",\"size\":10,\"solidity\":0.2}},\"type\":\"bar\"}],\"barpolar\":[{\"marker\":{\"line\":{\"color\":\"#E5ECF6\",\"width\":0.5},\"pattern\":{\"fillmode\":\"overlay\",\"size\":10,\"solidity\":0.2}},\"type\":\"barpolar\"}],\"carpet\":[{\"aaxis\":{\"endlinecolor\":\"#2a3f5f\",\"gridcolor\":\"white\",\"linecolor\":\"white\",\"minorgridcolor\":\"white\",\"startlinecolor\":\"#2a3f5f\"},\"baxis\":{\"endlinecolor\":\"#2a3f5f\",\"gridcolor\":\"white\",\"linecolor\":\"white\",\"minorgridcolor\":\"white\",\"startlinecolor\":\"#2a3f5f\"},\"type\":\"carpet\"}],\"choropleth\":[{\"colorbar\":{\"outlinewidth\":0,\"ticks\":\"\"},\"type\":\"choropleth\"}],\"contour\":[{\"colorbar\":{\"outlinewidth\":0,\"ticks\":\"\"},\"colorscale\":[[0.0,\"#0d0887\"],[0.1111111111111111,\"#46039f\"],[0.2222222222222222,\"#7201a8\"],[0.3333333333333333,\"#9c179e\"],[0.4444444444444444,\"#bd3786\"],[0.5555555555555556,\"#d8576b\"],[0.6666666666666666,\"#ed7953\"],[0.7777777777777778,\"#fb9f3a\"],[0.8888888888888888,\"#fdca26\"],[1.0,\"#f0f921\"]],\"type\":\"contour\"}],\"contourcarpet\":[{\"colorbar\":{\"outlinewidth\":0,\"ticks\":\"\"},\"type\":\"contourcarpet\"}],\"heatmap\":[{\"colorbar\":{\"outlinewidth\":0,\"ticks\":\"\"},\"colorscale\":[[0.0,\"#0d0887\"],[0.1111111111111111,\"#46039f\"],[0.2222222222222222,\"#7201a8\"],[0.3333333333333333,\"#9c179e\"],[0.4444444444444444,\"#bd3786\"],[0.5555555555555556,\"#d8576b\"],[0.6666666666666666,\"#ed7953\"],[0.7777777777777778,\"#fb9f3a\"],[0.8888888888888888,\"#fdca26\"],[1.0,\"#f0f921\"]],\"type\":\"heatmap\"}],\"heatmapgl\":[{\"colorbar\":{\"outlinewidth\":0,\"ticks\":\"\"},\"colorscale\":[[0.0,\"#0d0887\"],[0.1111111111111111,\"#46039f\"],[0.2222222222222222,\"#7201a8\"],[0.3333333333333333,\"#9c179e\"],[0.4444444444444444,\"#bd3786\"],[0.5555555555555556,\"#d8576b\"],[0.6666666666666666,\"#ed7953\"],[0.7777777777777778,\"#fb9f3a\"],[0.8888888888888888,\"#fdca26\"],[1.0,\"#f0f921\"]],\"type\":\"heatmapgl\"}],\"histogram\":[{\"marker\":{\"pattern\":{\"fillmode\":\"overlay\",\"size\":10,\"solidity\":0.2}},\"type\":\"histogram\"}],\"histogram2d\":[{\"colorbar\":{\"outlinewidth\":0,\"ticks\":\"\"},\"colorscale\":[[0.0,\"#0d0887\"],[0.1111111111111111,\"#46039f\"],[0.2222222222222222,\"#7201a8\"],[0.3333333333333333,\"#9c179e\"],[0.4444444444444444,\"#bd3786\"],[0.5555555555555556,\"#d8576b\"],[0.6666666666666666,\"#ed7953\"],[0.7777777777777778,\"#fb9f3a\"],[0.8888888888888888,\"#fdca26\"],[1.0,\"#f0f921\"]],\"type\":\"histogram2d\"}],\"histogram2dcontour\":[{\"colorbar\":{\"outlinewidth\":0,\"ticks\":\"\"},\"colorscale\":[[0.0,\"#0d0887\"],[0.1111111111111111,\"#46039f\"],[0.2222222222222222,\"#7201a8\"],[0.3333333333333333,\"#9c179e\"],[0.4444444444444444,\"#bd3786\"],[0.5555555555555556,\"#d8576b\"],[0.6666666666666666,\"#ed7953\"],[0.7777777777777778,\"#fb9f3a\"],[0.8888888888888888,\"#fdca26\"],[1.0,\"#f0f921\"]],\"type\":\"histogram2dcontour\"}],\"mesh3d\":[{\"colorbar\":{\"outlinewidth\":0,\"ticks\":\"\"},\"type\":\"mesh3d\"}],\"parcoords\":[{\"line\":{\"colorbar\":{\"outlinewidth\":0,\"ticks\":\"\"}},\"type\":\"parcoords\"}],\"pie\":[{\"automargin\":true,\"type\":\"pie\"}],\"scatter\":[{\"marker\":{\"colorbar\":{\"outlinewidth\":0,\"ticks\":\"\"}},\"type\":\"scatter\"}],\"scatter3d\":[{\"line\":{\"colorbar\":{\"outlinewidth\":0,\"ticks\":\"\"}},\"marker\":{\"colorbar\":{\"outlinewidth\":0,\"ticks\":\"\"}},\"type\":\"scatter3d\"}],\"scattercarpet\":[{\"marker\":{\"colorbar\":{\"outlinewidth\":0,\"ticks\":\"\"}},\"type\":\"scattercarpet\"}],\"scattergeo\":[{\"marker\":{\"colorbar\":{\"outlinewidth\":0,\"ticks\":\"\"}},\"type\":\"scattergeo\"}],\"scattergl\":[{\"marker\":{\"colorbar\":{\"outlinewidth\":0,\"ticks\":\"\"}},\"type\":\"scattergl\"}],\"scattermapbox\":[{\"marker\":{\"colorbar\":{\"outlinewidth\":0,\"ticks\":\"\"}},\"type\":\"scattermapbox\"}],\"scatterpolar\":[{\"marker\":{\"colorbar\":{\"outlinewidth\":0,\"ticks\":\"\"}},\"type\":\"scatterpolar\"}],\"scatterpolargl\":[{\"marker\":{\"colorbar\":{\"outlinewidth\":0,\"ticks\":\"\"}},\"type\":\"scatterpolargl\"}],\"scatterternary\":[{\"marker\":{\"colorbar\":{\"outlinewidth\":0,\"ticks\":\"\"}},\"type\":\"scatterternary\"}],\"surface\":[{\"colorbar\":{\"outlinewidth\":0,\"ticks\":\"\"},\"colorscale\":[[0.0,\"#0d0887\"],[0.1111111111111111,\"#46039f\"],[0.2222222222222222,\"#7201a8\"],[0.3333333333333333,\"#9c179e\"],[0.4444444444444444,\"#bd3786\"],[0.5555555555555556,\"#d8576b\"],[0.6666666666666666,\"#ed7953\"],[0.7777777777777778,\"#fb9f3a\"],[0.8888888888888888,\"#fdca26\"],[1.0,\"#f0f921\"]],\"type\":\"surface\"}],\"table\":[{\"cells\":{\"fill\":{\"color\":\"#EBF0F8\"},\"line\":{\"color\":\"white\"}},\"header\":{\"fill\":{\"color\":\"#C8D4E3\"},\"line\":{\"color\":\"white\"}},\"type\":\"table\"}]},\"layout\":{\"annotationdefaults\":{\"arrowcolor\":\"#2a3f5f\",\"arrowhead\":0,\"arrowwidth\":1},\"autotypenumbers\":\"strict\",\"coloraxis\":{\"colorbar\":{\"outlinewidth\":0,\"ticks\":\"\"}},\"colorscale\":{\"diverging\":[[0,\"#8e0152\"],[0.1,\"#c51b7d\"],[0.2,\"#de77ae\"],[0.3,\"#f1b6da\"],[0.4,\"#fde0ef\"],[0.5,\"#f7f7f7\"],[0.6,\"#e6f5d0\"],[0.7,\"#b8e186\"],[0.8,\"#7fbc41\"],[0.9,\"#4d9221\"],[1,\"#276419\"]],\"sequential\":[[0.0,\"#0d0887\"],[0.1111111111111111,\"#46039f\"],[0.2222222222222222,\"#7201a8\"],[0.3333333333333333,\"#9c179e\"],[0.4444444444444444,\"#bd3786\"],[0.5555555555555556,\"#d8576b\"],[0.6666666666666666,\"#ed7953\"],[0.7777777777777778,\"#fb9f3a\"],[0.8888888888888888,\"#fdca26\"],[1.0,\"#f0f921\"]],\"sequentialminus\":[[0.0,\"#0d0887\"],[0.1111111111111111,\"#46039f\"],[0.2222222222222222,\"#7201a8\"],[0.3333333333333333,\"#9c179e\"],[0.4444444444444444,\"#bd3786\"],[0.5555555555555556,\"#d8576b\"],[0.6666666666666666,\"#ed7953\"],[0.7777777777777778,\"#fb9f3a\"],[0.8888888888888888,\"#fdca26\"],[1.0,\"#f0f921\"]]},\"colorway\":[\"#636efa\",\"#EF553B\",\"#00cc96\",\"#ab63fa\",\"#FFA15A\",\"#19d3f3\",\"#FF6692\",\"#B6E880\",\"#FF97FF\",\"#FECB52\"],\"font\":{\"color\":\"#2a3f5f\"},\"geo\":{\"bgcolor\":\"white\",\"lakecolor\":\"white\",\"landcolor\":\"#E5ECF6\",\"showlakes\":true,\"showland\":true,\"subunitcolor\":\"white\"},\"hoverlabel\":{\"align\":\"left\"},\"hovermode\":\"closest\",\"mapbox\":{\"style\":\"light\"},\"paper_bgcolor\":\"white\",\"plot_bgcolor\":\"#E5ECF6\",\"polar\":{\"angularaxis\":{\"gridcolor\":\"white\",\"linecolor\":\"white\",\"ticks\":\"\"},\"bgcolor\":\"#E5ECF6\",\"radialaxis\":{\"gridcolor\":\"white\",\"linecolor\":\"white\",\"ticks\":\"\"}},\"scene\":{\"xaxis\":{\"backgroundcolor\":\"#E5ECF6\",\"gridcolor\":\"white\",\"gridwidth\":2,\"linecolor\":\"white\",\"showbackground\":true,\"ticks\":\"\",\"zerolinecolor\":\"white\"},\"yaxis\":{\"backgroundcolor\":\"#E5ECF6\",\"gridcolor\":\"white\",\"gridwidth\":2,\"linecolor\":\"white\",\"showbackground\":true,\"ticks\":\"\",\"zerolinecolor\":\"white\"},\"zaxis\":{\"backgroundcolor\":\"#E5ECF6\",\"gridcolor\":\"white\",\"gridwidth\":2,\"linecolor\":\"white\",\"showbackground\":true,\"ticks\":\"\",\"zerolinecolor\":\"white\"}},\"shapedefaults\":{\"line\":{\"color\":\"#2a3f5f\"}},\"ternary\":{\"aaxis\":{\"gridcolor\":\"white\",\"linecolor\":\"white\",\"ticks\":\"\"},\"baxis\":{\"gridcolor\":\"white\",\"linecolor\":\"white\",\"ticks\":\"\"},\"bgcolor\":\"#E5ECF6\",\"caxis\":{\"gridcolor\":\"white\",\"linecolor\":\"white\",\"ticks\":\"\"}},\"title\":{\"x\":0.05},\"xaxis\":{\"automargin\":true,\"gridcolor\":\"white\",\"linecolor\":\"white\",\"ticks\":\"\",\"title\":{\"standoff\":15},\"zerolinecolor\":\"white\",\"zerolinewidth\":2},\"yaxis\":{\"automargin\":true,\"gridcolor\":\"white\",\"linecolor\":\"white\",\"ticks\":\"\",\"title\":{\"standoff\":15},\"zerolinecolor\":\"white\",\"zerolinewidth\":2}}},\"scene\":{\"domain\":{\"x\":[0.0,1.0],\"y\":[0.0,1.0]},\"xaxis\":{\"title\":{\"text\":\"0\"}},\"yaxis\":{\"title\":{\"text\":\"PC 1\"}},\"zaxis\":{\"title\":{\"text\":\"PC 2\"}}},\"legend\":{\"title\":{\"text\":\"color\"},\"tracegroupgap\":0},\"title\":{\"text\":\"Total Explained Variance: 83.53%\"}},                        {\"responsive\": true}                    ).then(function(){\n",
       "                            \n",
       "var gd = document.getElementById('ec0c10a5-abea-4a11-94e4-a6b07c37ff0a');\n",
       "var x = new MutationObserver(function (mutations, observer) {{\n",
       "        var display = window.getComputedStyle(gd).display;\n",
       "        if (!display || display === 'none') {{\n",
       "            console.log([gd, 'removed!']);\n",
       "            Plotly.purge(gd);\n",
       "            observer.disconnect();\n",
       "        }}\n",
       "}});\n",
       "\n",
       "// Listen for the removal of the full notebook cells\n",
       "var notebookContainer = gd.closest('#notebook-container');\n",
       "if (notebookContainer) {{\n",
       "    x.observe(notebookContainer, {childList: true});\n",
       "}}\n",
       "\n",
       "// Listen for the clearing of the current output cell\n",
       "var outputEl = gd.closest('.output');\n",
       "if (outputEl) {{\n",
       "    x.observe(outputEl, {childList: true});\n",
       "}}\n",
       "\n",
       "                        })                };                });            </script>        </div>"
      ]
     },
     "metadata": {},
     "output_type": "display_data"
    }
   ],
   "source": [
    "pca = PCA(n_components=3)\n",
    "components = pca.fit_transform(X)\n",
    "\n",
    "total_var = pca.explained_variance_ratio_.sum() * 100\n",
    "\n",
    "fig = px.scatter_3d(\n",
    "    components, x=0, y=1, z=2, color=df['Region'],\n",
    "    title=f'Total Explained Variance: {total_var:.2f}%',\n",
    "    labels={'1': 'PC 1', '2': 'PC 2', '3': 'PC 3'}\n",
    ")\n",
    "fig.show()\n"
   ]
  },
  {
   "cell_type": "code",
   "execution_count": 16,
   "metadata": {},
   "outputs": [
    {
     "data": {
      "application/vnd.plotly.v1+json": {
       "config": {
        "plotlyServerURL": "https://plot.ly"
       },
       "data": [
        {
         "hovertemplate": "<b>%{hovertext}</b><br><br>Region=Western Europe<br>Healthy life expectancy=%{x}<br>Score=%{y}<br>Overall rank=%{marker.size}<extra></extra>",
         "hovertext": [
          "Finland",
          "Denmark",
          "Norway",
          "Iceland",
          "Netherlands",
          "Switzerland",
          "Sweden",
          "Austria",
          "Luxembourg",
          "United Kingdom",
          "Ireland",
          "Germany",
          "Belgium",
          "Malta",
          "France",
          "Spain",
          "Italy",
          "Cyprus",
          "Portugal",
          "Greece"
         ],
         "legendgroup": "Western Europe",
         "marker": {
          "color": "#636efa",
          "size": [
           1,
           2,
           3,
           4,
           5,
           6,
           7,
           10,
           14,
           15,
           16,
           17,
           18,
           22,
           24,
           30,
           36,
           49,
           66,
           82
          ],
          "sizemode": "area",
          "sizeref": 0.385,
          "symbol": "circle"
         },
         "mode": "markers",
         "name": "Western Europe",
         "orientation": "v",
         "showlegend": true,
         "type": "scatter",
         "x": [
          0.986,
          0.996,
          1.028,
          1.026,
          0.999,
          1.052,
          1.009,
          1.016,
          1.012,
          0.996,
          0.999,
          0.987,
          0.986,
          0.999,
          1.045,
          1.062,
          1.039,
          1.042,
          0.999,
          0.999
         ],
         "xaxis": "x",
         "y": [
          7.769,
          7.6,
          7.554,
          7.494,
          7.488,
          7.48,
          7.343,
          7.246,
          7.09,
          7.054,
          7.021,
          6.985,
          6.923,
          6.726,
          6.592,
          6.354,
          6.223,
          6.046,
          5.693,
          5.287
         ],
         "yaxis": "y"
        },
        {
         "hovertemplate": "<b>%{hovertext}</b><br><br>Region=North America and ANZ<br>Healthy life expectancy=%{x}<br>Score=%{y}<br>Overall rank=%{marker.size}<extra></extra>",
         "hovertext": [
          "New Zealand",
          "Canada",
          "Australia",
          "United States"
         ],
         "legendgroup": "North America and ANZ",
         "marker": {
          "color": "#EF553B",
          "size": [
           8,
           9,
           11,
           19
          ],
          "sizemode": "area",
          "sizeref": 0.385,
          "symbol": "circle"
         },
         "mode": "markers",
         "name": "North America and ANZ",
         "orientation": "v",
         "showlegend": true,
         "type": "scatter",
         "x": [
          1.026,
          1.039,
          1.036,
          0.874
         ],
         "xaxis": "x",
         "y": [
          7.307,
          7.278,
          7.228,
          6.892
         ],
         "yaxis": "y"
        },
        {
         "hovertemplate": "<b>%{hovertext}</b><br><br>Region=Latin America and Caribbean<br>Healthy life expectancy=%{x}<br>Score=%{y}<br>Overall rank=%{marker.size}<extra></extra>",
         "hovertext": [
          "Costa Rica",
          "Mexico",
          "Chile",
          "Guatemala",
          "Panama",
          "Brazil",
          "Uruguay",
          "El Salvador",
          "Colombia",
          "Nicaragua",
          "Argentina",
          "Ecuador",
          "Jamaica",
          "Honduras",
          "Bolivia",
          "Paraguay",
          "Peru",
          "Dominican Republic",
          "Venezuela",
          "Haiti"
         ],
         "legendgroup": "Latin America and Caribbean",
         "marker": {
          "color": "#00cc96",
          "size": [
           12,
           23,
           26,
           27,
           31,
           32,
           33,
           35,
           43,
           45,
           47,
           50,
           56,
           59,
           61,
           63,
           65,
           77,
           108,
           147
          ],
          "sizemode": "area",
          "sizeref": 0.385,
          "symbol": "circle"
         },
         "mode": "markers",
         "name": "Latin America and Caribbean",
         "orientation": "v",
         "showlegend": true,
         "type": "scatter",
         "x": [
          0.963,
          0.861,
          0.92,
          0.746,
          0.91,
          0.802,
          0.891,
          0.789,
          0.841,
          0.835,
          0.881,
          0.868,
          0.831,
          0.828,
          0.706,
          0.777,
          0.854,
          0.779,
          0.805,
          0.449
         ],
         "xaxis": "x",
         "y": [
          7.167,
          6.595,
          6.444,
          6.436,
          6.321,
          6.3,
          6.293,
          6.253,
          6.125,
          6.105,
          6.086,
          6.028,
          5.89,
          5.86,
          5.779,
          5.743,
          5.697,
          5.425,
          4.707,
          3.597
         ],
         "yaxis": "y"
        },
        {
         "hovertemplate": "<b>%{hovertext}</b><br><br>Region=Middle East and North Africa<br>Healthy life expectancy=%{x}<br>Score=%{y}<br>Overall rank=%{marker.size}<extra></extra>",
         "hovertext": [
          "Israel",
          "United Arab Emirates",
          "Saudi Arabia",
          "Bahrain",
          "Kuwait",
          "Libya",
          "Turkey",
          "Algeria",
          "Morocco",
          "Lebanon",
          "Jordan",
          "Palestinian Territories",
          "Iran",
          "Tunisia",
          "Iraq",
          "Egypt",
          "Yemen"
         ],
         "legendgroup": "Middle East and North Africa",
         "marker": {
          "color": "#ab63fa",
          "size": [
           13,
           21,
           28,
           37,
           51,
           72,
           79,
           88,
           89,
           91,
           101,
           110,
           117,
           124,
           126,
           137,
           151
          ],
          "sizemode": "area",
          "sizeref": 0.385,
          "symbol": "circle"
         },
         "mode": "markers",
         "name": "Middle East and North Africa",
         "orientation": "v",
         "showlegend": true,
         "type": "scatter",
         "x": [
          1.029,
          0.825,
          0.795,
          0.871,
          0.808,
          0.673,
          0.808,
          0.785,
          0.782,
          0.815,
          0.815,
          0.672,
          0.785,
          0.815,
          0.574,
          0.644,
          0.463
         ],
         "xaxis": "x",
         "y": [
          7.139,
          6.825,
          6.375,
          6.199,
          6.021,
          5.525,
          5.373,
          5.211,
          5.208,
          5.197,
          4.906,
          4.696,
          4.548,
          4.461,
          4.437,
          4.166,
          3.38
         ],
         "yaxis": "y"
        },
        {
         "hovertemplate": "<b>%{hovertext}</b><br><br>Region=Central and Eastern Europe<br>Healthy life expectancy=%{x}<br>Score=%{y}<br>Overall rank=%{marker.size}<extra></extra>",
         "hovertext": [
          "Czech Republic",
          "Slovakia",
          "Poland",
          "Lithuania",
          "Slovenia",
          "Kosovo",
          "Romania",
          "Latvia",
          "Estonia",
          "Hungary",
          "Serbia",
          "Montenegro",
          "Croatia",
          "Bosnia and Herzegovina",
          "North Macedonia",
          "Bulgaria",
          "Albania"
         ],
         "legendgroup": "Central and Eastern Europe",
         "marker": {
          "color": "#FFA15A",
          "size": [
           20,
           38,
           40,
           42,
           44,
           46,
           48,
           53,
           55,
           62,
           70,
           73,
           75,
           78,
           84,
           97,
           107
          ],
          "sizemode": "area",
          "sizeref": 0.385,
          "symbol": "circle"
         },
         "mode": "markers",
         "name": "Central and Eastern Europe",
         "orientation": "v",
         "showlegend": true,
         "type": "scatter",
         "x": [
          0.92,
          0.881,
          0.884,
          0.818,
          0.953,
          0.758,
          0.825,
          0.812,
          0.874,
          0.828,
          0.854,
          0.871,
          0.914,
          0.845,
          0.838,
          0.815,
          0.874
         ],
         "xaxis": "x",
         "y": [
          6.852,
          6.198,
          6.182,
          6.149,
          6.118,
          6.1,
          6.07,
          5.94,
          5.893,
          5.758,
          5.603,
          5.523,
          5.432,
          5.386,
          5.274,
          5.011,
          4.719
         ],
         "yaxis": "y"
        },
        {
         "hovertemplate": "<b>%{hovertext}</b><br><br>Region=Southeast Asia<br>Healthy life expectancy=%{x}<br>Score=%{y}<br>Overall rank=%{marker.size}<extra></extra>",
         "hovertext": [
          "Singapore",
          "Thailand",
          "Philippines",
          "Malaysia",
          "Indonesia",
          "Vietnam",
          "Laos",
          "Cambodia",
          "Myanmar"
         ],
         "legendgroup": "Southeast Asia",
         "marker": {
          "color": "#19d3f3",
          "size": [
           34,
           52,
           69,
           80,
           92,
           94,
           105,
           109,
           131
          ],
          "sizemode": "area",
          "sizeref": 0.385,
          "symbol": "circle"
         },
         "mode": "markers",
         "name": "Southeast Asia",
         "orientation": "v",
         "showlegend": true,
         "type": "scatter",
         "x": [
          1.141,
          0.828,
          0.657,
          0.828,
          0.66,
          0.851,
          0.551,
          0.637,
          0.555
         ],
         "xaxis": "x",
         "y": [
          6.262,
          6.008,
          5.631,
          5.339,
          5.192,
          5.175,
          4.796,
          4.7,
          4.36
         ],
         "yaxis": "y"
        },
        {
         "hovertemplate": "<b>%{hovertext}</b><br><br>Region=Commonwealth of Independent States<br>Healthy life expectancy=%{x}<br>Score=%{y}<br>Overall rank=%{marker.size}<extra></extra>",
         "hovertext": [
          "Uzbekistan",
          "Kazakhstan",
          "Russia",
          "Moldova",
          "Tajikistan",
          "Belarus",
          "Kyrgyzstan",
          "Turkmenistan",
          "Azerbaijan",
          "Armenia",
          "Georgia",
          "Ukraine"
         ],
         "legendgroup": "Commonwealth of Independent States",
         "marker": {
          "color": "#FF6692",
          "size": [
           41,
           60,
           68,
           71,
           74,
           81,
           86,
           87,
           90,
           116,
           119,
           133
          ],
          "sizemode": "area",
          "sizeref": 0.385,
          "symbol": "circle"
         },
         "mode": "markers",
         "name": "Commonwealth of Independent States",
         "orientation": "v",
         "showlegend": true,
         "type": "scatter",
         "x": [
          0.756,
          0.729,
          0.726,
          0.739,
          0.718,
          0.789,
          0.723,
          0.657,
          0.769,
          0.815,
          0.752,
          0.739
         ],
         "xaxis": "x",
         "y": [
          6.174,
          5.809,
          5.648,
          5.529,
          5.467,
          5.323,
          5.261,
          5.247,
          5.208,
          4.559,
          4.519,
          4.332
         ],
         "yaxis": "y"
        },
        {
         "hovertemplate": "<b>%{hovertext}</b><br><br>Region=East Asia<br>Healthy life expectancy=%{x}<br>Score=%{y}<br>Overall rank=%{marker.size}<extra></extra>",
         "hovertext": [
          "South Korea",
          "Japan",
          "Mongolia",
          "China"
         ],
         "legendgroup": "East Asia",
         "marker": {
          "color": "#B6E880",
          "size": [
           54,
           58,
           83,
           93
          ],
          "sizemode": "area",
          "sizeref": 0.385,
          "symbol": "circle"
         },
         "mode": "markers",
         "name": "East Asia",
         "orientation": "v",
         "showlegend": true,
         "type": "scatter",
         "x": [
          1.036,
          1.088,
          0.667,
          0.893
         ],
         "xaxis": "x",
         "y": [
          5.895,
          5.886,
          5.285,
          5.191
         ],
         "yaxis": "y"
        },
        {
         "hovertemplate": "<b>%{hovertext}</b><br><br>Region=Sub-Saharan Africa<br>Healthy life expectancy=%{x}<br>Score=%{y}<br>Overall rank=%{marker.size}<extra></extra>",
         "hovertext": [
          "Mauritius",
          "Nigeria",
          "Cameroon",
          "Ghana",
          "Ivory Coast",
          "Benin",
          "Congo (Brazzaville)",
          "Gabon",
          "South Africa",
          "Senegal",
          "Namibia",
          "Niger",
          "Burkina Faso",
          "Guinea",
          "Gambia",
          "Kenya",
          "Mauritania",
          "Mozambique",
          "Mali",
          "Sierra Leone",
          "Chad",
          "Ethiopia",
          "Swaziland",
          "Uganda",
          "Zambia",
          "Togo",
          "Liberia",
          "Comoros",
          "Madagascar",
          "Lesotho",
          "Burundi",
          "Zimbabwe",
          "Botswana",
          "Malawi",
          "Rwanda",
          "Tanzania"
         ],
         "legendgroup": "Sub-Saharan Africa",
         "marker": {
          "color": "#FF97FF",
          "size": [
           57,
           85,
           96,
           98,
           99,
           102,
           103,
           104,
           106,
           111,
           113,
           114,
           115,
           118,
           120,
           121,
           122,
           123,
           128,
           129,
           132,
           134,
           135,
           136,
           138,
           139,
           141,
           142,
           143,
           144,
           145,
           146,
           148,
           150,
           152,
           153
          ],
          "sizemode": "area",
          "sizeref": 0.385,
          "symbol": "circle"
         },
         "mode": "markers",
         "name": "Sub-Saharan Africa",
         "orientation": "v",
         "showlegend": true,
         "type": "scatter",
         "x": [
          0.798,
          0.245,
          0.331,
          0.486,
          0.232,
          0.397,
          0.508,
          0.571,
          0.469,
          0.571,
          0.477,
          0.366,
          0.38,
          0.375,
          0.428,
          0.581,
          0.489,
          0.39,
          0.308,
          0.242,
          0.192,
          0.532,
          0,
          0.443,
          0.426,
          0.41,
          0.443,
          0.505,
          0.555,
          0.168,
          0.38,
          0.433,
          0.538,
          0.495,
          0.614,
          0.499
         ],
         "xaxis": "x",
         "y": [
          5.888,
          5.265,
          5.044,
          4.996,
          4.944,
          4.883,
          4.812,
          4.799,
          4.722,
          4.681,
          4.639,
          4.628,
          4.587,
          4.534,
          4.516,
          4.509,
          4.49,
          4.466,
          4.39,
          4.374,
          4.35,
          4.286,
          4.212,
          4.189,
          4.107,
          4.085,
          3.975,
          3.973,
          3.933,
          3.802,
          3.775,
          3.663,
          3.488,
          3.41,
          3.334,
          3.231
         ],
         "yaxis": "y"
        },
        {
         "hovertemplate": "<b>%{hovertext}</b><br><br>Region=South Asia<br>Healthy life expectancy=%{x}<br>Score=%{y}<br>Overall rank=%{marker.size}<extra></extra>",
         "hovertext": [
          "Pakistan",
          "Nepal",
          "Bangladesh",
          "Sri Lanka",
          "India",
          "Afghanistan"
         ],
         "legendgroup": "South Asia",
         "marker": {
          "color": "#FECB52",
          "size": [
           67,
           100,
           125,
           130,
           140,
           154
          ],
          "sizemode": "area",
          "sizeref": 0.385,
          "symbol": "circle"
         },
         "mode": "markers",
         "name": "South Asia",
         "orientation": "v",
         "showlegend": true,
         "type": "scatter",
         "x": [
          0.535,
          0.677,
          0.723,
          0.831,
          0.588,
          0.361
         ],
         "xaxis": "x",
         "y": [
          5.653,
          4.913,
          4.456,
          4.366,
          4.015,
          3.203
         ],
         "yaxis": "y"
        }
       ],
       "layout": {
        "legend": {
         "itemsizing": "constant",
         "title": {
          "text": "Region"
         },
         "tracegroupgap": 0
        },
        "margin": {
         "t": 60
        },
        "template": {
         "data": {
          "bar": [
           {
            "error_x": {
             "color": "#2a3f5f"
            },
            "error_y": {
             "color": "#2a3f5f"
            },
            "marker": {
             "line": {
              "color": "#E5ECF6",
              "width": 0.5
             },
             "pattern": {
              "fillmode": "overlay",
              "size": 10,
              "solidity": 0.2
             }
            },
            "type": "bar"
           }
          ],
          "barpolar": [
           {
            "marker": {
             "line": {
              "color": "#E5ECF6",
              "width": 0.5
             },
             "pattern": {
              "fillmode": "overlay",
              "size": 10,
              "solidity": 0.2
             }
            },
            "type": "barpolar"
           }
          ],
          "carpet": [
           {
            "aaxis": {
             "endlinecolor": "#2a3f5f",
             "gridcolor": "white",
             "linecolor": "white",
             "minorgridcolor": "white",
             "startlinecolor": "#2a3f5f"
            },
            "baxis": {
             "endlinecolor": "#2a3f5f",
             "gridcolor": "white",
             "linecolor": "white",
             "minorgridcolor": "white",
             "startlinecolor": "#2a3f5f"
            },
            "type": "carpet"
           }
          ],
          "choropleth": [
           {
            "colorbar": {
             "outlinewidth": 0,
             "ticks": ""
            },
            "type": "choropleth"
           }
          ],
          "contour": [
           {
            "colorbar": {
             "outlinewidth": 0,
             "ticks": ""
            },
            "colorscale": [
             [
              0,
              "#0d0887"
             ],
             [
              0.1111111111111111,
              "#46039f"
             ],
             [
              0.2222222222222222,
              "#7201a8"
             ],
             [
              0.3333333333333333,
              "#9c179e"
             ],
             [
              0.4444444444444444,
              "#bd3786"
             ],
             [
              0.5555555555555556,
              "#d8576b"
             ],
             [
              0.6666666666666666,
              "#ed7953"
             ],
             [
              0.7777777777777778,
              "#fb9f3a"
             ],
             [
              0.8888888888888888,
              "#fdca26"
             ],
             [
              1,
              "#f0f921"
             ]
            ],
            "type": "contour"
           }
          ],
          "contourcarpet": [
           {
            "colorbar": {
             "outlinewidth": 0,
             "ticks": ""
            },
            "type": "contourcarpet"
           }
          ],
          "heatmap": [
           {
            "colorbar": {
             "outlinewidth": 0,
             "ticks": ""
            },
            "colorscale": [
             [
              0,
              "#0d0887"
             ],
             [
              0.1111111111111111,
              "#46039f"
             ],
             [
              0.2222222222222222,
              "#7201a8"
             ],
             [
              0.3333333333333333,
              "#9c179e"
             ],
             [
              0.4444444444444444,
              "#bd3786"
             ],
             [
              0.5555555555555556,
              "#d8576b"
             ],
             [
              0.6666666666666666,
              "#ed7953"
             ],
             [
              0.7777777777777778,
              "#fb9f3a"
             ],
             [
              0.8888888888888888,
              "#fdca26"
             ],
             [
              1,
              "#f0f921"
             ]
            ],
            "type": "heatmap"
           }
          ],
          "heatmapgl": [
           {
            "colorbar": {
             "outlinewidth": 0,
             "ticks": ""
            },
            "colorscale": [
             [
              0,
              "#0d0887"
             ],
             [
              0.1111111111111111,
              "#46039f"
             ],
             [
              0.2222222222222222,
              "#7201a8"
             ],
             [
              0.3333333333333333,
              "#9c179e"
             ],
             [
              0.4444444444444444,
              "#bd3786"
             ],
             [
              0.5555555555555556,
              "#d8576b"
             ],
             [
              0.6666666666666666,
              "#ed7953"
             ],
             [
              0.7777777777777778,
              "#fb9f3a"
             ],
             [
              0.8888888888888888,
              "#fdca26"
             ],
             [
              1,
              "#f0f921"
             ]
            ],
            "type": "heatmapgl"
           }
          ],
          "histogram": [
           {
            "marker": {
             "pattern": {
              "fillmode": "overlay",
              "size": 10,
              "solidity": 0.2
             }
            },
            "type": "histogram"
           }
          ],
          "histogram2d": [
           {
            "colorbar": {
             "outlinewidth": 0,
             "ticks": ""
            },
            "colorscale": [
             [
              0,
              "#0d0887"
             ],
             [
              0.1111111111111111,
              "#46039f"
             ],
             [
              0.2222222222222222,
              "#7201a8"
             ],
             [
              0.3333333333333333,
              "#9c179e"
             ],
             [
              0.4444444444444444,
              "#bd3786"
             ],
             [
              0.5555555555555556,
              "#d8576b"
             ],
             [
              0.6666666666666666,
              "#ed7953"
             ],
             [
              0.7777777777777778,
              "#fb9f3a"
             ],
             [
              0.8888888888888888,
              "#fdca26"
             ],
             [
              1,
              "#f0f921"
             ]
            ],
            "type": "histogram2d"
           }
          ],
          "histogram2dcontour": [
           {
            "colorbar": {
             "outlinewidth": 0,
             "ticks": ""
            },
            "colorscale": [
             [
              0,
              "#0d0887"
             ],
             [
              0.1111111111111111,
              "#46039f"
             ],
             [
              0.2222222222222222,
              "#7201a8"
             ],
             [
              0.3333333333333333,
              "#9c179e"
             ],
             [
              0.4444444444444444,
              "#bd3786"
             ],
             [
              0.5555555555555556,
              "#d8576b"
             ],
             [
              0.6666666666666666,
              "#ed7953"
             ],
             [
              0.7777777777777778,
              "#fb9f3a"
             ],
             [
              0.8888888888888888,
              "#fdca26"
             ],
             [
              1,
              "#f0f921"
             ]
            ],
            "type": "histogram2dcontour"
           }
          ],
          "mesh3d": [
           {
            "colorbar": {
             "outlinewidth": 0,
             "ticks": ""
            },
            "type": "mesh3d"
           }
          ],
          "parcoords": [
           {
            "line": {
             "colorbar": {
              "outlinewidth": 0,
              "ticks": ""
             }
            },
            "type": "parcoords"
           }
          ],
          "pie": [
           {
            "automargin": true,
            "type": "pie"
           }
          ],
          "scatter": [
           {
            "marker": {
             "colorbar": {
              "outlinewidth": 0,
              "ticks": ""
             }
            },
            "type": "scatter"
           }
          ],
          "scatter3d": [
           {
            "line": {
             "colorbar": {
              "outlinewidth": 0,
              "ticks": ""
             }
            },
            "marker": {
             "colorbar": {
              "outlinewidth": 0,
              "ticks": ""
             }
            },
            "type": "scatter3d"
           }
          ],
          "scattercarpet": [
           {
            "marker": {
             "colorbar": {
              "outlinewidth": 0,
              "ticks": ""
             }
            },
            "type": "scattercarpet"
           }
          ],
          "scattergeo": [
           {
            "marker": {
             "colorbar": {
              "outlinewidth": 0,
              "ticks": ""
             }
            },
            "type": "scattergeo"
           }
          ],
          "scattergl": [
           {
            "marker": {
             "colorbar": {
              "outlinewidth": 0,
              "ticks": ""
             }
            },
            "type": "scattergl"
           }
          ],
          "scattermapbox": [
           {
            "marker": {
             "colorbar": {
              "outlinewidth": 0,
              "ticks": ""
             }
            },
            "type": "scattermapbox"
           }
          ],
          "scatterpolar": [
           {
            "marker": {
             "colorbar": {
              "outlinewidth": 0,
              "ticks": ""
             }
            },
            "type": "scatterpolar"
           }
          ],
          "scatterpolargl": [
           {
            "marker": {
             "colorbar": {
              "outlinewidth": 0,
              "ticks": ""
             }
            },
            "type": "scatterpolargl"
           }
          ],
          "scatterternary": [
           {
            "marker": {
             "colorbar": {
              "outlinewidth": 0,
              "ticks": ""
             }
            },
            "type": "scatterternary"
           }
          ],
          "surface": [
           {
            "colorbar": {
             "outlinewidth": 0,
             "ticks": ""
            },
            "colorscale": [
             [
              0,
              "#0d0887"
             ],
             [
              0.1111111111111111,
              "#46039f"
             ],
             [
              0.2222222222222222,
              "#7201a8"
             ],
             [
              0.3333333333333333,
              "#9c179e"
             ],
             [
              0.4444444444444444,
              "#bd3786"
             ],
             [
              0.5555555555555556,
              "#d8576b"
             ],
             [
              0.6666666666666666,
              "#ed7953"
             ],
             [
              0.7777777777777778,
              "#fb9f3a"
             ],
             [
              0.8888888888888888,
              "#fdca26"
             ],
             [
              1,
              "#f0f921"
             ]
            ],
            "type": "surface"
           }
          ],
          "table": [
           {
            "cells": {
             "fill": {
              "color": "#EBF0F8"
             },
             "line": {
              "color": "white"
             }
            },
            "header": {
             "fill": {
              "color": "#C8D4E3"
             },
             "line": {
              "color": "white"
             }
            },
            "type": "table"
           }
          ]
         },
         "layout": {
          "annotationdefaults": {
           "arrowcolor": "#2a3f5f",
           "arrowhead": 0,
           "arrowwidth": 1
          },
          "autotypenumbers": "strict",
          "coloraxis": {
           "colorbar": {
            "outlinewidth": 0,
            "ticks": ""
           }
          },
          "colorscale": {
           "diverging": [
            [
             0,
             "#8e0152"
            ],
            [
             0.1,
             "#c51b7d"
            ],
            [
             0.2,
             "#de77ae"
            ],
            [
             0.3,
             "#f1b6da"
            ],
            [
             0.4,
             "#fde0ef"
            ],
            [
             0.5,
             "#f7f7f7"
            ],
            [
             0.6,
             "#e6f5d0"
            ],
            [
             0.7,
             "#b8e186"
            ],
            [
             0.8,
             "#7fbc41"
            ],
            [
             0.9,
             "#4d9221"
            ],
            [
             1,
             "#276419"
            ]
           ],
           "sequential": [
            [
             0,
             "#0d0887"
            ],
            [
             0.1111111111111111,
             "#46039f"
            ],
            [
             0.2222222222222222,
             "#7201a8"
            ],
            [
             0.3333333333333333,
             "#9c179e"
            ],
            [
             0.4444444444444444,
             "#bd3786"
            ],
            [
             0.5555555555555556,
             "#d8576b"
            ],
            [
             0.6666666666666666,
             "#ed7953"
            ],
            [
             0.7777777777777778,
             "#fb9f3a"
            ],
            [
             0.8888888888888888,
             "#fdca26"
            ],
            [
             1,
             "#f0f921"
            ]
           ],
           "sequentialminus": [
            [
             0,
             "#0d0887"
            ],
            [
             0.1111111111111111,
             "#46039f"
            ],
            [
             0.2222222222222222,
             "#7201a8"
            ],
            [
             0.3333333333333333,
             "#9c179e"
            ],
            [
             0.4444444444444444,
             "#bd3786"
            ],
            [
             0.5555555555555556,
             "#d8576b"
            ],
            [
             0.6666666666666666,
             "#ed7953"
            ],
            [
             0.7777777777777778,
             "#fb9f3a"
            ],
            [
             0.8888888888888888,
             "#fdca26"
            ],
            [
             1,
             "#f0f921"
            ]
           ]
          },
          "colorway": [
           "#636efa",
           "#EF553B",
           "#00cc96",
           "#ab63fa",
           "#FFA15A",
           "#19d3f3",
           "#FF6692",
           "#B6E880",
           "#FF97FF",
           "#FECB52"
          ],
          "font": {
           "color": "#2a3f5f"
          },
          "geo": {
           "bgcolor": "white",
           "lakecolor": "white",
           "landcolor": "#E5ECF6",
           "showlakes": true,
           "showland": true,
           "subunitcolor": "white"
          },
          "hoverlabel": {
           "align": "left"
          },
          "hovermode": "closest",
          "mapbox": {
           "style": "light"
          },
          "paper_bgcolor": "white",
          "plot_bgcolor": "#E5ECF6",
          "polar": {
           "angularaxis": {
            "gridcolor": "white",
            "linecolor": "white",
            "ticks": ""
           },
           "bgcolor": "#E5ECF6",
           "radialaxis": {
            "gridcolor": "white",
            "linecolor": "white",
            "ticks": ""
           }
          },
          "scene": {
           "xaxis": {
            "backgroundcolor": "#E5ECF6",
            "gridcolor": "white",
            "gridwidth": 2,
            "linecolor": "white",
            "showbackground": true,
            "ticks": "",
            "zerolinecolor": "white"
           },
           "yaxis": {
            "backgroundcolor": "#E5ECF6",
            "gridcolor": "white",
            "gridwidth": 2,
            "linecolor": "white",
            "showbackground": true,
            "ticks": "",
            "zerolinecolor": "white"
           },
           "zaxis": {
            "backgroundcolor": "#E5ECF6",
            "gridcolor": "white",
            "gridwidth": 2,
            "linecolor": "white",
            "showbackground": true,
            "ticks": "",
            "zerolinecolor": "white"
           }
          },
          "shapedefaults": {
           "line": {
            "color": "#2a3f5f"
           }
          },
          "ternary": {
           "aaxis": {
            "gridcolor": "white",
            "linecolor": "white",
            "ticks": ""
           },
           "baxis": {
            "gridcolor": "white",
            "linecolor": "white",
            "ticks": ""
           },
           "bgcolor": "#E5ECF6",
           "caxis": {
            "gridcolor": "white",
            "linecolor": "white",
            "ticks": ""
           }
          },
          "title": {
           "x": 0.05
          },
          "xaxis": {
           "automargin": true,
           "gridcolor": "white",
           "linecolor": "white",
           "ticks": "",
           "title": {
            "standoff": 15
           },
           "zerolinecolor": "white",
           "zerolinewidth": 2
          },
          "yaxis": {
           "automargin": true,
           "gridcolor": "white",
           "linecolor": "white",
           "ticks": "",
           "title": {
            "standoff": 15
           },
           "zerolinecolor": "white",
           "zerolinewidth": 2
          }
         }
        },
        "xaxis": {
         "anchor": "y",
         "domain": [
          0,
          1
         ],
         "title": {
          "text": "Healthy life expectancy"
         }
        },
        "yaxis": {
         "anchor": "x",
         "domain": [
          0,
          1
         ],
         "title": {
          "text": "Score"
         }
        }
       }
      },
      "text/html": [
       "<div>                            <div id=\"3f723d8f-fe3f-45c6-9764-a2d44618974d\" class=\"plotly-graph-div\" style=\"height:525px; width:100%;\"></div>            <script type=\"text/javascript\">                require([\"plotly\"], function(Plotly) {                    window.PLOTLYENV=window.PLOTLYENV || {};                                    if (document.getElementById(\"3f723d8f-fe3f-45c6-9764-a2d44618974d\")) {                    Plotly.newPlot(                        \"3f723d8f-fe3f-45c6-9764-a2d44618974d\",                        [{\"hovertemplate\":\"<b>%{hovertext}</b><br><br>Region=Western Europe<br>Healthy life expectancy=%{x}<br>Score=%{y}<br>Overall rank=%{marker.size}<extra></extra>\",\"hovertext\":[\"Finland\",\"Denmark\",\"Norway\",\"Iceland\",\"Netherlands\",\"Switzerland\",\"Sweden\",\"Austria\",\"Luxembourg\",\"United Kingdom\",\"Ireland\",\"Germany\",\"Belgium\",\"Malta\",\"France\",\"Spain\",\"Italy\",\"Cyprus\",\"Portugal\",\"Greece\"],\"legendgroup\":\"Western Europe\",\"marker\":{\"color\":\"#636efa\",\"size\":[1,2,3,4,5,6,7,10,14,15,16,17,18,22,24,30,36,49,66,82],\"sizemode\":\"area\",\"sizeref\":0.385,\"symbol\":\"circle\"},\"mode\":\"markers\",\"name\":\"Western Europe\",\"orientation\":\"v\",\"showlegend\":true,\"x\":[0.986,0.996,1.028,1.026,0.999,1.052,1.009,1.016,1.012,0.996,0.999,0.987,0.986,0.999,1.045,1.062,1.039,1.042,0.999,0.999],\"xaxis\":\"x\",\"y\":[7.769,7.6,7.554,7.494,7.488,7.48,7.343,7.246,7.09,7.054,7.021,6.985,6.923,6.726,6.592,6.354,6.223,6.046,5.693,5.287],\"yaxis\":\"y\",\"type\":\"scatter\"},{\"hovertemplate\":\"<b>%{hovertext}</b><br><br>Region=North America and ANZ<br>Healthy life expectancy=%{x}<br>Score=%{y}<br>Overall rank=%{marker.size}<extra></extra>\",\"hovertext\":[\"New Zealand\",\"Canada\",\"Australia\",\"United States\"],\"legendgroup\":\"North America and ANZ\",\"marker\":{\"color\":\"#EF553B\",\"size\":[8,9,11,19],\"sizemode\":\"area\",\"sizeref\":0.385,\"symbol\":\"circle\"},\"mode\":\"markers\",\"name\":\"North America and ANZ\",\"orientation\":\"v\",\"showlegend\":true,\"x\":[1.026,1.039,1.036,0.874],\"xaxis\":\"x\",\"y\":[7.307,7.278,7.228,6.892],\"yaxis\":\"y\",\"type\":\"scatter\"},{\"hovertemplate\":\"<b>%{hovertext}</b><br><br>Region=Latin America and Caribbean<br>Healthy life expectancy=%{x}<br>Score=%{y}<br>Overall rank=%{marker.size}<extra></extra>\",\"hovertext\":[\"Costa Rica\",\"Mexico\",\"Chile\",\"Guatemala\",\"Panama\",\"Brazil\",\"Uruguay\",\"El Salvador\",\"Colombia\",\"Nicaragua\",\"Argentina\",\"Ecuador\",\"Jamaica\",\"Honduras\",\"Bolivia\",\"Paraguay\",\"Peru\",\"Dominican Republic\",\"Venezuela\",\"Haiti\"],\"legendgroup\":\"Latin America and Caribbean\",\"marker\":{\"color\":\"#00cc96\",\"size\":[12,23,26,27,31,32,33,35,43,45,47,50,56,59,61,63,65,77,108,147],\"sizemode\":\"area\",\"sizeref\":0.385,\"symbol\":\"circle\"},\"mode\":\"markers\",\"name\":\"Latin America and Caribbean\",\"orientation\":\"v\",\"showlegend\":true,\"x\":[0.963,0.861,0.92,0.746,0.91,0.802,0.891,0.789,0.841,0.835,0.881,0.868,0.831,0.828,0.706,0.777,0.854,0.779,0.805,0.449],\"xaxis\":\"x\",\"y\":[7.167,6.595,6.444,6.436,6.321,6.3,6.293,6.253,6.125,6.105,6.086,6.028,5.89,5.86,5.779,5.743,5.697,5.425,4.707,3.597],\"yaxis\":\"y\",\"type\":\"scatter\"},{\"hovertemplate\":\"<b>%{hovertext}</b><br><br>Region=Middle East and North Africa<br>Healthy life expectancy=%{x}<br>Score=%{y}<br>Overall rank=%{marker.size}<extra></extra>\",\"hovertext\":[\"Israel\",\"United Arab Emirates\",\"Saudi Arabia\",\"Bahrain\",\"Kuwait\",\"Libya\",\"Turkey\",\"Algeria\",\"Morocco\",\"Lebanon\",\"Jordan\",\"Palestinian Territories\",\"Iran\",\"Tunisia\",\"Iraq\",\"Egypt\",\"Yemen\"],\"legendgroup\":\"Middle East and North Africa\",\"marker\":{\"color\":\"#ab63fa\",\"size\":[13,21,28,37,51,72,79,88,89,91,101,110,117,124,126,137,151],\"sizemode\":\"area\",\"sizeref\":0.385,\"symbol\":\"circle\"},\"mode\":\"markers\",\"name\":\"Middle East and North Africa\",\"orientation\":\"v\",\"showlegend\":true,\"x\":[1.029,0.825,0.795,0.871,0.808,0.673,0.808,0.785,0.782,0.815,0.815,0.672,0.785,0.815,0.574,0.644,0.463],\"xaxis\":\"x\",\"y\":[7.139,6.825,6.375,6.199,6.021,5.525,5.373,5.211,5.208,5.197,4.906,4.696,4.548,4.461,4.437,4.166,3.38],\"yaxis\":\"y\",\"type\":\"scatter\"},{\"hovertemplate\":\"<b>%{hovertext}</b><br><br>Region=Central and Eastern Europe<br>Healthy life expectancy=%{x}<br>Score=%{y}<br>Overall rank=%{marker.size}<extra></extra>\",\"hovertext\":[\"Czech Republic\",\"Slovakia\",\"Poland\",\"Lithuania\",\"Slovenia\",\"Kosovo\",\"Romania\",\"Latvia\",\"Estonia\",\"Hungary\",\"Serbia\",\"Montenegro\",\"Croatia\",\"Bosnia and Herzegovina\",\"North Macedonia\",\"Bulgaria\",\"Albania\"],\"legendgroup\":\"Central and Eastern Europe\",\"marker\":{\"color\":\"#FFA15A\",\"size\":[20,38,40,42,44,46,48,53,55,62,70,73,75,78,84,97,107],\"sizemode\":\"area\",\"sizeref\":0.385,\"symbol\":\"circle\"},\"mode\":\"markers\",\"name\":\"Central and Eastern Europe\",\"orientation\":\"v\",\"showlegend\":true,\"x\":[0.92,0.881,0.884,0.818,0.953,0.758,0.825,0.812,0.874,0.828,0.854,0.871,0.914,0.845,0.838,0.815,0.874],\"xaxis\":\"x\",\"y\":[6.852,6.198,6.182,6.149,6.118,6.1,6.07,5.94,5.893,5.758,5.603,5.523,5.432,5.386,5.274,5.011,4.719],\"yaxis\":\"y\",\"type\":\"scatter\"},{\"hovertemplate\":\"<b>%{hovertext}</b><br><br>Region=Southeast Asia<br>Healthy life expectancy=%{x}<br>Score=%{y}<br>Overall rank=%{marker.size}<extra></extra>\",\"hovertext\":[\"Singapore\",\"Thailand\",\"Philippines\",\"Malaysia\",\"Indonesia\",\"Vietnam\",\"Laos\",\"Cambodia\",\"Myanmar\"],\"legendgroup\":\"Southeast Asia\",\"marker\":{\"color\":\"#19d3f3\",\"size\":[34,52,69,80,92,94,105,109,131],\"sizemode\":\"area\",\"sizeref\":0.385,\"symbol\":\"circle\"},\"mode\":\"markers\",\"name\":\"Southeast Asia\",\"orientation\":\"v\",\"showlegend\":true,\"x\":[1.141,0.828,0.657,0.828,0.66,0.851,0.551,0.637,0.555],\"xaxis\":\"x\",\"y\":[6.262,6.008,5.631,5.339,5.192,5.175,4.796,4.7,4.36],\"yaxis\":\"y\",\"type\":\"scatter\"},{\"hovertemplate\":\"<b>%{hovertext}</b><br><br>Region=Commonwealth of Independent States<br>Healthy life expectancy=%{x}<br>Score=%{y}<br>Overall rank=%{marker.size}<extra></extra>\",\"hovertext\":[\"Uzbekistan\",\"Kazakhstan\",\"Russia\",\"Moldova\",\"Tajikistan\",\"Belarus\",\"Kyrgyzstan\",\"Turkmenistan\",\"Azerbaijan\",\"Armenia\",\"Georgia\",\"Ukraine\"],\"legendgroup\":\"Commonwealth of Independent States\",\"marker\":{\"color\":\"#FF6692\",\"size\":[41,60,68,71,74,81,86,87,90,116,119,133],\"sizemode\":\"area\",\"sizeref\":0.385,\"symbol\":\"circle\"},\"mode\":\"markers\",\"name\":\"Commonwealth of Independent States\",\"orientation\":\"v\",\"showlegend\":true,\"x\":[0.756,0.729,0.726,0.739,0.718,0.789,0.723,0.657,0.769,0.815,0.752,0.739],\"xaxis\":\"x\",\"y\":[6.174,5.809,5.648,5.529,5.467,5.323,5.261,5.247,5.208,4.559,4.519,4.332],\"yaxis\":\"y\",\"type\":\"scatter\"},{\"hovertemplate\":\"<b>%{hovertext}</b><br><br>Region=East Asia<br>Healthy life expectancy=%{x}<br>Score=%{y}<br>Overall rank=%{marker.size}<extra></extra>\",\"hovertext\":[\"South Korea\",\"Japan\",\"Mongolia\",\"China\"],\"legendgroup\":\"East Asia\",\"marker\":{\"color\":\"#B6E880\",\"size\":[54,58,83,93],\"sizemode\":\"area\",\"sizeref\":0.385,\"symbol\":\"circle\"},\"mode\":\"markers\",\"name\":\"East Asia\",\"orientation\":\"v\",\"showlegend\":true,\"x\":[1.036,1.088,0.667,0.893],\"xaxis\":\"x\",\"y\":[5.895,5.886,5.285,5.191],\"yaxis\":\"y\",\"type\":\"scatter\"},{\"hovertemplate\":\"<b>%{hovertext}</b><br><br>Region=Sub-Saharan Africa<br>Healthy life expectancy=%{x}<br>Score=%{y}<br>Overall rank=%{marker.size}<extra></extra>\",\"hovertext\":[\"Mauritius\",\"Nigeria\",\"Cameroon\",\"Ghana\",\"Ivory Coast\",\"Benin\",\"Congo (Brazzaville)\",\"Gabon\",\"South Africa\",\"Senegal\",\"Namibia\",\"Niger\",\"Burkina Faso\",\"Guinea\",\"Gambia\",\"Kenya\",\"Mauritania\",\"Mozambique\",\"Mali\",\"Sierra Leone\",\"Chad\",\"Ethiopia\",\"Swaziland\",\"Uganda\",\"Zambia\",\"Togo\",\"Liberia\",\"Comoros\",\"Madagascar\",\"Lesotho\",\"Burundi\",\"Zimbabwe\",\"Botswana\",\"Malawi\",\"Rwanda\",\"Tanzania\"],\"legendgroup\":\"Sub-Saharan Africa\",\"marker\":{\"color\":\"#FF97FF\",\"size\":[57,85,96,98,99,102,103,104,106,111,113,114,115,118,120,121,122,123,128,129,132,134,135,136,138,139,141,142,143,144,145,146,148,150,152,153],\"sizemode\":\"area\",\"sizeref\":0.385,\"symbol\":\"circle\"},\"mode\":\"markers\",\"name\":\"Sub-Saharan Africa\",\"orientation\":\"v\",\"showlegend\":true,\"x\":[0.798,0.245,0.331,0.486,0.232,0.397,0.508,0.571,0.469,0.571,0.477,0.366,0.38,0.375,0.428,0.581,0.489,0.39,0.308,0.242,0.192,0.532,0.0,0.443,0.426,0.41,0.443,0.505,0.555,0.168,0.38,0.433,0.538,0.495,0.614,0.499],\"xaxis\":\"x\",\"y\":[5.888,5.265,5.044,4.996,4.944,4.883,4.812,4.799,4.722,4.681,4.639,4.628,4.587,4.534,4.516,4.509,4.49,4.466,4.39,4.374,4.35,4.286,4.212,4.189,4.107,4.085,3.975,3.973,3.933,3.802,3.775,3.663,3.488,3.41,3.334,3.231],\"yaxis\":\"y\",\"type\":\"scatter\"},{\"hovertemplate\":\"<b>%{hovertext}</b><br><br>Region=South Asia<br>Healthy life expectancy=%{x}<br>Score=%{y}<br>Overall rank=%{marker.size}<extra></extra>\",\"hovertext\":[\"Pakistan\",\"Nepal\",\"Bangladesh\",\"Sri Lanka\",\"India\",\"Afghanistan\"],\"legendgroup\":\"South Asia\",\"marker\":{\"color\":\"#FECB52\",\"size\":[67,100,125,130,140,154],\"sizemode\":\"area\",\"sizeref\":0.385,\"symbol\":\"circle\"},\"mode\":\"markers\",\"name\":\"South Asia\",\"orientation\":\"v\",\"showlegend\":true,\"x\":[0.535,0.677,0.723,0.831,0.588,0.361],\"xaxis\":\"x\",\"y\":[5.653,4.913,4.456,4.366,4.015,3.203],\"yaxis\":\"y\",\"type\":\"scatter\"}],                        {\"template\":{\"data\":{\"bar\":[{\"error_x\":{\"color\":\"#2a3f5f\"},\"error_y\":{\"color\":\"#2a3f5f\"},\"marker\":{\"line\":{\"color\":\"#E5ECF6\",\"width\":0.5},\"pattern\":{\"fillmode\":\"overlay\",\"size\":10,\"solidity\":0.2}},\"type\":\"bar\"}],\"barpolar\":[{\"marker\":{\"line\":{\"color\":\"#E5ECF6\",\"width\":0.5},\"pattern\":{\"fillmode\":\"overlay\",\"size\":10,\"solidity\":0.2}},\"type\":\"barpolar\"}],\"carpet\":[{\"aaxis\":{\"endlinecolor\":\"#2a3f5f\",\"gridcolor\":\"white\",\"linecolor\":\"white\",\"minorgridcolor\":\"white\",\"startlinecolor\":\"#2a3f5f\"},\"baxis\":{\"endlinecolor\":\"#2a3f5f\",\"gridcolor\":\"white\",\"linecolor\":\"white\",\"minorgridcolor\":\"white\",\"startlinecolor\":\"#2a3f5f\"},\"type\":\"carpet\"}],\"choropleth\":[{\"colorbar\":{\"outlinewidth\":0,\"ticks\":\"\"},\"type\":\"choropleth\"}],\"contour\":[{\"colorbar\":{\"outlinewidth\":0,\"ticks\":\"\"},\"colorscale\":[[0.0,\"#0d0887\"],[0.1111111111111111,\"#46039f\"],[0.2222222222222222,\"#7201a8\"],[0.3333333333333333,\"#9c179e\"],[0.4444444444444444,\"#bd3786\"],[0.5555555555555556,\"#d8576b\"],[0.6666666666666666,\"#ed7953\"],[0.7777777777777778,\"#fb9f3a\"],[0.8888888888888888,\"#fdca26\"],[1.0,\"#f0f921\"]],\"type\":\"contour\"}],\"contourcarpet\":[{\"colorbar\":{\"outlinewidth\":0,\"ticks\":\"\"},\"type\":\"contourcarpet\"}],\"heatmap\":[{\"colorbar\":{\"outlinewidth\":0,\"ticks\":\"\"},\"colorscale\":[[0.0,\"#0d0887\"],[0.1111111111111111,\"#46039f\"],[0.2222222222222222,\"#7201a8\"],[0.3333333333333333,\"#9c179e\"],[0.4444444444444444,\"#bd3786\"],[0.5555555555555556,\"#d8576b\"],[0.6666666666666666,\"#ed7953\"],[0.7777777777777778,\"#fb9f3a\"],[0.8888888888888888,\"#fdca26\"],[1.0,\"#f0f921\"]],\"type\":\"heatmap\"}],\"heatmapgl\":[{\"colorbar\":{\"outlinewidth\":0,\"ticks\":\"\"},\"colorscale\":[[0.0,\"#0d0887\"],[0.1111111111111111,\"#46039f\"],[0.2222222222222222,\"#7201a8\"],[0.3333333333333333,\"#9c179e\"],[0.4444444444444444,\"#bd3786\"],[0.5555555555555556,\"#d8576b\"],[0.6666666666666666,\"#ed7953\"],[0.7777777777777778,\"#fb9f3a\"],[0.8888888888888888,\"#fdca26\"],[1.0,\"#f0f921\"]],\"type\":\"heatmapgl\"}],\"histogram\":[{\"marker\":{\"pattern\":{\"fillmode\":\"overlay\",\"size\":10,\"solidity\":0.2}},\"type\":\"histogram\"}],\"histogram2d\":[{\"colorbar\":{\"outlinewidth\":0,\"ticks\":\"\"},\"colorscale\":[[0.0,\"#0d0887\"],[0.1111111111111111,\"#46039f\"],[0.2222222222222222,\"#7201a8\"],[0.3333333333333333,\"#9c179e\"],[0.4444444444444444,\"#bd3786\"],[0.5555555555555556,\"#d8576b\"],[0.6666666666666666,\"#ed7953\"],[0.7777777777777778,\"#fb9f3a\"],[0.8888888888888888,\"#fdca26\"],[1.0,\"#f0f921\"]],\"type\":\"histogram2d\"}],\"histogram2dcontour\":[{\"colorbar\":{\"outlinewidth\":0,\"ticks\":\"\"},\"colorscale\":[[0.0,\"#0d0887\"],[0.1111111111111111,\"#46039f\"],[0.2222222222222222,\"#7201a8\"],[0.3333333333333333,\"#9c179e\"],[0.4444444444444444,\"#bd3786\"],[0.5555555555555556,\"#d8576b\"],[0.6666666666666666,\"#ed7953\"],[0.7777777777777778,\"#fb9f3a\"],[0.8888888888888888,\"#fdca26\"],[1.0,\"#f0f921\"]],\"type\":\"histogram2dcontour\"}],\"mesh3d\":[{\"colorbar\":{\"outlinewidth\":0,\"ticks\":\"\"},\"type\":\"mesh3d\"}],\"parcoords\":[{\"line\":{\"colorbar\":{\"outlinewidth\":0,\"ticks\":\"\"}},\"type\":\"parcoords\"}],\"pie\":[{\"automargin\":true,\"type\":\"pie\"}],\"scatter\":[{\"marker\":{\"colorbar\":{\"outlinewidth\":0,\"ticks\":\"\"}},\"type\":\"scatter\"}],\"scatter3d\":[{\"line\":{\"colorbar\":{\"outlinewidth\":0,\"ticks\":\"\"}},\"marker\":{\"colorbar\":{\"outlinewidth\":0,\"ticks\":\"\"}},\"type\":\"scatter3d\"}],\"scattercarpet\":[{\"marker\":{\"colorbar\":{\"outlinewidth\":0,\"ticks\":\"\"}},\"type\":\"scattercarpet\"}],\"scattergeo\":[{\"marker\":{\"colorbar\":{\"outlinewidth\":0,\"ticks\":\"\"}},\"type\":\"scattergeo\"}],\"scattergl\":[{\"marker\":{\"colorbar\":{\"outlinewidth\":0,\"ticks\":\"\"}},\"type\":\"scattergl\"}],\"scattermapbox\":[{\"marker\":{\"colorbar\":{\"outlinewidth\":0,\"ticks\":\"\"}},\"type\":\"scattermapbox\"}],\"scatterpolar\":[{\"marker\":{\"colorbar\":{\"outlinewidth\":0,\"ticks\":\"\"}},\"type\":\"scatterpolar\"}],\"scatterpolargl\":[{\"marker\":{\"colorbar\":{\"outlinewidth\":0,\"ticks\":\"\"}},\"type\":\"scatterpolargl\"}],\"scatterternary\":[{\"marker\":{\"colorbar\":{\"outlinewidth\":0,\"ticks\":\"\"}},\"type\":\"scatterternary\"}],\"surface\":[{\"colorbar\":{\"outlinewidth\":0,\"ticks\":\"\"},\"colorscale\":[[0.0,\"#0d0887\"],[0.1111111111111111,\"#46039f\"],[0.2222222222222222,\"#7201a8\"],[0.3333333333333333,\"#9c179e\"],[0.4444444444444444,\"#bd3786\"],[0.5555555555555556,\"#d8576b\"],[0.6666666666666666,\"#ed7953\"],[0.7777777777777778,\"#fb9f3a\"],[0.8888888888888888,\"#fdca26\"],[1.0,\"#f0f921\"]],\"type\":\"surface\"}],\"table\":[{\"cells\":{\"fill\":{\"color\":\"#EBF0F8\"},\"line\":{\"color\":\"white\"}},\"header\":{\"fill\":{\"color\":\"#C8D4E3\"},\"line\":{\"color\":\"white\"}},\"type\":\"table\"}]},\"layout\":{\"annotationdefaults\":{\"arrowcolor\":\"#2a3f5f\",\"arrowhead\":0,\"arrowwidth\":1},\"autotypenumbers\":\"strict\",\"coloraxis\":{\"colorbar\":{\"outlinewidth\":0,\"ticks\":\"\"}},\"colorscale\":{\"diverging\":[[0,\"#8e0152\"],[0.1,\"#c51b7d\"],[0.2,\"#de77ae\"],[0.3,\"#f1b6da\"],[0.4,\"#fde0ef\"],[0.5,\"#f7f7f7\"],[0.6,\"#e6f5d0\"],[0.7,\"#b8e186\"],[0.8,\"#7fbc41\"],[0.9,\"#4d9221\"],[1,\"#276419\"]],\"sequential\":[[0.0,\"#0d0887\"],[0.1111111111111111,\"#46039f\"],[0.2222222222222222,\"#7201a8\"],[0.3333333333333333,\"#9c179e\"],[0.4444444444444444,\"#bd3786\"],[0.5555555555555556,\"#d8576b\"],[0.6666666666666666,\"#ed7953\"],[0.7777777777777778,\"#fb9f3a\"],[0.8888888888888888,\"#fdca26\"],[1.0,\"#f0f921\"]],\"sequentialminus\":[[0.0,\"#0d0887\"],[0.1111111111111111,\"#46039f\"],[0.2222222222222222,\"#7201a8\"],[0.3333333333333333,\"#9c179e\"],[0.4444444444444444,\"#bd3786\"],[0.5555555555555556,\"#d8576b\"],[0.6666666666666666,\"#ed7953\"],[0.7777777777777778,\"#fb9f3a\"],[0.8888888888888888,\"#fdca26\"],[1.0,\"#f0f921\"]]},\"colorway\":[\"#636efa\",\"#EF553B\",\"#00cc96\",\"#ab63fa\",\"#FFA15A\",\"#19d3f3\",\"#FF6692\",\"#B6E880\",\"#FF97FF\",\"#FECB52\"],\"font\":{\"color\":\"#2a3f5f\"},\"geo\":{\"bgcolor\":\"white\",\"lakecolor\":\"white\",\"landcolor\":\"#E5ECF6\",\"showlakes\":true,\"showland\":true,\"subunitcolor\":\"white\"},\"hoverlabel\":{\"align\":\"left\"},\"hovermode\":\"closest\",\"mapbox\":{\"style\":\"light\"},\"paper_bgcolor\":\"white\",\"plot_bgcolor\":\"#E5ECF6\",\"polar\":{\"angularaxis\":{\"gridcolor\":\"white\",\"linecolor\":\"white\",\"ticks\":\"\"},\"bgcolor\":\"#E5ECF6\",\"radialaxis\":{\"gridcolor\":\"white\",\"linecolor\":\"white\",\"ticks\":\"\"}},\"scene\":{\"xaxis\":{\"backgroundcolor\":\"#E5ECF6\",\"gridcolor\":\"white\",\"gridwidth\":2,\"linecolor\":\"white\",\"showbackground\":true,\"ticks\":\"\",\"zerolinecolor\":\"white\"},\"yaxis\":{\"backgroundcolor\":\"#E5ECF6\",\"gridcolor\":\"white\",\"gridwidth\":2,\"linecolor\":\"white\",\"showbackground\":true,\"ticks\":\"\",\"zerolinecolor\":\"white\"},\"zaxis\":{\"backgroundcolor\":\"#E5ECF6\",\"gridcolor\":\"white\",\"gridwidth\":2,\"linecolor\":\"white\",\"showbackground\":true,\"ticks\":\"\",\"zerolinecolor\":\"white\"}},\"shapedefaults\":{\"line\":{\"color\":\"#2a3f5f\"}},\"ternary\":{\"aaxis\":{\"gridcolor\":\"white\",\"linecolor\":\"white\",\"ticks\":\"\"},\"baxis\":{\"gridcolor\":\"white\",\"linecolor\":\"white\",\"ticks\":\"\"},\"bgcolor\":\"#E5ECF6\",\"caxis\":{\"gridcolor\":\"white\",\"linecolor\":\"white\",\"ticks\":\"\"}},\"title\":{\"x\":0.05},\"xaxis\":{\"automargin\":true,\"gridcolor\":\"white\",\"linecolor\":\"white\",\"ticks\":\"\",\"title\":{\"standoff\":15},\"zerolinecolor\":\"white\",\"zerolinewidth\":2},\"yaxis\":{\"automargin\":true,\"gridcolor\":\"white\",\"linecolor\":\"white\",\"ticks\":\"\",\"title\":{\"standoff\":15},\"zerolinecolor\":\"white\",\"zerolinewidth\":2}}},\"xaxis\":{\"anchor\":\"y\",\"domain\":[0.0,1.0],\"title\":{\"text\":\"Healthy life expectancy\"}},\"yaxis\":{\"anchor\":\"x\",\"domain\":[0.0,1.0],\"title\":{\"text\":\"Score\"}},\"legend\":{\"title\":{\"text\":\"Region\"},\"tracegroupgap\":0,\"itemsizing\":\"constant\"},\"margin\":{\"t\":60}},                        {\"responsive\": true}                    ).then(function(){\n",
       "                            \n",
       "var gd = document.getElementById('3f723d8f-fe3f-45c6-9764-a2d44618974d');\n",
       "var x = new MutationObserver(function (mutations, observer) {{\n",
       "        var display = window.getComputedStyle(gd).display;\n",
       "        if (!display || display === 'none') {{\n",
       "            console.log([gd, 'removed!']);\n",
       "            Plotly.purge(gd);\n",
       "            observer.disconnect();\n",
       "        }}\n",
       "}});\n",
       "\n",
       "// Listen for the removal of the full notebook cells\n",
       "var notebookContainer = gd.closest('#notebook-container');\n",
       "if (notebookContainer) {{\n",
       "    x.observe(notebookContainer, {childList: true});\n",
       "}}\n",
       "\n",
       "// Listen for the clearing of the current output cell\n",
       "var outputEl = gd.closest('.output');\n",
       "if (outputEl) {{\n",
       "    x.observe(outputEl, {childList: true});\n",
       "}}\n",
       "\n",
       "                        })                };                });            </script>        </div>"
      ]
     },
     "metadata": {},
     "output_type": "display_data"
    }
   ],
   "source": [
    "px.scatter(df, x=\"Healthy life expectancy\", y=\"Score\",\n",
    "           color=\"Region\", size='Overall rank', hover_name=\"Country\",)"
   ]
  },
  {
   "cell_type": "markdown",
   "metadata": {},
   "source": [
    "# <code> <div id=\"clustering\" style=\"color:#F1D405 ;font-weight: bold; border:2px solid #F1D405 ;\"><center>Clustering / Kmeans</center></div> </code>\n"
   ]
  },
  {
   "cell_type": "markdown",
   "metadata": {},
   "source": [
    "### <code> <div style=\"color:#F1D405 ;font-weight: bold; ;\"> Methode Elbow </div> </code>\n"
   ]
  },
  {
   "cell_type": "code",
   "execution_count": 17,
   "metadata": {},
   "outputs": [],
   "source": [
    "K = range(1, 10)"
   ]
  },
  {
   "cell_type": "code",
   "execution_count": 18,
   "metadata": {},
   "outputs": [],
   "source": [
    "def define_n_clusters(n_cluster):\n",
    "    distortions = []\n",
    "    for n in n_cluster:\n",
    "        model = KMeans(n_clusters=n, init='k-means++',\n",
    "                    max_iter=20, n_init=10, random_state=42)\n",
    "        model.fit(pca_df)\n",
    "        distortions.append(model.inertia_)\n",
    "        print(model.inertia_)\n",
    "    return distortions"
   ]
  },
  {
   "cell_type": "code",
   "execution_count": 19,
   "metadata": {},
   "outputs": [],
   "source": [
    "def plot_elbow_curve(d):\n",
    "    fig = px.line(x=K, y= d, width=800, height=500)\n",
    "    fig.update_traces(line=dict(width=4.5))\n",
    "    fig.update_layout(\n",
    "\n",
    "        title=dict(\n",
    "            text='<b>Elbow curve</b>',\n",
    "            x=0.5,\n",
    "            y=0.95,\n",
    "            font=dict(size=20)),\n",
    "        xaxis_title=\"<b>n_clusters</b>\",\n",
    "        yaxis_title='<b>Inertia</b>',\n",
    "        font=dict(size=12)\n",
    "    )\n",
    "    fig.show()"
   ]
  },
  {
   "cell_type": "code",
   "execution_count": 20,
   "metadata": {},
   "outputs": [
    {
     "name": "stdout",
     "output_type": "stream",
     "text": [
      "847.866004845134\n",
      "473.7087492590729\n",
      "290.4476706045767\n",
      "238.1393278133836\n",
      "193.02418839269112\n",
      "169.84972717898444\n",
      "153.04981905461062\n",
      "139.71461508947695\n",
      "129.6920086785146\n"
     ]
    },
    {
     "data": {
      "application/vnd.plotly.v1+json": {
       "config": {
        "plotlyServerURL": "https://plot.ly"
       },
       "data": [
        {
         "hovertemplate": "x=%{x}<br>y=%{y}<extra></extra>",
         "legendgroup": "",
         "line": {
          "color": "#636efa",
          "dash": "solid",
          "width": 4.5
         },
         "marker": {
          "symbol": "circle"
         },
         "mode": "lines",
         "name": "",
         "orientation": "v",
         "showlegend": false,
         "type": "scatter",
         "x": [
          1,
          2,
          3,
          4,
          5,
          6,
          7,
          8,
          9
         ],
         "xaxis": "x",
         "y": [
          847.866004845134,
          473.7087492590729,
          290.4476706045767,
          238.1393278133836,
          193.02418839269112,
          169.84972717898444,
          153.04981905461062,
          139.71461508947695,
          129.6920086785146
         ],
         "yaxis": "y"
        }
       ],
       "layout": {
        "font": {
         "size": 12
        },
        "height": 500,
        "legend": {
         "tracegroupgap": 0
        },
        "margin": {
         "t": 60
        },
        "template": {
         "data": {
          "bar": [
           {
            "error_x": {
             "color": "#2a3f5f"
            },
            "error_y": {
             "color": "#2a3f5f"
            },
            "marker": {
             "line": {
              "color": "#E5ECF6",
              "width": 0.5
             },
             "pattern": {
              "fillmode": "overlay",
              "size": 10,
              "solidity": 0.2
             }
            },
            "type": "bar"
           }
          ],
          "barpolar": [
           {
            "marker": {
             "line": {
              "color": "#E5ECF6",
              "width": 0.5
             },
             "pattern": {
              "fillmode": "overlay",
              "size": 10,
              "solidity": 0.2
             }
            },
            "type": "barpolar"
           }
          ],
          "carpet": [
           {
            "aaxis": {
             "endlinecolor": "#2a3f5f",
             "gridcolor": "white",
             "linecolor": "white",
             "minorgridcolor": "white",
             "startlinecolor": "#2a3f5f"
            },
            "baxis": {
             "endlinecolor": "#2a3f5f",
             "gridcolor": "white",
             "linecolor": "white",
             "minorgridcolor": "white",
             "startlinecolor": "#2a3f5f"
            },
            "type": "carpet"
           }
          ],
          "choropleth": [
           {
            "colorbar": {
             "outlinewidth": 0,
             "ticks": ""
            },
            "type": "choropleth"
           }
          ],
          "contour": [
           {
            "colorbar": {
             "outlinewidth": 0,
             "ticks": ""
            },
            "colorscale": [
             [
              0,
              "#0d0887"
             ],
             [
              0.1111111111111111,
              "#46039f"
             ],
             [
              0.2222222222222222,
              "#7201a8"
             ],
             [
              0.3333333333333333,
              "#9c179e"
             ],
             [
              0.4444444444444444,
              "#bd3786"
             ],
             [
              0.5555555555555556,
              "#d8576b"
             ],
             [
              0.6666666666666666,
              "#ed7953"
             ],
             [
              0.7777777777777778,
              "#fb9f3a"
             ],
             [
              0.8888888888888888,
              "#fdca26"
             ],
             [
              1,
              "#f0f921"
             ]
            ],
            "type": "contour"
           }
          ],
          "contourcarpet": [
           {
            "colorbar": {
             "outlinewidth": 0,
             "ticks": ""
            },
            "type": "contourcarpet"
           }
          ],
          "heatmap": [
           {
            "colorbar": {
             "outlinewidth": 0,
             "ticks": ""
            },
            "colorscale": [
             [
              0,
              "#0d0887"
             ],
             [
              0.1111111111111111,
              "#46039f"
             ],
             [
              0.2222222222222222,
              "#7201a8"
             ],
             [
              0.3333333333333333,
              "#9c179e"
             ],
             [
              0.4444444444444444,
              "#bd3786"
             ],
             [
              0.5555555555555556,
              "#d8576b"
             ],
             [
              0.6666666666666666,
              "#ed7953"
             ],
             [
              0.7777777777777778,
              "#fb9f3a"
             ],
             [
              0.8888888888888888,
              "#fdca26"
             ],
             [
              1,
              "#f0f921"
             ]
            ],
            "type": "heatmap"
           }
          ],
          "heatmapgl": [
           {
            "colorbar": {
             "outlinewidth": 0,
             "ticks": ""
            },
            "colorscale": [
             [
              0,
              "#0d0887"
             ],
             [
              0.1111111111111111,
              "#46039f"
             ],
             [
              0.2222222222222222,
              "#7201a8"
             ],
             [
              0.3333333333333333,
              "#9c179e"
             ],
             [
              0.4444444444444444,
              "#bd3786"
             ],
             [
              0.5555555555555556,
              "#d8576b"
             ],
             [
              0.6666666666666666,
              "#ed7953"
             ],
             [
              0.7777777777777778,
              "#fb9f3a"
             ],
             [
              0.8888888888888888,
              "#fdca26"
             ],
             [
              1,
              "#f0f921"
             ]
            ],
            "type": "heatmapgl"
           }
          ],
          "histogram": [
           {
            "marker": {
             "pattern": {
              "fillmode": "overlay",
              "size": 10,
              "solidity": 0.2
             }
            },
            "type": "histogram"
           }
          ],
          "histogram2d": [
           {
            "colorbar": {
             "outlinewidth": 0,
             "ticks": ""
            },
            "colorscale": [
             [
              0,
              "#0d0887"
             ],
             [
              0.1111111111111111,
              "#46039f"
             ],
             [
              0.2222222222222222,
              "#7201a8"
             ],
             [
              0.3333333333333333,
              "#9c179e"
             ],
             [
              0.4444444444444444,
              "#bd3786"
             ],
             [
              0.5555555555555556,
              "#d8576b"
             ],
             [
              0.6666666666666666,
              "#ed7953"
             ],
             [
              0.7777777777777778,
              "#fb9f3a"
             ],
             [
              0.8888888888888888,
              "#fdca26"
             ],
             [
              1,
              "#f0f921"
             ]
            ],
            "type": "histogram2d"
           }
          ],
          "histogram2dcontour": [
           {
            "colorbar": {
             "outlinewidth": 0,
             "ticks": ""
            },
            "colorscale": [
             [
              0,
              "#0d0887"
             ],
             [
              0.1111111111111111,
              "#46039f"
             ],
             [
              0.2222222222222222,
              "#7201a8"
             ],
             [
              0.3333333333333333,
              "#9c179e"
             ],
             [
              0.4444444444444444,
              "#bd3786"
             ],
             [
              0.5555555555555556,
              "#d8576b"
             ],
             [
              0.6666666666666666,
              "#ed7953"
             ],
             [
              0.7777777777777778,
              "#fb9f3a"
             ],
             [
              0.8888888888888888,
              "#fdca26"
             ],
             [
              1,
              "#f0f921"
             ]
            ],
            "type": "histogram2dcontour"
           }
          ],
          "mesh3d": [
           {
            "colorbar": {
             "outlinewidth": 0,
             "ticks": ""
            },
            "type": "mesh3d"
           }
          ],
          "parcoords": [
           {
            "line": {
             "colorbar": {
              "outlinewidth": 0,
              "ticks": ""
             }
            },
            "type": "parcoords"
           }
          ],
          "pie": [
           {
            "automargin": true,
            "type": "pie"
           }
          ],
          "scatter": [
           {
            "marker": {
             "colorbar": {
              "outlinewidth": 0,
              "ticks": ""
             }
            },
            "type": "scatter"
           }
          ],
          "scatter3d": [
           {
            "line": {
             "colorbar": {
              "outlinewidth": 0,
              "ticks": ""
             }
            },
            "marker": {
             "colorbar": {
              "outlinewidth": 0,
              "ticks": ""
             }
            },
            "type": "scatter3d"
           }
          ],
          "scattercarpet": [
           {
            "marker": {
             "colorbar": {
              "outlinewidth": 0,
              "ticks": ""
             }
            },
            "type": "scattercarpet"
           }
          ],
          "scattergeo": [
           {
            "marker": {
             "colorbar": {
              "outlinewidth": 0,
              "ticks": ""
             }
            },
            "type": "scattergeo"
           }
          ],
          "scattergl": [
           {
            "marker": {
             "colorbar": {
              "outlinewidth": 0,
              "ticks": ""
             }
            },
            "type": "scattergl"
           }
          ],
          "scattermapbox": [
           {
            "marker": {
             "colorbar": {
              "outlinewidth": 0,
              "ticks": ""
             }
            },
            "type": "scattermapbox"
           }
          ],
          "scatterpolar": [
           {
            "marker": {
             "colorbar": {
              "outlinewidth": 0,
              "ticks": ""
             }
            },
            "type": "scatterpolar"
           }
          ],
          "scatterpolargl": [
           {
            "marker": {
             "colorbar": {
              "outlinewidth": 0,
              "ticks": ""
             }
            },
            "type": "scatterpolargl"
           }
          ],
          "scatterternary": [
           {
            "marker": {
             "colorbar": {
              "outlinewidth": 0,
              "ticks": ""
             }
            },
            "type": "scatterternary"
           }
          ],
          "surface": [
           {
            "colorbar": {
             "outlinewidth": 0,
             "ticks": ""
            },
            "colorscale": [
             [
              0,
              "#0d0887"
             ],
             [
              0.1111111111111111,
              "#46039f"
             ],
             [
              0.2222222222222222,
              "#7201a8"
             ],
             [
              0.3333333333333333,
              "#9c179e"
             ],
             [
              0.4444444444444444,
              "#bd3786"
             ],
             [
              0.5555555555555556,
              "#d8576b"
             ],
             [
              0.6666666666666666,
              "#ed7953"
             ],
             [
              0.7777777777777778,
              "#fb9f3a"
             ],
             [
              0.8888888888888888,
              "#fdca26"
             ],
             [
              1,
              "#f0f921"
             ]
            ],
            "type": "surface"
           }
          ],
          "table": [
           {
            "cells": {
             "fill": {
              "color": "#EBF0F8"
             },
             "line": {
              "color": "white"
             }
            },
            "header": {
             "fill": {
              "color": "#C8D4E3"
             },
             "line": {
              "color": "white"
             }
            },
            "type": "table"
           }
          ]
         },
         "layout": {
          "annotationdefaults": {
           "arrowcolor": "#2a3f5f",
           "arrowhead": 0,
           "arrowwidth": 1
          },
          "autotypenumbers": "strict",
          "coloraxis": {
           "colorbar": {
            "outlinewidth": 0,
            "ticks": ""
           }
          },
          "colorscale": {
           "diverging": [
            [
             0,
             "#8e0152"
            ],
            [
             0.1,
             "#c51b7d"
            ],
            [
             0.2,
             "#de77ae"
            ],
            [
             0.3,
             "#f1b6da"
            ],
            [
             0.4,
             "#fde0ef"
            ],
            [
             0.5,
             "#f7f7f7"
            ],
            [
             0.6,
             "#e6f5d0"
            ],
            [
             0.7,
             "#b8e186"
            ],
            [
             0.8,
             "#7fbc41"
            ],
            [
             0.9,
             "#4d9221"
            ],
            [
             1,
             "#276419"
            ]
           ],
           "sequential": [
            [
             0,
             "#0d0887"
            ],
            [
             0.1111111111111111,
             "#46039f"
            ],
            [
             0.2222222222222222,
             "#7201a8"
            ],
            [
             0.3333333333333333,
             "#9c179e"
            ],
            [
             0.4444444444444444,
             "#bd3786"
            ],
            [
             0.5555555555555556,
             "#d8576b"
            ],
            [
             0.6666666666666666,
             "#ed7953"
            ],
            [
             0.7777777777777778,
             "#fb9f3a"
            ],
            [
             0.8888888888888888,
             "#fdca26"
            ],
            [
             1,
             "#f0f921"
            ]
           ],
           "sequentialminus": [
            [
             0,
             "#0d0887"
            ],
            [
             0.1111111111111111,
             "#46039f"
            ],
            [
             0.2222222222222222,
             "#7201a8"
            ],
            [
             0.3333333333333333,
             "#9c179e"
            ],
            [
             0.4444444444444444,
             "#bd3786"
            ],
            [
             0.5555555555555556,
             "#d8576b"
            ],
            [
             0.6666666666666666,
             "#ed7953"
            ],
            [
             0.7777777777777778,
             "#fb9f3a"
            ],
            [
             0.8888888888888888,
             "#fdca26"
            ],
            [
             1,
             "#f0f921"
            ]
           ]
          },
          "colorway": [
           "#636efa",
           "#EF553B",
           "#00cc96",
           "#ab63fa",
           "#FFA15A",
           "#19d3f3",
           "#FF6692",
           "#B6E880",
           "#FF97FF",
           "#FECB52"
          ],
          "font": {
           "color": "#2a3f5f"
          },
          "geo": {
           "bgcolor": "white",
           "lakecolor": "white",
           "landcolor": "#E5ECF6",
           "showlakes": true,
           "showland": true,
           "subunitcolor": "white"
          },
          "hoverlabel": {
           "align": "left"
          },
          "hovermode": "closest",
          "mapbox": {
           "style": "light"
          },
          "paper_bgcolor": "white",
          "plot_bgcolor": "#E5ECF6",
          "polar": {
           "angularaxis": {
            "gridcolor": "white",
            "linecolor": "white",
            "ticks": ""
           },
           "bgcolor": "#E5ECF6",
           "radialaxis": {
            "gridcolor": "white",
            "linecolor": "white",
            "ticks": ""
           }
          },
          "scene": {
           "xaxis": {
            "backgroundcolor": "#E5ECF6",
            "gridcolor": "white",
            "gridwidth": 2,
            "linecolor": "white",
            "showbackground": true,
            "ticks": "",
            "zerolinecolor": "white"
           },
           "yaxis": {
            "backgroundcolor": "#E5ECF6",
            "gridcolor": "white",
            "gridwidth": 2,
            "linecolor": "white",
            "showbackground": true,
            "ticks": "",
            "zerolinecolor": "white"
           },
           "zaxis": {
            "backgroundcolor": "#E5ECF6",
            "gridcolor": "white",
            "gridwidth": 2,
            "linecolor": "white",
            "showbackground": true,
            "ticks": "",
            "zerolinecolor": "white"
           }
          },
          "shapedefaults": {
           "line": {
            "color": "#2a3f5f"
           }
          },
          "ternary": {
           "aaxis": {
            "gridcolor": "white",
            "linecolor": "white",
            "ticks": ""
           },
           "baxis": {
            "gridcolor": "white",
            "linecolor": "white",
            "ticks": ""
           },
           "bgcolor": "#E5ECF6",
           "caxis": {
            "gridcolor": "white",
            "linecolor": "white",
            "ticks": ""
           }
          },
          "title": {
           "x": 0.05
          },
          "xaxis": {
           "automargin": true,
           "gridcolor": "white",
           "linecolor": "white",
           "ticks": "",
           "title": {
            "standoff": 15
           },
           "zerolinecolor": "white",
           "zerolinewidth": 2
          },
          "yaxis": {
           "automargin": true,
           "gridcolor": "white",
           "linecolor": "white",
           "ticks": "",
           "title": {
            "standoff": 15
           },
           "zerolinecolor": "white",
           "zerolinewidth": 2
          }
         }
        },
        "title": {
         "font": {
          "size": 20
         },
         "text": "<b>Elbow curve</b>",
         "x": 0.5,
         "y": 0.95
        },
        "width": 800,
        "xaxis": {
         "anchor": "y",
         "domain": [
          0,
          1
         ],
         "title": {
          "text": "<b>n_clusters</b>"
         }
        },
        "yaxis": {
         "anchor": "x",
         "domain": [
          0,
          1
         ],
         "title": {
          "text": "<b>Inertia</b>"
         }
        }
       }
      },
      "text/html": [
       "<div>                            <div id=\"55be699b-3021-4287-9b3c-f2f3cab02905\" class=\"plotly-graph-div\" style=\"height:500px; width:800px;\"></div>            <script type=\"text/javascript\">                require([\"plotly\"], function(Plotly) {                    window.PLOTLYENV=window.PLOTLYENV || {};                                    if (document.getElementById(\"55be699b-3021-4287-9b3c-f2f3cab02905\")) {                    Plotly.newPlot(                        \"55be699b-3021-4287-9b3c-f2f3cab02905\",                        [{\"hovertemplate\":\"x=%{x}<br>y=%{y}<extra></extra>\",\"legendgroup\":\"\",\"line\":{\"color\":\"#636efa\",\"dash\":\"solid\",\"width\":4.5},\"marker\":{\"symbol\":\"circle\"},\"mode\":\"lines\",\"name\":\"\",\"orientation\":\"v\",\"showlegend\":false,\"x\":[1,2,3,4,5,6,7,8,9],\"xaxis\":\"x\",\"y\":[847.866004845134,473.7087492590729,290.4476706045767,238.1393278133836,193.02418839269112,169.84972717898444,153.04981905461062,139.71461508947695,129.6920086785146],\"yaxis\":\"y\",\"type\":\"scatter\"}],                        {\"template\":{\"data\":{\"bar\":[{\"error_x\":{\"color\":\"#2a3f5f\"},\"error_y\":{\"color\":\"#2a3f5f\"},\"marker\":{\"line\":{\"color\":\"#E5ECF6\",\"width\":0.5},\"pattern\":{\"fillmode\":\"overlay\",\"size\":10,\"solidity\":0.2}},\"type\":\"bar\"}],\"barpolar\":[{\"marker\":{\"line\":{\"color\":\"#E5ECF6\",\"width\":0.5},\"pattern\":{\"fillmode\":\"overlay\",\"size\":10,\"solidity\":0.2}},\"type\":\"barpolar\"}],\"carpet\":[{\"aaxis\":{\"endlinecolor\":\"#2a3f5f\",\"gridcolor\":\"white\",\"linecolor\":\"white\",\"minorgridcolor\":\"white\",\"startlinecolor\":\"#2a3f5f\"},\"baxis\":{\"endlinecolor\":\"#2a3f5f\",\"gridcolor\":\"white\",\"linecolor\":\"white\",\"minorgridcolor\":\"white\",\"startlinecolor\":\"#2a3f5f\"},\"type\":\"carpet\"}],\"choropleth\":[{\"colorbar\":{\"outlinewidth\":0,\"ticks\":\"\"},\"type\":\"choropleth\"}],\"contour\":[{\"colorbar\":{\"outlinewidth\":0,\"ticks\":\"\"},\"colorscale\":[[0.0,\"#0d0887\"],[0.1111111111111111,\"#46039f\"],[0.2222222222222222,\"#7201a8\"],[0.3333333333333333,\"#9c179e\"],[0.4444444444444444,\"#bd3786\"],[0.5555555555555556,\"#d8576b\"],[0.6666666666666666,\"#ed7953\"],[0.7777777777777778,\"#fb9f3a\"],[0.8888888888888888,\"#fdca26\"],[1.0,\"#f0f921\"]],\"type\":\"contour\"}],\"contourcarpet\":[{\"colorbar\":{\"outlinewidth\":0,\"ticks\":\"\"},\"type\":\"contourcarpet\"}],\"heatmap\":[{\"colorbar\":{\"outlinewidth\":0,\"ticks\":\"\"},\"colorscale\":[[0.0,\"#0d0887\"],[0.1111111111111111,\"#46039f\"],[0.2222222222222222,\"#7201a8\"],[0.3333333333333333,\"#9c179e\"],[0.4444444444444444,\"#bd3786\"],[0.5555555555555556,\"#d8576b\"],[0.6666666666666666,\"#ed7953\"],[0.7777777777777778,\"#fb9f3a\"],[0.8888888888888888,\"#fdca26\"],[1.0,\"#f0f921\"]],\"type\":\"heatmap\"}],\"heatmapgl\":[{\"colorbar\":{\"outlinewidth\":0,\"ticks\":\"\"},\"colorscale\":[[0.0,\"#0d0887\"],[0.1111111111111111,\"#46039f\"],[0.2222222222222222,\"#7201a8\"],[0.3333333333333333,\"#9c179e\"],[0.4444444444444444,\"#bd3786\"],[0.5555555555555556,\"#d8576b\"],[0.6666666666666666,\"#ed7953\"],[0.7777777777777778,\"#fb9f3a\"],[0.8888888888888888,\"#fdca26\"],[1.0,\"#f0f921\"]],\"type\":\"heatmapgl\"}],\"histogram\":[{\"marker\":{\"pattern\":{\"fillmode\":\"overlay\",\"size\":10,\"solidity\":0.2}},\"type\":\"histogram\"}],\"histogram2d\":[{\"colorbar\":{\"outlinewidth\":0,\"ticks\":\"\"},\"colorscale\":[[0.0,\"#0d0887\"],[0.1111111111111111,\"#46039f\"],[0.2222222222222222,\"#7201a8\"],[0.3333333333333333,\"#9c179e\"],[0.4444444444444444,\"#bd3786\"],[0.5555555555555556,\"#d8576b\"],[0.6666666666666666,\"#ed7953\"],[0.7777777777777778,\"#fb9f3a\"],[0.8888888888888888,\"#fdca26\"],[1.0,\"#f0f921\"]],\"type\":\"histogram2d\"}],\"histogram2dcontour\":[{\"colorbar\":{\"outlinewidth\":0,\"ticks\":\"\"},\"colorscale\":[[0.0,\"#0d0887\"],[0.1111111111111111,\"#46039f\"],[0.2222222222222222,\"#7201a8\"],[0.3333333333333333,\"#9c179e\"],[0.4444444444444444,\"#bd3786\"],[0.5555555555555556,\"#d8576b\"],[0.6666666666666666,\"#ed7953\"],[0.7777777777777778,\"#fb9f3a\"],[0.8888888888888888,\"#fdca26\"],[1.0,\"#f0f921\"]],\"type\":\"histogram2dcontour\"}],\"mesh3d\":[{\"colorbar\":{\"outlinewidth\":0,\"ticks\":\"\"},\"type\":\"mesh3d\"}],\"parcoords\":[{\"line\":{\"colorbar\":{\"outlinewidth\":0,\"ticks\":\"\"}},\"type\":\"parcoords\"}],\"pie\":[{\"automargin\":true,\"type\":\"pie\"}],\"scatter\":[{\"marker\":{\"colorbar\":{\"outlinewidth\":0,\"ticks\":\"\"}},\"type\":\"scatter\"}],\"scatter3d\":[{\"line\":{\"colorbar\":{\"outlinewidth\":0,\"ticks\":\"\"}},\"marker\":{\"colorbar\":{\"outlinewidth\":0,\"ticks\":\"\"}},\"type\":\"scatter3d\"}],\"scattercarpet\":[{\"marker\":{\"colorbar\":{\"outlinewidth\":0,\"ticks\":\"\"}},\"type\":\"scattercarpet\"}],\"scattergeo\":[{\"marker\":{\"colorbar\":{\"outlinewidth\":0,\"ticks\":\"\"}},\"type\":\"scattergeo\"}],\"scattergl\":[{\"marker\":{\"colorbar\":{\"outlinewidth\":0,\"ticks\":\"\"}},\"type\":\"scattergl\"}],\"scattermapbox\":[{\"marker\":{\"colorbar\":{\"outlinewidth\":0,\"ticks\":\"\"}},\"type\":\"scattermapbox\"}],\"scatterpolar\":[{\"marker\":{\"colorbar\":{\"outlinewidth\":0,\"ticks\":\"\"}},\"type\":\"scatterpolar\"}],\"scatterpolargl\":[{\"marker\":{\"colorbar\":{\"outlinewidth\":0,\"ticks\":\"\"}},\"type\":\"scatterpolargl\"}],\"scatterternary\":[{\"marker\":{\"colorbar\":{\"outlinewidth\":0,\"ticks\":\"\"}},\"type\":\"scatterternary\"}],\"surface\":[{\"colorbar\":{\"outlinewidth\":0,\"ticks\":\"\"},\"colorscale\":[[0.0,\"#0d0887\"],[0.1111111111111111,\"#46039f\"],[0.2222222222222222,\"#7201a8\"],[0.3333333333333333,\"#9c179e\"],[0.4444444444444444,\"#bd3786\"],[0.5555555555555556,\"#d8576b\"],[0.6666666666666666,\"#ed7953\"],[0.7777777777777778,\"#fb9f3a\"],[0.8888888888888888,\"#fdca26\"],[1.0,\"#f0f921\"]],\"type\":\"surface\"}],\"table\":[{\"cells\":{\"fill\":{\"color\":\"#EBF0F8\"},\"line\":{\"color\":\"white\"}},\"header\":{\"fill\":{\"color\":\"#C8D4E3\"},\"line\":{\"color\":\"white\"}},\"type\":\"table\"}]},\"layout\":{\"annotationdefaults\":{\"arrowcolor\":\"#2a3f5f\",\"arrowhead\":0,\"arrowwidth\":1},\"autotypenumbers\":\"strict\",\"coloraxis\":{\"colorbar\":{\"outlinewidth\":0,\"ticks\":\"\"}},\"colorscale\":{\"diverging\":[[0,\"#8e0152\"],[0.1,\"#c51b7d\"],[0.2,\"#de77ae\"],[0.3,\"#f1b6da\"],[0.4,\"#fde0ef\"],[0.5,\"#f7f7f7\"],[0.6,\"#e6f5d0\"],[0.7,\"#b8e186\"],[0.8,\"#7fbc41\"],[0.9,\"#4d9221\"],[1,\"#276419\"]],\"sequential\":[[0.0,\"#0d0887\"],[0.1111111111111111,\"#46039f\"],[0.2222222222222222,\"#7201a8\"],[0.3333333333333333,\"#9c179e\"],[0.4444444444444444,\"#bd3786\"],[0.5555555555555556,\"#d8576b\"],[0.6666666666666666,\"#ed7953\"],[0.7777777777777778,\"#fb9f3a\"],[0.8888888888888888,\"#fdca26\"],[1.0,\"#f0f921\"]],\"sequentialminus\":[[0.0,\"#0d0887\"],[0.1111111111111111,\"#46039f\"],[0.2222222222222222,\"#7201a8\"],[0.3333333333333333,\"#9c179e\"],[0.4444444444444444,\"#bd3786\"],[0.5555555555555556,\"#d8576b\"],[0.6666666666666666,\"#ed7953\"],[0.7777777777777778,\"#fb9f3a\"],[0.8888888888888888,\"#fdca26\"],[1.0,\"#f0f921\"]]},\"colorway\":[\"#636efa\",\"#EF553B\",\"#00cc96\",\"#ab63fa\",\"#FFA15A\",\"#19d3f3\",\"#FF6692\",\"#B6E880\",\"#FF97FF\",\"#FECB52\"],\"font\":{\"color\":\"#2a3f5f\"},\"geo\":{\"bgcolor\":\"white\",\"lakecolor\":\"white\",\"landcolor\":\"#E5ECF6\",\"showlakes\":true,\"showland\":true,\"subunitcolor\":\"white\"},\"hoverlabel\":{\"align\":\"left\"},\"hovermode\":\"closest\",\"mapbox\":{\"style\":\"light\"},\"paper_bgcolor\":\"white\",\"plot_bgcolor\":\"#E5ECF6\",\"polar\":{\"angularaxis\":{\"gridcolor\":\"white\",\"linecolor\":\"white\",\"ticks\":\"\"},\"bgcolor\":\"#E5ECF6\",\"radialaxis\":{\"gridcolor\":\"white\",\"linecolor\":\"white\",\"ticks\":\"\"}},\"scene\":{\"xaxis\":{\"backgroundcolor\":\"#E5ECF6\",\"gridcolor\":\"white\",\"gridwidth\":2,\"linecolor\":\"white\",\"showbackground\":true,\"ticks\":\"\",\"zerolinecolor\":\"white\"},\"yaxis\":{\"backgroundcolor\":\"#E5ECF6\",\"gridcolor\":\"white\",\"gridwidth\":2,\"linecolor\":\"white\",\"showbackground\":true,\"ticks\":\"\",\"zerolinecolor\":\"white\"},\"zaxis\":{\"backgroundcolor\":\"#E5ECF6\",\"gridcolor\":\"white\",\"gridwidth\":2,\"linecolor\":\"white\",\"showbackground\":true,\"ticks\":\"\",\"zerolinecolor\":\"white\"}},\"shapedefaults\":{\"line\":{\"color\":\"#2a3f5f\"}},\"ternary\":{\"aaxis\":{\"gridcolor\":\"white\",\"linecolor\":\"white\",\"ticks\":\"\"},\"baxis\":{\"gridcolor\":\"white\",\"linecolor\":\"white\",\"ticks\":\"\"},\"bgcolor\":\"#E5ECF6\",\"caxis\":{\"gridcolor\":\"white\",\"linecolor\":\"white\",\"ticks\":\"\"}},\"title\":{\"x\":0.05},\"xaxis\":{\"automargin\":true,\"gridcolor\":\"white\",\"linecolor\":\"white\",\"ticks\":\"\",\"title\":{\"standoff\":15},\"zerolinecolor\":\"white\",\"zerolinewidth\":2},\"yaxis\":{\"automargin\":true,\"gridcolor\":\"white\",\"linecolor\":\"white\",\"ticks\":\"\",\"title\":{\"standoff\":15},\"zerolinecolor\":\"white\",\"zerolinewidth\":2}}},\"xaxis\":{\"anchor\":\"y\",\"domain\":[0.0,1.0],\"title\":{\"text\":\"<b>n_clusters</b>\"}},\"yaxis\":{\"anchor\":\"x\",\"domain\":[0.0,1.0],\"title\":{\"text\":\"<b>Inertia</b>\"}},\"legend\":{\"tracegroupgap\":0},\"margin\":{\"t\":60},\"height\":500,\"width\":800,\"title\":{\"font\":{\"size\":20},\"text\":\"<b>Elbow curve</b>\",\"x\":0.5,\"y\":0.95},\"font\":{\"size\":12}},                        {\"responsive\": true}                    ).then(function(){\n",
       "                            \n",
       "var gd = document.getElementById('55be699b-3021-4287-9b3c-f2f3cab02905');\n",
       "var x = new MutationObserver(function (mutations, observer) {{\n",
       "        var display = window.getComputedStyle(gd).display;\n",
       "        if (!display || display === 'none') {{\n",
       "            console.log([gd, 'removed!']);\n",
       "            Plotly.purge(gd);\n",
       "            observer.disconnect();\n",
       "        }}\n",
       "}});\n",
       "\n",
       "// Listen for the removal of the full notebook cells\n",
       "var notebookContainer = gd.closest('#notebook-container');\n",
       "if (notebookContainer) {{\n",
       "    x.observe(notebookContainer, {childList: true});\n",
       "}}\n",
       "\n",
       "// Listen for the clearing of the current output cell\n",
       "var outputEl = gd.closest('.output');\n",
       "if (outputEl) {{\n",
       "    x.observe(outputEl, {childList: true});\n",
       "}}\n",
       "\n",
       "                        })                };                });            </script>        </div>"
      ]
     },
     "metadata": {},
     "output_type": "display_data"
    }
   ],
   "source": [
    "dist = define_n_clusters(K)\n",
    "plot_elbow_curve(dist)"
   ]
  },
  {
   "cell_type": "markdown",
   "metadata": {},
   "source": [
    "<p> \n",
    "Le point d'inflexion de la courbe est à 3 , on peut donc supposer que le nombre de cluster optimaux est de 3 \n",
    "Nous allons verifier cela avec les silhouettes\n",
    "\n",
    "</p>\n"
   ]
  },
  {
   "cell_type": "markdown",
   "metadata": {},
   "source": [
    "### <code> <div style=\"color:#F1D405 ;font-weight: bold; ;\">Silhouette </div> </code>\n"
   ]
  },
  {
   "cell_type": "code",
   "execution_count": 21,
   "metadata": {},
   "outputs": [
    {
     "name": "stdout",
     "output_type": "stream",
     "text": [
      "For n_clusters = 2 The average silhouette_score is : 0.39313142488873287\n",
      "For n_clusters = 3 The average silhouette_score is : 0.43388358437431335\n",
      "For n_clusters = 4 The average silhouette_score is : 0.3490815285470986\n",
      "For n_clusters = 5 The average silhouette_score is : 0.36835657147319206\n",
      "For n_clusters = 6 The average silhouette_score is : 0.34004529483651785\n"
     ]
    },
    {
     "data": {
      "image/png": "[encoded data removed]",
      "text/plain": [
       "<Figure size 1296x504 with 2 Axes>"
      ]
     },
     "metadata": {
      "needs_background": "light"
     },
     "output_type": "display_data"
    },
    {
     "data": {
      "image/png": "[encoded data removed]",
      "text/plain": [
       "<Figure size 1296x504 with 2 Axes>"
      ]
     },
     "metadata": {
      "needs_background": "light"
     },
     "output_type": "display_data"
    },
    {
     "data": {
      "image/png": "[encoded data removed]",
      "text/plain": [
       "<Figure size 1296x504 with 2 Axes>"
      ]
     },
     "metadata": {
      "needs_background": "light"
     },
     "output_type": "display_data"
    },
    {
     "data": {
      "image/png": "[encoded data removed]",
      "text/plain": [
       "<Figure size 1296x504 with 2 Axes>"
      ]
     },
     "metadata": {
      "needs_background": "light"
     },
     "output_type": "display_data"
    },
    {
     "data": {
      "image/png": "[encoded data removed]",
      "text/plain": [
       "<Figure size 1296x504 with 2 Axes>"
      ]
     },
     "metadata": {
      "needs_background": "light"
     },
     "output_type": "display_data"
    }
   ],
   "source": [
    "range_n_clusters = [2, 3, 4, 5, 6]\n",
    "silhouette_avg_n_clusters = []\n",
    "\n",
    "for n_clusters in range_n_clusters:\n",
    "    fig, (ax1, ax2) = plt.subplots(1, 2)\n",
    "    fig.set_size_inches(18, 7)\n",
    "\n",
    "    ax1.set_xlim([-0.1, 1])\n",
    "    ax1.set_ylim([0, len(X) + (n_clusters + 1) * 10])\n",
    "\n",
    "    clusterer = KMeans(n_clusters=n_clusters, random_state=42)\n",
    "    cluster_labels = clusterer.fit_predict(pca_df)\n",
    "\n",
    "    silhouette_avg = silhouette_score(pca_df, cluster_labels)\n",
    "    print(\"For n_clusters =\", n_clusters,\n",
    "          \"The average silhouette_score is :\", silhouette_avg)\n",
    "\n",
    "    silhouette_avg_n_clusters.append(silhouette_avg)\n",
    "    sample_silhouette_values = silhouette_samples(X, cluster_labels)\n",
    "\n",
    "    y_lower = 10\n",
    "    for i in range(n_clusters):\n",
    "        ith_cluster_silhouette_values = \\\n",
    "            sample_silhouette_values[cluster_labels == i]\n",
    "\n",
    "        ith_cluster_silhouette_values.sort()\n",
    "\n",
    "        size_cluster_i = ith_cluster_silhouette_values.shape[0]\n",
    "        y_upper = y_lower + size_cluster_i\n",
    "\n",
    "        color = cm.nipy_spectral(float(i) / n_clusters)\n",
    "        ax1.fill_betweenx(np.arange(y_lower, y_upper),\n",
    "                          0, ith_cluster_silhouette_values,\n",
    "                          facecolor=color, edgecolor=color, alpha=0.7)\n",
    "\n",
    "        ax1.text(-0.05, y_lower + 0.5 * size_cluster_i, str(i))\n",
    "\n",
    "        y_lower = y_upper + 10\n",
    "\n",
    "    ax1.set_title(\"The silhouette plot for the various clusters.\")\n",
    "    ax1.set_xlabel(\"The silhouette coefficient values\")\n",
    "    ax1.set_ylabel(\"Cluster label\")\n",
    "\n",
    "    ax1.axvline(x=silhouette_avg, color=\"red\", linestyle=\"--\")\n",
    "\n",
    "    ax1.set_yticks([])  \n",
    "    ax1.set_xticks([-0.1, 0, 0.2, 0.4, 0.6, 0.8, 1])\n",
    "\n",
    "    colors = cm.nipy_spectral(cluster_labels.astype(float) / n_clusters)\n",
    "    ax2.scatter(X.iloc[::,0], X.iloc[::,1], marker='.', s=30, lw=0, alpha=0.7,\n",
    "                c=colors, edgecolor='k')\n",
    "\n",
    "    centers = clusterer.cluster_centers_\n",
    "    ax2.scatter(centers[:, 0], centers[:, 1], marker='o',\n",
    "                c=\"white\", alpha=1, s=200, edgecolor='k')\n",
    "\n",
    "    for i, c in enumerate(centers):\n",
    "        ax2.scatter(c[0], c[1], marker='$%d$' % i, alpha=1,\n",
    "                    s=50, edgecolor='k')\n",
    "\n",
    "    ax2.set_title(\"The visualization of the clustered data.\")\n",
    "    ax2.set_xlabel(\"Feature space for the 1st feature\")\n",
    "    ax2.set_ylabel(\"Feature space for the 2nd feature\")\n",
    "\n",
    "    plt.suptitle((\"Silhouette analysis for KMeans clustering on sample data \"\n",
    "                  \"with n_clusters = %d\" % n_clusters),\n",
    "                 fontsize=14, fontweight='bold')\n",
    "\n",
    "\n",
    "\n",
    "\n",
    "plt.plot(range_n_clusters, silhouette_avg_n_clusters)\n",
    "plt.xlabel(\"Number of Clusters (k)\")\n",
    "plt.ylabel(\"silhouette score\")\n",
    "plt.show()"
   ]
  },
  {
   "cell_type": "markdown",
   "metadata": {},
   "source": [
    "<span> \n",
    "\n",
    "Le diagramme de silhouette  n_cluster de 2 semble un choix ok .\n",
    "\n",
    "Pour n_clusters=3, toutes les parcelles sont plus ou moins d'épaisseur similaire et donc de tailles similaires, ce qui peut être considéré comme le meilleur 'k'.\n",
    "\n",
    "Le diagramme n_clusters = 4 les cluster 0 et 1 on une épaisseur différente des cluster 2 et 3.\n",
    "\n",
    "Le diagramme de silhouette montre que la valeur n_cluster de 5 est un mauvais choix, car tous les points du cluster avec cluster_label=1 et 3 sont des scores de silhouette inférieurs à la moyenne.\n",
    "\n",
    "Le diagramme de silhouette montre que la valeur n_cluster de 6 est un mauvais choix, car tous les points du cluster avec cluster_label=1 et 5 sont des scores de silhouette inférieurs à la moyenne.\n",
    "\n",
    "\n",
    "</span>"
   ]
  },
  {
   "cell_type": "markdown",
   "metadata": {},
   "source": [
    "### <code> <div style=\"color:#F1D405 ;font-weight: bold; ;\">Kmeans </div> </code>"
   ]
  },
  {
   "cell_type": "code",
   "execution_count": 22,
   "metadata": {},
   "outputs": [],
   "source": [
    "def kmeans_cluster():\n",
    "    kmeans = KMeans(n_clusters=3)\n",
    "    kmeans.fit(data_scale)\n",
    "    predictKmeans = kmeans.predict(data_scale)\n",
    "    centers = kmeans.cluster_centers_\n",
    "    return predictKmeans , centers"
   ]
  },
  {
   "cell_type": "code",
   "execution_count": 23,
   "metadata": {},
   "outputs": [],
   "source": [
    "y , centroid = kmeans_cluster()"
   ]
  },
  {
   "cell_type": "markdown",
   "metadata": {},
   "source": [
    "### <code> <div style=\"color:#F1D405 ;font-weight: bold; ;\">Clusters scatter plot 2d </div> </code>"
   ]
  },
  {
   "cell_type": "code",
   "execution_count": 24,
   "metadata": {},
   "outputs": [
    {
     "data": {
      "image/png": "[encoded data removed]",
      "text/plain": [
       "<Figure size 720x576 with 1 Axes>"
      ]
     },
     "metadata": {
      "needs_background": "light"
     },
     "output_type": "display_data"
    }
   ],
   "source": [
    "plt.figure(figsize=(10,8))\n",
    "sns.scatterplot(data=y)\n",
    "plt.show()"
   ]
  },
  {
   "cell_type": "markdown",
   "metadata": {},
   "source": [
    "\n",
    "### <code> <div style=\"color:#F1D405 ;font-weight: bold; ;\">TSNE et visualisation par pays </div> </code>"
   ]
  },
  {
   "cell_type": "code",
   "execution_count": 25,
   "metadata": {},
   "outputs": [],
   "source": [
    "def tsne(col):\n",
    "    model = TSNE(n_components=3, random_state=0)\n",
    "    tab = model.fit_transform(data_scale)\n",
    "    bonheur = {}\n",
    "    bonheur['axe1'] = tab[:,0]\n",
    "    bonheur['axe2'] = tab[:,1]\n",
    "    bonheur['axe3'] = tab[:,2]\n",
    "    bonheur['label'] = y\n",
    "    bonheur[col] = df[col]\n",
    "    return pd.DataFrame(bonheur)"
   ]
  },
  {
   "cell_type": "code",
   "execution_count": 26,
   "metadata": {},
   "outputs": [],
   "source": [
    "def plot_cluster3D(df,col):\n",
    "    fig = px.scatter_3d(df, x='axe1', y='axe2', z='axe3',\n",
    "              color='label',text=col)\n",
    "    fig.show()"
   ]
  },
  {
   "cell_type": "code",
   "execution_count": 27,
   "metadata": {},
   "outputs": [
    {
     "data": {
      "application/vnd.plotly.v1+json": {
       "config": {
        "plotlyServerURL": "https://plot.ly"
       },
       "data": [
        {
         "hovertemplate": "axe1=%{x}<br>axe2=%{y}<br>axe3=%{z}<br>Country=%{text}<br>label=%{marker.color}<extra></extra>",
         "legendgroup": "",
         "marker": {
          "color": [
           2,
           2,
           2,
           2,
           2,
           2,
           2,
           2,
           2,
           2,
           2,
           0,
           0,
           2,
           2,
           2,
           2,
           2,
           2,
           0,
           2,
           2,
           0,
           0,
           0,
           0,
           0,
           0,
           0,
           0,
           0,
           2,
           0,
           0,
           0,
           0,
           0,
           2,
           0,
           0,
           0,
           0,
           0,
           0,
           0,
           0,
           0,
           0,
           0,
           0,
           0,
           0,
           0,
           0,
           0,
           0,
           0,
           0,
           0,
           0,
           0,
           0,
           1,
           0,
           0,
           0,
           0,
           0,
           0,
           1,
           0,
           0,
           0,
           0,
           0,
           0,
           0,
           0,
           0,
           1,
           0,
           0,
           0,
           0,
           0,
           0,
           1,
           0,
           0,
           1,
           0,
           1,
           1,
           1,
           0,
           1,
           1,
           0,
           1,
           0,
           0,
           0,
           1,
           0,
           1,
           0,
           1,
           1,
           0,
           1,
           1,
           1,
           1,
           1,
           1,
           1,
           0,
           1,
           1,
           1,
           1,
           0,
           1,
           1,
           0,
           1,
           1,
           1,
           1,
           1,
           1,
           1,
           1,
           1,
           1,
           1,
           1,
           1,
           1,
           0,
           1,
           1,
           1,
           1,
           1
          ],
          "coloraxis": "coloraxis",
          "symbol": "circle"
         },
         "mode": "markers+text",
         "name": "",
         "scene": "scene",
         "showlegend": false,
         "text": [
          "Finland",
          "Denmark",
          "Norway",
          "Iceland",
          "Netherlands",
          "Switzerland",
          "Sweden",
          "New Zealand",
          "Canada",
          "Austria",
          "Australia",
          "Costa Rica",
          "Israel",
          "Luxembourg",
          "United Kingdom",
          "Ireland",
          "Germany",
          "Belgium",
          "United States",
          "Czech Republic",
          "United Arab Emirates",
          "Malta",
          "Mexico",
          "France",
          "Chile",
          "Guatemala",
          "Saudi Arabia",
          "Spain",
          "Panama",
          "Brazil",
          "Uruguay",
          "Singapore",
          "El Salvador",
          "Italy",
          "Bahrain",
          "Slovakia",
          "Poland",
          "Uzbekistan",
          "Lithuania",
          "Colombia",
          "Slovenia",
          "Nicaragua",
          "Kosovo",
          "Argentina",
          "Romania",
          "Cyprus",
          "Ecuador",
          "Kuwait",
          "Thailand",
          "Latvia",
          "South Korea",
          "Estonia",
          "Jamaica",
          "Mauritius",
          "Japan",
          "Honduras",
          "Kazakhstan",
          "Bolivia",
          "Hungary",
          "Paraguay",
          "Peru",
          "Portugal",
          "Pakistan",
          "Russia",
          "Philippines",
          "Serbia",
          "Moldova",
          "Libya",
          "Montenegro",
          "Tajikistan",
          "Croatia",
          "Dominican Republic",
          "Bosnia and Herzegovina",
          "Turkey",
          "Malaysia",
          "Belarus",
          "Greece",
          "Mongolia",
          "North Macedonia",
          "Nigeria",
          "Kyrgyzstan",
          "Turkmenistan",
          "Algeria",
          "Morocco",
          "Azerbaijan",
          "Lebanon",
          "Indonesia",
          "China",
          "Vietnam",
          "Cameroon",
          "Bulgaria",
          "Ghana",
          "Ivory Coast",
          "Nepal",
          "Jordan",
          "Benin",
          "Congo (Brazzaville)",
          "Gabon",
          "Laos",
          "South Africa",
          "Albania",
          "Venezuela",
          "Cambodia",
          "Palestinian Territories",
          "Senegal",
          "Namibia",
          "Niger",
          "Burkina Faso",
          "Armenia",
          "Iran",
          "Guinea",
          "Georgia",
          "Gambia",
          "Kenya",
          "Mauritania",
          "Mozambique",
          "Tunisia",
          "Bangladesh",
          "Iraq",
          "Mali",
          "Sierra Leone",
          "Sri Lanka",
          "Myanmar",
          "Chad",
          "Ukraine",
          "Ethiopia",
          "Swaziland",
          "Uganda",
          "Egypt",
          "Zambia",
          "Togo",
          "India",
          "Liberia",
          "Comoros",
          "Madagascar",
          "Lesotho",
          "Burundi",
          "Zimbabwe",
          "Haiti",
          "Botswana",
          "Malawi",
          "Yemen",
          "Rwanda",
          "Tanzania",
          "Afghanistan"
         ],
         "type": "scatter3d",
         "x": [
          94.00038146972656,
          -31.784204483032227,
          -11.153665542602539,
          -33.98849868774414,
          -50.24644088745117,
          71.88953399658203,
          18.012420654296875,
          78.4388198852539,
          2.8104500770568848,
          6.873587131500244,
          24.920581817626953,
          43.336891174316406,
          -117.93226623535156,
          -100.78093719482422,
          -93.7987060546875,
          32.26181411743164,
          38.47429275512695,
          39.57997512817383,
          38.82485580444336,
          -67.5849609375,
          -65.78919219970703,
          -37.644344329833984,
          10.918519020080566,
          -25.714187622070312,
          -37.89384078979492,
          -16.044017791748047,
          -154.85910034179688,
          56.053043365478516,
          -83.1058120727539,
          -97.55768585205078,
          11.97114372253418,
          -26.483835220336914,
          62.28000259399414,
          76.222900390625,
          5.680639266967773,
          -103.50628662109375,
          -85.80105590820312,
          -85.05827331542969,
          -0.384168416261673,
          -27.783504486083984,
          -7.200645446777344,
          -65.48481750488281,
          -91.50521850585938,
          -92.38092041015625,
          -54.14250946044922,
          62.09137725830078,
          5.733831882476807,
          -58.29145050048828,
          -46.1851806640625,
          -59.43741989135742,
          -139.42921447753906,
          -23.283672332763672,
          -56.31752014160156,
          -124.74396514892578,
          -32.11290740966797,
          52.11800003051758,
          -93.86901092529297,
          101.26078033447266,
          -40.55352020263672,
          -80.85921478271484,
          -103.80182647705078,
          -34.628353118896484,
          1.7910374402999878,
          -18.135366439819336,
          -91.6450424194336,
          -91.52369689941406,
          115.2505874633789,
          104.0457534790039,
          -85.68395233154297,
          2.896965980529785,
          55.323551177978516,
          -31.951257705688477,
          162.69314575195312,
          -3.049100399017334,
          -68.33065795898438,
          77.81449127197266,
          176.31639099121094,
          122.38520050048828,
          -92.48580169677734,
          -11.997304916381836,
          -9.729125022888184,
          45.08221435546875,
          34.54904556274414,
          -70.0999755859375,
          0.8572918176651001,
          58.56819534301758,
          -73.34358978271484,
          -41.67350769042969,
          -54.65827560424805,
          -149.24986267089844,
          23.947500228881836,
          8.34358024597168,
          111.9916000366211,
          -15.502699851989746,
          -19.54693031311035,
          14.508790969848633,
          -21.61168098449707,
          63.698978424072266,
          33.08775329589844,
          59.672393798828125,
          129.56703186035156,
          120.69678497314453,
          -148.56179809570312,
          115.6513671875,
          103.10115051269531,
          48.13968276977539,
          129.33140563964844,
          98.28617858886719,
          -43.046958923339844,
          13.566195487976074,
          142.4603271484375,
          136.8632354736328,
          98.65830993652344,
          -42.559600830078125,
          43.26038360595703,
          48.76712417602539,
          23.202335357666016,
          14.965835571289062,
          77.9743423461914,
          60.32099533081055,
          64.96820831298828,
          -51.205326080322266,
          1.4732742309570312,
          62.78465270996094,
          -147.47494506835938,
          141.865966796875,
          100.5879898071289,
          97.37300109863281,
          89.05704498291016,
          -153.04197692871094,
          -175.79161071777344,
          -0.5118400454521179,
          0.4988287687301636,
          100.52011108398438,
          -100.92719268798828,
          70.9295425415039,
          150.3605194091797,
          30.31553077697754,
          47.20108413696289,
          74.753662109375,
          -9.025574684143066,
          64.0142593383789,
          -41.9688606262207,
          -48.57282638549805,
          57.351505279541016
         ],
         "y": [
          1.9432100057601929,
          -68.76449584960938,
          -27.15366554260254,
          18.96976661682129,
          -11.976478576660156,
          -42.17189025878906,
          -81.07537078857422,
          20.842798233032227,
          -18.070602416992188,
          20.191436767578125,
          -33.270015716552734,
          -42.791263580322266,
          -63.04059600830078,
          -1.4010037183761597,
          -101.2950210571289,
          -54.3010139465332,
          -7.674168586730957,
          24.00497055053711,
          -40.677799224853516,
          -120.90491485595703,
          -22.723180770874023,
          43.181087493896484,
          79.83307647705078,
          -110.09242248535156,
          163.62583923339844,
          41.65271759033203,
          31.22490119934082,
          119.37020111083984,
          155.4337158203125,
          -63.48516082763672,
          2.7081222534179688,
          -60.327720642089844,
          170.998291015625,
          -157.18411254882812,
          76.77727508544922,
          -61.14282989501953,
          123.80643463134766,
          57.67551040649414,
          -96.4330825805664,
          -82.86751556396484,
          -132.3420867919922,
          37.227569580078125,
          85.7312240600586,
          -1.589848518371582,
          -71.37057495117188,
          -118.10140228271484,
          -143.34609985351562,
          -165.00486755371094,
          97.44511413574219,
          -56.07586669921875,
          -37.25189971923828,
          -181.1056671142578,
          -23.54491424560547,
          4.1958489418029785,
          -138.84994506835938,
          146.92074584960938,
          -110.34258270263672,
          132.4071502685547,
          -78.30554962158203,
          -136.64266967773438,
          -11.45948314666748,
          -108.71080780029297,
          85.5782470703125,
          -70.26396942138672,
          21.697206497192383,
          -89.49679565429688,
          -94.57791137695312,
          145.4154815673828,
          -54.88339614868164,
          82.16356658935547,
          -102.11856842041016,
          -132.46864318847656,
          -92.00112915039062,
          -41.18715286254883,
          121.01854705810547,
          -92.5559310913086,
          -15.608680725097656,
          -117.68555450439453,
          73.07735443115234,
          160.86427307128906,
          105.99026489257812,
          64.66609954833984,
          -66.7642593383789,
          99.0652847290039,
          8.2153959274292,
          -121.44645690917969,
          -17.65839195251465,
          -6.551222324371338,
          25.929399490356445,
          88.2848129272461,
          -69.88806915283203,
          52.19799041748047,
          61.392208099365234,
          120.35712432861328,
          35.27172088623047,
          127.22315979003906,
          93.49122619628906,
          -43.9364128112793,
          113.56338500976562,
          12.456326484680176,
          -52.732269287109375,
          -50.837093353271484,
          -122.09119415283203,
          -3.4447014331817627,
          44.33924865722656,
          -7.7283616065979,
          23.98702621459961,
          60.40343475341797,
          42.70641326904297,
          134.67153930664062,
          9.563056945800781,
          -14.122840881347656,
          2.5570526123046875,
          6.779576301574707,
          40.67960739135742,
          85.58087921142578,
          -17.759199142456055,
          18.324621200561523,
          -31.23021697998047,
          -28.670570373535156,
          37.547237396240234,
          86.92274475097656,
          175.48428344726562,
          47.49131774902344,
          -76.87890625,
          60.490135192871094,
          128.41104125976562,
          16.310209274291992,
          -37.93548583984375,
          30.775827407836914,
          -47.72591781616211,
          55.62058639526367,
          -30.6184024810791,
          81.36669158935547,
          70.60294342041016,
          -77.87126159667969,
          81.64205169677734,
          -71.27086639404297,
          42.32355499267578,
          1.776047945022583,
          11.903743743896484,
          75.13957214355469,
          97.16730499267578,
          44.58207702636719,
          99.56212615966797
         ],
         "z": [
          149.296875,
          127.49778747558594,
          122.14835357666016,
          165.3199005126953,
          105.47784423828125,
          120.83064270019531,
          129.452392578125,
          101.81866455078125,
          76.45677185058594,
          118.83612060546875,
          146.83737182617188,
          199.89193725585938,
          120.97232055664062,
          113.98918914794922,
          -132.8358612060547,
          91.86878204345703,
          105.9891586303711,
          156.01475524902344,
          -189.10877990722656,
          97.27445983886719,
          161.98037719726562,
          129.72279357910156,
          177.1796875,
          -130.9100341796875,
          -35.042877197265625,
          57.05989074707031,
          -53.8615608215332,
          104.50125885009766,
          11.98607063293457,
          56.496578216552734,
          200.72412109375,
          81.08164978027344,
          -59.548458099365234,
          22.125043869018555,
          114.94534301757812,
          -1.5822923183441162,
          -24.285436630249023,
          144.02171325683594,
          -5.254043102264404,
          179.89682006835938,
          87.96283721923828,
          70.6939697265625,
          79.43167114257812,
          -51.479705810546875,
          19.277971267700195,
          75.29795837402344,
          28.519126892089844,
          45.36195755004883,
          104.75768280029297,
          -31.24708366394043,
          -43.084434509277344,
          -6.837008953094482,
          38.122806549072266,
          -105.44515228271484,
          -92.35884857177734,
          -3.116600513458252,
          38.53377151489258,
          -28.77556800842285,
          -72.00363159179688,
          -13.742355346679688,
          34.886878967285156,
          46.29679870605469,
          -49.51430892944336,
          -33.89056396484375,
          -6.550518989562988,
          -46.933837890625,
          17.938373565673828,
          -96.43714904785156,
          -79.87794494628906,
          -1.4151989221572876,
          12.66419792175293,
          -25.52790641784668,
          0.7986482977867126,
          -1.0044548511505127,
          60.51604461669922,
          -70.90911865234375,
          7.501544952392578,
          -32.91637420654297,
          12.629776000976562,
          100.33773040771484,
          59.525611877441406,
          62.19506072998047,
          -48.395423889160156,
          -93.1197509765625,
          6.500357151031494,
          -31.19511604309082,
          -142.46507263183594,
          -28.998313903808594,
          22.2094669342041,
          2.5795137882232666,
          31.200119018554688,
          -77.21113586425781,
          -143.11538696289062,
          9.219191551208496,
          -17.39291000366211,
          -120.82926940917969,
          -95.56822967529297,
          -8.296895027160645,
          26.693302154541016,
          41.04977798461914,
          -101.22282409667969,
          -25.54881477355957,
          8.247343063354492,
          12.378266334533691,
          9.862712860107422,
          13.137803077697754,
          -39.02298355102539,
          -40.49981689453125,
          -57.41472244262695,
          -51.82429885864258,
          -85.43699645996094,
          70.33069610595703,
          -142.05709838867188,
          -103.3958511352539,
          -28.95288848876953,
          -147.807861328125,
          -51.49756622314453,
          -113.81969451904297,
          -58.22394943237305,
          -115.24927520751953,
          -126.05449676513672,
          32.36772537231445,
          34.38511276245117,
          -78.70845031738281,
          -88.64897155761719,
          -68.96823120117188,
          47.53264236450195,
          -92.25794219970703,
          28.611299514770508,
          16.077402114868164,
          16.350492477416992,
          -129.72840881347656,
          -126.80391693115234,
          -93.88040924072266,
          -55.260719299316406,
          -138.9983367919922,
          9.138851165771484,
          -110.77394104003906,
          -189.97886657714844,
          -20.825517654418945,
          -169.4991455078125,
          -7.115866661071777,
          -161.57388305664062,
          -147.0288543701172,
          -79.68602752685547
         ]
        }
       ],
       "layout": {
        "coloraxis": {
         "colorbar": {
          "title": {
           "text": "label"
          }
         },
         "colorscale": [
          [
           0,
           "#0d0887"
          ],
          [
           0.1111111111111111,
           "#46039f"
          ],
          [
           0.2222222222222222,
           "#7201a8"
          ],
          [
           0.3333333333333333,
           "#9c179e"
          ],
          [
           0.4444444444444444,
           "#bd3786"
          ],
          [
           0.5555555555555556,
           "#d8576b"
          ],
          [
           0.6666666666666666,
           "#ed7953"
          ],
          [
           0.7777777777777778,
           "#fb9f3a"
          ],
          [
           0.8888888888888888,
           "#fdca26"
          ],
          [
           1,
           "#f0f921"
          ]
         ]
        },
        "legend": {
         "tracegroupgap": 0
        },
        "margin": {
         "t": 60
        },
        "scene": {
         "domain": {
          "x": [
           0,
           1
          ],
          "y": [
           0,
           1
          ]
         },
         "xaxis": {
          "title": {
           "text": "axe1"
          }
         },
         "yaxis": {
          "title": {
           "text": "axe2"
          }
         },
         "zaxis": {
          "title": {
           "text": "axe3"
          }
         }
        },
        "template": {
         "data": {
          "bar": [
           {
            "error_x": {
             "color": "#2a3f5f"
            },
            "error_y": {
             "color": "#2a3f5f"
            },
            "marker": {
             "line": {
              "color": "#E5ECF6",
              "width": 0.5
             },
             "pattern": {
              "fillmode": "overlay",
              "size": 10,
              "solidity": 0.2
             }
            },
            "type": "bar"
           }
          ],
          "barpolar": [
           {
            "marker": {
             "line": {
              "color": "#E5ECF6",
              "width": 0.5
             },
             "pattern": {
              "fillmode": "overlay",
              "size": 10,
              "solidity": 0.2
             }
            },
            "type": "barpolar"
           }
          ],
          "carpet": [
           {
            "aaxis": {
             "endlinecolor": "#2a3f5f",
             "gridcolor": "white",
             "linecolor": "white",
             "minorgridcolor": "white",
             "startlinecolor": "#2a3f5f"
            },
            "baxis": {
             "endlinecolor": "#2a3f5f",
             "gridcolor": "white",
             "linecolor": "white",
             "minorgridcolor": "white",
             "startlinecolor": "#2a3f5f"
            },
            "type": "carpet"
           }
          ],
          "choropleth": [
           {
            "colorbar": {
             "outlinewidth": 0,
             "ticks": ""
            },
            "type": "choropleth"
           }
          ],
          "contour": [
           {
            "colorbar": {
             "outlinewidth": 0,
             "ticks": ""
            },
            "colorscale": [
             [
              0,
              "#0d0887"
             ],
             [
              0.1111111111111111,
              "#46039f"
             ],
             [
              0.2222222222222222,
              "#7201a8"
             ],
             [
              0.3333333333333333,
              "#9c179e"
             ],
             [
              0.4444444444444444,
              "#bd3786"
             ],
             [
              0.5555555555555556,
              "#d8576b"
             ],
             [
              0.6666666666666666,
              "#ed7953"
             ],
             [
              0.7777777777777778,
              "#fb9f3a"
             ],
             [
              0.8888888888888888,
              "#fdca26"
             ],
             [
              1,
              "#f0f921"
             ]
            ],
            "type": "contour"
           }
          ],
          "contourcarpet": [
           {
            "colorbar": {
             "outlinewidth": 0,
             "ticks": ""
            },
            "type": "contourcarpet"
           }
          ],
          "heatmap": [
           {
            "colorbar": {
             "outlinewidth": 0,
             "ticks": ""
            },
            "colorscale": [
             [
              0,
              "#0d0887"
             ],
             [
              0.1111111111111111,
              "#46039f"
             ],
             [
              0.2222222222222222,
              "#7201a8"
             ],
             [
              0.3333333333333333,
              "#9c179e"
             ],
             [
              0.4444444444444444,
              "#bd3786"
             ],
             [
              0.5555555555555556,
              "#d8576b"
             ],
             [
              0.6666666666666666,
              "#ed7953"
             ],
             [
              0.7777777777777778,
              "#fb9f3a"
             ],
             [
              0.8888888888888888,
              "#fdca26"
             ],
             [
              1,
              "#f0f921"
             ]
            ],
            "type": "heatmap"
           }
          ],
          "heatmapgl": [
           {
            "colorbar": {
             "outlinewidth": 0,
             "ticks": ""
            },
            "colorscale": [
             [
              0,
              "#0d0887"
             ],
             [
              0.1111111111111111,
              "#46039f"
             ],
             [
              0.2222222222222222,
              "#7201a8"
             ],
             [
              0.3333333333333333,
              "#9c179e"
             ],
             [
              0.4444444444444444,
              "#bd3786"
             ],
             [
              0.5555555555555556,
              "#d8576b"
             ],
             [
              0.6666666666666666,
              "#ed7953"
             ],
             [
              0.7777777777777778,
              "#fb9f3a"
             ],
             [
              0.8888888888888888,
              "#fdca26"
             ],
             [
              1,
              "#f0f921"
             ]
            ],
            "type": "heatmapgl"
           }
          ],
          "histogram": [
           {
            "marker": {
             "pattern": {
              "fillmode": "overlay",
              "size": 10,
              "solidity": 0.2
             }
            },
            "type": "histogram"
           }
          ],
          "histogram2d": [
           {
            "colorbar": {
             "outlinewidth": 0,
             "ticks": ""
            },
            "colorscale": [
             [
              0,
              "#0d0887"
             ],
             [
              0.1111111111111111,
              "#46039f"
             ],
             [
              0.2222222222222222,
              "#7201a8"
             ],
             [
              0.3333333333333333,
              "#9c179e"
             ],
             [
              0.4444444444444444,
              "#bd3786"
             ],
             [
              0.5555555555555556,
              "#d8576b"
             ],
             [
              0.6666666666666666,
              "#ed7953"
             ],
             [
              0.7777777777777778,
              "#fb9f3a"
             ],
             [
              0.8888888888888888,
              "#fdca26"
             ],
             [
              1,
              "#f0f921"
             ]
            ],
            "type": "histogram2d"
           }
          ],
          "histogram2dcontour": [
           {
            "colorbar": {
             "outlinewidth": 0,
             "ticks": ""
            },
            "colorscale": [
             [
              0,
              "#0d0887"
             ],
             [
              0.1111111111111111,
              "#46039f"
             ],
             [
              0.2222222222222222,
              "#7201a8"
             ],
             [
              0.3333333333333333,
              "#9c179e"
             ],
             [
              0.4444444444444444,
              "#bd3786"
             ],
             [
              0.5555555555555556,
              "#d8576b"
             ],
             [
              0.6666666666666666,
              "#ed7953"
             ],
             [
              0.7777777777777778,
              "#fb9f3a"
             ],
             [
              0.8888888888888888,
              "#fdca26"
             ],
             [
              1,
              "#f0f921"
             ]
            ],
            "type": "histogram2dcontour"
           }
          ],
          "mesh3d": [
           {
            "colorbar": {
             "outlinewidth": 0,
             "ticks": ""
            },
            "type": "mesh3d"
           }
          ],
          "parcoords": [
           {
            "line": {
             "colorbar": {
              "outlinewidth": 0,
              "ticks": ""
             }
            },
            "type": "parcoords"
           }
          ],
          "pie": [
           {
            "automargin": true,
            "type": "pie"
           }
          ],
          "scatter": [
           {
            "marker": {
             "colorbar": {
              "outlinewidth": 0,
              "ticks": ""
             }
            },
            "type": "scatter"
           }
          ],
          "scatter3d": [
           {
            "line": {
             "colorbar": {
              "outlinewidth": 0,
              "ticks": ""
             }
            },
            "marker": {
             "colorbar": {
              "outlinewidth": 0,
              "ticks": ""
             }
            },
            "type": "scatter3d"
           }
          ],
          "scattercarpet": [
           {
            "marker": {
             "colorbar": {
              "outlinewidth": 0,
              "ticks": ""
             }
            },
            "type": "scattercarpet"
           }
          ],
          "scattergeo": [
           {
            "marker": {
             "colorbar": {
              "outlinewidth": 0,
              "ticks": ""
             }
            },
            "type": "scattergeo"
           }
          ],
          "scattergl": [
           {
            "marker": {
             "colorbar": {
              "outlinewidth": 0,
              "ticks": ""
             }
            },
            "type": "scattergl"
           }
          ],
          "scattermapbox": [
           {
            "marker": {
             "colorbar": {
              "outlinewidth": 0,
              "ticks": ""
             }
            },
            "type": "scattermapbox"
           }
          ],
          "scatterpolar": [
           {
            "marker": {
             "colorbar": {
              "outlinewidth": 0,
              "ticks": ""
             }
            },
            "type": "scatterpolar"
           }
          ],
          "scatterpolargl": [
           {
            "marker": {
             "colorbar": {
              "outlinewidth": 0,
              "ticks": ""
             }
            },
            "type": "scatterpolargl"
           }
          ],
          "scatterternary": [
           {
            "marker": {
             "colorbar": {
              "outlinewidth": 0,
              "ticks": ""
             }
            },
            "type": "scatterternary"
           }
          ],
          "surface": [
           {
            "colorbar": {
             "outlinewidth": 0,
             "ticks": ""
            },
            "colorscale": [
             [
              0,
              "#0d0887"
             ],
             [
              0.1111111111111111,
              "#46039f"
             ],
             [
              0.2222222222222222,
              "#7201a8"
             ],
             [
              0.3333333333333333,
              "#9c179e"
             ],
             [
              0.4444444444444444,
              "#bd3786"
             ],
             [
              0.5555555555555556,
              "#d8576b"
             ],
             [
              0.6666666666666666,
              "#ed7953"
             ],
             [
              0.7777777777777778,
              "#fb9f3a"
             ],
             [
              0.8888888888888888,
              "#fdca26"
             ],
             [
              1,
              "#f0f921"
             ]
            ],
            "type": "surface"
           }
          ],
          "table": [
           {
            "cells": {
             "fill": {
              "color": "#EBF0F8"
             },
             "line": {
              "color": "white"
             }
            },
            "header": {
             "fill": {
              "color": "#C8D4E3"
             },
             "line": {
              "color": "white"
             }
            },
            "type": "table"
           }
          ]
         },
         "layout": {
          "annotationdefaults": {
           "arrowcolor": "#2a3f5f",
           "arrowhead": 0,
           "arrowwidth": 1
          },
          "autotypenumbers": "strict",
          "coloraxis": {
           "colorbar": {
            "outlinewidth": 0,
            "ticks": ""
           }
          },
          "colorscale": {
           "diverging": [
            [
             0,
             "#8e0152"
            ],
            [
             0.1,
             "#c51b7d"
            ],
            [
             0.2,
             "#de77ae"
            ],
            [
             0.3,
             "#f1b6da"
            ],
            [
             0.4,
             "#fde0ef"
            ],
            [
             0.5,
             "#f7f7f7"
            ],
            [
             0.6,
             "#e6f5d0"
            ],
            [
             0.7,
             "#b8e186"
            ],
            [
             0.8,
             "#7fbc41"
            ],
            [
             0.9,
             "#4d9221"
            ],
            [
             1,
             "#276419"
            ]
           ],
           "sequential": [
            [
             0,
             "#0d0887"
            ],
            [
             0.1111111111111111,
             "#46039f"
            ],
            [
             0.2222222222222222,
             "#7201a8"
            ],
            [
             0.3333333333333333,
             "#9c179e"
            ],
            [
             0.4444444444444444,
             "#bd3786"
            ],
            [
             0.5555555555555556,
             "#d8576b"
            ],
            [
             0.6666666666666666,
             "#ed7953"
            ],
            [
             0.7777777777777778,
             "#fb9f3a"
            ],
            [
             0.8888888888888888,
             "#fdca26"
            ],
            [
             1,
             "#f0f921"
            ]
           ],
           "sequentialminus": [
            [
             0,
             "#0d0887"
            ],
            [
             0.1111111111111111,
             "#46039f"
            ],
            [
             0.2222222222222222,
             "#7201a8"
            ],
            [
             0.3333333333333333,
             "#9c179e"
            ],
            [
             0.4444444444444444,
             "#bd3786"
            ],
            [
             0.5555555555555556,
             "#d8576b"
            ],
            [
             0.6666666666666666,
             "#ed7953"
            ],
            [
             0.7777777777777778,
             "#fb9f3a"
            ],
            [
             0.8888888888888888,
             "#fdca26"
            ],
            [
             1,
             "#f0f921"
            ]
           ]
          },
          "colorway": [
           "#636efa",
           "#EF553B",
           "#00cc96",
           "#ab63fa",
           "#FFA15A",
           "#19d3f3",
           "#FF6692",
           "#B6E880",
           "#FF97FF",
           "#FECB52"
          ],
          "font": {
           "color": "#2a3f5f"
          },
          "geo": {
           "bgcolor": "white",
           "lakecolor": "white",
           "landcolor": "#E5ECF6",
           "showlakes": true,
           "showland": true,
           "subunitcolor": "white"
          },
          "hoverlabel": {
           "align": "left"
          },
          "hovermode": "closest",
          "mapbox": {
           "style": "light"
          },
          "paper_bgcolor": "white",
          "plot_bgcolor": "#E5ECF6",
          "polar": {
           "angularaxis": {
            "gridcolor": "white",
            "linecolor": "white",
            "ticks": ""
           },
           "bgcolor": "#E5ECF6",
           "radialaxis": {
            "gridcolor": "white",
            "linecolor": "white",
            "ticks": ""
           }
          },
          "scene": {
           "xaxis": {
            "backgroundcolor": "#E5ECF6",
            "gridcolor": "white",
            "gridwidth": 2,
            "linecolor": "white",
            "showbackground": true,
            "ticks": "",
            "zerolinecolor": "white"
           },
           "yaxis": {
            "backgroundcolor": "#E5ECF6",
            "gridcolor": "white",
            "gridwidth": 2,
            "linecolor": "white",
            "showbackground": true,
            "ticks": "",
            "zerolinecolor": "white"
           },
           "zaxis": {
            "backgroundcolor": "#E5ECF6",
            "gridcolor": "white",
            "gridwidth": 2,
            "linecolor": "white",
            "showbackground": true,
            "ticks": "",
            "zerolinecolor": "white"
           }
          },
          "shapedefaults": {
           "line": {
            "color": "#2a3f5f"
           }
          },
          "ternary": {
           "aaxis": {
            "gridcolor": "white",
            "linecolor": "white",
            "ticks": ""
           },
           "baxis": {
            "gridcolor": "white",
            "linecolor": "white",
            "ticks": ""
           },
           "bgcolor": "#E5ECF6",
           "caxis": {
            "gridcolor": "white",
            "linecolor": "white",
            "ticks": ""
           }
          },
          "title": {
           "x": 0.05
          },
          "xaxis": {
           "automargin": true,
           "gridcolor": "white",
           "linecolor": "white",
           "ticks": "",
           "title": {
            "standoff": 15
           },
           "zerolinecolor": "white",
           "zerolinewidth": 2
          },
          "yaxis": {
           "automargin": true,
           "gridcolor": "white",
           "linecolor": "white",
           "ticks": "",
           "title": {
            "standoff": 15
           },
           "zerolinecolor": "white",
           "zerolinewidth": 2
          }
         }
        }
       }
      },
      "text/html": [
       "<div>                            <div id=\"d0785f23-3f36-4810-8f63-6feaf8d58db8\" class=\"plotly-graph-div\" style=\"height:525px; width:100%;\"></div>            <script type=\"text/javascript\">                require([\"plotly\"], function(Plotly) {                    window.PLOTLYENV=window.PLOTLYENV || {};                                    if (document.getElementById(\"d0785f23-3f36-4810-8f63-6feaf8d58db8\")) {                    Plotly.newPlot(                        \"d0785f23-3f36-4810-8f63-6feaf8d58db8\",                        [{\"hovertemplate\":\"axe1=%{x}<br>axe2=%{y}<br>axe3=%{z}<br>Country=%{text}<br>label=%{marker.color}<extra></extra>\",\"legendgroup\":\"\",\"marker\":{\"color\":[2,2,2,2,2,2,2,2,2,2,2,0,0,2,2,2,2,2,2,0,2,2,0,0,0,0,0,0,0,0,0,2,0,0,0,0,0,2,0,0,0,0,0,0,0,0,0,0,0,0,0,0,0,0,0,0,0,0,0,0,0,0,1,0,0,0,0,0,0,1,0,0,0,0,0,0,0,0,0,1,0,0,0,0,0,0,1,0,0,1,0,1,1,1,0,1,1,0,1,0,0,0,1,0,1,0,1,1,0,1,1,1,1,1,1,1,0,1,1,1,1,0,1,1,0,1,1,1,1,1,1,1,1,1,1,1,1,1,1,0,1,1,1,1,1],\"coloraxis\":\"coloraxis\",\"symbol\":\"circle\"},\"mode\":\"markers+text\",\"name\":\"\",\"scene\":\"scene\",\"showlegend\":false,\"text\":[\"Finland\",\"Denmark\",\"Norway\",\"Iceland\",\"Netherlands\",\"Switzerland\",\"Sweden\",\"New Zealand\",\"Canada\",\"Austria\",\"Australia\",\"Costa Rica\",\"Israel\",\"Luxembourg\",\"United Kingdom\",\"Ireland\",\"Germany\",\"Belgium\",\"United States\",\"Czech Republic\",\"United Arab Emirates\",\"Malta\",\"Mexico\",\"France\",\"Chile\",\"Guatemala\",\"Saudi Arabia\",\"Spain\",\"Panama\",\"Brazil\",\"Uruguay\",\"Singapore\",\"El Salvador\",\"Italy\",\"Bahrain\",\"Slovakia\",\"Poland\",\"Uzbekistan\",\"Lithuania\",\"Colombia\",\"Slovenia\",\"Nicaragua\",\"Kosovo\",\"Argentina\",\"Romania\",\"Cyprus\",\"Ecuador\",\"Kuwait\",\"Thailand\",\"Latvia\",\"South Korea\",\"Estonia\",\"Jamaica\",\"Mauritius\",\"Japan\",\"Honduras\",\"Kazakhstan\",\"Bolivia\",\"Hungary\",\"Paraguay\",\"Peru\",\"Portugal\",\"Pakistan\",\"Russia\",\"Philippines\",\"Serbia\",\"Moldova\",\"Libya\",\"Montenegro\",\"Tajikistan\",\"Croatia\",\"Dominican Republic\",\"Bosnia and Herzegovina\",\"Turkey\",\"Malaysia\",\"Belarus\",\"Greece\",\"Mongolia\",\"North Macedonia\",\"Nigeria\",\"Kyrgyzstan\",\"Turkmenistan\",\"Algeria\",\"Morocco\",\"Azerbaijan\",\"Lebanon\",\"Indonesia\",\"China\",\"Vietnam\",\"Cameroon\",\"Bulgaria\",\"Ghana\",\"Ivory Coast\",\"Nepal\",\"Jordan\",\"Benin\",\"Congo (Brazzaville)\",\"Gabon\",\"Laos\",\"South Africa\",\"Albania\",\"Venezuela\",\"Cambodia\",\"Palestinian Territories\",\"Senegal\",\"Namibia\",\"Niger\",\"Burkina Faso\",\"Armenia\",\"Iran\",\"Guinea\",\"Georgia\",\"Gambia\",\"Kenya\",\"Mauritania\",\"Mozambique\",\"Tunisia\",\"Bangladesh\",\"Iraq\",\"Mali\",\"Sierra Leone\",\"Sri Lanka\",\"Myanmar\",\"Chad\",\"Ukraine\",\"Ethiopia\",\"Swaziland\",\"Uganda\",\"Egypt\",\"Zambia\",\"Togo\",\"India\",\"Liberia\",\"Comoros\",\"Madagascar\",\"Lesotho\",\"Burundi\",\"Zimbabwe\",\"Haiti\",\"Botswana\",\"Malawi\",\"Yemen\",\"Rwanda\",\"Tanzania\",\"Afghanistan\"],\"x\":[94.00038146972656,-31.784204483032227,-11.153665542602539,-33.98849868774414,-50.24644088745117,71.88953399658203,18.012420654296875,78.4388198852539,2.8104500770568848,6.873587131500244,24.920581817626953,43.336891174316406,-117.93226623535156,-100.78093719482422,-93.7987060546875,32.26181411743164,38.47429275512695,39.57997512817383,38.82485580444336,-67.5849609375,-65.78919219970703,-37.644344329833984,10.918519020080566,-25.714187622070312,-37.89384078979492,-16.044017791748047,-154.85910034179688,56.053043365478516,-83.1058120727539,-97.55768585205078,11.97114372253418,-26.483835220336914,62.28000259399414,76.222900390625,5.680639266967773,-103.50628662109375,-85.80105590820312,-85.05827331542969,-0.384168416261673,-27.783504486083984,-7.200645446777344,-65.48481750488281,-91.50521850585938,-92.38092041015625,-54.14250946044922,62.09137725830078,5.733831882476807,-58.29145050048828,-46.1851806640625,-59.43741989135742,-139.42921447753906,-23.283672332763672,-56.31752014160156,-124.74396514892578,-32.11290740966797,52.11800003051758,-93.86901092529297,101.26078033447266,-40.55352020263672,-80.85921478271484,-103.80182647705078,-34.628353118896484,1.7910374402999878,-18.135366439819336,-91.6450424194336,-91.52369689941406,115.2505874633789,104.0457534790039,-85.68395233154297,2.896965980529785,55.323551177978516,-31.951257705688477,162.69314575195312,-3.049100399017334,-68.33065795898438,77.81449127197266,176.31639099121094,122.38520050048828,-92.48580169677734,-11.997304916381836,-9.729125022888184,45.08221435546875,34.54904556274414,-70.0999755859375,0.8572918176651001,58.56819534301758,-73.34358978271484,-41.67350769042969,-54.65827560424805,-149.24986267089844,23.947500228881836,8.34358024597168,111.9916000366211,-15.502699851989746,-19.54693031311035,14.508790969848633,-21.61168098449707,63.698978424072266,33.08775329589844,59.672393798828125,129.56703186035156,120.69678497314453,-148.56179809570312,115.6513671875,103.10115051269531,48.13968276977539,129.33140563964844,98.28617858886719,-43.046958923339844,13.566195487976074,142.4603271484375,136.8632354736328,98.65830993652344,-42.559600830078125,43.26038360595703,48.76712417602539,23.202335357666016,14.965835571289062,77.9743423461914,60.32099533081055,64.96820831298828,-51.205326080322266,1.4732742309570312,62.78465270996094,-147.47494506835938,141.865966796875,100.5879898071289,97.37300109863281,89.05704498291016,-153.04197692871094,-175.79161071777344,-0.5118400454521179,0.4988287687301636,100.52011108398438,-100.92719268798828,70.9295425415039,150.3605194091797,30.31553077697754,47.20108413696289,74.753662109375,-9.025574684143066,64.0142593383789,-41.9688606262207,-48.57282638549805,57.351505279541016],\"y\":[1.9432100057601929,-68.76449584960938,-27.15366554260254,18.96976661682129,-11.976478576660156,-42.17189025878906,-81.07537078857422,20.842798233032227,-18.070602416992188,20.191436767578125,-33.270015716552734,-42.791263580322266,-63.04059600830078,-1.4010037183761597,-101.2950210571289,-54.3010139465332,-7.674168586730957,24.00497055053711,-40.677799224853516,-120.90491485595703,-22.723180770874023,43.181087493896484,79.83307647705078,-110.09242248535156,163.62583923339844,41.65271759033203,31.22490119934082,119.37020111083984,155.4337158203125,-63.48516082763672,2.7081222534179688,-60.327720642089844,170.998291015625,-157.18411254882812,76.77727508544922,-61.14282989501953,123.80643463134766,57.67551040649414,-96.4330825805664,-82.86751556396484,-132.3420867919922,37.227569580078125,85.7312240600586,-1.589848518371582,-71.37057495117188,-118.10140228271484,-143.34609985351562,-165.00486755371094,97.44511413574219,-56.07586669921875,-37.25189971923828,-181.1056671142578,-23.54491424560547,4.1958489418029785,-138.84994506835938,146.92074584960938,-110.34258270263672,132.4071502685547,-78.30554962158203,-136.64266967773438,-11.45948314666748,-108.71080780029297,85.5782470703125,-70.26396942138672,21.697206497192383,-89.49679565429688,-94.57791137695312,145.4154815673828,-54.88339614868164,82.16356658935547,-102.11856842041016,-132.46864318847656,-92.00112915039062,-41.18715286254883,121.01854705810547,-92.5559310913086,-15.608680725097656,-117.68555450439453,73.07735443115234,160.86427307128906,105.99026489257812,64.66609954833984,-66.7642593383789,99.0652847290039,8.2153959274292,-121.44645690917969,-17.65839195251465,-6.551222324371338,25.929399490356445,88.2848129272461,-69.88806915283203,52.19799041748047,61.392208099365234,120.35712432861328,35.27172088623047,127.22315979003906,93.49122619628906,-43.9364128112793,113.56338500976562,12.456326484680176,-52.732269287109375,-50.837093353271484,-122.09119415283203,-3.4447014331817627,44.33924865722656,-7.7283616065979,23.98702621459961,60.40343475341797,42.70641326904297,134.67153930664062,9.563056945800781,-14.122840881347656,2.5570526123046875,6.779576301574707,40.67960739135742,85.58087921142578,-17.759199142456055,18.324621200561523,-31.23021697998047,-28.670570373535156,37.547237396240234,86.92274475097656,175.48428344726562,47.49131774902344,-76.87890625,60.490135192871094,128.41104125976562,16.310209274291992,-37.93548583984375,30.775827407836914,-47.72591781616211,55.62058639526367,-30.6184024810791,81.36669158935547,70.60294342041016,-77.87126159667969,81.64205169677734,-71.27086639404297,42.32355499267578,1.776047945022583,11.903743743896484,75.13957214355469,97.16730499267578,44.58207702636719,99.56212615966797],\"z\":[149.296875,127.49778747558594,122.14835357666016,165.3199005126953,105.47784423828125,120.83064270019531,129.452392578125,101.81866455078125,76.45677185058594,118.83612060546875,146.83737182617188,199.89193725585938,120.97232055664062,113.98918914794922,-132.8358612060547,91.86878204345703,105.9891586303711,156.01475524902344,-189.10877990722656,97.27445983886719,161.98037719726562,129.72279357910156,177.1796875,-130.9100341796875,-35.042877197265625,57.05989074707031,-53.8615608215332,104.50125885009766,11.98607063293457,56.496578216552734,200.72412109375,81.08164978027344,-59.548458099365234,22.125043869018555,114.94534301757812,-1.5822923183441162,-24.285436630249023,144.02171325683594,-5.254043102264404,179.89682006835938,87.96283721923828,70.6939697265625,79.43167114257812,-51.479705810546875,19.277971267700195,75.29795837402344,28.519126892089844,45.36195755004883,104.75768280029297,-31.24708366394043,-43.084434509277344,-6.837008953094482,38.122806549072266,-105.44515228271484,-92.35884857177734,-3.116600513458252,38.53377151489258,-28.77556800842285,-72.00363159179688,-13.742355346679688,34.886878967285156,46.29679870605469,-49.51430892944336,-33.89056396484375,-6.550518989562988,-46.933837890625,17.938373565673828,-96.43714904785156,-79.87794494628906,-1.4151989221572876,12.66419792175293,-25.52790641784668,0.7986482977867126,-1.0044548511505127,60.51604461669922,-70.90911865234375,7.501544952392578,-32.91637420654297,12.629776000976562,100.33773040771484,59.525611877441406,62.19506072998047,-48.395423889160156,-93.1197509765625,6.500357151031494,-31.19511604309082,-142.46507263183594,-28.998313903808594,22.2094669342041,2.5795137882232666,31.200119018554688,-77.21113586425781,-143.11538696289062,9.219191551208496,-17.39291000366211,-120.82926940917969,-95.56822967529297,-8.296895027160645,26.693302154541016,41.04977798461914,-101.22282409667969,-25.54881477355957,8.247343063354492,12.378266334533691,9.862712860107422,13.137803077697754,-39.02298355102539,-40.49981689453125,-57.41472244262695,-51.82429885864258,-85.43699645996094,70.33069610595703,-142.05709838867188,-103.3958511352539,-28.95288848876953,-147.807861328125,-51.49756622314453,-113.81969451904297,-58.22394943237305,-115.24927520751953,-126.05449676513672,32.36772537231445,34.38511276245117,-78.70845031738281,-88.64897155761719,-68.96823120117188,47.53264236450195,-92.25794219970703,28.611299514770508,16.077402114868164,16.350492477416992,-129.72840881347656,-126.80391693115234,-93.88040924072266,-55.260719299316406,-138.9983367919922,9.138851165771484,-110.77394104003906,-189.97886657714844,-20.825517654418945,-169.4991455078125,-7.115866661071777,-161.57388305664062,-147.0288543701172,-79.68602752685547],\"type\":\"scatter3d\"}],                        {\"template\":{\"data\":{\"bar\":[{\"error_x\":{\"color\":\"#2a3f5f\"},\"error_y\":{\"color\":\"#2a3f5f\"},\"marker\":{\"line\":{\"color\":\"#E5ECF6\",\"width\":0.5},\"pattern\":{\"fillmode\":\"overlay\",\"size\":10,\"solidity\":0.2}},\"type\":\"bar\"}],\"barpolar\":[{\"marker\":{\"line\":{\"color\":\"#E5ECF6\",\"width\":0.5},\"pattern\":{\"fillmode\":\"overlay\",\"size\":10,\"solidity\":0.2}},\"type\":\"barpolar\"}],\"carpet\":[{\"aaxis\":{\"endlinecolor\":\"#2a3f5f\",\"gridcolor\":\"white\",\"linecolor\":\"white\",\"minorgridcolor\":\"white\",\"startlinecolor\":\"#2a3f5f\"},\"baxis\":{\"endlinecolor\":\"#2a3f5f\",\"gridcolor\":\"white\",\"linecolor\":\"white\",\"minorgridcolor\":\"white\",\"startlinecolor\":\"#2a3f5f\"},\"type\":\"carpet\"}],\"choropleth\":[{\"colorbar\":{\"outlinewidth\":0,\"ticks\":\"\"},\"type\":\"choropleth\"}],\"contour\":[{\"colorbar\":{\"outlinewidth\":0,\"ticks\":\"\"},\"colorscale\":[[0.0,\"#0d0887\"],[0.1111111111111111,\"#46039f\"],[0.2222222222222222,\"#7201a8\"],[0.3333333333333333,\"#9c179e\"],[0.4444444444444444,\"#bd3786\"],[0.5555555555555556,\"#d8576b\"],[0.6666666666666666,\"#ed7953\"],[0.7777777777777778,\"#fb9f3a\"],[0.8888888888888888,\"#fdca26\"],[1.0,\"#f0f921\"]],\"type\":\"contour\"}],\"contourcarpet\":[{\"colorbar\":{\"outlinewidth\":0,\"ticks\":\"\"},\"type\":\"contourcarpet\"}],\"heatmap\":[{\"colorbar\":{\"outlinewidth\":0,\"ticks\":\"\"},\"colorscale\":[[0.0,\"#0d0887\"],[0.1111111111111111,\"#46039f\"],[0.2222222222222222,\"#7201a8\"],[0.3333333333333333,\"#9c179e\"],[0.4444444444444444,\"#bd3786\"],[0.5555555555555556,\"#d8576b\"],[0.6666666666666666,\"#ed7953\"],[0.7777777777777778,\"#fb9f3a\"],[0.8888888888888888,\"#fdca26\"],[1.0,\"#f0f921\"]],\"type\":\"heatmap\"}],\"heatmapgl\":[{\"colorbar\":{\"outlinewidth\":0,\"ticks\":\"\"},\"colorscale\":[[0.0,\"#0d0887\"],[0.1111111111111111,\"#46039f\"],[0.2222222222222222,\"#7201a8\"],[0.3333333333333333,\"#9c179e\"],[0.4444444444444444,\"#bd3786\"],[0.5555555555555556,\"#d8576b\"],[0.6666666666666666,\"#ed7953\"],[0.7777777777777778,\"#fb9f3a\"],[0.8888888888888888,\"#fdca26\"],[1.0,\"#f0f921\"]],\"type\":\"heatmapgl\"}],\"histogram\":[{\"marker\":{\"pattern\":{\"fillmode\":\"overlay\",\"size\":10,\"solidity\":0.2}},\"type\":\"histogram\"}],\"histogram2d\":[{\"colorbar\":{\"outlinewidth\":0,\"ticks\":\"\"},\"colorscale\":[[0.0,\"#0d0887\"],[0.1111111111111111,\"#46039f\"],[0.2222222222222222,\"#7201a8\"],[0.3333333333333333,\"#9c179e\"],[0.4444444444444444,\"#bd3786\"],[0.5555555555555556,\"#d8576b\"],[0.6666666666666666,\"#ed7953\"],[0.7777777777777778,\"#fb9f3a\"],[0.8888888888888888,\"#fdca26\"],[1.0,\"#f0f921\"]],\"type\":\"histogram2d\"}],\"histogram2dcontour\":[{\"colorbar\":{\"outlinewidth\":0,\"ticks\":\"\"},\"colorscale\":[[0.0,\"#0d0887\"],[0.1111111111111111,\"#46039f\"],[0.2222222222222222,\"#7201a8\"],[0.3333333333333333,\"#9c179e\"],[0.4444444444444444,\"#bd3786\"],[0.5555555555555556,\"#d8576b\"],[0.6666666666666666,\"#ed7953\"],[0.7777777777777778,\"#fb9f3a\"],[0.8888888888888888,\"#fdca26\"],[1.0,\"#f0f921\"]],\"type\":\"histogram2dcontour\"}],\"mesh3d\":[{\"colorbar\":{\"outlinewidth\":0,\"ticks\":\"\"},\"type\":\"mesh3d\"}],\"parcoords\":[{\"line\":{\"colorbar\":{\"outlinewidth\":0,\"ticks\":\"\"}},\"type\":\"parcoords\"}],\"pie\":[{\"automargin\":true,\"type\":\"pie\"}],\"scatter\":[{\"marker\":{\"colorbar\":{\"outlinewidth\":0,\"ticks\":\"\"}},\"type\":\"scatter\"}],\"scatter3d\":[{\"line\":{\"colorbar\":{\"outlinewidth\":0,\"ticks\":\"\"}},\"marker\":{\"colorbar\":{\"outlinewidth\":0,\"ticks\":\"\"}},\"type\":\"scatter3d\"}],\"scattercarpet\":[{\"marker\":{\"colorbar\":{\"outlinewidth\":0,\"ticks\":\"\"}},\"type\":\"scattercarpet\"}],\"scattergeo\":[{\"marker\":{\"colorbar\":{\"outlinewidth\":0,\"ticks\":\"\"}},\"type\":\"scattergeo\"}],\"scattergl\":[{\"marker\":{\"colorbar\":{\"outlinewidth\":0,\"ticks\":\"\"}},\"type\":\"scattergl\"}],\"scattermapbox\":[{\"marker\":{\"colorbar\":{\"outlinewidth\":0,\"ticks\":\"\"}},\"type\":\"scattermapbox\"}],\"scatterpolar\":[{\"marker\":{\"colorbar\":{\"outlinewidth\":0,\"ticks\":\"\"}},\"type\":\"scatterpolar\"}],\"scatterpolargl\":[{\"marker\":{\"colorbar\":{\"outlinewidth\":0,\"ticks\":\"\"}},\"type\":\"scatterpolargl\"}],\"scatterternary\":[{\"marker\":{\"colorbar\":{\"outlinewidth\":0,\"ticks\":\"\"}},\"type\":\"scatterternary\"}],\"surface\":[{\"colorbar\":{\"outlinewidth\":0,\"ticks\":\"\"},\"colorscale\":[[0.0,\"#0d0887\"],[0.1111111111111111,\"#46039f\"],[0.2222222222222222,\"#7201a8\"],[0.3333333333333333,\"#9c179e\"],[0.4444444444444444,\"#bd3786\"],[0.5555555555555556,\"#d8576b\"],[0.6666666666666666,\"#ed7953\"],[0.7777777777777778,\"#fb9f3a\"],[0.8888888888888888,\"#fdca26\"],[1.0,\"#f0f921\"]],\"type\":\"surface\"}],\"table\":[{\"cells\":{\"fill\":{\"color\":\"#EBF0F8\"},\"line\":{\"color\":\"white\"}},\"header\":{\"fill\":{\"color\":\"#C8D4E3\"},\"line\":{\"color\":\"white\"}},\"type\":\"table\"}]},\"layout\":{\"annotationdefaults\":{\"arrowcolor\":\"#2a3f5f\",\"arrowhead\":0,\"arrowwidth\":1},\"autotypenumbers\":\"strict\",\"coloraxis\":{\"colorbar\":{\"outlinewidth\":0,\"ticks\":\"\"}},\"colorscale\":{\"diverging\":[[0,\"#8e0152\"],[0.1,\"#c51b7d\"],[0.2,\"#de77ae\"],[0.3,\"#f1b6da\"],[0.4,\"#fde0ef\"],[0.5,\"#f7f7f7\"],[0.6,\"#e6f5d0\"],[0.7,\"#b8e186\"],[0.8,\"#7fbc41\"],[0.9,\"#4d9221\"],[1,\"#276419\"]],\"sequential\":[[0.0,\"#0d0887\"],[0.1111111111111111,\"#46039f\"],[0.2222222222222222,\"#7201a8\"],[0.3333333333333333,\"#9c179e\"],[0.4444444444444444,\"#bd3786\"],[0.5555555555555556,\"#d8576b\"],[0.6666666666666666,\"#ed7953\"],[0.7777777777777778,\"#fb9f3a\"],[0.8888888888888888,\"#fdca26\"],[1.0,\"#f0f921\"]],\"sequentialminus\":[[0.0,\"#0d0887\"],[0.1111111111111111,\"#46039f\"],[0.2222222222222222,\"#7201a8\"],[0.3333333333333333,\"#9c179e\"],[0.4444444444444444,\"#bd3786\"],[0.5555555555555556,\"#d8576b\"],[0.6666666666666666,\"#ed7953\"],[0.7777777777777778,\"#fb9f3a\"],[0.8888888888888888,\"#fdca26\"],[1.0,\"#f0f921\"]]},\"colorway\":[\"#636efa\",\"#EF553B\",\"#00cc96\",\"#ab63fa\",\"#FFA15A\",\"#19d3f3\",\"#FF6692\",\"#B6E880\",\"#FF97FF\",\"#FECB52\"],\"font\":{\"color\":\"#2a3f5f\"},\"geo\":{\"bgcolor\":\"white\",\"lakecolor\":\"white\",\"landcolor\":\"#E5ECF6\",\"showlakes\":true,\"showland\":true,\"subunitcolor\":\"white\"},\"hoverlabel\":{\"align\":\"left\"},\"hovermode\":\"closest\",\"mapbox\":{\"style\":\"light\"},\"paper_bgcolor\":\"white\",\"plot_bgcolor\":\"#E5ECF6\",\"polar\":{\"angularaxis\":{\"gridcolor\":\"white\",\"linecolor\":\"white\",\"ticks\":\"\"},\"bgcolor\":\"#E5ECF6\",\"radialaxis\":{\"gridcolor\":\"white\",\"linecolor\":\"white\",\"ticks\":\"\"}},\"scene\":{\"xaxis\":{\"backgroundcolor\":\"#E5ECF6\",\"gridcolor\":\"white\",\"gridwidth\":2,\"linecolor\":\"white\",\"showbackground\":true,\"ticks\":\"\",\"zerolinecolor\":\"white\"},\"yaxis\":{\"backgroundcolor\":\"#E5ECF6\",\"gridcolor\":\"white\",\"gridwidth\":2,\"linecolor\":\"white\",\"showbackground\":true,\"ticks\":\"\",\"zerolinecolor\":\"white\"},\"zaxis\":{\"backgroundcolor\":\"#E5ECF6\",\"gridcolor\":\"white\",\"gridwidth\":2,\"linecolor\":\"white\",\"showbackground\":true,\"ticks\":\"\",\"zerolinecolor\":\"white\"}},\"shapedefaults\":{\"line\":{\"color\":\"#2a3f5f\"}},\"ternary\":{\"aaxis\":{\"gridcolor\":\"white\",\"linecolor\":\"white\",\"ticks\":\"\"},\"baxis\":{\"gridcolor\":\"white\",\"linecolor\":\"white\",\"ticks\":\"\"},\"bgcolor\":\"#E5ECF6\",\"caxis\":{\"gridcolor\":\"white\",\"linecolor\":\"white\",\"ticks\":\"\"}},\"title\":{\"x\":0.05},\"xaxis\":{\"automargin\":true,\"gridcolor\":\"white\",\"linecolor\":\"white\",\"ticks\":\"\",\"title\":{\"standoff\":15},\"zerolinecolor\":\"white\",\"zerolinewidth\":2},\"yaxis\":{\"automargin\":true,\"gridcolor\":\"white\",\"linecolor\":\"white\",\"ticks\":\"\",\"title\":{\"standoff\":15},\"zerolinecolor\":\"white\",\"zerolinewidth\":2}}},\"scene\":{\"domain\":{\"x\":[0.0,1.0],\"y\":[0.0,1.0]},\"xaxis\":{\"title\":{\"text\":\"axe1\"}},\"yaxis\":{\"title\":{\"text\":\"axe2\"}},\"zaxis\":{\"title\":{\"text\":\"axe3\"}}},\"coloraxis\":{\"colorbar\":{\"title\":{\"text\":\"label\"}},\"colorscale\":[[0.0,\"#0d0887\"],[0.1111111111111111,\"#46039f\"],[0.2222222222222222,\"#7201a8\"],[0.3333333333333333,\"#9c179e\"],[0.4444444444444444,\"#bd3786\"],[0.5555555555555556,\"#d8576b\"],[0.6666666666666666,\"#ed7953\"],[0.7777777777777778,\"#fb9f3a\"],[0.8888888888888888,\"#fdca26\"],[1.0,\"#f0f921\"]]},\"legend\":{\"tracegroupgap\":0},\"margin\":{\"t\":60}},                        {\"responsive\": true}                    ).then(function(){\n",
       "                            \n",
       "var gd = document.getElementById('d0785f23-3f36-4810-8f63-6feaf8d58db8');\n",
       "var x = new MutationObserver(function (mutations, observer) {{\n",
       "        var display = window.getComputedStyle(gd).display;\n",
       "        if (!display || display === 'none') {{\n",
       "            console.log([gd, 'removed!']);\n",
       "            Plotly.purge(gd);\n",
       "            observer.disconnect();\n",
       "        }}\n",
       "}});\n",
       "\n",
       "// Listen for the removal of the full notebook cells\n",
       "var notebookContainer = gd.closest('#notebook-container');\n",
       "if (notebookContainer) {{\n",
       "    x.observe(notebookContainer, {childList: true});\n",
       "}}\n",
       "\n",
       "// Listen for the clearing of the current output cell\n",
       "var outputEl = gd.closest('.output');\n",
       "if (outputEl) {{\n",
       "    x.observe(outputEl, {childList: true});\n",
       "}}\n",
       "\n",
       "                        })                };                });            </script>        </div>"
      ]
     },
     "metadata": {},
     "output_type": "display_data"
    }
   ],
   "source": [
    "df_country = tsne('Country')\n",
    "plot_cluster3D(df_country,'Country')"
   ]
  },
  {
   "cell_type": "markdown",
   "metadata": {},
   "source": [
    "# <code> <div id=\"analyse\" style=\"color:#F1D405 ;font-weight: bold; border:2px solid #F1D405 ;\"><center>Analyse selon les régions du monde / Clusters </center></div> </code>\n"
   ]
  },
  {
   "cell_type": "code",
   "execution_count": 28,
   "metadata": {},
   "outputs": [],
   "source": [
    "kmeans = pd.DataFrame(y)\n",
    "transformed_df.insert((transformed_df.shape[1]),'kmeans',kmeans)"
   ]
  },
  {
   "cell_type": "code",
   "execution_count": 29,
   "metadata": {},
   "outputs": [
    {
     "data": {
      "application/vnd.plotly.v1+json": {
       "config": {
        "linkText": "Export to plot.ly",
        "plotlyServerURL": "https://plot.ly",
        "showLink": false
       },
       "data": [
        {
         "colorbar": {
          "title": {
           "text": "Cluster Group"
          }
         },
         "colorscale": [
          [
           0,
           "rgb(247, 254, 174)"
          ],
          [
           0.16666666666666666,
           "rgb(183, 230, 165)"
          ],
          [
           0.3333333333333333,
           "rgb(124, 203, 162)"
          ],
          [
           0.5,
           "rgb(70, 174, 160)"
          ],
          [
           0.6666666666666666,
           "rgb(8, 144, 153)"
          ],
          [
           0.8333333333333334,
           "rgb(0, 113, 139)"
          ],
          [
           1,
           "rgb(4, 82, 117)"
          ]
         ],
         "locationmode": "country names",
         "locations": [
          "Finland",
          "Denmark",
          "Norway",
          "Iceland",
          "Netherlands",
          "Switzerland",
          "Sweden",
          "New Zealand",
          "Canada",
          "Austria",
          "Australia",
          "Costa Rica",
          "Israel",
          "Luxembourg",
          "United Kingdom",
          "Ireland",
          "Germany",
          "Belgium",
          "United States",
          "Czech Republic",
          "United Arab Emirates",
          "Malta",
          "Mexico",
          "France",
          "Chile",
          "Guatemala",
          "Saudi Arabia",
          "Spain",
          "Panama",
          "Brazil",
          "Uruguay",
          "Singapore",
          "El Salvador",
          "Italy",
          "Bahrain",
          "Slovakia",
          "Poland",
          "Uzbekistan",
          "Lithuania",
          "Colombia",
          "Slovenia",
          "Nicaragua",
          "Kosovo",
          "Argentina",
          "Romania",
          "Cyprus",
          "Ecuador",
          "Kuwait",
          "Thailand",
          "Latvia",
          "South Korea",
          "Estonia",
          "Jamaica",
          "Mauritius",
          "Japan",
          "Honduras",
          "Kazakhstan",
          "Bolivia",
          "Hungary",
          "Paraguay",
          "Peru",
          "Portugal",
          "Pakistan",
          "Russia",
          "Philippines",
          "Serbia",
          "Moldova",
          "Libya",
          "Montenegro",
          "Tajikistan",
          "Croatia",
          "Dominican Republic",
          "Bosnia and Herzegovina",
          "Turkey",
          "Malaysia",
          "Belarus",
          "Greece",
          "Mongolia",
          "North Macedonia",
          "Nigeria",
          "Kyrgyzstan",
          "Turkmenistan",
          "Algeria",
          "Morocco",
          "Azerbaijan",
          "Lebanon",
          "Indonesia",
          "China",
          "Vietnam",
          "Cameroon",
          "Bulgaria",
          "Ghana",
          "Ivory Coast",
          "Nepal",
          "Jordan",
          "Benin",
          "Congo (Brazzaville)",
          "Gabon",
          "Laos",
          "South Africa",
          "Albania",
          "Venezuela",
          "Cambodia",
          "Palestinian Territories",
          "Senegal",
          "Namibia",
          "Niger",
          "Burkina Faso",
          "Armenia",
          "Iran",
          "Guinea",
          "Georgia",
          "Gambia",
          "Kenya",
          "Mauritania",
          "Mozambique",
          "Tunisia",
          "Bangladesh",
          "Iraq",
          "Mali",
          "Sierra Leone",
          "Sri Lanka",
          "Myanmar",
          "Chad",
          "Ukraine",
          "Ethiopia",
          "Swaziland",
          "Uganda",
          "Egypt",
          "Zambia",
          "Togo",
          "India",
          "Liberia",
          "Comoros",
          "Madagascar",
          "Lesotho",
          "Burundi",
          "Zimbabwe",
          "Haiti",
          "Botswana",
          "Malawi",
          "Yemen",
          "Rwanda",
          "Tanzania",
          "Afghanistan"
         ],
         "text": [
          "Finland",
          "Denmark",
          "Norway",
          "Iceland",
          "Netherlands",
          "Switzerland",
          "Sweden",
          "New Zealand",
          "Canada",
          "Austria",
          "Australia",
          "Costa Rica",
          "Israel",
          "Luxembourg",
          "United Kingdom",
          "Ireland",
          "Germany",
          "Belgium",
          "United States",
          "Czech Republic",
          "United Arab Emirates",
          "Malta",
          "Mexico",
          "France",
          "Chile",
          "Guatemala",
          "Saudi Arabia",
          "Spain",
          "Panama",
          "Brazil",
          "Uruguay",
          "Singapore",
          "El Salvador",
          "Italy",
          "Bahrain",
          "Slovakia",
          "Poland",
          "Uzbekistan",
          "Lithuania",
          "Colombia",
          "Slovenia",
          "Nicaragua",
          "Kosovo",
          "Argentina",
          "Romania",
          "Cyprus",
          "Ecuador",
          "Kuwait",
          "Thailand",
          "Latvia",
          "South Korea",
          "Estonia",
          "Jamaica",
          "Mauritius",
          "Japan",
          "Honduras",
          "Kazakhstan",
          "Bolivia",
          "Hungary",
          "Paraguay",
          "Peru",
          "Portugal",
          "Pakistan",
          "Russia",
          "Philippines",
          "Serbia",
          "Moldova",
          "Libya",
          "Montenegro",
          "Tajikistan",
          "Croatia",
          "Dominican Republic",
          "Bosnia and Herzegovina",
          "Turkey",
          "Malaysia",
          "Belarus",
          "Greece",
          "Mongolia",
          "North Macedonia",
          "Nigeria",
          "Kyrgyzstan",
          "Turkmenistan",
          "Algeria",
          "Morocco",
          "Azerbaijan",
          "Lebanon",
          "Indonesia",
          "China",
          "Vietnam",
          "Cameroon",
          "Bulgaria",
          "Ghana",
          "Ivory Coast",
          "Nepal",
          "Jordan",
          "Benin",
          "Congo (Brazzaville)",
          "Gabon",
          "Laos",
          "South Africa",
          "Albania",
          "Venezuela",
          "Cambodia",
          "Palestinian Territories",
          "Senegal",
          "Namibia",
          "Niger",
          "Burkina Faso",
          "Armenia",
          "Iran",
          "Guinea",
          "Georgia",
          "Gambia",
          "Kenya",
          "Mauritania",
          "Mozambique",
          "Tunisia",
          "Bangladesh",
          "Iraq",
          "Mali",
          "Sierra Leone",
          "Sri Lanka",
          "Myanmar",
          "Chad",
          "Ukraine",
          "Ethiopia",
          "Swaziland",
          "Uganda",
          "Egypt",
          "Zambia",
          "Togo",
          "India",
          "Liberia",
          "Comoros",
          "Madagascar",
          "Lesotho",
          "Burundi",
          "Zimbabwe",
          "Haiti",
          "Botswana",
          "Malawi",
          "Yemen",
          "Rwanda",
          "Tanzania",
          "Afghanistan"
         ],
         "type": "choropleth",
         "z": [
          2,
          2,
          2,
          2,
          2,
          2,
          2,
          2,
          2,
          2,
          2,
          0,
          0,
          2,
          2,
          2,
          2,
          2,
          2,
          0,
          2,
          2,
          0,
          0,
          0,
          0,
          0,
          0,
          0,
          0,
          0,
          2,
          0,
          0,
          0,
          0,
          0,
          2,
          0,
          0,
          0,
          0,
          0,
          0,
          0,
          0,
          0,
          0,
          0,
          0,
          0,
          0,
          0,
          0,
          0,
          0,
          0,
          0,
          0,
          0,
          0,
          0,
          1,
          0,
          0,
          0,
          0,
          0,
          0,
          1,
          0,
          0,
          0,
          0,
          0,
          0,
          0,
          0,
          0,
          1,
          0,
          0,
          0,
          0,
          0,
          0,
          1,
          0,
          0,
          1,
          0,
          1,
          1,
          1,
          0,
          1,
          1,
          0,
          1,
          0,
          0,
          0,
          1,
          0,
          1,
          0,
          1,
          1,
          0,
          1,
          1,
          1,
          1,
          1,
          1,
          1,
          0,
          1,
          1,
          1,
          1,
          0,
          1,
          1,
          0,
          1,
          1,
          1,
          1,
          1,
          1,
          1,
          1,
          1,
          1,
          1,
          1,
          1,
          1,
          0,
          1,
          1,
          1,
          1,
          1
         ]
        }
       ],
       "layout": {
        "autosize": false,
        "height": 600,
        "template": {
         "data": {
          "bar": [
           {
            "error_x": {
             "color": "#2a3f5f"
            },
            "error_y": {
             "color": "#2a3f5f"
            },
            "marker": {
             "line": {
              "color": "#E5ECF6",
              "width": 0.5
             },
             "pattern": {
              "fillmode": "overlay",
              "size": 10,
              "solidity": 0.2
             }
            },
            "type": "bar"
           }
          ],
          "barpolar": [
           {
            "marker": {
             "line": {
              "color": "#E5ECF6",
              "width": 0.5
             },
             "pattern": {
              "fillmode": "overlay",
              "size": 10,
              "solidity": 0.2
             }
            },
            "type": "barpolar"
           }
          ],
          "carpet": [
           {
            "aaxis": {
             "endlinecolor": "#2a3f5f",
             "gridcolor": "white",
             "linecolor": "white",
             "minorgridcolor": "white",
             "startlinecolor": "#2a3f5f"
            },
            "baxis": {
             "endlinecolor": "#2a3f5f",
             "gridcolor": "white",
             "linecolor": "white",
             "minorgridcolor": "white",
             "startlinecolor": "#2a3f5f"
            },
            "type": "carpet"
           }
          ],
          "choropleth": [
           {
            "colorbar": {
             "outlinewidth": 0,
             "ticks": ""
            },
            "type": "choropleth"
           }
          ],
          "contour": [
           {
            "colorbar": {
             "outlinewidth": 0,
             "ticks": ""
            },
            "colorscale": [
             [
              0,
              "#0d0887"
             ],
             [
              0.1111111111111111,
              "#46039f"
             ],
             [
              0.2222222222222222,
              "#7201a8"
             ],
             [
              0.3333333333333333,
              "#9c179e"
             ],
             [
              0.4444444444444444,
              "#bd3786"
             ],
             [
              0.5555555555555556,
              "#d8576b"
             ],
             [
              0.6666666666666666,
              "#ed7953"
             ],
             [
              0.7777777777777778,
              "#fb9f3a"
             ],
             [
              0.8888888888888888,
              "#fdca26"
             ],
             [
              1,
              "#f0f921"
             ]
            ],
            "type": "contour"
           }
          ],
          "contourcarpet": [
           {
            "colorbar": {
             "outlinewidth": 0,
             "ticks": ""
            },
            "type": "contourcarpet"
           }
          ],
          "heatmap": [
           {
            "colorbar": {
             "outlinewidth": 0,
             "ticks": ""
            },
            "colorscale": [
             [
              0,
              "#0d0887"
             ],
             [
              0.1111111111111111,
              "#46039f"
             ],
             [
              0.2222222222222222,
              "#7201a8"
             ],
             [
              0.3333333333333333,
              "#9c179e"
             ],
             [
              0.4444444444444444,
              "#bd3786"
             ],
             [
              0.5555555555555556,
              "#d8576b"
             ],
             [
              0.6666666666666666,
              "#ed7953"
             ],
             [
              0.7777777777777778,
              "#fb9f3a"
             ],
             [
              0.8888888888888888,
              "#fdca26"
             ],
             [
              1,
              "#f0f921"
             ]
            ],
            "type": "heatmap"
           }
          ],
          "heatmapgl": [
           {
            "colorbar": {
             "outlinewidth": 0,
             "ticks": ""
            },
            "colorscale": [
             [
              0,
              "#0d0887"
             ],
             [
              0.1111111111111111,
              "#46039f"
             ],
             [
              0.2222222222222222,
              "#7201a8"
             ],
             [
              0.3333333333333333,
              "#9c179e"
             ],
             [
              0.4444444444444444,
              "#bd3786"
             ],
             [
              0.5555555555555556,
              "#d8576b"
             ],
             [
              0.6666666666666666,
              "#ed7953"
             ],
             [
              0.7777777777777778,
              "#fb9f3a"
             ],
             [
              0.8888888888888888,
              "#fdca26"
             ],
             [
              1,
              "#f0f921"
             ]
            ],
            "type": "heatmapgl"
           }
          ],
          "histogram": [
           {
            "marker": {
             "pattern": {
              "fillmode": "overlay",
              "size": 10,
              "solidity": 0.2
             }
            },
            "type": "histogram"
           }
          ],
          "histogram2d": [
           {
            "colorbar": {
             "outlinewidth": 0,
             "ticks": ""
            },
            "colorscale": [
             [
              0,
              "#0d0887"
             ],
             [
              0.1111111111111111,
              "#46039f"
             ],
             [
              0.2222222222222222,
              "#7201a8"
             ],
             [
              0.3333333333333333,
              "#9c179e"
             ],
             [
              0.4444444444444444,
              "#bd3786"
             ],
             [
              0.5555555555555556,
              "#d8576b"
             ],
             [
              0.6666666666666666,
              "#ed7953"
             ],
             [
              0.7777777777777778,
              "#fb9f3a"
             ],
             [
              0.8888888888888888,
              "#fdca26"
             ],
             [
              1,
              "#f0f921"
             ]
            ],
            "type": "histogram2d"
           }
          ],
          "histogram2dcontour": [
           {
            "colorbar": {
             "outlinewidth": 0,
             "ticks": ""
            },
            "colorscale": [
             [
              0,
              "#0d0887"
             ],
             [
              0.1111111111111111,
              "#46039f"
             ],
             [
              0.2222222222222222,
              "#7201a8"
             ],
             [
              0.3333333333333333,
              "#9c179e"
             ],
             [
              0.4444444444444444,
              "#bd3786"
             ],
             [
              0.5555555555555556,
              "#d8576b"
             ],
             [
              0.6666666666666666,
              "#ed7953"
             ],
             [
              0.7777777777777778,
              "#fb9f3a"
             ],
             [
              0.8888888888888888,
              "#fdca26"
             ],
             [
              1,
              "#f0f921"
             ]
            ],
            "type": "histogram2dcontour"
           }
          ],
          "mesh3d": [
           {
            "colorbar": {
             "outlinewidth": 0,
             "ticks": ""
            },
            "type": "mesh3d"
           }
          ],
          "parcoords": [
           {
            "line": {
             "colorbar": {
              "outlinewidth": 0,
              "ticks": ""
             }
            },
            "type": "parcoords"
           }
          ],
          "pie": [
           {
            "automargin": true,
            "type": "pie"
           }
          ],
          "scatter": [
           {
            "marker": {
             "colorbar": {
              "outlinewidth": 0,
              "ticks": ""
             }
            },
            "type": "scatter"
           }
          ],
          "scatter3d": [
           {
            "line": {
             "colorbar": {
              "outlinewidth": 0,
              "ticks": ""
             }
            },
            "marker": {
             "colorbar": {
              "outlinewidth": 0,
              "ticks": ""
             }
            },
            "type": "scatter3d"
           }
          ],
          "scattercarpet": [
           {
            "marker": {
             "colorbar": {
              "outlinewidth": 0,
              "ticks": ""
             }
            },
            "type": "scattercarpet"
           }
          ],
          "scattergeo": [
           {
            "marker": {
             "colorbar": {
              "outlinewidth": 0,
              "ticks": ""
             }
            },
            "type": "scattergeo"
           }
          ],
          "scattergl": [
           {
            "marker": {
             "colorbar": {
              "outlinewidth": 0,
              "ticks": ""
             }
            },
            "type": "scattergl"
           }
          ],
          "scattermapbox": [
           {
            "marker": {
             "colorbar": {
              "outlinewidth": 0,
              "ticks": ""
             }
            },
            "type": "scattermapbox"
           }
          ],
          "scatterpolar": [
           {
            "marker": {
             "colorbar": {
              "outlinewidth": 0,
              "ticks": ""
             }
            },
            "type": "scatterpolar"
           }
          ],
          "scatterpolargl": [
           {
            "marker": {
             "colorbar": {
              "outlinewidth": 0,
              "ticks": ""
             }
            },
            "type": "scatterpolargl"
           }
          ],
          "scatterternary": [
           {
            "marker": {
             "colorbar": {
              "outlinewidth": 0,
              "ticks": ""
             }
            },
            "type": "scatterternary"
           }
          ],
          "surface": [
           {
            "colorbar": {
             "outlinewidth": 0,
             "ticks": ""
            },
            "colorscale": [
             [
              0,
              "#0d0887"
             ],
             [
              0.1111111111111111,
              "#46039f"
             ],
             [
              0.2222222222222222,
              "#7201a8"
             ],
             [
              0.3333333333333333,
              "#9c179e"
             ],
             [
              0.4444444444444444,
              "#bd3786"
             ],
             [
              0.5555555555555556,
              "#d8576b"
             ],
             [
              0.6666666666666666,
              "#ed7953"
             ],
             [
              0.7777777777777778,
              "#fb9f3a"
             ],
             [
              0.8888888888888888,
              "#fdca26"
             ],
             [
              1,
              "#f0f921"
             ]
            ],
            "type": "surface"
           }
          ],
          "table": [
           {
            "cells": {
             "fill": {
              "color": "#EBF0F8"
             },
             "line": {
              "color": "white"
             }
            },
            "header": {
             "fill": {
              "color": "#C8D4E3"
             },
             "line": {
              "color": "white"
             }
            },
            "type": "table"
           }
          ]
         },
         "layout": {
          "annotationdefaults": {
           "arrowcolor": "#2a3f5f",
           "arrowhead": 0,
           "arrowwidth": 1
          },
          "autotypenumbers": "strict",
          "coloraxis": {
           "colorbar": {
            "outlinewidth": 0,
            "ticks": ""
           }
          },
          "colorscale": {
           "diverging": [
            [
             0,
             "#8e0152"
            ],
            [
             0.1,
             "#c51b7d"
            ],
            [
             0.2,
             "#de77ae"
            ],
            [
             0.3,
             "#f1b6da"
            ],
            [
             0.4,
             "#fde0ef"
            ],
            [
             0.5,
             "#f7f7f7"
            ],
            [
             0.6,
             "#e6f5d0"
            ],
            [
             0.7,
             "#b8e186"
            ],
            [
             0.8,
             "#7fbc41"
            ],
            [
             0.9,
             "#4d9221"
            ],
            [
             1,
             "#276419"
            ]
           ],
           "sequential": [
            [
             0,
             "#0d0887"
            ],
            [
             0.1111111111111111,
             "#46039f"
            ],
            [
             0.2222222222222222,
             "#7201a8"
            ],
            [
             0.3333333333333333,
             "#9c179e"
            ],
            [
             0.4444444444444444,
             "#bd3786"
            ],
            [
             0.5555555555555556,
             "#d8576b"
            ],
            [
             0.6666666666666666,
             "#ed7953"
            ],
            [
             0.7777777777777778,
             "#fb9f3a"
            ],
            [
             0.8888888888888888,
             "#fdca26"
            ],
            [
             1,
             "#f0f921"
            ]
           ],
           "sequentialminus": [
            [
             0,
             "#0d0887"
            ],
            [
             0.1111111111111111,
             "#46039f"
            ],
            [
             0.2222222222222222,
             "#7201a8"
            ],
            [
             0.3333333333333333,
             "#9c179e"
            ],
            [
             0.4444444444444444,
             "#bd3786"
            ],
            [
             0.5555555555555556,
             "#d8576b"
            ],
            [
             0.6666666666666666,
             "#ed7953"
            ],
            [
             0.7777777777777778,
             "#fb9f3a"
            ],
            [
             0.8888888888888888,
             "#fdca26"
            ],
            [
             1,
             "#f0f921"
            ]
           ]
          },
          "colorway": [
           "#636efa",
           "#EF553B",
           "#00cc96",
           "#ab63fa",
           "#FFA15A",
           "#19d3f3",
           "#FF6692",
           "#B6E880",
           "#FF97FF",
           "#FECB52"
          ],
          "font": {
           "color": "#2a3f5f"
          },
          "geo": {
           "bgcolor": "white",
           "lakecolor": "white",
           "landcolor": "#E5ECF6",
           "showlakes": true,
           "showland": true,
           "subunitcolor": "white"
          },
          "hoverlabel": {
           "align": "left"
          },
          "hovermode": "closest",
          "mapbox": {
           "style": "light"
          },
          "paper_bgcolor": "white",
          "plot_bgcolor": "#E5ECF6",
          "polar": {
           "angularaxis": {
            "gridcolor": "white",
            "linecolor": "white",
            "ticks": ""
           },
           "bgcolor": "#E5ECF6",
           "radialaxis": {
            "gridcolor": "white",
            "linecolor": "white",
            "ticks": ""
           }
          },
          "scene": {
           "xaxis": {
            "backgroundcolor": "#E5ECF6",
            "gridcolor": "white",
            "gridwidth": 2,
            "linecolor": "white",
            "showbackground": true,
            "ticks": "",
            "zerolinecolor": "white"
           },
           "yaxis": {
            "backgroundcolor": "#E5ECF6",
            "gridcolor": "white",
            "gridwidth": 2,
            "linecolor": "white",
            "showbackground": true,
            "ticks": "",
            "zerolinecolor": "white"
           },
           "zaxis": {
            "backgroundcolor": "#E5ECF6",
            "gridcolor": "white",
            "gridwidth": 2,
            "linecolor": "white",
            "showbackground": true,
            "ticks": "",
            "zerolinecolor": "white"
           }
          },
          "shapedefaults": {
           "line": {
            "color": "#2a3f5f"
           }
          },
          "ternary": {
           "aaxis": {
            "gridcolor": "white",
            "linecolor": "white",
            "ticks": ""
           },
           "baxis": {
            "gridcolor": "white",
            "linecolor": "white",
            "ticks": ""
           },
           "bgcolor": "#E5ECF6",
           "caxis": {
            "gridcolor": "white",
            "linecolor": "white",
            "ticks": ""
           }
          },
          "title": {
           "x": 0.05
          },
          "xaxis": {
           "automargin": true,
           "gridcolor": "white",
           "linecolor": "white",
           "ticks": "",
           "title": {
            "standoff": 15
           },
           "zerolinecolor": "white",
           "zerolinewidth": 2
          },
          "yaxis": {
           "automargin": true,
           "gridcolor": "white",
           "linecolor": "white",
           "ticks": "",
           "title": {
            "standoff": 15
           },
           "zerolinecolor": "white",
           "zerolinewidth": 2
          }
         }
        },
        "width": 1000
       }
      },
      "text/html": [
       "<div>                            <div id=\"b0bef4b8-7116-4817-b4a2-f35914722382\" class=\"plotly-graph-div\" style=\"height:600px; width:1000px;\"></div>            <script type=\"text/javascript\">                require([\"plotly\"], function(Plotly) {                    window.PLOTLYENV=window.PLOTLYENV || {};                                    if (document.getElementById(\"b0bef4b8-7116-4817-b4a2-f35914722382\")) {                    Plotly.newPlot(                        \"b0bef4b8-7116-4817-b4a2-f35914722382\",                        [{\"colorbar\":{\"title\":{\"text\":\"Cluster Group\"}},\"colorscale\":[[0.0,\"rgb(247, 254, 174)\"],[0.16666666666666666,\"rgb(183, 230, 165)\"],[0.3333333333333333,\"rgb(124, 203, 162)\"],[0.5,\"rgb(70, 174, 160)\"],[0.6666666666666666,\"rgb(8, 144, 153)\"],[0.8333333333333334,\"rgb(0, 113, 139)\"],[1.0,\"rgb(4, 82, 117)\"]],\"locationmode\":\"country names\",\"locations\":[\"Finland\",\"Denmark\",\"Norway\",\"Iceland\",\"Netherlands\",\"Switzerland\",\"Sweden\",\"New Zealand\",\"Canada\",\"Austria\",\"Australia\",\"Costa Rica\",\"Israel\",\"Luxembourg\",\"United Kingdom\",\"Ireland\",\"Germany\",\"Belgium\",\"United States\",\"Czech Republic\",\"United Arab Emirates\",\"Malta\",\"Mexico\",\"France\",\"Chile\",\"Guatemala\",\"Saudi Arabia\",\"Spain\",\"Panama\",\"Brazil\",\"Uruguay\",\"Singapore\",\"El Salvador\",\"Italy\",\"Bahrain\",\"Slovakia\",\"Poland\",\"Uzbekistan\",\"Lithuania\",\"Colombia\",\"Slovenia\",\"Nicaragua\",\"Kosovo\",\"Argentina\",\"Romania\",\"Cyprus\",\"Ecuador\",\"Kuwait\",\"Thailand\",\"Latvia\",\"South Korea\",\"Estonia\",\"Jamaica\",\"Mauritius\",\"Japan\",\"Honduras\",\"Kazakhstan\",\"Bolivia\",\"Hungary\",\"Paraguay\",\"Peru\",\"Portugal\",\"Pakistan\",\"Russia\",\"Philippines\",\"Serbia\",\"Moldova\",\"Libya\",\"Montenegro\",\"Tajikistan\",\"Croatia\",\"Dominican Republic\",\"Bosnia and Herzegovina\",\"Turkey\",\"Malaysia\",\"Belarus\",\"Greece\",\"Mongolia\",\"North Macedonia\",\"Nigeria\",\"Kyrgyzstan\",\"Turkmenistan\",\"Algeria\",\"Morocco\",\"Azerbaijan\",\"Lebanon\",\"Indonesia\",\"China\",\"Vietnam\",\"Cameroon\",\"Bulgaria\",\"Ghana\",\"Ivory Coast\",\"Nepal\",\"Jordan\",\"Benin\",\"Congo (Brazzaville)\",\"Gabon\",\"Laos\",\"South Africa\",\"Albania\",\"Venezuela\",\"Cambodia\",\"Palestinian Territories\",\"Senegal\",\"Namibia\",\"Niger\",\"Burkina Faso\",\"Armenia\",\"Iran\",\"Guinea\",\"Georgia\",\"Gambia\",\"Kenya\",\"Mauritania\",\"Mozambique\",\"Tunisia\",\"Bangladesh\",\"Iraq\",\"Mali\",\"Sierra Leone\",\"Sri Lanka\",\"Myanmar\",\"Chad\",\"Ukraine\",\"Ethiopia\",\"Swaziland\",\"Uganda\",\"Egypt\",\"Zambia\",\"Togo\",\"India\",\"Liberia\",\"Comoros\",\"Madagascar\",\"Lesotho\",\"Burundi\",\"Zimbabwe\",\"Haiti\",\"Botswana\",\"Malawi\",\"Yemen\",\"Rwanda\",\"Tanzania\",\"Afghanistan\"],\"text\":[\"Finland\",\"Denmark\",\"Norway\",\"Iceland\",\"Netherlands\",\"Switzerland\",\"Sweden\",\"New Zealand\",\"Canada\",\"Austria\",\"Australia\",\"Costa Rica\",\"Israel\",\"Luxembourg\",\"United Kingdom\",\"Ireland\",\"Germany\",\"Belgium\",\"United States\",\"Czech Republic\",\"United Arab Emirates\",\"Malta\",\"Mexico\",\"France\",\"Chile\",\"Guatemala\",\"Saudi Arabia\",\"Spain\",\"Panama\",\"Brazil\",\"Uruguay\",\"Singapore\",\"El Salvador\",\"Italy\",\"Bahrain\",\"Slovakia\",\"Poland\",\"Uzbekistan\",\"Lithuania\",\"Colombia\",\"Slovenia\",\"Nicaragua\",\"Kosovo\",\"Argentina\",\"Romania\",\"Cyprus\",\"Ecuador\",\"Kuwait\",\"Thailand\",\"Latvia\",\"South Korea\",\"Estonia\",\"Jamaica\",\"Mauritius\",\"Japan\",\"Honduras\",\"Kazakhstan\",\"Bolivia\",\"Hungary\",\"Paraguay\",\"Peru\",\"Portugal\",\"Pakistan\",\"Russia\",\"Philippines\",\"Serbia\",\"Moldova\",\"Libya\",\"Montenegro\",\"Tajikistan\",\"Croatia\",\"Dominican Republic\",\"Bosnia and Herzegovina\",\"Turkey\",\"Malaysia\",\"Belarus\",\"Greece\",\"Mongolia\",\"North Macedonia\",\"Nigeria\",\"Kyrgyzstan\",\"Turkmenistan\",\"Algeria\",\"Morocco\",\"Azerbaijan\",\"Lebanon\",\"Indonesia\",\"China\",\"Vietnam\",\"Cameroon\",\"Bulgaria\",\"Ghana\",\"Ivory Coast\",\"Nepal\",\"Jordan\",\"Benin\",\"Congo (Brazzaville)\",\"Gabon\",\"Laos\",\"South Africa\",\"Albania\",\"Venezuela\",\"Cambodia\",\"Palestinian Territories\",\"Senegal\",\"Namibia\",\"Niger\",\"Burkina Faso\",\"Armenia\",\"Iran\",\"Guinea\",\"Georgia\",\"Gambia\",\"Kenya\",\"Mauritania\",\"Mozambique\",\"Tunisia\",\"Bangladesh\",\"Iraq\",\"Mali\",\"Sierra Leone\",\"Sri Lanka\",\"Myanmar\",\"Chad\",\"Ukraine\",\"Ethiopia\",\"Swaziland\",\"Uganda\",\"Egypt\",\"Zambia\",\"Togo\",\"India\",\"Liberia\",\"Comoros\",\"Madagascar\",\"Lesotho\",\"Burundi\",\"Zimbabwe\",\"Haiti\",\"Botswana\",\"Malawi\",\"Yemen\",\"Rwanda\",\"Tanzania\",\"Afghanistan\"],\"z\":[2,2,2,2,2,2,2,2,2,2,2,0,0,2,2,2,2,2,2,0,2,2,0,0,0,0,0,0,0,0,0,2,0,0,0,0,0,2,0,0,0,0,0,0,0,0,0,0,0,0,0,0,0,0,0,0,0,0,0,0,0,0,1,0,0,0,0,0,0,1,0,0,0,0,0,0,0,0,0,1,0,0,0,0,0,0,1,0,0,1,0,1,1,1,0,1,1,0,1,0,0,0,1,0,1,0,1,1,0,1,1,1,1,1,1,1,0,1,1,1,1,0,1,1,0,1,1,1,1,1,1,1,1,1,1,1,1,1,1,0,1,1,1,1,1],\"type\":\"choropleth\"}],                        {\"autosize\":false,\"height\":600,\"template\":{\"data\":{\"barpolar\":[{\"marker\":{\"line\":{\"color\":\"#E5ECF6\",\"width\":0.5},\"pattern\":{\"fillmode\":\"overlay\",\"size\":10,\"solidity\":0.2}},\"type\":\"barpolar\"}],\"bar\":[{\"error_x\":{\"color\":\"#2a3f5f\"},\"error_y\":{\"color\":\"#2a3f5f\"},\"marker\":{\"line\":{\"color\":\"#E5ECF6\",\"width\":0.5},\"pattern\":{\"fillmode\":\"overlay\",\"size\":10,\"solidity\":0.2}},\"type\":\"bar\"}],\"carpet\":[{\"aaxis\":{\"endlinecolor\":\"#2a3f5f\",\"gridcolor\":\"white\",\"linecolor\":\"white\",\"minorgridcolor\":\"white\",\"startlinecolor\":\"#2a3f5f\"},\"baxis\":{\"endlinecolor\":\"#2a3f5f\",\"gridcolor\":\"white\",\"linecolor\":\"white\",\"minorgridcolor\":\"white\",\"startlinecolor\":\"#2a3f5f\"},\"type\":\"carpet\"}],\"choropleth\":[{\"colorbar\":{\"outlinewidth\":0,\"ticks\":\"\"},\"type\":\"choropleth\"}],\"contourcarpet\":[{\"colorbar\":{\"outlinewidth\":0,\"ticks\":\"\"},\"type\":\"contourcarpet\"}],\"contour\":[{\"colorbar\":{\"outlinewidth\":0,\"ticks\":\"\"},\"colorscale\":[[0.0,\"#0d0887\"],[0.1111111111111111,\"#46039f\"],[0.2222222222222222,\"#7201a8\"],[0.3333333333333333,\"#9c179e\"],[0.4444444444444444,\"#bd3786\"],[0.5555555555555556,\"#d8576b\"],[0.6666666666666666,\"#ed7953\"],[0.7777777777777778,\"#fb9f3a\"],[0.8888888888888888,\"#fdca26\"],[1.0,\"#f0f921\"]],\"type\":\"contour\"}],\"heatmapgl\":[{\"colorbar\":{\"outlinewidth\":0,\"ticks\":\"\"},\"colorscale\":[[0.0,\"#0d0887\"],[0.1111111111111111,\"#46039f\"],[0.2222222222222222,\"#7201a8\"],[0.3333333333333333,\"#9c179e\"],[0.4444444444444444,\"#bd3786\"],[0.5555555555555556,\"#d8576b\"],[0.6666666666666666,\"#ed7953\"],[0.7777777777777778,\"#fb9f3a\"],[0.8888888888888888,\"#fdca26\"],[1.0,\"#f0f921\"]],\"type\":\"heatmapgl\"}],\"heatmap\":[{\"colorbar\":{\"outlinewidth\":0,\"ticks\":\"\"},\"colorscale\":[[0.0,\"#0d0887\"],[0.1111111111111111,\"#46039f\"],[0.2222222222222222,\"#7201a8\"],[0.3333333333333333,\"#9c179e\"],[0.4444444444444444,\"#bd3786\"],[0.5555555555555556,\"#d8576b\"],[0.6666666666666666,\"#ed7953\"],[0.7777777777777778,\"#fb9f3a\"],[0.8888888888888888,\"#fdca26\"],[1.0,\"#f0f921\"]],\"type\":\"heatmap\"}],\"histogram2dcontour\":[{\"colorbar\":{\"outlinewidth\":0,\"ticks\":\"\"},\"colorscale\":[[0.0,\"#0d0887\"],[0.1111111111111111,\"#46039f\"],[0.2222222222222222,\"#7201a8\"],[0.3333333333333333,\"#9c179e\"],[0.4444444444444444,\"#bd3786\"],[0.5555555555555556,\"#d8576b\"],[0.6666666666666666,\"#ed7953\"],[0.7777777777777778,\"#fb9f3a\"],[0.8888888888888888,\"#fdca26\"],[1.0,\"#f0f921\"]],\"type\":\"histogram2dcontour\"}],\"histogram2d\":[{\"colorbar\":{\"outlinewidth\":0,\"ticks\":\"\"},\"colorscale\":[[0.0,\"#0d0887\"],[0.1111111111111111,\"#46039f\"],[0.2222222222222222,\"#7201a8\"],[0.3333333333333333,\"#9c179e\"],[0.4444444444444444,\"#bd3786\"],[0.5555555555555556,\"#d8576b\"],[0.6666666666666666,\"#ed7953\"],[0.7777777777777778,\"#fb9f3a\"],[0.8888888888888888,\"#fdca26\"],[1.0,\"#f0f921\"]],\"type\":\"histogram2d\"}],\"histogram\":[{\"marker\":{\"pattern\":{\"fillmode\":\"overlay\",\"size\":10,\"solidity\":0.2}},\"type\":\"histogram\"}],\"mesh3d\":[{\"colorbar\":{\"outlinewidth\":0,\"ticks\":\"\"},\"type\":\"mesh3d\"}],\"parcoords\":[{\"line\":{\"colorbar\":{\"outlinewidth\":0,\"ticks\":\"\"}},\"type\":\"parcoords\"}],\"pie\":[{\"automargin\":true,\"type\":\"pie\"}],\"scatter3d\":[{\"line\":{\"colorbar\":{\"outlinewidth\":0,\"ticks\":\"\"}},\"marker\":{\"colorbar\":{\"outlinewidth\":0,\"ticks\":\"\"}},\"type\":\"scatter3d\"}],\"scattercarpet\":[{\"marker\":{\"colorbar\":{\"outlinewidth\":0,\"ticks\":\"\"}},\"type\":\"scattercarpet\"}],\"scattergeo\":[{\"marker\":{\"colorbar\":{\"outlinewidth\":0,\"ticks\":\"\"}},\"type\":\"scattergeo\"}],\"scattergl\":[{\"marker\":{\"colorbar\":{\"outlinewidth\":0,\"ticks\":\"\"}},\"type\":\"scattergl\"}],\"scattermapbox\":[{\"marker\":{\"colorbar\":{\"outlinewidth\":0,\"ticks\":\"\"}},\"type\":\"scattermapbox\"}],\"scatterpolargl\":[{\"marker\":{\"colorbar\":{\"outlinewidth\":0,\"ticks\":\"\"}},\"type\":\"scatterpolargl\"}],\"scatterpolar\":[{\"marker\":{\"colorbar\":{\"outlinewidth\":0,\"ticks\":\"\"}},\"type\":\"scatterpolar\"}],\"scatter\":[{\"marker\":{\"colorbar\":{\"outlinewidth\":0,\"ticks\":\"\"}},\"type\":\"scatter\"}],\"scatterternary\":[{\"marker\":{\"colorbar\":{\"outlinewidth\":0,\"ticks\":\"\"}},\"type\":\"scatterternary\"}],\"surface\":[{\"colorbar\":{\"outlinewidth\":0,\"ticks\":\"\"},\"colorscale\":[[0.0,\"#0d0887\"],[0.1111111111111111,\"#46039f\"],[0.2222222222222222,\"#7201a8\"],[0.3333333333333333,\"#9c179e\"],[0.4444444444444444,\"#bd3786\"],[0.5555555555555556,\"#d8576b\"],[0.6666666666666666,\"#ed7953\"],[0.7777777777777778,\"#fb9f3a\"],[0.8888888888888888,\"#fdca26\"],[1.0,\"#f0f921\"]],\"type\":\"surface\"}],\"table\":[{\"cells\":{\"fill\":{\"color\":\"#EBF0F8\"},\"line\":{\"color\":\"white\"}},\"header\":{\"fill\":{\"color\":\"#C8D4E3\"},\"line\":{\"color\":\"white\"}},\"type\":\"table\"}]},\"layout\":{\"annotationdefaults\":{\"arrowcolor\":\"#2a3f5f\",\"arrowhead\":0,\"arrowwidth\":1},\"autotypenumbers\":\"strict\",\"coloraxis\":{\"colorbar\":{\"outlinewidth\":0,\"ticks\":\"\"}},\"colorscale\":{\"diverging\":[[0,\"#8e0152\"],[0.1,\"#c51b7d\"],[0.2,\"#de77ae\"],[0.3,\"#f1b6da\"],[0.4,\"#fde0ef\"],[0.5,\"#f7f7f7\"],[0.6,\"#e6f5d0\"],[0.7,\"#b8e186\"],[0.8,\"#7fbc41\"],[0.9,\"#4d9221\"],[1,\"#276419\"]],\"sequential\":[[0.0,\"#0d0887\"],[0.1111111111111111,\"#46039f\"],[0.2222222222222222,\"#7201a8\"],[0.3333333333333333,\"#9c179e\"],[0.4444444444444444,\"#bd3786\"],[0.5555555555555556,\"#d8576b\"],[0.6666666666666666,\"#ed7953\"],[0.7777777777777778,\"#fb9f3a\"],[0.8888888888888888,\"#fdca26\"],[1.0,\"#f0f921\"]],\"sequentialminus\":[[0.0,\"#0d0887\"],[0.1111111111111111,\"#46039f\"],[0.2222222222222222,\"#7201a8\"],[0.3333333333333333,\"#9c179e\"],[0.4444444444444444,\"#bd3786\"],[0.5555555555555556,\"#d8576b\"],[0.6666666666666666,\"#ed7953\"],[0.7777777777777778,\"#fb9f3a\"],[0.8888888888888888,\"#fdca26\"],[1.0,\"#f0f921\"]]},\"colorway\":[\"#636efa\",\"#EF553B\",\"#00cc96\",\"#ab63fa\",\"#FFA15A\",\"#19d3f3\",\"#FF6692\",\"#B6E880\",\"#FF97FF\",\"#FECB52\"],\"font\":{\"color\":\"#2a3f5f\"},\"geo\":{\"bgcolor\":\"white\",\"lakecolor\":\"white\",\"landcolor\":\"#E5ECF6\",\"showlakes\":true,\"showland\":true,\"subunitcolor\":\"white\"},\"hoverlabel\":{\"align\":\"left\"},\"hovermode\":\"closest\",\"mapbox\":{\"style\":\"light\"},\"paper_bgcolor\":\"white\",\"plot_bgcolor\":\"#E5ECF6\",\"polar\":{\"angularaxis\":{\"gridcolor\":\"white\",\"linecolor\":\"white\",\"ticks\":\"\"},\"bgcolor\":\"#E5ECF6\",\"radialaxis\":{\"gridcolor\":\"white\",\"linecolor\":\"white\",\"ticks\":\"\"}},\"scene\":{\"xaxis\":{\"backgroundcolor\":\"#E5ECF6\",\"gridcolor\":\"white\",\"gridwidth\":2,\"linecolor\":\"white\",\"showbackground\":true,\"ticks\":\"\",\"zerolinecolor\":\"white\"},\"yaxis\":{\"backgroundcolor\":\"#E5ECF6\",\"gridcolor\":\"white\",\"gridwidth\":2,\"linecolor\":\"white\",\"showbackground\":true,\"ticks\":\"\",\"zerolinecolor\":\"white\"},\"zaxis\":{\"backgroundcolor\":\"#E5ECF6\",\"gridcolor\":\"white\",\"gridwidth\":2,\"linecolor\":\"white\",\"showbackground\":true,\"ticks\":\"\",\"zerolinecolor\":\"white\"}},\"shapedefaults\":{\"line\":{\"color\":\"#2a3f5f\"}},\"ternary\":{\"aaxis\":{\"gridcolor\":\"white\",\"linecolor\":\"white\",\"ticks\":\"\"},\"baxis\":{\"gridcolor\":\"white\",\"linecolor\":\"white\",\"ticks\":\"\"},\"bgcolor\":\"#E5ECF6\",\"caxis\":{\"gridcolor\":\"white\",\"linecolor\":\"white\",\"ticks\":\"\"}},\"title\":{\"x\":0.05},\"xaxis\":{\"automargin\":true,\"gridcolor\":\"white\",\"linecolor\":\"white\",\"ticks\":\"\",\"title\":{\"standoff\":15},\"zerolinecolor\":\"white\",\"zerolinewidth\":2},\"yaxis\":{\"automargin\":true,\"gridcolor\":\"white\",\"linecolor\":\"white\",\"ticks\":\"\",\"title\":{\"standoff\":15},\"zerolinecolor\":\"white\",\"zerolinewidth\":2}}},\"width\":1000},                        {\"responsive\": true}                    ).then(function(){\n",
       "                            \n",
       "var gd = document.getElementById('b0bef4b8-7116-4817-b4a2-f35914722382');\n",
       "var x = new MutationObserver(function (mutations, observer) {{\n",
       "        var display = window.getComputedStyle(gd).display;\n",
       "        if (!display || display === 'none') {{\n",
       "            console.log([gd, 'removed!']);\n",
       "            Plotly.purge(gd);\n",
       "            observer.disconnect();\n",
       "        }}\n",
       "}});\n",
       "\n",
       "// Listen for the removal of the full notebook cells\n",
       "var notebookContainer = gd.closest('#notebook-container');\n",
       "if (notebookContainer) {{\n",
       "    x.observe(notebookContainer, {childList: true});\n",
       "}}\n",
       "\n",
       "// Listen for the clearing of the current output cell\n",
       "var outputEl = gd.closest('.output');\n",
       "if (outputEl) {{\n",
       "    x.observe(outputEl, {childList: true});\n",
       "}}\n",
       "\n",
       "                        })                };                });            </script>        </div>"
      ]
     },
     "metadata": {},
     "output_type": "display_data"
    }
   ],
   "source": [
    "data = [dict(type='choropleth',\n",
    "             locations = transformed_df['Country'],\n",
    "             colorscale = 'Bluyl',\n",
    "             locationmode = 'country names',\n",
    "             z = transformed_df['kmeans'],\n",
    "             text = transformed_df['Country'],\n",
    "             colorbar = {'title':'Cluster Group'})]\n",
    "layout = dict(title='Clustering of Countries based on K-Means',\n",
    "              geo=dict(showframe = False,projection = {'type':'mercator'}))\n",
    "layout = go.Layout(\n",
    "    autosize=False,\n",
    "    width=1000,\n",
    "    height=600)\n",
    "map = go.Figure(data = data, layout=layout)\n",
    "iplot(map)"
   ]
  },
  {
   "cell_type": "markdown",
   "metadata": {},
   "source": [
    "<span>\n",
    "\n",
    "Pour conclure , le bonheur se situe principalement dans l'hemisphère Nord hormis deux exceptions l'Australie et Nouvelle-Zélande.\n",
    "\n",
    "Les pays dit développé ou riche se situe dans le cluster 0 et 2.\n",
    "\n",
    "Tandis que le cluster 1 regroupe les pays en voie de développement .\n",
    "\n",
    "Malgré que le bonheur soit une notion sujective, le score du bonheur est également construit sur des aggrégats utiliser ppur le calcul de l'IDH(Indice de Développement Humain) tel que le PIB/hab , le soutiens social , l'espérance de vie ce qui revient à placer les heureux chez les riches ce qui peut être vu comme une limite du modèle.\n",
    "\n",
    "L'utilisation de donnée  tel que la corruption , la générosité sont parfois discutable du fait de la politique de certains états ce qui modifie les résultats et pourrait tirer des pays vers le haut le plus souvent.\n",
    "\n",
    "</span>"
   ]
  }
 ],
 "metadata": {
  "interpreter": {
   "hash": "b57b0ba709768a7bbbc5b5f9f052a7cbe42e1ac711dd327dca942e98c95c92b1"
  },
  "kernelspec": {
   "display_name": "Python 3",
   "language": "python",
   "name": "python3"
  },
  "language_info": {
   "codemirror_mode": {
    "name": "ipython",
    "version": 3
   },
   "file_extension": ".py",
   "mimetype": "text/x-python",
   "name": "python",
   "nbconvert_exporter": "python",
   "pygments_lexer": "ipython3",
   "version": "3.8.8"
  }
 },
 "nbformat": 4,
 "nbformat_minor": 2
}
